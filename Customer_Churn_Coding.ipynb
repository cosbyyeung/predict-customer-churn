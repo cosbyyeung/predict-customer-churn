{
  "nbformat": 4,
  "nbformat_minor": 0,
  "metadata": {
    "colab": {
      "name": "Customer Churn Coding.ipynb",
      "provenance": [],
      "collapsed_sections": [
        "YO5UbpVETlin",
        "3-3Xtl6CTliy",
        "HewgO_H-TljG",
        "UOo8PB8eTljM",
        "0vmzC5ohTljX",
        "FRLfefodTlj5",
        "54v30-JeTlki",
        "ze_lZJyCTlkv",
        "UTrQRELGTllI",
        "H40MhDXrTllU",
        "1UlvZwv1Tll5",
        "wZfDCxVLTll_",
        "bi0KNSELTlmI",
        "qK1sjQ9ZTlmU",
        "L_xvWy2RTlmZ",
        "jnb-SizsTebE",
        "cNKlpvmvxQui",
        "Jc6Z0RZuY2Li",
        "iFW6ybYpw54h",
        "CF_rugE3aJNy",
        "QYnE8Sz6wcoL"
      ],
      "toc_visible": true,
      "include_colab_link": true
    },
    "kernelspec": {
      "display_name": "Python 3",
      "language": "python",
      "name": "python3"
    },
    "language_info": {
      "codemirror_mode": {
        "name": "ipython",
        "version": 3
      },
      "file_extension": ".py",
      "mimetype": "text/x-python",
      "name": "python",
      "nbconvert_exporter": "python",
      "pygments_lexer": "ipython3",
      "version": "3.7.6"
    }
  },
  "cells": [
    {
      "cell_type": "markdown",
      "metadata": {
        "id": "view-in-github",
        "colab_type": "text"
      },
      "source": [
        "<a href=\"https://colab.research.google.com/github/cosbyyeung/predict-customer-churn/blob/master/Customer_Churn_Coding.ipynb\" target=\"_parent\"><img src=\"https://colab.research.google.com/assets/colab-badge.svg\" alt=\"Open In Colab\"/></a>"
      ]
    },
    {
      "cell_type": "markdown",
      "metadata": {
        "id": "fHfIDWGxSXtO",
        "colab_type": "text"
      },
      "source": [
        "## Import and Preperation"
      ]
    },
    {
      "cell_type": "code",
      "metadata": {
        "id": "8J7ZBg5YSTJ-",
        "colab_type": "code",
        "colab": {}
      },
      "source": [
        "#the subscript 1, 2, 3 on variables means it belongs to dataset 1,2 and 3 resp."
      ],
      "execution_count": 0,
      "outputs": []
    },
    {
      "cell_type": "code",
      "metadata": {
        "id": "SNAH4DF5To7d",
        "colab_type": "code",
        "colab": {}
      },
      "source": [
        "# import library used for data management\n",
        "import numpy as np \n",
        "import pandas as pd \n",
        "import warnings\n",
        "warnings.filterwarnings(\"ignore\")"
      ],
      "execution_count": 0,
      "outputs": []
    },
    {
      "cell_type": "code",
      "metadata": {
        "id": "tpBrfloGULLj",
        "colab_type": "code",
        "colab": {}
      },
      "source": [
        "#****For this code, after it load, there is a link, click the link and do whatever\n",
        "#***it ask u to do, and finally the page will show a link, copy that link and paste\n",
        "#***the link in the textbox under these codes.\n",
        "!pip install -U -q PyDrive\n",
        "from pydrive.auth import GoogleAuth\n",
        "from pydrive.drive import GoogleDrive\n",
        "from google.colab import auth\n",
        "from oauth2client.client import GoogleCredentials\n",
        "\n",
        "auth.authenticate_user()\n",
        "gauth = GoogleAuth()\n",
        "gauth.credentials = GoogleCredentials.get_application_default()\n",
        "drive = GoogleDrive(gauth)"
      ],
      "execution_count": 0,
      "outputs": []
    },
    {
      "cell_type": "code",
      "metadata": {
        "id": "bHMk2RZTUOjM",
        "colab_type": "code",
        "colab": {}
      },
      "source": [
        "link = 'https://drive.google.com/open?id=1T514QoLEyomPg31DJFAplq9ujKBioBge' # The shareable link"
      ],
      "execution_count": 0,
      "outputs": []
    },
    {
      "cell_type": "code",
      "metadata": {
        "id": "4UMfd42vUsS9",
        "colab_type": "code",
        "outputId": "73474990-6ed6-4efc-8c6c-f6c361d88d20",
        "colab": {
          "base_uri": "https://localhost:8080/",
          "height": 34
        }
      },
      "source": [
        "fluff, id = link.split('=')\n",
        "print (id) "
      ],
      "execution_count": 0,
      "outputs": [
        {
          "output_type": "stream",
          "text": [
            "1T514QoLEyomPg31DJFAplq9ujKBioBge\n"
          ],
          "name": "stdout"
        }
      ]
    },
    {
      "cell_type": "code",
      "metadata": {
        "id": "FAIFCJIFUy_N",
        "colab_type": "code",
        "colab": {}
      },
      "source": [
        "downloaded = drive.CreateFile({'id':id}) \n",
        "downloaded.GetContentFile('WA_Fn-UseC_-Telco-Customer-Churn.csv')  \n",
        "customer_churn = pd.read_csv('WA_Fn-UseC_-Telco-Customer-Churn.csv',index_col='customerID')\n"
      ],
      "execution_count": 0,
      "outputs": []
    },
    {
      "cell_type": "code",
      "metadata": {
        "id": "bmGZ0ppPU9m-",
        "colab_type": "code",
        "outputId": "032cd0ab-de69-452d-c396-3b40881768d3",
        "colab": {
          "base_uri": "https://localhost:8080/",
          "height": 329
        }
      },
      "source": [
        "customer_churn.head()"
      ],
      "execution_count": 0,
      "outputs": [
        {
          "output_type": "execute_result",
          "data": {
            "text/html": [
              "<div>\n",
              "<style scoped>\n",
              "    .dataframe tbody tr th:only-of-type {\n",
              "        vertical-align: middle;\n",
              "    }\n",
              "\n",
              "    .dataframe tbody tr th {\n",
              "        vertical-align: top;\n",
              "    }\n",
              "\n",
              "    .dataframe thead th {\n",
              "        text-align: right;\n",
              "    }\n",
              "</style>\n",
              "<table border=\"1\" class=\"dataframe\">\n",
              "  <thead>\n",
              "    <tr style=\"text-align: right;\">\n",
              "      <th></th>\n",
              "      <th>gender</th>\n",
              "      <th>SeniorCitizen</th>\n",
              "      <th>Partner</th>\n",
              "      <th>Dependents</th>\n",
              "      <th>tenure</th>\n",
              "      <th>PhoneService</th>\n",
              "      <th>MultipleLines</th>\n",
              "      <th>InternetService</th>\n",
              "      <th>OnlineSecurity</th>\n",
              "      <th>OnlineBackup</th>\n",
              "      <th>DeviceProtection</th>\n",
              "      <th>TechSupport</th>\n",
              "      <th>StreamingTV</th>\n",
              "      <th>StreamingMovies</th>\n",
              "      <th>Contract</th>\n",
              "      <th>PaperlessBilling</th>\n",
              "      <th>PaymentMethod</th>\n",
              "      <th>MonthlyCharges</th>\n",
              "      <th>TotalCharges</th>\n",
              "      <th>Churn</th>\n",
              "    </tr>\n",
              "    <tr>\n",
              "      <th>customerID</th>\n",
              "      <th></th>\n",
              "      <th></th>\n",
              "      <th></th>\n",
              "      <th></th>\n",
              "      <th></th>\n",
              "      <th></th>\n",
              "      <th></th>\n",
              "      <th></th>\n",
              "      <th></th>\n",
              "      <th></th>\n",
              "      <th></th>\n",
              "      <th></th>\n",
              "      <th></th>\n",
              "      <th></th>\n",
              "      <th></th>\n",
              "      <th></th>\n",
              "      <th></th>\n",
              "      <th></th>\n",
              "      <th></th>\n",
              "      <th></th>\n",
              "    </tr>\n",
              "  </thead>\n",
              "  <tbody>\n",
              "    <tr>\n",
              "      <th>7590-VHVEG</th>\n",
              "      <td>Female</td>\n",
              "      <td>0</td>\n",
              "      <td>Yes</td>\n",
              "      <td>No</td>\n",
              "      <td>1</td>\n",
              "      <td>No</td>\n",
              "      <td>No phone service</td>\n",
              "      <td>DSL</td>\n",
              "      <td>No</td>\n",
              "      <td>Yes</td>\n",
              "      <td>No</td>\n",
              "      <td>No</td>\n",
              "      <td>No</td>\n",
              "      <td>No</td>\n",
              "      <td>Month-to-month</td>\n",
              "      <td>Yes</td>\n",
              "      <td>Electronic check</td>\n",
              "      <td>29.85</td>\n",
              "      <td>29.85</td>\n",
              "      <td>No</td>\n",
              "    </tr>\n",
              "    <tr>\n",
              "      <th>5575-GNVDE</th>\n",
              "      <td>Male</td>\n",
              "      <td>0</td>\n",
              "      <td>No</td>\n",
              "      <td>No</td>\n",
              "      <td>34</td>\n",
              "      <td>Yes</td>\n",
              "      <td>No</td>\n",
              "      <td>DSL</td>\n",
              "      <td>Yes</td>\n",
              "      <td>No</td>\n",
              "      <td>Yes</td>\n",
              "      <td>No</td>\n",
              "      <td>No</td>\n",
              "      <td>No</td>\n",
              "      <td>One year</td>\n",
              "      <td>No</td>\n",
              "      <td>Mailed check</td>\n",
              "      <td>56.95</td>\n",
              "      <td>1889.5</td>\n",
              "      <td>No</td>\n",
              "    </tr>\n",
              "    <tr>\n",
              "      <th>3668-QPYBK</th>\n",
              "      <td>Male</td>\n",
              "      <td>0</td>\n",
              "      <td>No</td>\n",
              "      <td>No</td>\n",
              "      <td>2</td>\n",
              "      <td>Yes</td>\n",
              "      <td>No</td>\n",
              "      <td>DSL</td>\n",
              "      <td>Yes</td>\n",
              "      <td>Yes</td>\n",
              "      <td>No</td>\n",
              "      <td>No</td>\n",
              "      <td>No</td>\n",
              "      <td>No</td>\n",
              "      <td>Month-to-month</td>\n",
              "      <td>Yes</td>\n",
              "      <td>Mailed check</td>\n",
              "      <td>53.85</td>\n",
              "      <td>108.15</td>\n",
              "      <td>Yes</td>\n",
              "    </tr>\n",
              "    <tr>\n",
              "      <th>7795-CFOCW</th>\n",
              "      <td>Male</td>\n",
              "      <td>0</td>\n",
              "      <td>No</td>\n",
              "      <td>No</td>\n",
              "      <td>45</td>\n",
              "      <td>No</td>\n",
              "      <td>No phone service</td>\n",
              "      <td>DSL</td>\n",
              "      <td>Yes</td>\n",
              "      <td>No</td>\n",
              "      <td>Yes</td>\n",
              "      <td>Yes</td>\n",
              "      <td>No</td>\n",
              "      <td>No</td>\n",
              "      <td>One year</td>\n",
              "      <td>No</td>\n",
              "      <td>Bank transfer (automatic)</td>\n",
              "      <td>42.30</td>\n",
              "      <td>1840.75</td>\n",
              "      <td>No</td>\n",
              "    </tr>\n",
              "    <tr>\n",
              "      <th>9237-HQITU</th>\n",
              "      <td>Female</td>\n",
              "      <td>0</td>\n",
              "      <td>No</td>\n",
              "      <td>No</td>\n",
              "      <td>2</td>\n",
              "      <td>Yes</td>\n",
              "      <td>No</td>\n",
              "      <td>Fiber optic</td>\n",
              "      <td>No</td>\n",
              "      <td>No</td>\n",
              "      <td>No</td>\n",
              "      <td>No</td>\n",
              "      <td>No</td>\n",
              "      <td>No</td>\n",
              "      <td>Month-to-month</td>\n",
              "      <td>Yes</td>\n",
              "      <td>Electronic check</td>\n",
              "      <td>70.70</td>\n",
              "      <td>151.65</td>\n",
              "      <td>Yes</td>\n",
              "    </tr>\n",
              "  </tbody>\n",
              "</table>\n",
              "</div>"
            ],
            "text/plain": [
              "            gender  SeniorCitizen Partner  ... MonthlyCharges  TotalCharges Churn\n",
              "customerID                                 ...                                   \n",
              "7590-VHVEG  Female              0     Yes  ...          29.85         29.85    No\n",
              "5575-GNVDE    Male              0      No  ...          56.95        1889.5    No\n",
              "3668-QPYBK    Male              0      No  ...          53.85        108.15   Yes\n",
              "7795-CFOCW    Male              0      No  ...          42.30       1840.75    No\n",
              "9237-HQITU  Female              0      No  ...          70.70        151.65   Yes\n",
              "\n",
              "[5 rows x 20 columns]"
            ]
          },
          "metadata": {
            "tags": []
          },
          "execution_count": 7
        }
      ]
    },
    {
      "cell_type": "code",
      "metadata": {
        "scrolled": true,
        "id": "roT6zkuqTliT",
        "colab_type": "code",
        "colab": {}
      },
      "source": [
        "#Use this in jyupter notebook\n",
        "#customer_churn = pd.read_csv('WA_Fn-UseC_-Telco-Customer-Churn.csv',index_col='customerID')"
      ],
      "execution_count": 0,
      "outputs": []
    },
    {
      "cell_type": "code",
      "metadata": {
        "id": "RflTpu65TliY",
        "colab_type": "code",
        "outputId": "14e15fd5-ca63-460b-eec8-9a960248b2b6",
        "colab": {
          "base_uri": "https://localhost:8080/",
          "height": 470
        }
      },
      "source": [
        "customer_churn.info()"
      ],
      "execution_count": 0,
      "outputs": [
        {
          "output_type": "stream",
          "text": [
            "<class 'pandas.core.frame.DataFrame'>\n",
            "Index: 7043 entries, 7590-VHVEG to 3186-AJIEK\n",
            "Data columns (total 20 columns):\n",
            " #   Column            Non-Null Count  Dtype  \n",
            "---  ------            --------------  -----  \n",
            " 0   gender            7043 non-null   object \n",
            " 1   SeniorCitizen     7043 non-null   int64  \n",
            " 2   Partner           7043 non-null   object \n",
            " 3   Dependents        7043 non-null   object \n",
            " 4   tenure            7043 non-null   int64  \n",
            " 5   PhoneService      7043 non-null   object \n",
            " 6   MultipleLines     7043 non-null   object \n",
            " 7   InternetService   7043 non-null   object \n",
            " 8   OnlineSecurity    7043 non-null   object \n",
            " 9   OnlineBackup      7043 non-null   object \n",
            " 10  DeviceProtection  7043 non-null   object \n",
            " 11  TechSupport       7043 non-null   object \n",
            " 12  StreamingTV       7043 non-null   object \n",
            " 13  StreamingMovies   7043 non-null   object \n",
            " 14  Contract          7043 non-null   object \n",
            " 15  PaperlessBilling  7043 non-null   object \n",
            " 16  PaymentMethod     7043 non-null   object \n",
            " 17  MonthlyCharges    7043 non-null   float64\n",
            " 18  TotalCharges      7043 non-null   object \n",
            " 19  Churn             7043 non-null   object \n",
            "dtypes: float64(1), int64(2), object(17)\n",
            "memory usage: 1.1+ MB\n"
          ],
          "name": "stdout"
        }
      ]
    },
    {
      "cell_type": "code",
      "metadata": {
        "id": "X7UVy-HMTlid",
        "colab_type": "code",
        "colab": {}
      },
      "source": [
        "#get X and y list\n",
        "features = list(customer_churn.columns)\n",
        "features.remove('Churn')\n",
        "target = ['Churn']"
      ],
      "execution_count": 0,
      "outputs": []
    },
    {
      "cell_type": "code",
      "metadata": {
        "id": "62schHxZTlig",
        "colab_type": "code",
        "colab": {}
      },
      "source": [
        "X = customer_churn[features]\n",
        "y = customer_churn[target]"
      ],
      "execution_count": 0,
      "outputs": []
    },
    {
      "cell_type": "code",
      "metadata": {
        "id": "fvZQJjiVTlil",
        "colab_type": "code",
        "colab": {}
      },
      "source": [
        "# import train split function\n",
        "from sklearn.model_selection import train_test_split"
      ],
      "execution_count": 0,
      "outputs": []
    },
    {
      "cell_type": "markdown",
      "metadata": {
        "id": "YO5UbpVETlin",
        "colab_type": "text"
      },
      "source": [
        "## Cleaned Dataset 1"
      ]
    },
    {
      "cell_type": "code",
      "metadata": {
        "id": "-ohDvgzqTlin",
        "colab_type": "code",
        "colab": {}
      },
      "source": [
        "train_1, test_1,y_train_1, y_test_1 = train_test_split(X, y, test_size=0.2, random_state = 10)"
      ],
      "execution_count": 0,
      "outputs": []
    },
    {
      "cell_type": "code",
      "metadata": {
        "id": "6PDxbzPFTlir",
        "colab_type": "code",
        "outputId": "68249151-b5c6-4997-843f-349bb9731d76",
        "colab": {
          "base_uri": "https://localhost:8080/"
        }
      },
      "source": [
        "#View data information\n",
        "display(train_1.info(), test_1.info())"
      ],
      "execution_count": 0,
      "outputs": [
        {
          "output_type": "stream",
          "text": [
            "<class 'pandas.core.frame.DataFrame'>\n",
            "Index: 5634 entries, 3164-YAXFY to 9968-FFVVH\n",
            "Data columns (total 19 columns):\n",
            " #   Column            Non-Null Count  Dtype  \n",
            "---  ------            --------------  -----  \n",
            " 0   gender            5634 non-null   object \n",
            " 1   SeniorCitizen     5634 non-null   int64  \n",
            " 2   Partner           5634 non-null   object \n",
            " 3   Dependents        5634 non-null   object \n",
            " 4   tenure            5634 non-null   int64  \n",
            " 5   PhoneService      5634 non-null   object \n",
            " 6   MultipleLines     5634 non-null   object \n",
            " 7   InternetService   5634 non-null   object \n",
            " 8   OnlineSecurity    5634 non-null   object \n",
            " 9   OnlineBackup      5634 non-null   object \n",
            " 10  DeviceProtection  5634 non-null   object \n",
            " 11  TechSupport       5634 non-null   object \n",
            " 12  StreamingTV       5634 non-null   object \n",
            " 13  StreamingMovies   5634 non-null   object \n",
            " 14  Contract          5634 non-null   object \n",
            " 15  PaperlessBilling  5634 non-null   object \n",
            " 16  PaymentMethod     5634 non-null   object \n",
            " 17  MonthlyCharges    5634 non-null   float64\n",
            " 18  TotalCharges      5634 non-null   object \n",
            "dtypes: float64(1), int64(2), object(16)\n",
            "memory usage: 880.3+ KB\n",
            "<class 'pandas.core.frame.DataFrame'>\n",
            "Index: 1409 entries, 2486-WYVVE to 4695-WJZUE\n",
            "Data columns (total 19 columns):\n",
            " #   Column            Non-Null Count  Dtype  \n",
            "---  ------            --------------  -----  \n",
            " 0   gender            1409 non-null   object \n",
            " 1   SeniorCitizen     1409 non-null   int64  \n",
            " 2   Partner           1409 non-null   object \n",
            " 3   Dependents        1409 non-null   object \n",
            " 4   tenure            1409 non-null   int64  \n",
            " 5   PhoneService      1409 non-null   object \n",
            " 6   MultipleLines     1409 non-null   object \n",
            " 7   InternetService   1409 non-null   object \n",
            " 8   OnlineSecurity    1409 non-null   object \n",
            " 9   OnlineBackup      1409 non-null   object \n",
            " 10  DeviceProtection  1409 non-null   object \n",
            " 11  TechSupport       1409 non-null   object \n",
            " 12  StreamingTV       1409 non-null   object \n",
            " 13  StreamingMovies   1409 non-null   object \n",
            " 14  Contract          1409 non-null   object \n",
            " 15  PaperlessBilling  1409 non-null   object \n",
            " 16  PaymentMethod     1409 non-null   object \n",
            " 17  MonthlyCharges    1409 non-null   float64\n",
            " 18  TotalCharges      1409 non-null   object \n",
            "dtypes: float64(1), int64(2), object(16)\n",
            "memory usage: 220.2+ KB\n"
          ],
          "name": "stdout"
        },
        {
          "output_type": "display_data",
          "data": {
            "text/plain": [
              "None"
            ]
          },
          "metadata": {
            "tags": []
          }
        },
        {
          "output_type": "display_data",
          "data": {
            "text/plain": [
              "None"
            ]
          },
          "metadata": {
            "tags": []
          }
        }
      ]
    },
    {
      "cell_type": "code",
      "metadata": {
        "id": "60zZwVBBTliw",
        "colab_type": "code",
        "outputId": "6a38eb99-29ea-4ff7-b132-22715e03347f",
        "colab": {
          "base_uri": "https://localhost:8080/"
        }
      },
      "source": [
        "display('train_1', train_1.describe(),'test_1', test_1.describe())"
      ],
      "execution_count": 0,
      "outputs": [
        {
          "output_type": "display_data",
          "data": {
            "text/plain": [
              "'train_1'"
            ]
          },
          "metadata": {
            "tags": []
          }
        },
        {
          "output_type": "display_data",
          "data": {
            "text/html": [
              "<div>\n",
              "<style scoped>\n",
              "    .dataframe tbody tr th:only-of-type {\n",
              "        vertical-align: middle;\n",
              "    }\n",
              "\n",
              "    .dataframe tbody tr th {\n",
              "        vertical-align: top;\n",
              "    }\n",
              "\n",
              "    .dataframe thead th {\n",
              "        text-align: right;\n",
              "    }\n",
              "</style>\n",
              "<table border=\"1\" class=\"dataframe\">\n",
              "  <thead>\n",
              "    <tr style=\"text-align: right;\">\n",
              "      <th></th>\n",
              "      <th>SeniorCitizen</th>\n",
              "      <th>tenure</th>\n",
              "      <th>MonthlyCharges</th>\n",
              "    </tr>\n",
              "  </thead>\n",
              "  <tbody>\n",
              "    <tr>\n",
              "      <th>count</th>\n",
              "      <td>5634.000000</td>\n",
              "      <td>5634.000000</td>\n",
              "      <td>5634.000000</td>\n",
              "    </tr>\n",
              "    <tr>\n",
              "      <th>mean</th>\n",
              "      <td>0.163117</td>\n",
              "      <td>32.298367</td>\n",
              "      <td>64.904766</td>\n",
              "    </tr>\n",
              "    <tr>\n",
              "      <th>std</th>\n",
              "      <td>0.369505</td>\n",
              "      <td>24.552553</td>\n",
              "      <td>30.020923</td>\n",
              "    </tr>\n",
              "    <tr>\n",
              "      <th>min</th>\n",
              "      <td>0.000000</td>\n",
              "      <td>0.000000</td>\n",
              "      <td>18.250000</td>\n",
              "    </tr>\n",
              "    <tr>\n",
              "      <th>25%</th>\n",
              "      <td>0.000000</td>\n",
              "      <td>9.000000</td>\n",
              "      <td>35.825000</td>\n",
              "    </tr>\n",
              "    <tr>\n",
              "      <th>50%</th>\n",
              "      <td>0.000000</td>\n",
              "      <td>29.000000</td>\n",
              "      <td>70.400000</td>\n",
              "    </tr>\n",
              "    <tr>\n",
              "      <th>75%</th>\n",
              "      <td>0.000000</td>\n",
              "      <td>55.000000</td>\n",
              "      <td>89.850000</td>\n",
              "    </tr>\n",
              "    <tr>\n",
              "      <th>max</th>\n",
              "      <td>1.000000</td>\n",
              "      <td>72.000000</td>\n",
              "      <td>118.750000</td>\n",
              "    </tr>\n",
              "  </tbody>\n",
              "</table>\n",
              "</div>"
            ],
            "text/plain": [
              "       SeniorCitizen       tenure  MonthlyCharges\n",
              "count    5634.000000  5634.000000     5634.000000\n",
              "mean        0.163117    32.298367       64.904766\n",
              "std         0.369505    24.552553       30.020923\n",
              "min         0.000000     0.000000       18.250000\n",
              "25%         0.000000     9.000000       35.825000\n",
              "50%         0.000000    29.000000       70.400000\n",
              "75%         0.000000    55.000000       89.850000\n",
              "max         1.000000    72.000000      118.750000"
            ]
          },
          "metadata": {
            "tags": []
          }
        },
        {
          "output_type": "display_data",
          "data": {
            "text/plain": [
              "'test_1'"
            ]
          },
          "metadata": {
            "tags": []
          }
        },
        {
          "output_type": "display_data",
          "data": {
            "text/html": [
              "<div>\n",
              "<style scoped>\n",
              "    .dataframe tbody tr th:only-of-type {\n",
              "        vertical-align: middle;\n",
              "    }\n",
              "\n",
              "    .dataframe tbody tr th {\n",
              "        vertical-align: top;\n",
              "    }\n",
              "\n",
              "    .dataframe thead th {\n",
              "        text-align: right;\n",
              "    }\n",
              "</style>\n",
              "<table border=\"1\" class=\"dataframe\">\n",
              "  <thead>\n",
              "    <tr style=\"text-align: right;\">\n",
              "      <th></th>\n",
              "      <th>SeniorCitizen</th>\n",
              "      <th>tenure</th>\n",
              "      <th>MonthlyCharges</th>\n",
              "    </tr>\n",
              "  </thead>\n",
              "  <tbody>\n",
              "    <tr>\n",
              "      <th>count</th>\n",
              "      <td>1409.000000</td>\n",
              "      <td>1409.000000</td>\n",
              "      <td>1409.000000</td>\n",
              "    </tr>\n",
              "    <tr>\n",
              "      <th>mean</th>\n",
              "      <td>0.158268</td>\n",
              "      <td>32.662172</td>\n",
              "      <td>64.189603</td>\n",
              "    </tr>\n",
              "    <tr>\n",
              "      <th>std</th>\n",
              "      <td>0.365122</td>\n",
              "      <td>24.593733</td>\n",
              "      <td>30.368866</td>\n",
              "    </tr>\n",
              "    <tr>\n",
              "      <th>min</th>\n",
              "      <td>0.000000</td>\n",
              "      <td>0.000000</td>\n",
              "      <td>18.800000</td>\n",
              "    </tr>\n",
              "    <tr>\n",
              "      <th>25%</th>\n",
              "      <td>0.000000</td>\n",
              "      <td>9.000000</td>\n",
              "      <td>30.750000</td>\n",
              "    </tr>\n",
              "    <tr>\n",
              "      <th>50%</th>\n",
              "      <td>0.000000</td>\n",
              "      <td>28.000000</td>\n",
              "      <td>70.200000</td>\n",
              "    </tr>\n",
              "    <tr>\n",
              "      <th>75%</th>\n",
              "      <td>0.000000</td>\n",
              "      <td>56.000000</td>\n",
              "      <td>90.050000</td>\n",
              "    </tr>\n",
              "    <tr>\n",
              "      <th>max</th>\n",
              "      <td>1.000000</td>\n",
              "      <td>72.000000</td>\n",
              "      <td>118.200000</td>\n",
              "    </tr>\n",
              "  </tbody>\n",
              "</table>\n",
              "</div>"
            ],
            "text/plain": [
              "       SeniorCitizen       tenure  MonthlyCharges\n",
              "count    1409.000000  1409.000000     1409.000000\n",
              "mean        0.158268    32.662172       64.189603\n",
              "std         0.365122    24.593733       30.368866\n",
              "min         0.000000     0.000000       18.800000\n",
              "25%         0.000000     9.000000       30.750000\n",
              "50%         0.000000    28.000000       70.200000\n",
              "75%         0.000000    56.000000       90.050000\n",
              "max         1.000000    72.000000      118.200000"
            ]
          },
          "metadata": {
            "tags": []
          }
        }
      ]
    },
    {
      "cell_type": "markdown",
      "metadata": {
        "id": "3-3Xtl6CTliy",
        "colab_type": "text"
      },
      "source": [
        "## Change the data type"
      ]
    },
    {
      "cell_type": "code",
      "metadata": {
        "id": "sWg9CfOITliy",
        "colab_type": "code",
        "colab": {}
      },
      "source": [
        "# Change data type from numeric to categorical\n",
        "train_1.loc[:, 'SeniorCitizen'] = train_1.loc[:, 'SeniorCitizen'].astype(str)\n",
        "test_1.loc[:, 'SeniorCitizen'] = test_1.loc[:, 'SeniorCitizen'].astype(str)"
      ],
      "execution_count": 0,
      "outputs": []
    },
    {
      "cell_type": "code",
      "metadata": {
        "id": "rUQmmjnPTli1",
        "colab_type": "code",
        "colab": {}
      },
      "source": [
        "# Change data type from categorical to numeric\n",
        "train_1.loc[:, 'TotalCharges'] = pd.to_numeric(train_1.loc[:, 'TotalCharges'], errors='coerce')\n",
        "test_1.loc[:, 'TotalCharges'] = pd.to_numeric(test_1.loc[:, 'TotalCharges'], errors='coerce')\n"
      ],
      "execution_count": 0,
      "outputs": []
    },
    {
      "cell_type": "code",
      "metadata": {
        "id": "8jRmHeXdTli4",
        "colab_type": "code",
        "outputId": "066d1b8e-9809-4b7c-afa9-6eab8c12afa4",
        "colab": {
          "base_uri": "https://localhost:8080/"
        }
      },
      "source": [
        "#some attributes appears missing values after coverting them to type float\n",
        "#their original values are empty\n",
        "display('train_1', train_1.isnull().sum(), 'test_1', test_1.isnull().sum())"
      ],
      "execution_count": 0,
      "outputs": [
        {
          "output_type": "display_data",
          "data": {
            "text/plain": [
              "'train_1'"
            ]
          },
          "metadata": {
            "tags": []
          }
        },
        {
          "output_type": "display_data",
          "data": {
            "text/plain": [
              "gender               0\n",
              "SeniorCitizen        0\n",
              "Partner              0\n",
              "Dependents           0\n",
              "tenure               0\n",
              "PhoneService         0\n",
              "MultipleLines        0\n",
              "InternetService      0\n",
              "OnlineSecurity       0\n",
              "OnlineBackup         0\n",
              "DeviceProtection     0\n",
              "TechSupport          0\n",
              "StreamingTV          0\n",
              "StreamingMovies      0\n",
              "Contract             0\n",
              "PaperlessBilling     0\n",
              "PaymentMethod        0\n",
              "MonthlyCharges       0\n",
              "TotalCharges        10\n",
              "dtype: int64"
            ]
          },
          "metadata": {
            "tags": []
          }
        },
        {
          "output_type": "display_data",
          "data": {
            "text/plain": [
              "'test_1'"
            ]
          },
          "metadata": {
            "tags": []
          }
        },
        {
          "output_type": "display_data",
          "data": {
            "text/plain": [
              "gender              0\n",
              "SeniorCitizen       0\n",
              "Partner             0\n",
              "Dependents          0\n",
              "tenure              0\n",
              "PhoneService        0\n",
              "MultipleLines       0\n",
              "InternetService     0\n",
              "OnlineSecurity      0\n",
              "OnlineBackup        0\n",
              "DeviceProtection    0\n",
              "TechSupport         0\n",
              "StreamingTV         0\n",
              "StreamingMovies     0\n",
              "Contract            0\n",
              "PaperlessBilling    0\n",
              "PaymentMethod       0\n",
              "MonthlyCharges      0\n",
              "TotalCharges        1\n",
              "dtype: int64"
            ]
          },
          "metadata": {
            "tags": []
          }
        }
      ]
    },
    {
      "cell_type": "code",
      "metadata": {
        "id": "De_gjVRxTli7",
        "colab_type": "code",
        "outputId": "9ff81013-9425-4ecf-dbb5-db74a7793629",
        "colab": {
          "base_uri": "https://localhost:8080/"
        }
      },
      "source": [
        "#display description of all catergorial variables of training set\n",
        "for col in ['gender','SeniorCitizen','Partner','Dependents', \\\n",
        "            'PhoneService','MultipleLines','InternetService', \\\n",
        "            'OnlineSecurity','OnlineBackup','DeviceProtection', \\\n",
        "            'TechSupport','StreamingTV','StreamingMovies', \\\n",
        "            'Contract','PaperlessBilling','PaymentMethod', \\\n",
        "            'TotalCharges']:\n",
        "    display(train_1[col].describe())"
      ],
      "execution_count": 0,
      "outputs": [
        {
          "output_type": "display_data",
          "data": {
            "text/plain": [
              "count     5634\n",
              "unique       2\n",
              "top       Male\n",
              "freq      2832\n",
              "Name: gender, dtype: object"
            ]
          },
          "metadata": {
            "tags": []
          }
        },
        {
          "output_type": "display_data",
          "data": {
            "text/plain": [
              "count     5634\n",
              "unique       2\n",
              "top          0\n",
              "freq      4715\n",
              "Name: SeniorCitizen, dtype: object"
            ]
          },
          "metadata": {
            "tags": []
          }
        },
        {
          "output_type": "display_data",
          "data": {
            "text/plain": [
              "count     5634\n",
              "unique       2\n",
              "top         No\n",
              "freq      2907\n",
              "Name: Partner, dtype: object"
            ]
          },
          "metadata": {
            "tags": []
          }
        },
        {
          "output_type": "display_data",
          "data": {
            "text/plain": [
              "count     5634\n",
              "unique       2\n",
              "top         No\n",
              "freq      3928\n",
              "Name: Dependents, dtype: object"
            ]
          },
          "metadata": {
            "tags": []
          }
        },
        {
          "output_type": "display_data",
          "data": {
            "text/plain": [
              "count     5634\n",
              "unique       2\n",
              "top        Yes\n",
              "freq      5088\n",
              "Name: PhoneService, dtype: object"
            ]
          },
          "metadata": {
            "tags": []
          }
        },
        {
          "output_type": "display_data",
          "data": {
            "text/plain": [
              "count     5634\n",
              "unique       3\n",
              "top         No\n",
              "freq      2717\n",
              "Name: MultipleLines, dtype: object"
            ]
          },
          "metadata": {
            "tags": []
          }
        },
        {
          "output_type": "display_data",
          "data": {
            "text/plain": [
              "count            5634\n",
              "unique              3\n",
              "top       Fiber optic\n",
              "freq             2494\n",
              "Name: InternetService, dtype: object"
            ]
          },
          "metadata": {
            "tags": []
          }
        },
        {
          "output_type": "display_data",
          "data": {
            "text/plain": [
              "count     5634\n",
              "unique       3\n",
              "top         No\n",
              "freq      2827\n",
              "Name: OnlineSecurity, dtype: object"
            ]
          },
          "metadata": {
            "tags": []
          }
        },
        {
          "output_type": "display_data",
          "data": {
            "text/plain": [
              "count     5634\n",
              "unique       3\n",
              "top         No\n",
              "freq      2483\n",
              "Name: OnlineBackup, dtype: object"
            ]
          },
          "metadata": {
            "tags": []
          }
        },
        {
          "output_type": "display_data",
          "data": {
            "text/plain": [
              "count     5634\n",
              "unique       3\n",
              "top         No\n",
              "freq      2471\n",
              "Name: DeviceProtection, dtype: object"
            ]
          },
          "metadata": {
            "tags": []
          }
        },
        {
          "output_type": "display_data",
          "data": {
            "text/plain": [
              "count     5634\n",
              "unique       3\n",
              "top         No\n",
              "freq      2802\n",
              "Name: TechSupport, dtype: object"
            ]
          },
          "metadata": {
            "tags": []
          }
        },
        {
          "output_type": "display_data",
          "data": {
            "text/plain": [
              "count     5634\n",
              "unique       3\n",
              "top         No\n",
              "freq      2250\n",
              "Name: StreamingTV, dtype: object"
            ]
          },
          "metadata": {
            "tags": []
          }
        },
        {
          "output_type": "display_data",
          "data": {
            "text/plain": [
              "count     5634\n",
              "unique       3\n",
              "top         No\n",
              "freq      2248\n",
              "Name: StreamingMovies, dtype: object"
            ]
          },
          "metadata": {
            "tags": []
          }
        },
        {
          "output_type": "display_data",
          "data": {
            "text/plain": [
              "count               5634\n",
              "unique                 3\n",
              "top       Month-to-month\n",
              "freq                3117\n",
              "Name: Contract, dtype: object"
            ]
          },
          "metadata": {
            "tags": []
          }
        },
        {
          "output_type": "display_data",
          "data": {
            "text/plain": [
              "count     5634\n",
              "unique       2\n",
              "top        Yes\n",
              "freq      3351\n",
              "Name: PaperlessBilling, dtype: object"
            ]
          },
          "metadata": {
            "tags": []
          }
        },
        {
          "output_type": "display_data",
          "data": {
            "text/plain": [
              "count                 5634\n",
              "unique                   4\n",
              "top       Electronic check\n",
              "freq                  1892\n",
              "Name: PaymentMethod, dtype: object"
            ]
          },
          "metadata": {
            "tags": []
          }
        },
        {
          "output_type": "display_data",
          "data": {
            "text/plain": [
              "count    5624.000000\n",
              "mean     2278.508161\n",
              "std      2259.459696\n",
              "min        18.850000\n",
              "25%       396.250000\n",
              "50%      1395.525000\n",
              "75%      3773.450000\n",
              "max      8684.800000\n",
              "Name: TotalCharges, dtype: float64"
            ]
          },
          "metadata": {
            "tags": []
          }
        }
      ]
    },
    {
      "cell_type": "code",
      "metadata": {
        "id": "PjbeCRnETli_",
        "colab_type": "code",
        "outputId": "57ce1608-ed11-4f50-bf6c-fca64b785ef0",
        "colab": {
          "base_uri": "https://localhost:8080/"
        }
      },
      "source": [
        "#display description of total charges of testing set\n",
        "test_1['TotalCharges'].describe()"
      ],
      "execution_count": 0,
      "outputs": [
        {
          "output_type": "execute_result",
          "data": {
            "text/plain": [
              "count    1408.000000\n",
              "mean     2302.442330\n",
              "std      2296.454966\n",
              "min        18.800000\n",
              "25%       417.800000\n",
              "50%      1406.450000\n",
              "75%      3893.762500\n",
              "max      8547.150000\n",
              "Name: TotalCharges, dtype: float64"
            ]
          },
          "metadata": {
            "tags": []
          },
          "execution_count": 20
        }
      ]
    },
    {
      "cell_type": "code",
      "metadata": {
        "id": "up3hGyrQTljD",
        "colab_type": "code",
        "outputId": "974f2ca6-0b8f-4c43-a3f4-f22f2adaff2a",
        "colab": {
          "base_uri": "https://localhost:8080/"
        }
      },
      "source": [
        "display('train_1', train_1.describe(), 'test_1', test_1.describe())"
      ],
      "execution_count": 0,
      "outputs": [
        {
          "output_type": "display_data",
          "data": {
            "text/plain": [
              "'train_1'"
            ]
          },
          "metadata": {
            "tags": []
          }
        },
        {
          "output_type": "display_data",
          "data": {
            "text/html": [
              "<div>\n",
              "<style scoped>\n",
              "    .dataframe tbody tr th:only-of-type {\n",
              "        vertical-align: middle;\n",
              "    }\n",
              "\n",
              "    .dataframe tbody tr th {\n",
              "        vertical-align: top;\n",
              "    }\n",
              "\n",
              "    .dataframe thead th {\n",
              "        text-align: right;\n",
              "    }\n",
              "</style>\n",
              "<table border=\"1\" class=\"dataframe\">\n",
              "  <thead>\n",
              "    <tr style=\"text-align: right;\">\n",
              "      <th></th>\n",
              "      <th>tenure</th>\n",
              "      <th>MonthlyCharges</th>\n",
              "      <th>TotalCharges</th>\n",
              "    </tr>\n",
              "  </thead>\n",
              "  <tbody>\n",
              "    <tr>\n",
              "      <th>count</th>\n",
              "      <td>5634.000000</td>\n",
              "      <td>5634.000000</td>\n",
              "      <td>5624.000000</td>\n",
              "    </tr>\n",
              "    <tr>\n",
              "      <th>mean</th>\n",
              "      <td>32.298367</td>\n",
              "      <td>64.904766</td>\n",
              "      <td>2278.508161</td>\n",
              "    </tr>\n",
              "    <tr>\n",
              "      <th>std</th>\n",
              "      <td>24.552553</td>\n",
              "      <td>30.020923</td>\n",
              "      <td>2259.459696</td>\n",
              "    </tr>\n",
              "    <tr>\n",
              "      <th>min</th>\n",
              "      <td>0.000000</td>\n",
              "      <td>18.250000</td>\n",
              "      <td>18.850000</td>\n",
              "    </tr>\n",
              "    <tr>\n",
              "      <th>25%</th>\n",
              "      <td>9.000000</td>\n",
              "      <td>35.825000</td>\n",
              "      <td>396.250000</td>\n",
              "    </tr>\n",
              "    <tr>\n",
              "      <th>50%</th>\n",
              "      <td>29.000000</td>\n",
              "      <td>70.400000</td>\n",
              "      <td>1395.525000</td>\n",
              "    </tr>\n",
              "    <tr>\n",
              "      <th>75%</th>\n",
              "      <td>55.000000</td>\n",
              "      <td>89.850000</td>\n",
              "      <td>3773.450000</td>\n",
              "    </tr>\n",
              "    <tr>\n",
              "      <th>max</th>\n",
              "      <td>72.000000</td>\n",
              "      <td>118.750000</td>\n",
              "      <td>8684.800000</td>\n",
              "    </tr>\n",
              "  </tbody>\n",
              "</table>\n",
              "</div>"
            ],
            "text/plain": [
              "            tenure  MonthlyCharges  TotalCharges\n",
              "count  5634.000000     5634.000000   5624.000000\n",
              "mean     32.298367       64.904766   2278.508161\n",
              "std      24.552553       30.020923   2259.459696\n",
              "min       0.000000       18.250000     18.850000\n",
              "25%       9.000000       35.825000    396.250000\n",
              "50%      29.000000       70.400000   1395.525000\n",
              "75%      55.000000       89.850000   3773.450000\n",
              "max      72.000000      118.750000   8684.800000"
            ]
          },
          "metadata": {
            "tags": []
          }
        },
        {
          "output_type": "display_data",
          "data": {
            "text/plain": [
              "'test_1'"
            ]
          },
          "metadata": {
            "tags": []
          }
        },
        {
          "output_type": "display_data",
          "data": {
            "text/html": [
              "<div>\n",
              "<style scoped>\n",
              "    .dataframe tbody tr th:only-of-type {\n",
              "        vertical-align: middle;\n",
              "    }\n",
              "\n",
              "    .dataframe tbody tr th {\n",
              "        vertical-align: top;\n",
              "    }\n",
              "\n",
              "    .dataframe thead th {\n",
              "        text-align: right;\n",
              "    }\n",
              "</style>\n",
              "<table border=\"1\" class=\"dataframe\">\n",
              "  <thead>\n",
              "    <tr style=\"text-align: right;\">\n",
              "      <th></th>\n",
              "      <th>tenure</th>\n",
              "      <th>MonthlyCharges</th>\n",
              "      <th>TotalCharges</th>\n",
              "    </tr>\n",
              "  </thead>\n",
              "  <tbody>\n",
              "    <tr>\n",
              "      <th>count</th>\n",
              "      <td>1409.000000</td>\n",
              "      <td>1409.000000</td>\n",
              "      <td>1408.000000</td>\n",
              "    </tr>\n",
              "    <tr>\n",
              "      <th>mean</th>\n",
              "      <td>32.662172</td>\n",
              "      <td>64.189603</td>\n",
              "      <td>2302.442330</td>\n",
              "    </tr>\n",
              "    <tr>\n",
              "      <th>std</th>\n",
              "      <td>24.593733</td>\n",
              "      <td>30.368866</td>\n",
              "      <td>2296.454966</td>\n",
              "    </tr>\n",
              "    <tr>\n",
              "      <th>min</th>\n",
              "      <td>0.000000</td>\n",
              "      <td>18.800000</td>\n",
              "      <td>18.800000</td>\n",
              "    </tr>\n",
              "    <tr>\n",
              "      <th>25%</th>\n",
              "      <td>9.000000</td>\n",
              "      <td>30.750000</td>\n",
              "      <td>417.800000</td>\n",
              "    </tr>\n",
              "    <tr>\n",
              "      <th>50%</th>\n",
              "      <td>28.000000</td>\n",
              "      <td>70.200000</td>\n",
              "      <td>1406.450000</td>\n",
              "    </tr>\n",
              "    <tr>\n",
              "      <th>75%</th>\n",
              "      <td>56.000000</td>\n",
              "      <td>90.050000</td>\n",
              "      <td>3893.762500</td>\n",
              "    </tr>\n",
              "    <tr>\n",
              "      <th>max</th>\n",
              "      <td>72.000000</td>\n",
              "      <td>118.200000</td>\n",
              "      <td>8547.150000</td>\n",
              "    </tr>\n",
              "  </tbody>\n",
              "</table>\n",
              "</div>"
            ],
            "text/plain": [
              "            tenure  MonthlyCharges  TotalCharges\n",
              "count  1409.000000     1409.000000   1408.000000\n",
              "mean     32.662172       64.189603   2302.442330\n",
              "std      24.593733       30.368866   2296.454966\n",
              "min       0.000000       18.800000     18.800000\n",
              "25%       9.000000       30.750000    417.800000\n",
              "50%      28.000000       70.200000   1406.450000\n",
              "75%      56.000000       90.050000   3893.762500\n",
              "max      72.000000      118.200000   8547.150000"
            ]
          },
          "metadata": {
            "tags": []
          }
        }
      ]
    },
    {
      "cell_type": "markdown",
      "metadata": {
        "id": "HewgO_H-TljG",
        "colab_type": "text"
      },
      "source": [
        "## Handle missing values"
      ]
    },
    {
      "cell_type": "code",
      "metadata": {
        "id": "_alE4BYdTljG",
        "colab_type": "code",
        "outputId": "75adb570-800d-40d7-8a79-ec2f58d317f4",
        "colab": {
          "base_uri": "https://localhost:8080/"
        }
      },
      "source": [
        "#show missing values of training set and testing set in TotalCharges\n",
        "display('train_1', train_1[train_1['TotalCharges'].isnull()], 'test_1', test_1[test_1['TotalCharges'].isnull()])"
      ],
      "execution_count": 0,
      "outputs": [
        {
          "output_type": "display_data",
          "data": {
            "text/plain": [
              "'train_1'"
            ]
          },
          "metadata": {
            "tags": []
          }
        },
        {
          "output_type": "display_data",
          "data": {
            "text/html": [
              "<div>\n",
              "<style scoped>\n",
              "    .dataframe tbody tr th:only-of-type {\n",
              "        vertical-align: middle;\n",
              "    }\n",
              "\n",
              "    .dataframe tbody tr th {\n",
              "        vertical-align: top;\n",
              "    }\n",
              "\n",
              "    .dataframe thead th {\n",
              "        text-align: right;\n",
              "    }\n",
              "</style>\n",
              "<table border=\"1\" class=\"dataframe\">\n",
              "  <thead>\n",
              "    <tr style=\"text-align: right;\">\n",
              "      <th></th>\n",
              "      <th>gender</th>\n",
              "      <th>SeniorCitizen</th>\n",
              "      <th>Partner</th>\n",
              "      <th>Dependents</th>\n",
              "      <th>tenure</th>\n",
              "      <th>PhoneService</th>\n",
              "      <th>MultipleLines</th>\n",
              "      <th>InternetService</th>\n",
              "      <th>OnlineSecurity</th>\n",
              "      <th>OnlineBackup</th>\n",
              "      <th>DeviceProtection</th>\n",
              "      <th>TechSupport</th>\n",
              "      <th>StreamingTV</th>\n",
              "      <th>StreamingMovies</th>\n",
              "      <th>Contract</th>\n",
              "      <th>PaperlessBilling</th>\n",
              "      <th>PaymentMethod</th>\n",
              "      <th>MonthlyCharges</th>\n",
              "      <th>TotalCharges</th>\n",
              "    </tr>\n",
              "    <tr>\n",
              "      <th>customerID</th>\n",
              "      <th></th>\n",
              "      <th></th>\n",
              "      <th></th>\n",
              "      <th></th>\n",
              "      <th></th>\n",
              "      <th></th>\n",
              "      <th></th>\n",
              "      <th></th>\n",
              "      <th></th>\n",
              "      <th></th>\n",
              "      <th></th>\n",
              "      <th></th>\n",
              "      <th></th>\n",
              "      <th></th>\n",
              "      <th></th>\n",
              "      <th></th>\n",
              "      <th></th>\n",
              "      <th></th>\n",
              "      <th></th>\n",
              "    </tr>\n",
              "  </thead>\n",
              "  <tbody>\n",
              "    <tr>\n",
              "      <th>2775-SEFEE</th>\n",
              "      <td>Male</td>\n",
              "      <td>0</td>\n",
              "      <td>No</td>\n",
              "      <td>Yes</td>\n",
              "      <td>0</td>\n",
              "      <td>Yes</td>\n",
              "      <td>Yes</td>\n",
              "      <td>DSL</td>\n",
              "      <td>Yes</td>\n",
              "      <td>Yes</td>\n",
              "      <td>No</td>\n",
              "      <td>Yes</td>\n",
              "      <td>No</td>\n",
              "      <td>No</td>\n",
              "      <td>Two year</td>\n",
              "      <td>Yes</td>\n",
              "      <td>Bank transfer (automatic)</td>\n",
              "      <td>61.90</td>\n",
              "      <td>NaN</td>\n",
              "    </tr>\n",
              "    <tr>\n",
              "      <th>5709-LVOEQ</th>\n",
              "      <td>Female</td>\n",
              "      <td>0</td>\n",
              "      <td>Yes</td>\n",
              "      <td>Yes</td>\n",
              "      <td>0</td>\n",
              "      <td>Yes</td>\n",
              "      <td>No</td>\n",
              "      <td>DSL</td>\n",
              "      <td>Yes</td>\n",
              "      <td>Yes</td>\n",
              "      <td>Yes</td>\n",
              "      <td>No</td>\n",
              "      <td>Yes</td>\n",
              "      <td>Yes</td>\n",
              "      <td>Two year</td>\n",
              "      <td>No</td>\n",
              "      <td>Mailed check</td>\n",
              "      <td>80.85</td>\n",
              "      <td>NaN</td>\n",
              "    </tr>\n",
              "    <tr>\n",
              "      <th>4367-NUYAO</th>\n",
              "      <td>Male</td>\n",
              "      <td>0</td>\n",
              "      <td>Yes</td>\n",
              "      <td>Yes</td>\n",
              "      <td>0</td>\n",
              "      <td>Yes</td>\n",
              "      <td>Yes</td>\n",
              "      <td>No</td>\n",
              "      <td>No internet service</td>\n",
              "      <td>No internet service</td>\n",
              "      <td>No internet service</td>\n",
              "      <td>No internet service</td>\n",
              "      <td>No internet service</td>\n",
              "      <td>No internet service</td>\n",
              "      <td>Two year</td>\n",
              "      <td>No</td>\n",
              "      <td>Mailed check</td>\n",
              "      <td>25.75</td>\n",
              "      <td>NaN</td>\n",
              "    </tr>\n",
              "    <tr>\n",
              "      <th>7644-OMVMY</th>\n",
              "      <td>Male</td>\n",
              "      <td>0</td>\n",
              "      <td>Yes</td>\n",
              "      <td>Yes</td>\n",
              "      <td>0</td>\n",
              "      <td>Yes</td>\n",
              "      <td>No</td>\n",
              "      <td>No</td>\n",
              "      <td>No internet service</td>\n",
              "      <td>No internet service</td>\n",
              "      <td>No internet service</td>\n",
              "      <td>No internet service</td>\n",
              "      <td>No internet service</td>\n",
              "      <td>No internet service</td>\n",
              "      <td>Two year</td>\n",
              "      <td>No</td>\n",
              "      <td>Mailed check</td>\n",
              "      <td>19.85</td>\n",
              "      <td>NaN</td>\n",
              "    </tr>\n",
              "    <tr>\n",
              "      <th>4075-WKNIU</th>\n",
              "      <td>Female</td>\n",
              "      <td>0</td>\n",
              "      <td>Yes</td>\n",
              "      <td>Yes</td>\n",
              "      <td>0</td>\n",
              "      <td>Yes</td>\n",
              "      <td>Yes</td>\n",
              "      <td>DSL</td>\n",
              "      <td>No</td>\n",
              "      <td>Yes</td>\n",
              "      <td>Yes</td>\n",
              "      <td>Yes</td>\n",
              "      <td>Yes</td>\n",
              "      <td>No</td>\n",
              "      <td>Two year</td>\n",
              "      <td>No</td>\n",
              "      <td>Mailed check</td>\n",
              "      <td>73.35</td>\n",
              "      <td>NaN</td>\n",
              "    </tr>\n",
              "    <tr>\n",
              "      <th>2923-ARZLG</th>\n",
              "      <td>Male</td>\n",
              "      <td>0</td>\n",
              "      <td>Yes</td>\n",
              "      <td>Yes</td>\n",
              "      <td>0</td>\n",
              "      <td>Yes</td>\n",
              "      <td>No</td>\n",
              "      <td>No</td>\n",
              "      <td>No internet service</td>\n",
              "      <td>No internet service</td>\n",
              "      <td>No internet service</td>\n",
              "      <td>No internet service</td>\n",
              "      <td>No internet service</td>\n",
              "      <td>No internet service</td>\n",
              "      <td>One year</td>\n",
              "      <td>Yes</td>\n",
              "      <td>Mailed check</td>\n",
              "      <td>19.70</td>\n",
              "      <td>NaN</td>\n",
              "    </tr>\n",
              "    <tr>\n",
              "      <th>2520-SGTTA</th>\n",
              "      <td>Female</td>\n",
              "      <td>0</td>\n",
              "      <td>Yes</td>\n",
              "      <td>Yes</td>\n",
              "      <td>0</td>\n",
              "      <td>Yes</td>\n",
              "      <td>No</td>\n",
              "      <td>No</td>\n",
              "      <td>No internet service</td>\n",
              "      <td>No internet service</td>\n",
              "      <td>No internet service</td>\n",
              "      <td>No internet service</td>\n",
              "      <td>No internet service</td>\n",
              "      <td>No internet service</td>\n",
              "      <td>Two year</td>\n",
              "      <td>No</td>\n",
              "      <td>Mailed check</td>\n",
              "      <td>20.00</td>\n",
              "      <td>NaN</td>\n",
              "    </tr>\n",
              "    <tr>\n",
              "      <th>4472-LVYGI</th>\n",
              "      <td>Female</td>\n",
              "      <td>0</td>\n",
              "      <td>Yes</td>\n",
              "      <td>Yes</td>\n",
              "      <td>0</td>\n",
              "      <td>No</td>\n",
              "      <td>No phone service</td>\n",
              "      <td>DSL</td>\n",
              "      <td>Yes</td>\n",
              "      <td>No</td>\n",
              "      <td>Yes</td>\n",
              "      <td>Yes</td>\n",
              "      <td>Yes</td>\n",
              "      <td>No</td>\n",
              "      <td>Two year</td>\n",
              "      <td>Yes</td>\n",
              "      <td>Bank transfer (automatic)</td>\n",
              "      <td>52.55</td>\n",
              "      <td>NaN</td>\n",
              "    </tr>\n",
              "    <tr>\n",
              "      <th>3213-VVOLG</th>\n",
              "      <td>Male</td>\n",
              "      <td>0</td>\n",
              "      <td>Yes</td>\n",
              "      <td>Yes</td>\n",
              "      <td>0</td>\n",
              "      <td>Yes</td>\n",
              "      <td>Yes</td>\n",
              "      <td>No</td>\n",
              "      <td>No internet service</td>\n",
              "      <td>No internet service</td>\n",
              "      <td>No internet service</td>\n",
              "      <td>No internet service</td>\n",
              "      <td>No internet service</td>\n",
              "      <td>No internet service</td>\n",
              "      <td>Two year</td>\n",
              "      <td>No</td>\n",
              "      <td>Mailed check</td>\n",
              "      <td>25.35</td>\n",
              "      <td>NaN</td>\n",
              "    </tr>\n",
              "    <tr>\n",
              "      <th>1371-DWPAZ</th>\n",
              "      <td>Female</td>\n",
              "      <td>0</td>\n",
              "      <td>Yes</td>\n",
              "      <td>Yes</td>\n",
              "      <td>0</td>\n",
              "      <td>No</td>\n",
              "      <td>No phone service</td>\n",
              "      <td>DSL</td>\n",
              "      <td>Yes</td>\n",
              "      <td>Yes</td>\n",
              "      <td>Yes</td>\n",
              "      <td>Yes</td>\n",
              "      <td>Yes</td>\n",
              "      <td>No</td>\n",
              "      <td>Two year</td>\n",
              "      <td>No</td>\n",
              "      <td>Credit card (automatic)</td>\n",
              "      <td>56.05</td>\n",
              "      <td>NaN</td>\n",
              "    </tr>\n",
              "  </tbody>\n",
              "</table>\n",
              "</div>"
            ],
            "text/plain": [
              "            gender SeniorCitizen  ... MonthlyCharges TotalCharges\n",
              "customerID                        ...                            \n",
              "2775-SEFEE    Male             0  ...          61.90          NaN\n",
              "5709-LVOEQ  Female             0  ...          80.85          NaN\n",
              "4367-NUYAO    Male             0  ...          25.75          NaN\n",
              "7644-OMVMY    Male             0  ...          19.85          NaN\n",
              "4075-WKNIU  Female             0  ...          73.35          NaN\n",
              "2923-ARZLG    Male             0  ...          19.70          NaN\n",
              "2520-SGTTA  Female             0  ...          20.00          NaN\n",
              "4472-LVYGI  Female             0  ...          52.55          NaN\n",
              "3213-VVOLG    Male             0  ...          25.35          NaN\n",
              "1371-DWPAZ  Female             0  ...          56.05          NaN\n",
              "\n",
              "[10 rows x 19 columns]"
            ]
          },
          "metadata": {
            "tags": []
          }
        },
        {
          "output_type": "display_data",
          "data": {
            "text/plain": [
              "'test_1'"
            ]
          },
          "metadata": {
            "tags": []
          }
        },
        {
          "output_type": "display_data",
          "data": {
            "text/html": [
              "<div>\n",
              "<style scoped>\n",
              "    .dataframe tbody tr th:only-of-type {\n",
              "        vertical-align: middle;\n",
              "    }\n",
              "\n",
              "    .dataframe tbody tr th {\n",
              "        vertical-align: top;\n",
              "    }\n",
              "\n",
              "    .dataframe thead th {\n",
              "        text-align: right;\n",
              "    }\n",
              "</style>\n",
              "<table border=\"1\" class=\"dataframe\">\n",
              "  <thead>\n",
              "    <tr style=\"text-align: right;\">\n",
              "      <th></th>\n",
              "      <th>gender</th>\n",
              "      <th>SeniorCitizen</th>\n",
              "      <th>Partner</th>\n",
              "      <th>Dependents</th>\n",
              "      <th>tenure</th>\n",
              "      <th>PhoneService</th>\n",
              "      <th>MultipleLines</th>\n",
              "      <th>InternetService</th>\n",
              "      <th>OnlineSecurity</th>\n",
              "      <th>OnlineBackup</th>\n",
              "      <th>DeviceProtection</th>\n",
              "      <th>TechSupport</th>\n",
              "      <th>StreamingTV</th>\n",
              "      <th>StreamingMovies</th>\n",
              "      <th>Contract</th>\n",
              "      <th>PaperlessBilling</th>\n",
              "      <th>PaymentMethod</th>\n",
              "      <th>MonthlyCharges</th>\n",
              "      <th>TotalCharges</th>\n",
              "    </tr>\n",
              "    <tr>\n",
              "      <th>customerID</th>\n",
              "      <th></th>\n",
              "      <th></th>\n",
              "      <th></th>\n",
              "      <th></th>\n",
              "      <th></th>\n",
              "      <th></th>\n",
              "      <th></th>\n",
              "      <th></th>\n",
              "      <th></th>\n",
              "      <th></th>\n",
              "      <th></th>\n",
              "      <th></th>\n",
              "      <th></th>\n",
              "      <th></th>\n",
              "      <th></th>\n",
              "      <th></th>\n",
              "      <th></th>\n",
              "      <th></th>\n",
              "      <th></th>\n",
              "    </tr>\n",
              "  </thead>\n",
              "  <tbody>\n",
              "    <tr>\n",
              "      <th>3115-CZMZD</th>\n",
              "      <td>Male</td>\n",
              "      <td>0</td>\n",
              "      <td>No</td>\n",
              "      <td>Yes</td>\n",
              "      <td>0</td>\n",
              "      <td>Yes</td>\n",
              "      <td>No</td>\n",
              "      <td>No</td>\n",
              "      <td>No internet service</td>\n",
              "      <td>No internet service</td>\n",
              "      <td>No internet service</td>\n",
              "      <td>No internet service</td>\n",
              "      <td>No internet service</td>\n",
              "      <td>No internet service</td>\n",
              "      <td>Two year</td>\n",
              "      <td>No</td>\n",
              "      <td>Mailed check</td>\n",
              "      <td>20.25</td>\n",
              "      <td>NaN</td>\n",
              "    </tr>\n",
              "  </tbody>\n",
              "</table>\n",
              "</div>"
            ],
            "text/plain": [
              "           gender SeniorCitizen  ... MonthlyCharges TotalCharges\n",
              "customerID                       ...                            \n",
              "3115-CZMZD   Male             0  ...          20.25          NaN\n",
              "\n",
              "[1 rows x 19 columns]"
            ]
          },
          "metadata": {
            "tags": []
          }
        }
      ]
    },
    {
      "cell_type": "code",
      "metadata": {
        "id": "nsaOgHG0TljJ",
        "colab_type": "code",
        "colab": {}
      },
      "source": [
        "# replace missing value in \"TotalCharges\" with mean\n",
        "train_1['TotalCharges'].fillna(train_1['TotalCharges'].mean(),inplace = True)\n",
        "test_1['TotalCharges'].fillna(train_1['TotalCharges'].mean(),inplace = True)"
      ],
      "execution_count": 0,
      "outputs": []
    },
    {
      "cell_type": "markdown",
      "metadata": {
        "id": "UOo8PB8eTljM",
        "colab_type": "text"
      },
      "source": [
        "## One-hot Encoding"
      ]
    },
    {
      "cell_type": "code",
      "metadata": {
        "id": "FTwjHmWdTljN",
        "colab_type": "code",
        "colab": {}
      },
      "source": [
        "# get dummy variables for categorical varialbes\n",
        "# one-hot encoding\n",
        "genderdummy =pd.get_dummies(train_1['gender'],prefix ='gender')\n",
        "genderdummy1 =pd.get_dummies(test_1['gender'],prefix ='gender')\n",
        "Partnerdummy =pd.get_dummies(train_1['Partner'],prefix ='Partner')\n",
        "Partnerdummy1 =pd.get_dummies(test_1['Partner'],prefix ='Partner')\n",
        "Dependentsdummy =pd.get_dummies(train_1['Dependents'],prefix ='Dependents')\n",
        "Dependentsdummy1 =pd.get_dummies(test_1['Dependents'],prefix ='Dependents')\n",
        "PhoneServicedummy =pd.get_dummies(train_1['PhoneService'],prefix ='PhoneService')\n",
        "PhoneServicedummy1 =pd.get_dummies(test_1['PhoneService'],prefix ='PhoneService')\n",
        "MultipleLinesdummy =pd.get_dummies(train_1['MultipleLines'],prefix ='MultipleLines')\n",
        "MultipleLinesdummy1 =pd.get_dummies(test_1['MultipleLines'],prefix ='MultipleLines')\n",
        "InternetServicedummy =pd.get_dummies(train_1['InternetService'],prefix ='InternetService')\n",
        "InternetServicedummy1 =pd.get_dummies(test_1['InternetService'],prefix ='InternetService')\n",
        "OnlineSecuritydummy =pd.get_dummies(train_1['OnlineSecurity'],prefix ='OnlineSecurity')\n",
        "OnlineSecuritydummy1 =pd.get_dummies(test_1['OnlineSecurity'],prefix ='OnlineSecurity')\n",
        "OnlineBackupdummy =pd.get_dummies(train_1['OnlineBackup'],prefix ='OnlineBackup')\n",
        "OnlineBackupdummy1 =pd.get_dummies(test_1['OnlineBackup'],prefix ='OnlineBackup')\n",
        "DeviceProtectiondummy =pd.get_dummies(train_1['DeviceProtection'],prefix ='DeviceProtection')\n",
        "DeviceProtectiondummy1 =pd.get_dummies(test_1['DeviceProtection'],prefix ='DeviceProtection')\n",
        "TechSupportdummy =pd.get_dummies(train_1['TechSupport'],prefix ='TechSupport')\n",
        "TechSupportdummy1 =pd.get_dummies(test_1['TechSupport'],prefix ='TechSupport')\n",
        "StreamingTVdummy =pd.get_dummies(train_1['StreamingTV'],prefix ='StreamingTV')\n",
        "StreamingTVdummy1 =pd.get_dummies(test_1['StreamingTV'],prefix ='StreamingTV')\n",
        "StreamingMoviesdummy =pd.get_dummies(train_1['StreamingMovies'],prefix ='StreamingMovies')\n",
        "StreamingMoviesdummy1 =pd.get_dummies(test_1['StreamingMovies'],prefix ='StreamingMovies')\n",
        "Contractdummy =pd.get_dummies(train_1['Contract'],prefix ='Contract')\n",
        "Contractdummy1 =pd.get_dummies(test_1['Contract'],prefix ='Contract')\n",
        "PaperlessBillingdummy =pd.get_dummies(train_1['PaperlessBilling'],prefix ='PaperlessBilling')\n",
        "PaperlessBillingdummy1 =pd.get_dummies(test_1['PaperlessBilling'],prefix ='PaperlessBilling')\n",
        "PaymentMethoddummy =pd.get_dummies(train_1['PaymentMethod'],prefix ='PaymentMethod')\n",
        "PaymentMethoddummy1 =pd.get_dummies(test_1['PaymentMethod'],prefix ='PaymentMethod')"
      ],
      "execution_count": 0,
      "outputs": []
    },
    {
      "cell_type": "code",
      "metadata": {
        "id": "2UgWox6yTljP",
        "colab_type": "code",
        "colab": {}
      },
      "source": [
        "trainwithdummy_1 = pd.concat([train_1,genderdummy,Partnerdummy,Dependentsdummy,PhoneServicedummy,MultipleLinesdummy,InternetServicedummy,OnlineSecuritydummy,OnlineBackupdummy,DeviceProtectiondummy,TechSupportdummy,StreamingTVdummy,StreamingMoviesdummy,Contractdummy,PaperlessBillingdummy,PaymentMethoddummy],axis=1, sort=True)\n",
        "testwithdummy_1 = pd.concat([test_1,genderdummy1,Partnerdummy1,Dependentsdummy1,PhoneServicedummy1,MultipleLinesdummy1,InternetServicedummy1,OnlineSecuritydummy1,OnlineBackupdummy1,DeviceProtectiondummy1,TechSupportdummy1,StreamingTVdummy1,StreamingMoviesdummy1,Contractdummy1,PaperlessBillingdummy1,PaymentMethoddummy1],axis=1,sort=True)"
      ],
      "execution_count": 0,
      "outputs": []
    },
    {
      "cell_type": "code",
      "metadata": {
        "id": "8GdjnHmZTljS",
        "colab_type": "code",
        "colab": {}
      },
      "source": [
        "#drop meaningless and duplicated features\n",
        "traindrop_1=trainwithdummy_1.drop(columns=['gender','gender_Female','Partner','Partner_No','Dependents','Dependents_No','PhoneService','PhoneService_No','MultipleLines','MultipleLines_No phone service','InternetService','InternetService_No','OnlineSecurity','OnlineSecurity_No internet service','OnlineBackup','OnlineBackup_No internet service','DeviceProtection','DeviceProtection_No internet service','TechSupport','TechSupport_No internet service','StreamingTV','StreamingTV_No internet service','StreamingMovies','StreamingMovies_No internet service','Contract','Contract_One year','PaperlessBilling','PaperlessBilling_No','PaymentMethod','PaymentMethod_Credit card (automatic)'])\n",
        "testdrop_1=testwithdummy_1.drop(columns=['gender','gender_Female','Partner','Partner_No','Dependents','Dependents_No','PhoneService','PhoneService_No','MultipleLines','MultipleLines_No phone service','InternetService','InternetService_No','OnlineSecurity','OnlineSecurity_No internet service','OnlineBackup','OnlineBackup_No internet service','DeviceProtection','DeviceProtection_No internet service','TechSupport','TechSupport_No internet service','StreamingTV','StreamingTV_No internet service','StreamingMovies','StreamingMovies_No internet service','Contract','Contract_One year','PaperlessBilling','PaperlessBilling_No','PaymentMethod','PaymentMethod_Credit card (automatic)'])"
      ],
      "execution_count": 0,
      "outputs": []
    },
    {
      "cell_type": "code",
      "metadata": {
        "scrolled": true,
        "id": "aaOSmNflTljV",
        "colab_type": "code",
        "outputId": "535a5109-1d5e-44ec-9fd5-d37efa23142f",
        "colab": {
          "base_uri": "https://localhost:8080/"
        }
      },
      "source": [
        "display('traindrop_1', traindrop_1.head(), 'testdrop_1', testdrop_1.head())"
      ],
      "execution_count": 0,
      "outputs": [
        {
          "output_type": "display_data",
          "data": {
            "text/plain": [
              "'traindrop_1'"
            ]
          },
          "metadata": {
            "tags": []
          }
        },
        {
          "output_type": "display_data",
          "data": {
            "text/html": [
              "<div>\n",
              "<style scoped>\n",
              "    .dataframe tbody tr th:only-of-type {\n",
              "        vertical-align: middle;\n",
              "    }\n",
              "\n",
              "    .dataframe tbody tr th {\n",
              "        vertical-align: top;\n",
              "    }\n",
              "\n",
              "    .dataframe thead th {\n",
              "        text-align: right;\n",
              "    }\n",
              "</style>\n",
              "<table border=\"1\" class=\"dataframe\">\n",
              "  <thead>\n",
              "    <tr style=\"text-align: right;\">\n",
              "      <th></th>\n",
              "      <th>SeniorCitizen</th>\n",
              "      <th>tenure</th>\n",
              "      <th>MonthlyCharges</th>\n",
              "      <th>TotalCharges</th>\n",
              "      <th>gender_Male</th>\n",
              "      <th>Partner_Yes</th>\n",
              "      <th>Dependents_Yes</th>\n",
              "      <th>PhoneService_Yes</th>\n",
              "      <th>MultipleLines_No</th>\n",
              "      <th>MultipleLines_Yes</th>\n",
              "      <th>InternetService_DSL</th>\n",
              "      <th>InternetService_Fiber optic</th>\n",
              "      <th>OnlineSecurity_No</th>\n",
              "      <th>OnlineSecurity_Yes</th>\n",
              "      <th>OnlineBackup_No</th>\n",
              "      <th>OnlineBackup_Yes</th>\n",
              "      <th>DeviceProtection_No</th>\n",
              "      <th>DeviceProtection_Yes</th>\n",
              "      <th>TechSupport_No</th>\n",
              "      <th>TechSupport_Yes</th>\n",
              "      <th>StreamingTV_No</th>\n",
              "      <th>StreamingTV_Yes</th>\n",
              "      <th>StreamingMovies_No</th>\n",
              "      <th>StreamingMovies_Yes</th>\n",
              "      <th>Contract_Month-to-month</th>\n",
              "      <th>Contract_Two year</th>\n",
              "      <th>PaperlessBilling_Yes</th>\n",
              "      <th>PaymentMethod_Bank transfer (automatic)</th>\n",
              "      <th>PaymentMethod_Electronic check</th>\n",
              "      <th>PaymentMethod_Mailed check</th>\n",
              "    </tr>\n",
              "    <tr>\n",
              "      <th>customerID</th>\n",
              "      <th></th>\n",
              "      <th></th>\n",
              "      <th></th>\n",
              "      <th></th>\n",
              "      <th></th>\n",
              "      <th></th>\n",
              "      <th></th>\n",
              "      <th></th>\n",
              "      <th></th>\n",
              "      <th></th>\n",
              "      <th></th>\n",
              "      <th></th>\n",
              "      <th></th>\n",
              "      <th></th>\n",
              "      <th></th>\n",
              "      <th></th>\n",
              "      <th></th>\n",
              "      <th></th>\n",
              "      <th></th>\n",
              "      <th></th>\n",
              "      <th></th>\n",
              "      <th></th>\n",
              "      <th></th>\n",
              "      <th></th>\n",
              "      <th></th>\n",
              "      <th></th>\n",
              "      <th></th>\n",
              "      <th></th>\n",
              "      <th></th>\n",
              "      <th></th>\n",
              "    </tr>\n",
              "  </thead>\n",
              "  <tbody>\n",
              "    <tr>\n",
              "      <th>0002-ORFBO</th>\n",
              "      <td>0</td>\n",
              "      <td>9</td>\n",
              "      <td>65.6</td>\n",
              "      <td>593.30</td>\n",
              "      <td>0</td>\n",
              "      <td>1</td>\n",
              "      <td>1</td>\n",
              "      <td>1</td>\n",
              "      <td>1</td>\n",
              "      <td>0</td>\n",
              "      <td>1</td>\n",
              "      <td>0</td>\n",
              "      <td>1</td>\n",
              "      <td>0</td>\n",
              "      <td>0</td>\n",
              "      <td>1</td>\n",
              "      <td>1</td>\n",
              "      <td>0</td>\n",
              "      <td>0</td>\n",
              "      <td>1</td>\n",
              "      <td>0</td>\n",
              "      <td>1</td>\n",
              "      <td>1</td>\n",
              "      <td>0</td>\n",
              "      <td>0</td>\n",
              "      <td>0</td>\n",
              "      <td>1</td>\n",
              "      <td>0</td>\n",
              "      <td>0</td>\n",
              "      <td>1</td>\n",
              "    </tr>\n",
              "    <tr>\n",
              "      <th>0003-MKNFE</th>\n",
              "      <td>0</td>\n",
              "      <td>9</td>\n",
              "      <td>59.9</td>\n",
              "      <td>542.40</td>\n",
              "      <td>1</td>\n",
              "      <td>0</td>\n",
              "      <td>0</td>\n",
              "      <td>1</td>\n",
              "      <td>0</td>\n",
              "      <td>1</td>\n",
              "      <td>1</td>\n",
              "      <td>0</td>\n",
              "      <td>1</td>\n",
              "      <td>0</td>\n",
              "      <td>1</td>\n",
              "      <td>0</td>\n",
              "      <td>1</td>\n",
              "      <td>0</td>\n",
              "      <td>1</td>\n",
              "      <td>0</td>\n",
              "      <td>1</td>\n",
              "      <td>0</td>\n",
              "      <td>0</td>\n",
              "      <td>1</td>\n",
              "      <td>1</td>\n",
              "      <td>0</td>\n",
              "      <td>0</td>\n",
              "      <td>0</td>\n",
              "      <td>0</td>\n",
              "      <td>1</td>\n",
              "    </tr>\n",
              "    <tr>\n",
              "      <th>0004-TLHLJ</th>\n",
              "      <td>0</td>\n",
              "      <td>4</td>\n",
              "      <td>73.9</td>\n",
              "      <td>280.85</td>\n",
              "      <td>1</td>\n",
              "      <td>0</td>\n",
              "      <td>0</td>\n",
              "      <td>1</td>\n",
              "      <td>1</td>\n",
              "      <td>0</td>\n",
              "      <td>0</td>\n",
              "      <td>1</td>\n",
              "      <td>1</td>\n",
              "      <td>0</td>\n",
              "      <td>1</td>\n",
              "      <td>0</td>\n",
              "      <td>0</td>\n",
              "      <td>1</td>\n",
              "      <td>1</td>\n",
              "      <td>0</td>\n",
              "      <td>1</td>\n",
              "      <td>0</td>\n",
              "      <td>1</td>\n",
              "      <td>0</td>\n",
              "      <td>1</td>\n",
              "      <td>0</td>\n",
              "      <td>1</td>\n",
              "      <td>0</td>\n",
              "      <td>1</td>\n",
              "      <td>0</td>\n",
              "    </tr>\n",
              "    <tr>\n",
              "      <th>0013-EXCHZ</th>\n",
              "      <td>1</td>\n",
              "      <td>3</td>\n",
              "      <td>83.9</td>\n",
              "      <td>267.40</td>\n",
              "      <td>0</td>\n",
              "      <td>1</td>\n",
              "      <td>0</td>\n",
              "      <td>1</td>\n",
              "      <td>1</td>\n",
              "      <td>0</td>\n",
              "      <td>0</td>\n",
              "      <td>1</td>\n",
              "      <td>1</td>\n",
              "      <td>0</td>\n",
              "      <td>1</td>\n",
              "      <td>0</td>\n",
              "      <td>1</td>\n",
              "      <td>0</td>\n",
              "      <td>0</td>\n",
              "      <td>1</td>\n",
              "      <td>0</td>\n",
              "      <td>1</td>\n",
              "      <td>1</td>\n",
              "      <td>0</td>\n",
              "      <td>1</td>\n",
              "      <td>0</td>\n",
              "      <td>1</td>\n",
              "      <td>0</td>\n",
              "      <td>0</td>\n",
              "      <td>1</td>\n",
              "    </tr>\n",
              "    <tr>\n",
              "      <th>0013-SMEOE</th>\n",
              "      <td>1</td>\n",
              "      <td>71</td>\n",
              "      <td>109.7</td>\n",
              "      <td>7904.25</td>\n",
              "      <td>0</td>\n",
              "      <td>1</td>\n",
              "      <td>0</td>\n",
              "      <td>1</td>\n",
              "      <td>1</td>\n",
              "      <td>0</td>\n",
              "      <td>0</td>\n",
              "      <td>1</td>\n",
              "      <td>0</td>\n",
              "      <td>1</td>\n",
              "      <td>0</td>\n",
              "      <td>1</td>\n",
              "      <td>0</td>\n",
              "      <td>1</td>\n",
              "      <td>0</td>\n",
              "      <td>1</td>\n",
              "      <td>0</td>\n",
              "      <td>1</td>\n",
              "      <td>0</td>\n",
              "      <td>1</td>\n",
              "      <td>0</td>\n",
              "      <td>1</td>\n",
              "      <td>1</td>\n",
              "      <td>1</td>\n",
              "      <td>0</td>\n",
              "      <td>0</td>\n",
              "    </tr>\n",
              "  </tbody>\n",
              "</table>\n",
              "</div>"
            ],
            "text/plain": [
              "           SeniorCitizen  ...  PaymentMethod_Mailed check\n",
              "customerID                ...                            \n",
              "0002-ORFBO             0  ...                           1\n",
              "0003-MKNFE             0  ...                           1\n",
              "0004-TLHLJ             0  ...                           0\n",
              "0013-EXCHZ             1  ...                           1\n",
              "0013-SMEOE             1  ...                           0\n",
              "\n",
              "[5 rows x 30 columns]"
            ]
          },
          "metadata": {
            "tags": []
          }
        },
        {
          "output_type": "display_data",
          "data": {
            "text/plain": [
              "'testdrop_1'"
            ]
          },
          "metadata": {
            "tags": []
          }
        },
        {
          "output_type": "display_data",
          "data": {
            "text/html": [
              "<div>\n",
              "<style scoped>\n",
              "    .dataframe tbody tr th:only-of-type {\n",
              "        vertical-align: middle;\n",
              "    }\n",
              "\n",
              "    .dataframe tbody tr th {\n",
              "        vertical-align: top;\n",
              "    }\n",
              "\n",
              "    .dataframe thead th {\n",
              "        text-align: right;\n",
              "    }\n",
              "</style>\n",
              "<table border=\"1\" class=\"dataframe\">\n",
              "  <thead>\n",
              "    <tr style=\"text-align: right;\">\n",
              "      <th></th>\n",
              "      <th>SeniorCitizen</th>\n",
              "      <th>tenure</th>\n",
              "      <th>MonthlyCharges</th>\n",
              "      <th>TotalCharges</th>\n",
              "      <th>gender_Male</th>\n",
              "      <th>Partner_Yes</th>\n",
              "      <th>Dependents_Yes</th>\n",
              "      <th>PhoneService_Yes</th>\n",
              "      <th>MultipleLines_No</th>\n",
              "      <th>MultipleLines_Yes</th>\n",
              "      <th>InternetService_DSL</th>\n",
              "      <th>InternetService_Fiber optic</th>\n",
              "      <th>OnlineSecurity_No</th>\n",
              "      <th>OnlineSecurity_Yes</th>\n",
              "      <th>OnlineBackup_No</th>\n",
              "      <th>OnlineBackup_Yes</th>\n",
              "      <th>DeviceProtection_No</th>\n",
              "      <th>DeviceProtection_Yes</th>\n",
              "      <th>TechSupport_No</th>\n",
              "      <th>TechSupport_Yes</th>\n",
              "      <th>StreamingTV_No</th>\n",
              "      <th>StreamingTV_Yes</th>\n",
              "      <th>StreamingMovies_No</th>\n",
              "      <th>StreamingMovies_Yes</th>\n",
              "      <th>Contract_Month-to-month</th>\n",
              "      <th>Contract_Two year</th>\n",
              "      <th>PaperlessBilling_Yes</th>\n",
              "      <th>PaymentMethod_Bank transfer (automatic)</th>\n",
              "      <th>PaymentMethod_Electronic check</th>\n",
              "      <th>PaymentMethod_Mailed check</th>\n",
              "    </tr>\n",
              "    <tr>\n",
              "      <th>customerID</th>\n",
              "      <th></th>\n",
              "      <th></th>\n",
              "      <th></th>\n",
              "      <th></th>\n",
              "      <th></th>\n",
              "      <th></th>\n",
              "      <th></th>\n",
              "      <th></th>\n",
              "      <th></th>\n",
              "      <th></th>\n",
              "      <th></th>\n",
              "      <th></th>\n",
              "      <th></th>\n",
              "      <th></th>\n",
              "      <th></th>\n",
              "      <th></th>\n",
              "      <th></th>\n",
              "      <th></th>\n",
              "      <th></th>\n",
              "      <th></th>\n",
              "      <th></th>\n",
              "      <th></th>\n",
              "      <th></th>\n",
              "      <th></th>\n",
              "      <th></th>\n",
              "      <th></th>\n",
              "      <th></th>\n",
              "      <th></th>\n",
              "      <th></th>\n",
              "      <th></th>\n",
              "    </tr>\n",
              "  </thead>\n",
              "  <tbody>\n",
              "    <tr>\n",
              "      <th>0011-IGKFF</th>\n",
              "      <td>1</td>\n",
              "      <td>13</td>\n",
              "      <td>98.00</td>\n",
              "      <td>1237.85</td>\n",
              "      <td>1</td>\n",
              "      <td>1</td>\n",
              "      <td>0</td>\n",
              "      <td>1</td>\n",
              "      <td>1</td>\n",
              "      <td>0</td>\n",
              "      <td>0</td>\n",
              "      <td>1</td>\n",
              "      <td>1</td>\n",
              "      <td>0</td>\n",
              "      <td>0</td>\n",
              "      <td>1</td>\n",
              "      <td>0</td>\n",
              "      <td>1</td>\n",
              "      <td>1</td>\n",
              "      <td>0</td>\n",
              "      <td>0</td>\n",
              "      <td>1</td>\n",
              "      <td>0</td>\n",
              "      <td>1</td>\n",
              "      <td>1</td>\n",
              "      <td>0</td>\n",
              "      <td>1</td>\n",
              "      <td>0</td>\n",
              "      <td>1</td>\n",
              "      <td>0</td>\n",
              "    </tr>\n",
              "    <tr>\n",
              "      <th>0013-MHZWF</th>\n",
              "      <td>0</td>\n",
              "      <td>9</td>\n",
              "      <td>69.40</td>\n",
              "      <td>571.45</td>\n",
              "      <td>0</td>\n",
              "      <td>0</td>\n",
              "      <td>1</td>\n",
              "      <td>1</td>\n",
              "      <td>1</td>\n",
              "      <td>0</td>\n",
              "      <td>1</td>\n",
              "      <td>0</td>\n",
              "      <td>1</td>\n",
              "      <td>0</td>\n",
              "      <td>1</td>\n",
              "      <td>0</td>\n",
              "      <td>1</td>\n",
              "      <td>0</td>\n",
              "      <td>0</td>\n",
              "      <td>1</td>\n",
              "      <td>0</td>\n",
              "      <td>1</td>\n",
              "      <td>0</td>\n",
              "      <td>1</td>\n",
              "      <td>1</td>\n",
              "      <td>0</td>\n",
              "      <td>1</td>\n",
              "      <td>0</td>\n",
              "      <td>0</td>\n",
              "      <td>0</td>\n",
              "    </tr>\n",
              "    <tr>\n",
              "      <th>0016-QLJIS</th>\n",
              "      <td>0</td>\n",
              "      <td>65</td>\n",
              "      <td>90.45</td>\n",
              "      <td>5957.90</td>\n",
              "      <td>0</td>\n",
              "      <td>1</td>\n",
              "      <td>1</td>\n",
              "      <td>1</td>\n",
              "      <td>0</td>\n",
              "      <td>1</td>\n",
              "      <td>1</td>\n",
              "      <td>0</td>\n",
              "      <td>0</td>\n",
              "      <td>1</td>\n",
              "      <td>0</td>\n",
              "      <td>1</td>\n",
              "      <td>0</td>\n",
              "      <td>1</td>\n",
              "      <td>0</td>\n",
              "      <td>1</td>\n",
              "      <td>0</td>\n",
              "      <td>1</td>\n",
              "      <td>0</td>\n",
              "      <td>1</td>\n",
              "      <td>0</td>\n",
              "      <td>1</td>\n",
              "      <td>1</td>\n",
              "      <td>0</td>\n",
              "      <td>0</td>\n",
              "      <td>1</td>\n",
              "    </tr>\n",
              "    <tr>\n",
              "      <th>0021-IKXGC</th>\n",
              "      <td>1</td>\n",
              "      <td>1</td>\n",
              "      <td>72.10</td>\n",
              "      <td>72.10</td>\n",
              "      <td>0</td>\n",
              "      <td>0</td>\n",
              "      <td>0</td>\n",
              "      <td>1</td>\n",
              "      <td>0</td>\n",
              "      <td>1</td>\n",
              "      <td>0</td>\n",
              "      <td>1</td>\n",
              "      <td>1</td>\n",
              "      <td>0</td>\n",
              "      <td>1</td>\n",
              "      <td>0</td>\n",
              "      <td>1</td>\n",
              "      <td>0</td>\n",
              "      <td>1</td>\n",
              "      <td>0</td>\n",
              "      <td>1</td>\n",
              "      <td>0</td>\n",
              "      <td>1</td>\n",
              "      <td>0</td>\n",
              "      <td>1</td>\n",
              "      <td>0</td>\n",
              "      <td>1</td>\n",
              "      <td>0</td>\n",
              "      <td>1</td>\n",
              "      <td>0</td>\n",
              "    </tr>\n",
              "    <tr>\n",
              "      <th>0031-PVLZI</th>\n",
              "      <td>0</td>\n",
              "      <td>4</td>\n",
              "      <td>20.35</td>\n",
              "      <td>76.35</td>\n",
              "      <td>0</td>\n",
              "      <td>1</td>\n",
              "      <td>1</td>\n",
              "      <td>1</td>\n",
              "      <td>1</td>\n",
              "      <td>0</td>\n",
              "      <td>0</td>\n",
              "      <td>0</td>\n",
              "      <td>0</td>\n",
              "      <td>0</td>\n",
              "      <td>0</td>\n",
              "      <td>0</td>\n",
              "      <td>0</td>\n",
              "      <td>0</td>\n",
              "      <td>0</td>\n",
              "      <td>0</td>\n",
              "      <td>0</td>\n",
              "      <td>0</td>\n",
              "      <td>0</td>\n",
              "      <td>0</td>\n",
              "      <td>1</td>\n",
              "      <td>0</td>\n",
              "      <td>0</td>\n",
              "      <td>0</td>\n",
              "      <td>0</td>\n",
              "      <td>1</td>\n",
              "    </tr>\n",
              "  </tbody>\n",
              "</table>\n",
              "</div>"
            ],
            "text/plain": [
              "           SeniorCitizen  ...  PaymentMethod_Mailed check\n",
              "customerID                ...                            \n",
              "0011-IGKFF             1  ...                           0\n",
              "0013-MHZWF             0  ...                           0\n",
              "0016-QLJIS             0  ...                           1\n",
              "0021-IKXGC             1  ...                           0\n",
              "0031-PVLZI             0  ...                           1\n",
              "\n",
              "[5 rows x 30 columns]"
            ]
          },
          "metadata": {
            "tags": []
          }
        }
      ]
    },
    {
      "cell_type": "markdown",
      "metadata": {
        "id": "0vmzC5ohTljX",
        "colab_type": "text"
      },
      "source": [
        "## Data Visulalization"
      ]
    },
    {
      "cell_type": "code",
      "metadata": {
        "id": "CIkQ94JwTljY",
        "colab_type": "code",
        "outputId": "c84e237a-1276-4dc9-b842-3d8398392092",
        "colab": {
          "base_uri": "https://localhost:8080/"
        }
      },
      "source": [
        "# import libraries for data visualization\n",
        "import seaborn as sns\n",
        "import matplotlib.pyplot as plt\n",
        "%matplotlib inline\n",
        "fig = plt.figure(figsize=(18,6))"
      ],
      "execution_count": 0,
      "outputs": [
        {
          "output_type": "display_data",
          "data": {
            "text/plain": [
              "<Figure size 1296x432 with 0 Axes>"
            ]
          },
          "metadata": {
            "tags": []
          }
        }
      ]
    },
    {
      "cell_type": "code",
      "metadata": {
        "id": "uD4DpmybTlja",
        "colab_type": "code",
        "outputId": "74a37371-4f8c-4bdf-8745-4b25e13fe2ba",
        "colab": {
          "base_uri": "https://localhost:8080/"
        }
      },
      "source": [
        "# histogram for tenure\n",
        "traindrop_1['tenure'].hist()"
      ],
      "execution_count": 0,
      "outputs": [
        {
          "output_type": "execute_result",
          "data": {
            "text/plain": [
              "<matplotlib.axes._subplots.AxesSubplot at 0x7f2e9f095588>"
            ]
          },
          "metadata": {
            "tags": []
          },
          "execution_count": 29
        },
        {
          "output_type": "display_data",
          "data": {
            "image/png": "[encoded data removed]",
            "text/plain": [
              "<Figure size 432x288 with 1 Axes>"
            ]
          },
          "metadata": {
            "tags": [],
            "needs_background": "light"
          }
        }
      ]
    },
    {
      "cell_type": "code",
      "metadata": {
        "id": "1Nfm1YoUTljc",
        "colab_type": "code",
        "outputId": "7825fecf-b1b7-4c6f-f015-0b0c951792b1",
        "colab": {
          "base_uri": "https://localhost:8080/"
        }
      },
      "source": [
        "# boxplot for tenure\n",
        "ax = sns.boxplot(traindrop_1['tenure'])"
      ],
      "execution_count": 0,
      "outputs": [
        {
          "output_type": "display_data",
          "data": {
            "image/png": "[encoded data removed]",
            "text/plain": [
              "<Figure size 432x288 with 1 Axes>"
            ]
          },
          "metadata": {
            "tags": [],
            "needs_background": "light"
          }
        }
      ]
    },
    {
      "cell_type": "code",
      "metadata": {
        "id": "eBDQLqu6Tljf",
        "colab_type": "code",
        "outputId": "2d22974b-16eb-40fe-d762-7b73e8b64c44",
        "colab": {
          "base_uri": "https://localhost:8080/"
        }
      },
      "source": [
        "# histogram for tenure\n",
        "testdrop_1['tenure'].hist()"
      ],
      "execution_count": 0,
      "outputs": [
        {
          "output_type": "execute_result",
          "data": {
            "text/plain": [
              "<matplotlib.axes._subplots.AxesSubplot at 0x7f2e9eb24080>"
            ]
          },
          "metadata": {
            "tags": []
          },
          "execution_count": 31
        },
        {
          "output_type": "display_data",
          "data": {
            "image/png": "[encoded data removed]",
            "text/plain": [
              "<Figure size 432x288 with 1 Axes>"
            ]
          },
          "metadata": {
            "tags": [],
            "needs_background": "light"
          }
        }
      ]
    },
    {
      "cell_type": "code",
      "metadata": {
        "id": "5HNmTfXiTljh",
        "colab_type": "code",
        "outputId": "04a06933-d04d-4aeb-dc83-859cd2c4bd7b",
        "colab": {
          "base_uri": "https://localhost:8080/"
        }
      },
      "source": [
        "# boxplot for tenure\n",
        "ax = sns.boxplot(testdrop_1['tenure'])"
      ],
      "execution_count": 0,
      "outputs": [
        {
          "output_type": "display_data",
          "data": {
            "image/png": "[encoded data removed]",
            "text/plain": [
              "<Figure size 432x288 with 1 Axes>"
            ]
          },
          "metadata": {
            "tags": [],
            "needs_background": "light"
          }
        }
      ]
    },
    {
      "cell_type": "code",
      "metadata": {
        "id": "HT4mmTfRTljk",
        "colab_type": "code",
        "outputId": "dc49b208-1298-4823-c54e-69a8214a8a98",
        "colab": {
          "base_uri": "https://localhost:8080/"
        }
      },
      "source": [
        "# histogram for MonthlyCharges\n",
        "traindrop_1['MonthlyCharges'].hist()"
      ],
      "execution_count": 0,
      "outputs": [
        {
          "output_type": "execute_result",
          "data": {
            "text/plain": [
              "<matplotlib.axes._subplots.AxesSubplot at 0x7f2e9ea99358>"
            ]
          },
          "metadata": {
            "tags": []
          },
          "execution_count": 33
        },
        {
          "output_type": "display_data",
          "data": {
            "image/png": "[encoded data removed]",
            "text/plain": [
              "<Figure size 432x288 with 1 Axes>"
            ]
          },
          "metadata": {
            "tags": [],
            "needs_background": "light"
          }
        }
      ]
    },
    {
      "cell_type": "code",
      "metadata": {
        "id": "cA_YyL9rTljn",
        "colab_type": "code",
        "outputId": "c5eccd61-9dd7-46b1-ea73-2c4a9b637cb7",
        "colab": {
          "base_uri": "https://localhost:8080/"
        }
      },
      "source": [
        "# boxplot for MonthlyCharges\n",
        "ax = sns.boxplot(traindrop_1['MonthlyCharges'])"
      ],
      "execution_count": 0,
      "outputs": [
        {
          "output_type": "display_data",
          "data": {
            "image/png": "[encoded data removed]",
            "text/plain": [
              "<Figure size 432x288 with 1 Axes>"
            ]
          },
          "metadata": {
            "tags": [],
            "needs_background": "light"
          }
        }
      ]
    },
    {
      "cell_type": "code",
      "metadata": {
        "id": "3UsKY0PcTljp",
        "colab_type": "code",
        "outputId": "3bc809fb-79c2-4abd-9787-18c63225d4a9",
        "colab": {
          "base_uri": "https://localhost:8080/"
        }
      },
      "source": [
        "# histogram for MonthlyCharges\n",
        "testdrop_1['MonthlyCharges'].hist()"
      ],
      "execution_count": 0,
      "outputs": [
        {
          "output_type": "execute_result",
          "data": {
            "text/plain": [
              "<matplotlib.axes._subplots.AxesSubplot at 0x7f2e9e8fe128>"
            ]
          },
          "metadata": {
            "tags": []
          },
          "execution_count": 35
        },
        {
          "output_type": "display_data",
          "data": {
            "image/png": "[encoded data removed]",
            "text/plain": [
              "<Figure size 432x288 with 1 Axes>"
            ]
          },
          "metadata": {
            "tags": [],
            "needs_background": "light"
          }
        }
      ]
    },
    {
      "cell_type": "code",
      "metadata": {
        "id": "AW6kNnQ3Tljs",
        "colab_type": "code",
        "outputId": "c73e0d03-09fa-49ab-f333-6a806af699bc",
        "colab": {
          "base_uri": "https://localhost:8080/"
        }
      },
      "source": [
        "# boxplot for MonthlyCharges\n",
        "ax = sns.boxplot(testdrop_1['MonthlyCharges'])"
      ],
      "execution_count": 0,
      "outputs": [
        {
          "output_type": "display_data",
          "data": {
            "image/png": "[encoded data removed]",
            "text/plain": [
              "<Figure size 432x288 with 1 Axes>"
            ]
          },
          "metadata": {
            "tags": [],
            "needs_background": "light"
          }
        }
      ]
    },
    {
      "cell_type": "code",
      "metadata": {
        "id": "qxa1tnCZTljv",
        "colab_type": "code",
        "outputId": "673cf7d5-86b5-41ef-aaed-20cb81712440",
        "colab": {
          "base_uri": "https://localhost:8080/"
        }
      },
      "source": [
        "# histogram for TotalCharges\n",
        "traindrop_1['TotalCharges'].hist()"
      ],
      "execution_count": 0,
      "outputs": [
        {
          "output_type": "execute_result",
          "data": {
            "text/plain": [
              "<matplotlib.axes._subplots.AxesSubplot at 0x7f2e9e861ef0>"
            ]
          },
          "metadata": {
            "tags": []
          },
          "execution_count": 37
        },
        {
          "output_type": "display_data",
          "data": {
            "image/png": "[encoded data removed]",
            "text/plain": [
              "<Figure size 432x288 with 1 Axes>"
            ]
          },
          "metadata": {
            "tags": [],
            "needs_background": "light"
          }
        }
      ]
    },
    {
      "cell_type": "code",
      "metadata": {
        "id": "0Z0F41KHTljy",
        "colab_type": "code",
        "outputId": "371b292f-aec2-4208-e1ed-a67e3b0bcf76",
        "colab": {
          "base_uri": "https://localhost:8080/"
        }
      },
      "source": [
        "# boxplot for TotalCharges\n",
        "ax = sns.boxplot(traindrop_1['TotalCharges'])"
      ],
      "execution_count": 0,
      "outputs": [
        {
          "output_type": "display_data",
          "data": {
            "image/png": "[encoded data removed]",
            "text/plain": [
              "<Figure size 432x288 with 1 Axes>"
            ]
          },
          "metadata": {
            "tags": [],
            "needs_background": "light"
          }
        }
      ]
    },
    {
      "cell_type": "code",
      "metadata": {
        "id": "5_PUeWFGTlj0",
        "colab_type": "code",
        "outputId": "993eed03-73f3-4269-e2ec-2ddd6e69fb6a",
        "colab": {
          "base_uri": "https://localhost:8080/"
        }
      },
      "source": [
        "# histogram for TotalCharges\n",
        "testdrop_1['TotalCharges'].hist()"
      ],
      "execution_count": 0,
      "outputs": [
        {
          "output_type": "execute_result",
          "data": {
            "text/plain": [
              "<matplotlib.axes._subplots.AxesSubplot at 0x7f2e9e79de10>"
            ]
          },
          "metadata": {
            "tags": []
          },
          "execution_count": 39
        },
        {
          "output_type": "display_data",
          "data": {
            "image/png": "[encoded data removed]",
            "text/plain": [
              "<Figure size 432x288 with 1 Axes>"
            ]
          },
          "metadata": {
            "tags": [],
            "needs_background": "light"
          }
        }
      ]
    },
    {
      "cell_type": "code",
      "metadata": {
        "id": "bh8pybt9Tlj2",
        "colab_type": "code",
        "outputId": "e2b63d83-921b-421f-ec8d-bb6e73c865bc",
        "colab": {
          "base_uri": "https://localhost:8080/"
        }
      },
      "source": [
        "# boxplot for TotalCharges\n",
        "ax = sns.boxplot(testdrop_1['TotalCharges'])"
      ],
      "execution_count": 0,
      "outputs": [
        {
          "output_type": "display_data",
          "data": {
            "image/png": "[encoded data removed]",
            "text/plain": [
              "<Figure size 432x288 with 1 Axes>"
            ]
          },
          "metadata": {
            "tags": [],
            "needs_background": "light"
          }
        }
      ]
    },
    {
      "cell_type": "markdown",
      "metadata": {
        "id": "FRLfefodTlj5",
        "colab_type": "text"
      },
      "source": [
        "## Apply min-max normalization"
      ]
    },
    {
      "cell_type": "code",
      "metadata": {
        "id": "B_IcFNC7Tlj6",
        "colab_type": "code",
        "colab": {}
      },
      "source": [
        "# normalize MonthlyCharges & TotalCharges\n",
        "# import library \n",
        "from sklearn import preprocessing"
      ],
      "execution_count": 0,
      "outputs": []
    },
    {
      "cell_type": "code",
      "metadata": {
        "id": "64o6xyFSTlj9",
        "colab_type": "code",
        "colab": {}
      },
      "source": [
        "# Apply min-max normalization on MonthlyCharges & TotalCharges\n",
        "\n",
        "minmax_scaler = preprocessing.MinMaxScaler().fit(traindrop_1[['MonthlyCharges']])\n",
        "traindrop_1['MonthlyCharges_minmax']=minmax_scaler.transform(traindrop_1[['MonthlyCharges']])\n",
        "minmax_scaler = preprocessing.MinMaxScaler().fit(testdrop_1[['MonthlyCharges']])\n",
        "testdrop_1['MonthlyCharges_minmax']=minmax_scaler.transform(testdrop_1[['MonthlyCharges']])\n",
        "minmax_scaler = preprocessing.MinMaxScaler().fit(traindrop_1[['TotalCharges']])\n",
        "traindrop_1['TotalCharges_minmax']=minmax_scaler.transform(traindrop_1[['TotalCharges']])\n",
        "minmax_scaler = preprocessing.MinMaxScaler().fit(testdrop_1[['TotalCharges']])\n",
        "testdrop_1['TotalCharges_minmax']=minmax_scaler.transform(testdrop_1[['TotalCharges']])"
      ],
      "execution_count": 0,
      "outputs": []
    },
    {
      "cell_type": "code",
      "metadata": {
        "id": "ELByeS-cTlkB",
        "colab_type": "code",
        "outputId": "25d0c9f2-22cb-4a52-e05e-59e02b99fea2",
        "colab": {
          "base_uri": "https://localhost:8080/"
        }
      },
      "source": [
        "display('Monthly Charges:','traindrop_1', traindrop_1['MonthlyCharges_minmax'], 'testdrop_1', testdrop_1['MonthlyCharges_minmax'])"
      ],
      "execution_count": 0,
      "outputs": [
        {
          "output_type": "display_data",
          "data": {
            "text/plain": [
              "'Monthly Charges:'"
            ]
          },
          "metadata": {
            "tags": []
          }
        },
        {
          "output_type": "display_data",
          "data": {
            "text/plain": [
              "'traindrop_1'"
            ]
          },
          "metadata": {
            "tags": []
          }
        },
        {
          "output_type": "display_data",
          "data": {
            "text/plain": [
              "customerID\n",
              "0002-ORFBO    0.471144\n",
              "0003-MKNFE    0.414428\n",
              "0004-TLHLJ    0.553731\n",
              "0013-EXCHZ    0.653234\n",
              "0013-SMEOE    0.909950\n",
              "                ...   \n",
              "9986-BONCE    0.026866\n",
              "9987-LUTYD    0.367164\n",
              "9992-UJOEL    0.318905\n",
              "9993-LHIEB    0.493532\n",
              "9995-HOTOH    0.405473\n",
              "Name: MonthlyCharges_minmax, Length: 5634, dtype: float64"
            ]
          },
          "metadata": {
            "tags": []
          }
        },
        {
          "output_type": "display_data",
          "data": {
            "text/plain": [
              "'testdrop_1'"
            ]
          },
          "metadata": {
            "tags": []
          }
        },
        {
          "output_type": "display_data",
          "data": {
            "text/plain": [
              "customerID\n",
              "0011-IGKFF    0.796781\n",
              "0013-MHZWF    0.509054\n",
              "0016-QLJIS    0.720825\n",
              "0021-IKXGC    0.536217\n",
              "0031-PVLZI    0.015594\n",
              "                ...   \n",
              "9959-WOFKT    0.884306\n",
              "9961-JBNMK    0.784708\n",
              "9965-YOKZB    0.654427\n",
              "9971-ZWPBF    0.906439\n",
              "9992-RRAMN    0.667002\n",
              "Name: MonthlyCharges_minmax, Length: 1409, dtype: float64"
            ]
          },
          "metadata": {
            "tags": []
          }
        }
      ]
    },
    {
      "cell_type": "code",
      "metadata": {
        "id": "H5KA3j9yTlkD",
        "colab_type": "code",
        "outputId": "492cd57b-9ae4-4a6f-f45b-6379ded94f25",
        "colab": {
          "base_uri": "https://localhost:8080/"
        }
      },
      "source": [
        "display('Total Charges:','traindrop_1', traindrop_1['TotalCharges_minmax'], 'testdrop_1', testdrop_1['TotalCharges_minmax'])"
      ],
      "execution_count": 0,
      "outputs": [
        {
          "output_type": "display_data",
          "data": {
            "text/plain": [
              "'Total Charges:'"
            ]
          },
          "metadata": {
            "tags": []
          }
        },
        {
          "output_type": "display_data",
          "data": {
            "text/plain": [
              "'traindrop_1'"
            ]
          },
          "metadata": {
            "tags": []
          }
        },
        {
          "output_type": "display_data",
          "data": {
            "text/plain": [
              "customerID\n",
              "0002-ORFBO    0.066288\n",
              "0003-MKNFE    0.060415\n",
              "0004-TLHLJ    0.030233\n",
              "0013-EXCHZ    0.028681\n",
              "0013-SMEOE    0.909929\n",
              "                ...   \n",
              "9986-BONCE    0.007691\n",
              "9987-LUTYD    0.083551\n",
              "9992-UJOEL    0.008528\n",
              "9993-LHIEB    0.531829\n",
              "9995-HOTOH    0.425660\n",
              "Name: TotalCharges_minmax, Length: 5634, dtype: float64"
            ]
          },
          "metadata": {
            "tags": []
          }
        },
        {
          "output_type": "display_data",
          "data": {
            "text/plain": [
              "'testdrop_1'"
            ]
          },
          "metadata": {
            "tags": []
          }
        },
        {
          "output_type": "display_data",
          "data": {
            "text/plain": [
              "customerID\n",
              "0011-IGKFF    0.142941\n",
              "0013-MHZWF    0.064802\n",
              "0016-QLJIS    0.696395\n",
              "0021-IKXGC    0.006250\n",
              "0031-PVLZI    0.006748\n",
              "                ...   \n",
              "9959-WOFKT    0.863409\n",
              "9961-JBNMK    0.235860\n",
              "9965-YOKZB    0.090445\n",
              "9971-ZWPBF    0.422872\n",
              "9992-RRAMN    0.217498\n",
              "Name: TotalCharges_minmax, Length: 1409, dtype: float64"
            ]
          },
          "metadata": {
            "tags": []
          }
        }
      ]
    },
    {
      "cell_type": "code",
      "metadata": {
        "id": "PmdwQSTLTlkH",
        "colab_type": "code",
        "colab": {}
      },
      "source": [
        "#sort the y values in place with the training/testing dataset"
      ],
      "execution_count": 0,
      "outputs": []
    },
    {
      "cell_type": "code",
      "metadata": {
        "id": "BgMAkjdtTlkM",
        "colab_type": "code",
        "colab": {}
      },
      "source": [
        "y_traindrop_1 = y_train_1.sort_values(['customerID'])\n",
        "y_testdrop_1 = y_test_1.sort_values(['customerID'])"
      ],
      "execution_count": 0,
      "outputs": []
    },
    {
      "cell_type": "code",
      "metadata": {
        "id": "ZhTedr3bTlkP",
        "colab_type": "code",
        "outputId": "7ad7c249-424f-4bdd-d32e-9f1b69fb5deb",
        "colab": {
          "base_uri": "https://localhost:8080/"
        }
      },
      "source": [
        "y_train_1.head()"
      ],
      "execution_count": 0,
      "outputs": [
        {
          "output_type": "execute_result",
          "data": {
            "text/html": [
              "<div>\n",
              "<style scoped>\n",
              "    .dataframe tbody tr th:only-of-type {\n",
              "        vertical-align: middle;\n",
              "    }\n",
              "\n",
              "    .dataframe tbody tr th {\n",
              "        vertical-align: top;\n",
              "    }\n",
              "\n",
              "    .dataframe thead th {\n",
              "        text-align: right;\n",
              "    }\n",
              "</style>\n",
              "<table border=\"1\" class=\"dataframe\">\n",
              "  <thead>\n",
              "    <tr style=\"text-align: right;\">\n",
              "      <th></th>\n",
              "      <th>Churn</th>\n",
              "    </tr>\n",
              "    <tr>\n",
              "      <th>customerID</th>\n",
              "      <th></th>\n",
              "    </tr>\n",
              "  </thead>\n",
              "  <tbody>\n",
              "    <tr>\n",
              "      <th>3164-YAXFY</th>\n",
              "      <td>No</td>\n",
              "    </tr>\n",
              "    <tr>\n",
              "      <th>1101-SSWAG</th>\n",
              "      <td>No</td>\n",
              "    </tr>\n",
              "    <tr>\n",
              "      <th>3097-NQYSN</th>\n",
              "      <td>Yes</td>\n",
              "    </tr>\n",
              "    <tr>\n",
              "      <th>5825-XJOCM</th>\n",
              "      <td>No</td>\n",
              "    </tr>\n",
              "    <tr>\n",
              "      <th>9360-OMDZZ</th>\n",
              "      <td>No</td>\n",
              "    </tr>\n",
              "  </tbody>\n",
              "</table>\n",
              "</div>"
            ],
            "text/plain": [
              "           Churn\n",
              "customerID      \n",
              "3164-YAXFY    No\n",
              "1101-SSWAG    No\n",
              "3097-NQYSN   Yes\n",
              "5825-XJOCM    No\n",
              "9360-OMDZZ    No"
            ]
          },
          "metadata": {
            "tags": []
          },
          "execution_count": 47
        }
      ]
    },
    {
      "cell_type": "code",
      "metadata": {
        "id": "WJ97VP7pTlkS",
        "colab_type": "code",
        "outputId": "9a0c21d7-0506-48bb-a511-9ec33c920cae",
        "colab": {
          "base_uri": "https://localhost:8080/"
        }
      },
      "source": [
        "# check the updated data frame\n",
        "display('traindrop_1', traindrop_1.head(), 'y_traindrop_1', y_traindrop_1.head())"
      ],
      "execution_count": 0,
      "outputs": [
        {
          "output_type": "display_data",
          "data": {
            "text/plain": [
              "'traindrop_1'"
            ]
          },
          "metadata": {
            "tags": []
          }
        },
        {
          "output_type": "display_data",
          "data": {
            "text/html": [
              "<div>\n",
              "<style scoped>\n",
              "    .dataframe tbody tr th:only-of-type {\n",
              "        vertical-align: middle;\n",
              "    }\n",
              "\n",
              "    .dataframe tbody tr th {\n",
              "        vertical-align: top;\n",
              "    }\n",
              "\n",
              "    .dataframe thead th {\n",
              "        text-align: right;\n",
              "    }\n",
              "</style>\n",
              "<table border=\"1\" class=\"dataframe\">\n",
              "  <thead>\n",
              "    <tr style=\"text-align: right;\">\n",
              "      <th></th>\n",
              "      <th>SeniorCitizen</th>\n",
              "      <th>tenure</th>\n",
              "      <th>MonthlyCharges</th>\n",
              "      <th>TotalCharges</th>\n",
              "      <th>gender_Male</th>\n",
              "      <th>Partner_Yes</th>\n",
              "      <th>Dependents_Yes</th>\n",
              "      <th>PhoneService_Yes</th>\n",
              "      <th>MultipleLines_No</th>\n",
              "      <th>MultipleLines_Yes</th>\n",
              "      <th>InternetService_DSL</th>\n",
              "      <th>InternetService_Fiber optic</th>\n",
              "      <th>OnlineSecurity_No</th>\n",
              "      <th>OnlineSecurity_Yes</th>\n",
              "      <th>OnlineBackup_No</th>\n",
              "      <th>OnlineBackup_Yes</th>\n",
              "      <th>DeviceProtection_No</th>\n",
              "      <th>DeviceProtection_Yes</th>\n",
              "      <th>TechSupport_No</th>\n",
              "      <th>TechSupport_Yes</th>\n",
              "      <th>StreamingTV_No</th>\n",
              "      <th>StreamingTV_Yes</th>\n",
              "      <th>StreamingMovies_No</th>\n",
              "      <th>StreamingMovies_Yes</th>\n",
              "      <th>Contract_Month-to-month</th>\n",
              "      <th>Contract_Two year</th>\n",
              "      <th>PaperlessBilling_Yes</th>\n",
              "      <th>PaymentMethod_Bank transfer (automatic)</th>\n",
              "      <th>PaymentMethod_Electronic check</th>\n",
              "      <th>PaymentMethod_Mailed check</th>\n",
              "      <th>MonthlyCharges_minmax</th>\n",
              "      <th>TotalCharges_minmax</th>\n",
              "    </tr>\n",
              "    <tr>\n",
              "      <th>customerID</th>\n",
              "      <th></th>\n",
              "      <th></th>\n",
              "      <th></th>\n",
              "      <th></th>\n",
              "      <th></th>\n",
              "      <th></th>\n",
              "      <th></th>\n",
              "      <th></th>\n",
              "      <th></th>\n",
              "      <th></th>\n",
              "      <th></th>\n",
              "      <th></th>\n",
              "      <th></th>\n",
              "      <th></th>\n",
              "      <th></th>\n",
              "      <th></th>\n",
              "      <th></th>\n",
              "      <th></th>\n",
              "      <th></th>\n",
              "      <th></th>\n",
              "      <th></th>\n",
              "      <th></th>\n",
              "      <th></th>\n",
              "      <th></th>\n",
              "      <th></th>\n",
              "      <th></th>\n",
              "      <th></th>\n",
              "      <th></th>\n",
              "      <th></th>\n",
              "      <th></th>\n",
              "      <th></th>\n",
              "      <th></th>\n",
              "    </tr>\n",
              "  </thead>\n",
              "  <tbody>\n",
              "    <tr>\n",
              "      <th>0002-ORFBO</th>\n",
              "      <td>0</td>\n",
              "      <td>9</td>\n",
              "      <td>65.6</td>\n",
              "      <td>593.30</td>\n",
              "      <td>0</td>\n",
              "      <td>1</td>\n",
              "      <td>1</td>\n",
              "      <td>1</td>\n",
              "      <td>1</td>\n",
              "      <td>0</td>\n",
              "      <td>1</td>\n",
              "      <td>0</td>\n",
              "      <td>1</td>\n",
              "      <td>0</td>\n",
              "      <td>0</td>\n",
              "      <td>1</td>\n",
              "      <td>1</td>\n",
              "      <td>0</td>\n",
              "      <td>0</td>\n",
              "      <td>1</td>\n",
              "      <td>0</td>\n",
              "      <td>1</td>\n",
              "      <td>1</td>\n",
              "      <td>0</td>\n",
              "      <td>0</td>\n",
              "      <td>0</td>\n",
              "      <td>1</td>\n",
              "      <td>0</td>\n",
              "      <td>0</td>\n",
              "      <td>1</td>\n",
              "      <td>0.471144</td>\n",
              "      <td>0.066288</td>\n",
              "    </tr>\n",
              "    <tr>\n",
              "      <th>0003-MKNFE</th>\n",
              "      <td>0</td>\n",
              "      <td>9</td>\n",
              "      <td>59.9</td>\n",
              "      <td>542.40</td>\n",
              "      <td>1</td>\n",
              "      <td>0</td>\n",
              "      <td>0</td>\n",
              "      <td>1</td>\n",
              "      <td>0</td>\n",
              "      <td>1</td>\n",
              "      <td>1</td>\n",
              "      <td>0</td>\n",
              "      <td>1</td>\n",
              "      <td>0</td>\n",
              "      <td>1</td>\n",
              "      <td>0</td>\n",
              "      <td>1</td>\n",
              "      <td>0</td>\n",
              "      <td>1</td>\n",
              "      <td>0</td>\n",
              "      <td>1</td>\n",
              "      <td>0</td>\n",
              "      <td>0</td>\n",
              "      <td>1</td>\n",
              "      <td>1</td>\n",
              "      <td>0</td>\n",
              "      <td>0</td>\n",
              "      <td>0</td>\n",
              "      <td>0</td>\n",
              "      <td>1</td>\n",
              "      <td>0.414428</td>\n",
              "      <td>0.060415</td>\n",
              "    </tr>\n",
              "    <tr>\n",
              "      <th>0004-TLHLJ</th>\n",
              "      <td>0</td>\n",
              "      <td>4</td>\n",
              "      <td>73.9</td>\n",
              "      <td>280.85</td>\n",
              "      <td>1</td>\n",
              "      <td>0</td>\n",
              "      <td>0</td>\n",
              "      <td>1</td>\n",
              "      <td>1</td>\n",
              "      <td>0</td>\n",
              "      <td>0</td>\n",
              "      <td>1</td>\n",
              "      <td>1</td>\n",
              "      <td>0</td>\n",
              "      <td>1</td>\n",
              "      <td>0</td>\n",
              "      <td>0</td>\n",
              "      <td>1</td>\n",
              "      <td>1</td>\n",
              "      <td>0</td>\n",
              "      <td>1</td>\n",
              "      <td>0</td>\n",
              "      <td>1</td>\n",
              "      <td>0</td>\n",
              "      <td>1</td>\n",
              "      <td>0</td>\n",
              "      <td>1</td>\n",
              "      <td>0</td>\n",
              "      <td>1</td>\n",
              "      <td>0</td>\n",
              "      <td>0.553731</td>\n",
              "      <td>0.030233</td>\n",
              "    </tr>\n",
              "    <tr>\n",
              "      <th>0013-EXCHZ</th>\n",
              "      <td>1</td>\n",
              "      <td>3</td>\n",
              "      <td>83.9</td>\n",
              "      <td>267.40</td>\n",
              "      <td>0</td>\n",
              "      <td>1</td>\n",
              "      <td>0</td>\n",
              "      <td>1</td>\n",
              "      <td>1</td>\n",
              "      <td>0</td>\n",
              "      <td>0</td>\n",
              "      <td>1</td>\n",
              "      <td>1</td>\n",
              "      <td>0</td>\n",
              "      <td>1</td>\n",
              "      <td>0</td>\n",
              "      <td>1</td>\n",
              "      <td>0</td>\n",
              "      <td>0</td>\n",
              "      <td>1</td>\n",
              "      <td>0</td>\n",
              "      <td>1</td>\n",
              "      <td>1</td>\n",
              "      <td>0</td>\n",
              "      <td>1</td>\n",
              "      <td>0</td>\n",
              "      <td>1</td>\n",
              "      <td>0</td>\n",
              "      <td>0</td>\n",
              "      <td>1</td>\n",
              "      <td>0.653234</td>\n",
              "      <td>0.028681</td>\n",
              "    </tr>\n",
              "    <tr>\n",
              "      <th>0013-SMEOE</th>\n",
              "      <td>1</td>\n",
              "      <td>71</td>\n",
              "      <td>109.7</td>\n",
              "      <td>7904.25</td>\n",
              "      <td>0</td>\n",
              "      <td>1</td>\n",
              "      <td>0</td>\n",
              "      <td>1</td>\n",
              "      <td>1</td>\n",
              "      <td>0</td>\n",
              "      <td>0</td>\n",
              "      <td>1</td>\n",
              "      <td>0</td>\n",
              "      <td>1</td>\n",
              "      <td>0</td>\n",
              "      <td>1</td>\n",
              "      <td>0</td>\n",
              "      <td>1</td>\n",
              "      <td>0</td>\n",
              "      <td>1</td>\n",
              "      <td>0</td>\n",
              "      <td>1</td>\n",
              "      <td>0</td>\n",
              "      <td>1</td>\n",
              "      <td>0</td>\n",
              "      <td>1</td>\n",
              "      <td>1</td>\n",
              "      <td>1</td>\n",
              "      <td>0</td>\n",
              "      <td>0</td>\n",
              "      <td>0.909950</td>\n",
              "      <td>0.909929</td>\n",
              "    </tr>\n",
              "  </tbody>\n",
              "</table>\n",
              "</div>"
            ],
            "text/plain": [
              "           SeniorCitizen  tenure  ...  MonthlyCharges_minmax  TotalCharges_minmax\n",
              "customerID                        ...                                            \n",
              "0002-ORFBO             0       9  ...               0.471144             0.066288\n",
              "0003-MKNFE             0       9  ...               0.414428             0.060415\n",
              "0004-TLHLJ             0       4  ...               0.553731             0.030233\n",
              "0013-EXCHZ             1       3  ...               0.653234             0.028681\n",
              "0013-SMEOE             1      71  ...               0.909950             0.909929\n",
              "\n",
              "[5 rows x 32 columns]"
            ]
          },
          "metadata": {
            "tags": []
          }
        },
        {
          "output_type": "display_data",
          "data": {
            "text/plain": [
              "'y_traindrop_1'"
            ]
          },
          "metadata": {
            "tags": []
          }
        },
        {
          "output_type": "display_data",
          "data": {
            "text/html": [
              "<div>\n",
              "<style scoped>\n",
              "    .dataframe tbody tr th:only-of-type {\n",
              "        vertical-align: middle;\n",
              "    }\n",
              "\n",
              "    .dataframe tbody tr th {\n",
              "        vertical-align: top;\n",
              "    }\n",
              "\n",
              "    .dataframe thead th {\n",
              "        text-align: right;\n",
              "    }\n",
              "</style>\n",
              "<table border=\"1\" class=\"dataframe\">\n",
              "  <thead>\n",
              "    <tr style=\"text-align: right;\">\n",
              "      <th></th>\n",
              "      <th>Churn</th>\n",
              "    </tr>\n",
              "    <tr>\n",
              "      <th>customerID</th>\n",
              "      <th></th>\n",
              "    </tr>\n",
              "  </thead>\n",
              "  <tbody>\n",
              "    <tr>\n",
              "      <th>0002-ORFBO</th>\n",
              "      <td>No</td>\n",
              "    </tr>\n",
              "    <tr>\n",
              "      <th>0003-MKNFE</th>\n",
              "      <td>No</td>\n",
              "    </tr>\n",
              "    <tr>\n",
              "      <th>0004-TLHLJ</th>\n",
              "      <td>Yes</td>\n",
              "    </tr>\n",
              "    <tr>\n",
              "      <th>0013-EXCHZ</th>\n",
              "      <td>Yes</td>\n",
              "    </tr>\n",
              "    <tr>\n",
              "      <th>0013-SMEOE</th>\n",
              "      <td>No</td>\n",
              "    </tr>\n",
              "  </tbody>\n",
              "</table>\n",
              "</div>"
            ],
            "text/plain": [
              "           Churn\n",
              "customerID      \n",
              "0002-ORFBO    No\n",
              "0003-MKNFE    No\n",
              "0004-TLHLJ   Yes\n",
              "0013-EXCHZ   Yes\n",
              "0013-SMEOE    No"
            ]
          },
          "metadata": {
            "tags": []
          }
        }
      ]
    },
    {
      "cell_type": "markdown",
      "metadata": {
        "id": "EPERyir9TlkV",
        "colab_type": "text"
      },
      "source": [
        "## Cleaned Dataset 2"
      ]
    },
    {
      "cell_type": "code",
      "metadata": {
        "id": "wvM7ey6ETlkV",
        "colab_type": "code",
        "colab": {}
      },
      "source": [
        "train_2, test_2,y_train_2, y_test_2 = train_test_split(X, y, test_size=0.2, random_state = 20)"
      ],
      "execution_count": 0,
      "outputs": []
    },
    {
      "cell_type": "code",
      "metadata": {
        "id": "RGHuKcMCTlkX",
        "colab_type": "code",
        "colab": {}
      },
      "source": [
        "y_traindrop_2 = y_train_2.sort_values(['customerID'])\n",
        "y_testdrop_2 = y_test_2.sort_values(['customerID'])"
      ],
      "execution_count": 0,
      "outputs": []
    },
    {
      "cell_type": "code",
      "metadata": {
        "id": "IA2ElGExTlka",
        "colab_type": "code",
        "outputId": "e4989629-9fb9-41e4-d6e0-453f04e64284",
        "colab": {
          "base_uri": "https://localhost:8080/",
          "height": 654
        }
      },
      "source": [
        "# view the first 5 lines of the data to have a basic idea\n",
        "display('train_2', train_2.head(), 'test_2', test_2.head())"
      ],
      "execution_count": 0,
      "outputs": [
        {
          "output_type": "display_data",
          "data": {
            "text/plain": [
              "'train_2'"
            ]
          },
          "metadata": {
            "tags": []
          }
        },
        {
          "output_type": "display_data",
          "data": {
            "text/html": [
              "<div>\n",
              "<style scoped>\n",
              "    .dataframe tbody tr th:only-of-type {\n",
              "        vertical-align: middle;\n",
              "    }\n",
              "\n",
              "    .dataframe tbody tr th {\n",
              "        vertical-align: top;\n",
              "    }\n",
              "\n",
              "    .dataframe thead th {\n",
              "        text-align: right;\n",
              "    }\n",
              "</style>\n",
              "<table border=\"1\" class=\"dataframe\">\n",
              "  <thead>\n",
              "    <tr style=\"text-align: right;\">\n",
              "      <th></th>\n",
              "      <th>gender</th>\n",
              "      <th>SeniorCitizen</th>\n",
              "      <th>Partner</th>\n",
              "      <th>Dependents</th>\n",
              "      <th>tenure</th>\n",
              "      <th>PhoneService</th>\n",
              "      <th>MultipleLines</th>\n",
              "      <th>InternetService</th>\n",
              "      <th>OnlineSecurity</th>\n",
              "      <th>OnlineBackup</th>\n",
              "      <th>DeviceProtection</th>\n",
              "      <th>TechSupport</th>\n",
              "      <th>StreamingTV</th>\n",
              "      <th>StreamingMovies</th>\n",
              "      <th>Contract</th>\n",
              "      <th>PaperlessBilling</th>\n",
              "      <th>PaymentMethod</th>\n",
              "      <th>MonthlyCharges</th>\n",
              "      <th>TotalCharges</th>\n",
              "    </tr>\n",
              "    <tr>\n",
              "      <th>customerID</th>\n",
              "      <th></th>\n",
              "      <th></th>\n",
              "      <th></th>\n",
              "      <th></th>\n",
              "      <th></th>\n",
              "      <th></th>\n",
              "      <th></th>\n",
              "      <th></th>\n",
              "      <th></th>\n",
              "      <th></th>\n",
              "      <th></th>\n",
              "      <th></th>\n",
              "      <th></th>\n",
              "      <th></th>\n",
              "      <th></th>\n",
              "      <th></th>\n",
              "      <th></th>\n",
              "      <th></th>\n",
              "      <th></th>\n",
              "    </tr>\n",
              "  </thead>\n",
              "  <tbody>\n",
              "    <tr>\n",
              "      <th>5140-FOMCQ</th>\n",
              "      <td>Female</td>\n",
              "      <td>0</td>\n",
              "      <td>Yes</td>\n",
              "      <td>No</td>\n",
              "      <td>59</td>\n",
              "      <td>Yes</td>\n",
              "      <td>Yes</td>\n",
              "      <td>Fiber optic</td>\n",
              "      <td>Yes</td>\n",
              "      <td>Yes</td>\n",
              "      <td>Yes</td>\n",
              "      <td>No</td>\n",
              "      <td>Yes</td>\n",
              "      <td>Yes</td>\n",
              "      <td>One year</td>\n",
              "      <td>Yes</td>\n",
              "      <td>Credit card (automatic)</td>\n",
              "      <td>109.15</td>\n",
              "      <td>6557.75</td>\n",
              "    </tr>\n",
              "    <tr>\n",
              "      <th>8869-TORSS</th>\n",
              "      <td>Female</td>\n",
              "      <td>0</td>\n",
              "      <td>No</td>\n",
              "      <td>No</td>\n",
              "      <td>48</td>\n",
              "      <td>Yes</td>\n",
              "      <td>No</td>\n",
              "      <td>DSL</td>\n",
              "      <td>Yes</td>\n",
              "      <td>No</td>\n",
              "      <td>Yes</td>\n",
              "      <td>Yes</td>\n",
              "      <td>No</td>\n",
              "      <td>No</td>\n",
              "      <td>One year</td>\n",
              "      <td>Yes</td>\n",
              "      <td>Credit card (automatic)</td>\n",
              "      <td>60.35</td>\n",
              "      <td>2896.4</td>\n",
              "    </tr>\n",
              "    <tr>\n",
              "      <th>1583-IHQZE</th>\n",
              "      <td>Male</td>\n",
              "      <td>0</td>\n",
              "      <td>No</td>\n",
              "      <td>No</td>\n",
              "      <td>12</td>\n",
              "      <td>Yes</td>\n",
              "      <td>Yes</td>\n",
              "      <td>Fiber optic</td>\n",
              "      <td>No</td>\n",
              "      <td>Yes</td>\n",
              "      <td>Yes</td>\n",
              "      <td>Yes</td>\n",
              "      <td>Yes</td>\n",
              "      <td>Yes</td>\n",
              "      <td>Month-to-month</td>\n",
              "      <td>Yes</td>\n",
              "      <td>Mailed check</td>\n",
              "      <td>112.95</td>\n",
              "      <td>1384.75</td>\n",
              "    </tr>\n",
              "    <tr>\n",
              "      <th>3957-LXOLK</th>\n",
              "      <td>Female</td>\n",
              "      <td>1</td>\n",
              "      <td>No</td>\n",
              "      <td>No</td>\n",
              "      <td>28</td>\n",
              "      <td>Yes</td>\n",
              "      <td>Yes</td>\n",
              "      <td>Fiber optic</td>\n",
              "      <td>No</td>\n",
              "      <td>Yes</td>\n",
              "      <td>Yes</td>\n",
              "      <td>No</td>\n",
              "      <td>Yes</td>\n",
              "      <td>Yes</td>\n",
              "      <td>Month-to-month</td>\n",
              "      <td>Yes</td>\n",
              "      <td>Electronic check</td>\n",
              "      <td>106.15</td>\n",
              "      <td>3152.5</td>\n",
              "    </tr>\n",
              "    <tr>\n",
              "      <th>2933-FILNV</th>\n",
              "      <td>Female</td>\n",
              "      <td>0</td>\n",
              "      <td>Yes</td>\n",
              "      <td>Yes</td>\n",
              "      <td>2</td>\n",
              "      <td>No</td>\n",
              "      <td>No phone service</td>\n",
              "      <td>DSL</td>\n",
              "      <td>No</td>\n",
              "      <td>No</td>\n",
              "      <td>No</td>\n",
              "      <td>No</td>\n",
              "      <td>No</td>\n",
              "      <td>No</td>\n",
              "      <td>Month-to-month</td>\n",
              "      <td>Yes</td>\n",
              "      <td>Mailed check</td>\n",
              "      <td>24.40</td>\n",
              "      <td>36.55</td>\n",
              "    </tr>\n",
              "  </tbody>\n",
              "</table>\n",
              "</div>"
            ],
            "text/plain": [
              "            gender  SeniorCitizen  ... MonthlyCharges TotalCharges\n",
              "customerID                         ...                            \n",
              "5140-FOMCQ  Female              0  ...         109.15      6557.75\n",
              "8869-TORSS  Female              0  ...          60.35       2896.4\n",
              "1583-IHQZE    Male              0  ...         112.95      1384.75\n",
              "3957-LXOLK  Female              1  ...         106.15       3152.5\n",
              "2933-FILNV  Female              0  ...          24.40        36.55\n",
              "\n",
              "[5 rows x 19 columns]"
            ]
          },
          "metadata": {
            "tags": []
          }
        },
        {
          "output_type": "display_data",
          "data": {
            "text/plain": [
              "'test_2'"
            ]
          },
          "metadata": {
            "tags": []
          }
        },
        {
          "output_type": "display_data",
          "data": {
            "text/html": [
              "<div>\n",
              "<style scoped>\n",
              "    .dataframe tbody tr th:only-of-type {\n",
              "        vertical-align: middle;\n",
              "    }\n",
              "\n",
              "    .dataframe tbody tr th {\n",
              "        vertical-align: top;\n",
              "    }\n",
              "\n",
              "    .dataframe thead th {\n",
              "        text-align: right;\n",
              "    }\n",
              "</style>\n",
              "<table border=\"1\" class=\"dataframe\">\n",
              "  <thead>\n",
              "    <tr style=\"text-align: right;\">\n",
              "      <th></th>\n",
              "      <th>gender</th>\n",
              "      <th>SeniorCitizen</th>\n",
              "      <th>Partner</th>\n",
              "      <th>Dependents</th>\n",
              "      <th>tenure</th>\n",
              "      <th>PhoneService</th>\n",
              "      <th>MultipleLines</th>\n",
              "      <th>InternetService</th>\n",
              "      <th>OnlineSecurity</th>\n",
              "      <th>OnlineBackup</th>\n",
              "      <th>DeviceProtection</th>\n",
              "      <th>TechSupport</th>\n",
              "      <th>StreamingTV</th>\n",
              "      <th>StreamingMovies</th>\n",
              "      <th>Contract</th>\n",
              "      <th>PaperlessBilling</th>\n",
              "      <th>PaymentMethod</th>\n",
              "      <th>MonthlyCharges</th>\n",
              "      <th>TotalCharges</th>\n",
              "    </tr>\n",
              "    <tr>\n",
              "      <th>customerID</th>\n",
              "      <th></th>\n",
              "      <th></th>\n",
              "      <th></th>\n",
              "      <th></th>\n",
              "      <th></th>\n",
              "      <th></th>\n",
              "      <th></th>\n",
              "      <th></th>\n",
              "      <th></th>\n",
              "      <th></th>\n",
              "      <th></th>\n",
              "      <th></th>\n",
              "      <th></th>\n",
              "      <th></th>\n",
              "      <th></th>\n",
              "      <th></th>\n",
              "      <th></th>\n",
              "      <th></th>\n",
              "      <th></th>\n",
              "    </tr>\n",
              "  </thead>\n",
              "  <tbody>\n",
              "    <tr>\n",
              "      <th>6061-PQHMK</th>\n",
              "      <td>Female</td>\n",
              "      <td>0</td>\n",
              "      <td>No</td>\n",
              "      <td>No</td>\n",
              "      <td>25</td>\n",
              "      <td>Yes</td>\n",
              "      <td>No</td>\n",
              "      <td>No</td>\n",
              "      <td>No internet service</td>\n",
              "      <td>No internet service</td>\n",
              "      <td>No internet service</td>\n",
              "      <td>No internet service</td>\n",
              "      <td>No internet service</td>\n",
              "      <td>No internet service</td>\n",
              "      <td>One year</td>\n",
              "      <td>No</td>\n",
              "      <td>Credit card (automatic)</td>\n",
              "      <td>19.90</td>\n",
              "      <td>527.5</td>\n",
              "    </tr>\n",
              "    <tr>\n",
              "      <th>9880-TDQAC</th>\n",
              "      <td>Female</td>\n",
              "      <td>0</td>\n",
              "      <td>Yes</td>\n",
              "      <td>Yes</td>\n",
              "      <td>72</td>\n",
              "      <td>No</td>\n",
              "      <td>No phone service</td>\n",
              "      <td>DSL</td>\n",
              "      <td>No</td>\n",
              "      <td>Yes</td>\n",
              "      <td>Yes</td>\n",
              "      <td>Yes</td>\n",
              "      <td>Yes</td>\n",
              "      <td>Yes</td>\n",
              "      <td>Two year</td>\n",
              "      <td>Yes</td>\n",
              "      <td>Electronic check</td>\n",
              "      <td>60.00</td>\n",
              "      <td>4264</td>\n",
              "    </tr>\n",
              "    <tr>\n",
              "      <th>9626-VFRGG</th>\n",
              "      <td>Female</td>\n",
              "      <td>0</td>\n",
              "      <td>No</td>\n",
              "      <td>Yes</td>\n",
              "      <td>41</td>\n",
              "      <td>Yes</td>\n",
              "      <td>Yes</td>\n",
              "      <td>Fiber optic</td>\n",
              "      <td>No</td>\n",
              "      <td>Yes</td>\n",
              "      <td>No</td>\n",
              "      <td>No</td>\n",
              "      <td>Yes</td>\n",
              "      <td>No</td>\n",
              "      <td>Month-to-month</td>\n",
              "      <td>Yes</td>\n",
              "      <td>Bank transfer (automatic)</td>\n",
              "      <td>88.50</td>\n",
              "      <td>3645.05</td>\n",
              "    </tr>\n",
              "    <tr>\n",
              "      <th>2642-MAWLJ</th>\n",
              "      <td>Female</td>\n",
              "      <td>0</td>\n",
              "      <td>Yes</td>\n",
              "      <td>Yes</td>\n",
              "      <td>36</td>\n",
              "      <td>Yes</td>\n",
              "      <td>No</td>\n",
              "      <td>No</td>\n",
              "      <td>No internet service</td>\n",
              "      <td>No internet service</td>\n",
              "      <td>No internet service</td>\n",
              "      <td>No internet service</td>\n",
              "      <td>No internet service</td>\n",
              "      <td>No internet service</td>\n",
              "      <td>Two year</td>\n",
              "      <td>No</td>\n",
              "      <td>Bank transfer (automatic)</td>\n",
              "      <td>20.25</td>\n",
              "      <td>717.95</td>\n",
              "    </tr>\n",
              "    <tr>\n",
              "      <th>6311-UEUME</th>\n",
              "      <td>Female</td>\n",
              "      <td>0</td>\n",
              "      <td>No</td>\n",
              "      <td>No</td>\n",
              "      <td>29</td>\n",
              "      <td>Yes</td>\n",
              "      <td>No</td>\n",
              "      <td>Fiber optic</td>\n",
              "      <td>No</td>\n",
              "      <td>No</td>\n",
              "      <td>No</td>\n",
              "      <td>No</td>\n",
              "      <td>Yes</td>\n",
              "      <td>No</td>\n",
              "      <td>Month-to-month</td>\n",
              "      <td>Yes</td>\n",
              "      <td>Electronic check</td>\n",
              "      <td>78.90</td>\n",
              "      <td>2384.15</td>\n",
              "    </tr>\n",
              "  </tbody>\n",
              "</table>\n",
              "</div>"
            ],
            "text/plain": [
              "            gender  SeniorCitizen  ... MonthlyCharges TotalCharges\n",
              "customerID                         ...                            \n",
              "6061-PQHMK  Female              0  ...          19.90        527.5\n",
              "9880-TDQAC  Female              0  ...          60.00         4264\n",
              "9626-VFRGG  Female              0  ...          88.50      3645.05\n",
              "2642-MAWLJ  Female              0  ...          20.25       717.95\n",
              "6311-UEUME  Female              0  ...          78.90      2384.15\n",
              "\n",
              "[5 rows x 19 columns]"
            ]
          },
          "metadata": {
            "tags": []
          }
        }
      ]
    },
    {
      "cell_type": "code",
      "metadata": {
        "id": "RaMQZA6UTlkf",
        "colab_type": "code",
        "outputId": "36debca7-073f-40a5-ad2f-e3a700e9b5f7",
        "colab": {
          "base_uri": "https://localhost:8080/",
          "height": 890
        }
      },
      "source": [
        "# retrieve information of the datasets\n",
        "train_2.info()\n",
        "test_2.info()"
      ],
      "execution_count": 0,
      "outputs": [
        {
          "output_type": "stream",
          "text": [
            "<class 'pandas.core.frame.DataFrame'>\n",
            "Index: 5634 entries, 5140-FOMCQ to 0661-KBKPA\n",
            "Data columns (total 19 columns):\n",
            " #   Column            Non-Null Count  Dtype  \n",
            "---  ------            --------------  -----  \n",
            " 0   gender            5634 non-null   object \n",
            " 1   SeniorCitizen     5634 non-null   int64  \n",
            " 2   Partner           5634 non-null   object \n",
            " 3   Dependents        5634 non-null   object \n",
            " 4   tenure            5634 non-null   int64  \n",
            " 5   PhoneService      5634 non-null   object \n",
            " 6   MultipleLines     5634 non-null   object \n",
            " 7   InternetService   5634 non-null   object \n",
            " 8   OnlineSecurity    5634 non-null   object \n",
            " 9   OnlineBackup      5634 non-null   object \n",
            " 10  DeviceProtection  5634 non-null   object \n",
            " 11  TechSupport       5634 non-null   object \n",
            " 12  StreamingTV       5634 non-null   object \n",
            " 13  StreamingMovies   5634 non-null   object \n",
            " 14  Contract          5634 non-null   object \n",
            " 15  PaperlessBilling  5634 non-null   object \n",
            " 16  PaymentMethod     5634 non-null   object \n",
            " 17  MonthlyCharges    5634 non-null   float64\n",
            " 18  TotalCharges      5634 non-null   object \n",
            "dtypes: float64(1), int64(2), object(16)\n",
            "memory usage: 880.3+ KB\n",
            "<class 'pandas.core.frame.DataFrame'>\n",
            "Index: 1409 entries, 6061-PQHMK to 1169-WCVAK\n",
            "Data columns (total 19 columns):\n",
            " #   Column            Non-Null Count  Dtype  \n",
            "---  ------            --------------  -----  \n",
            " 0   gender            1409 non-null   object \n",
            " 1   SeniorCitizen     1409 non-null   int64  \n",
            " 2   Partner           1409 non-null   object \n",
            " 3   Dependents        1409 non-null   object \n",
            " 4   tenure            1409 non-null   int64  \n",
            " 5   PhoneService      1409 non-null   object \n",
            " 6   MultipleLines     1409 non-null   object \n",
            " 7   InternetService   1409 non-null   object \n",
            " 8   OnlineSecurity    1409 non-null   object \n",
            " 9   OnlineBackup      1409 non-null   object \n",
            " 10  DeviceProtection  1409 non-null   object \n",
            " 11  TechSupport       1409 non-null   object \n",
            " 12  StreamingTV       1409 non-null   object \n",
            " 13  StreamingMovies   1409 non-null   object \n",
            " 14  Contract          1409 non-null   object \n",
            " 15  PaperlessBilling  1409 non-null   object \n",
            " 16  PaymentMethod     1409 non-null   object \n",
            " 17  MonthlyCharges    1409 non-null   float64\n",
            " 18  TotalCharges      1409 non-null   object \n",
            "dtypes: float64(1), int64(2), object(16)\n",
            "memory usage: 220.2+ KB\n"
          ],
          "name": "stdout"
        }
      ]
    },
    {
      "cell_type": "markdown",
      "metadata": {
        "id": "54v30-JeTlki",
        "colab_type": "text"
      },
      "source": [
        "## Change the data type"
      ]
    },
    {
      "cell_type": "code",
      "metadata": {
        "id": "cUYM2Y4oTlkj",
        "colab_type": "code",
        "outputId": "9983c9fd-c3ad-4745-a794-2b10a09c55be",
        "colab": {
          "base_uri": "https://localhost:8080/"
        }
      },
      "source": [
        "# to view the information of numerical variables in training and testing set\n",
        "display('train_2', train_2.describe(), 'test_2', test_2.describe())"
      ],
      "execution_count": 0,
      "outputs": [
        {
          "output_type": "display_data",
          "data": {
            "text/plain": [
              "'train_2'"
            ]
          },
          "metadata": {
            "tags": []
          }
        },
        {
          "output_type": "display_data",
          "data": {
            "text/html": [
              "<div>\n",
              "<style scoped>\n",
              "    .dataframe tbody tr th:only-of-type {\n",
              "        vertical-align: middle;\n",
              "    }\n",
              "\n",
              "    .dataframe tbody tr th {\n",
              "        vertical-align: top;\n",
              "    }\n",
              "\n",
              "    .dataframe thead th {\n",
              "        text-align: right;\n",
              "    }\n",
              "</style>\n",
              "<table border=\"1\" class=\"dataframe\">\n",
              "  <thead>\n",
              "    <tr style=\"text-align: right;\">\n",
              "      <th></th>\n",
              "      <th>SeniorCitizen</th>\n",
              "      <th>tenure</th>\n",
              "      <th>MonthlyCharges</th>\n",
              "    </tr>\n",
              "  </thead>\n",
              "  <tbody>\n",
              "    <tr>\n",
              "      <th>count</th>\n",
              "      <td>5634.000000</td>\n",
              "      <td>5634.000000</td>\n",
              "      <td>5634.000000</td>\n",
              "    </tr>\n",
              "    <tr>\n",
              "      <th>mean</th>\n",
              "      <td>0.161164</td>\n",
              "      <td>32.228612</td>\n",
              "      <td>64.859878</td>\n",
              "    </tr>\n",
              "    <tr>\n",
              "      <th>std</th>\n",
              "      <td>0.367715</td>\n",
              "      <td>24.518091</td>\n",
              "      <td>30.112232</td>\n",
              "    </tr>\n",
              "    <tr>\n",
              "      <th>min</th>\n",
              "      <td>0.000000</td>\n",
              "      <td>0.000000</td>\n",
              "      <td>18.250000</td>\n",
              "    </tr>\n",
              "    <tr>\n",
              "      <th>25%</th>\n",
              "      <td>0.000000</td>\n",
              "      <td>9.000000</td>\n",
              "      <td>35.562500</td>\n",
              "    </tr>\n",
              "    <tr>\n",
              "      <th>50%</th>\n",
              "      <td>0.000000</td>\n",
              "      <td>29.000000</td>\n",
              "      <td>70.425000</td>\n",
              "    </tr>\n",
              "    <tr>\n",
              "      <th>75%</th>\n",
              "      <td>0.000000</td>\n",
              "      <td>55.000000</td>\n",
              "      <td>90.000000</td>\n",
              "    </tr>\n",
              "    <tr>\n",
              "      <th>max</th>\n",
              "      <td>1.000000</td>\n",
              "      <td>72.000000</td>\n",
              "      <td>118.750000</td>\n",
              "    </tr>\n",
              "  </tbody>\n",
              "</table>\n",
              "</div>"
            ],
            "text/plain": [
              "       SeniorCitizen       tenure  MonthlyCharges\n",
              "count    5634.000000  5634.000000     5634.000000\n",
              "mean        0.161164    32.228612       64.859878\n",
              "std         0.367715    24.518091       30.112232\n",
              "min         0.000000     0.000000       18.250000\n",
              "25%         0.000000     9.000000       35.562500\n",
              "50%         0.000000    29.000000       70.425000\n",
              "75%         0.000000    55.000000       90.000000\n",
              "max         1.000000    72.000000      118.750000"
            ]
          },
          "metadata": {
            "tags": []
          }
        },
        {
          "output_type": "display_data",
          "data": {
            "text/plain": [
              "'test_2'"
            ]
          },
          "metadata": {
            "tags": []
          }
        },
        {
          "output_type": "display_data",
          "data": {
            "text/html": [
              "<div>\n",
              "<style scoped>\n",
              "    .dataframe tbody tr th:only-of-type {\n",
              "        vertical-align: middle;\n",
              "    }\n",
              "\n",
              "    .dataframe tbody tr th {\n",
              "        vertical-align: top;\n",
              "    }\n",
              "\n",
              "    .dataframe thead th {\n",
              "        text-align: right;\n",
              "    }\n",
              "</style>\n",
              "<table border=\"1\" class=\"dataframe\">\n",
              "  <thead>\n",
              "    <tr style=\"text-align: right;\">\n",
              "      <th></th>\n",
              "      <th>SeniorCitizen</th>\n",
              "      <th>tenure</th>\n",
              "      <th>MonthlyCharges</th>\n",
              "    </tr>\n",
              "  </thead>\n",
              "  <tbody>\n",
              "    <tr>\n",
              "      <th>count</th>\n",
              "      <td>1409.000000</td>\n",
              "      <td>1409.000000</td>\n",
              "      <td>1409.000000</td>\n",
              "    </tr>\n",
              "    <tr>\n",
              "      <th>mean</th>\n",
              "      <td>0.166075</td>\n",
              "      <td>32.941093</td>\n",
              "      <td>64.369092</td>\n",
              "    </tr>\n",
              "    <tr>\n",
              "      <th>std</th>\n",
              "      <td>0.372280</td>\n",
              "      <td>24.724822</td>\n",
              "      <td>30.008631</td>\n",
              "    </tr>\n",
              "    <tr>\n",
              "      <th>min</th>\n",
              "      <td>0.000000</td>\n",
              "      <td>1.000000</td>\n",
              "      <td>18.800000</td>\n",
              "    </tr>\n",
              "    <tr>\n",
              "      <th>25%</th>\n",
              "      <td>0.000000</td>\n",
              "      <td>9.000000</td>\n",
              "      <td>35.000000</td>\n",
              "    </tr>\n",
              "    <tr>\n",
              "      <th>50%</th>\n",
              "      <td>0.000000</td>\n",
              "      <td>30.000000</td>\n",
              "      <td>70.100000</td>\n",
              "    </tr>\n",
              "    <tr>\n",
              "      <th>75%</th>\n",
              "      <td>0.000000</td>\n",
              "      <td>56.000000</td>\n",
              "      <td>89.300000</td>\n",
              "    </tr>\n",
              "    <tr>\n",
              "      <th>max</th>\n",
              "      <td>1.000000</td>\n",
              "      <td>72.000000</td>\n",
              "      <td>117.600000</td>\n",
              "    </tr>\n",
              "  </tbody>\n",
              "</table>\n",
              "</div>"
            ],
            "text/plain": [
              "       SeniorCitizen       tenure  MonthlyCharges\n",
              "count    1409.000000  1409.000000     1409.000000\n",
              "mean        0.166075    32.941093       64.369092\n",
              "std         0.372280    24.724822       30.008631\n",
              "min         0.000000     1.000000       18.800000\n",
              "25%         0.000000     9.000000       35.000000\n",
              "50%         0.000000    30.000000       70.100000\n",
              "75%         0.000000    56.000000       89.300000\n",
              "max         1.000000    72.000000      117.600000"
            ]
          },
          "metadata": {
            "tags": []
          }
        }
      ]
    },
    {
      "cell_type": "code",
      "metadata": {
        "id": "FESXz2goTlkm",
        "colab_type": "code",
        "colab": {}
      },
      "source": [
        "# Change data type for 'SeniorCitizen' from numeric to categorical\n",
        "train_2.loc[:, 'SeniorCitizen'] = train_2.loc[:, 'SeniorCitizen'].astype(str)\n",
        "test_2.loc[:, 'SeniorCitizen'] = test_2.loc[:, 'SeniorCitizen'].astype(str)"
      ],
      "execution_count": 0,
      "outputs": []
    },
    {
      "cell_type": "code",
      "metadata": {
        "id": "eC3yt4ylTlko",
        "colab_type": "code",
        "colab": {}
      },
      "source": [
        "# Change data type for 'TotalCharges' from categorical to numeric\n",
        "train_2.loc[:, 'TotalCharges'] = pd.to_numeric(train_2.loc[:, 'TotalCharges'], errors='coerce')\n",
        "test_2.loc[:, 'TotalCharges'] = pd.to_numeric(test_2.loc[:, 'TotalCharges'], errors='coerce')"
      ],
      "execution_count": 0,
      "outputs": []
    },
    {
      "cell_type": "code",
      "metadata": {
        "id": "tP5xY3n4Tlkr",
        "colab_type": "code",
        "outputId": "4a979b3e-a92c-40b4-f867-ac8558a51dc9",
        "colab": {
          "base_uri": "https://localhost:8080/"
        }
      },
      "source": [
        "# check if data type is changed correctly\n",
        "train_2.info()\n",
        "test_2.info()"
      ],
      "execution_count": 0,
      "outputs": [
        {
          "output_type": "stream",
          "text": [
            "<class 'pandas.core.frame.DataFrame'>\n",
            "Index: 5634 entries, 5140-FOMCQ to 0661-KBKPA\n",
            "Data columns (total 19 columns):\n",
            " #   Column            Non-Null Count  Dtype  \n",
            "---  ------            --------------  -----  \n",
            " 0   gender            5634 non-null   object \n",
            " 1   SeniorCitizen     5634 non-null   object \n",
            " 2   Partner           5634 non-null   object \n",
            " 3   Dependents        5634 non-null   object \n",
            " 4   tenure            5634 non-null   int64  \n",
            " 5   PhoneService      5634 non-null   object \n",
            " 6   MultipleLines     5634 non-null   object \n",
            " 7   InternetService   5634 non-null   object \n",
            " 8   OnlineSecurity    5634 non-null   object \n",
            " 9   OnlineBackup      5634 non-null   object \n",
            " 10  DeviceProtection  5634 non-null   object \n",
            " 11  TechSupport       5634 non-null   object \n",
            " 12  StreamingTV       5634 non-null   object \n",
            " 13  StreamingMovies   5634 non-null   object \n",
            " 14  Contract          5634 non-null   object \n",
            " 15  PaperlessBilling  5634 non-null   object \n",
            " 16  PaymentMethod     5634 non-null   object \n",
            " 17  MonthlyCharges    5634 non-null   float64\n",
            " 18  TotalCharges      5623 non-null   float64\n",
            "dtypes: float64(2), int64(1), object(16)\n",
            "memory usage: 880.3+ KB\n",
            "<class 'pandas.core.frame.DataFrame'>\n",
            "Index: 1409 entries, 6061-PQHMK to 1169-WCVAK\n",
            "Data columns (total 19 columns):\n",
            " #   Column            Non-Null Count  Dtype  \n",
            "---  ------            --------------  -----  \n",
            " 0   gender            1409 non-null   object \n",
            " 1   SeniorCitizen     1409 non-null   object \n",
            " 2   Partner           1409 non-null   object \n",
            " 3   Dependents        1409 non-null   object \n",
            " 4   tenure            1409 non-null   int64  \n",
            " 5   PhoneService      1409 non-null   object \n",
            " 6   MultipleLines     1409 non-null   object \n",
            " 7   InternetService   1409 non-null   object \n",
            " 8   OnlineSecurity    1409 non-null   object \n",
            " 9   OnlineBackup      1409 non-null   object \n",
            " 10  DeviceProtection  1409 non-null   object \n",
            " 11  TechSupport       1409 non-null   object \n",
            " 12  StreamingTV       1409 non-null   object \n",
            " 13  StreamingMovies   1409 non-null   object \n",
            " 14  Contract          1409 non-null   object \n",
            " 15  PaperlessBilling  1409 non-null   object \n",
            " 16  PaymentMethod     1409 non-null   object \n",
            " 17  MonthlyCharges    1409 non-null   float64\n",
            " 18  TotalCharges      1409 non-null   float64\n",
            "dtypes: float64(2), int64(1), object(16)\n",
            "memory usage: 220.2+ KB\n"
          ],
          "name": "stdout"
        }
      ]
    },
    {
      "cell_type": "markdown",
      "metadata": {
        "id": "ze_lZJyCTlkv",
        "colab_type": "text"
      },
      "source": [
        "## Handle missing values"
      ]
    },
    {
      "cell_type": "code",
      "metadata": {
        "id": "rpgIjv4RTlkw",
        "colab_type": "code",
        "outputId": "96f1a112-f077-44a3-8d82-d8820c1819dc",
        "colab": {
          "base_uri": "https://localhost:8080/"
        }
      },
      "source": [
        "#Show missing values for 'TotalCharges' \n",
        "display('train_2', train_2[train_2['TotalCharges'].isnull()], 'test_2', test_2[test_2['TotalCharges'].isnull()])"
      ],
      "execution_count": 0,
      "outputs": [
        {
          "output_type": "display_data",
          "data": {
            "text/plain": [
              "'train_2'"
            ]
          },
          "metadata": {
            "tags": []
          }
        },
        {
          "output_type": "display_data",
          "data": {
            "text/html": [
              "<div>\n",
              "<style scoped>\n",
              "    .dataframe tbody tr th:only-of-type {\n",
              "        vertical-align: middle;\n",
              "    }\n",
              "\n",
              "    .dataframe tbody tr th {\n",
              "        vertical-align: top;\n",
              "    }\n",
              "\n",
              "    .dataframe thead th {\n",
              "        text-align: right;\n",
              "    }\n",
              "</style>\n",
              "<table border=\"1\" class=\"dataframe\">\n",
              "  <thead>\n",
              "    <tr style=\"text-align: right;\">\n",
              "      <th></th>\n",
              "      <th>gender</th>\n",
              "      <th>SeniorCitizen</th>\n",
              "      <th>Partner</th>\n",
              "      <th>Dependents</th>\n",
              "      <th>tenure</th>\n",
              "      <th>PhoneService</th>\n",
              "      <th>MultipleLines</th>\n",
              "      <th>InternetService</th>\n",
              "      <th>OnlineSecurity</th>\n",
              "      <th>OnlineBackup</th>\n",
              "      <th>DeviceProtection</th>\n",
              "      <th>TechSupport</th>\n",
              "      <th>StreamingTV</th>\n",
              "      <th>StreamingMovies</th>\n",
              "      <th>Contract</th>\n",
              "      <th>PaperlessBilling</th>\n",
              "      <th>PaymentMethod</th>\n",
              "      <th>MonthlyCharges</th>\n",
              "      <th>TotalCharges</th>\n",
              "    </tr>\n",
              "    <tr>\n",
              "      <th>customerID</th>\n",
              "      <th></th>\n",
              "      <th></th>\n",
              "      <th></th>\n",
              "      <th></th>\n",
              "      <th></th>\n",
              "      <th></th>\n",
              "      <th></th>\n",
              "      <th></th>\n",
              "      <th></th>\n",
              "      <th></th>\n",
              "      <th></th>\n",
              "      <th></th>\n",
              "      <th></th>\n",
              "      <th></th>\n",
              "      <th></th>\n",
              "      <th></th>\n",
              "      <th></th>\n",
              "      <th></th>\n",
              "      <th></th>\n",
              "    </tr>\n",
              "  </thead>\n",
              "  <tbody>\n",
              "    <tr>\n",
              "      <th>2775-SEFEE</th>\n",
              "      <td>Male</td>\n",
              "      <td>0</td>\n",
              "      <td>No</td>\n",
              "      <td>Yes</td>\n",
              "      <td>0</td>\n",
              "      <td>Yes</td>\n",
              "      <td>Yes</td>\n",
              "      <td>DSL</td>\n",
              "      <td>Yes</td>\n",
              "      <td>Yes</td>\n",
              "      <td>No</td>\n",
              "      <td>Yes</td>\n",
              "      <td>No</td>\n",
              "      <td>No</td>\n",
              "      <td>Two year</td>\n",
              "      <td>Yes</td>\n",
              "      <td>Bank transfer (automatic)</td>\n",
              "      <td>61.90</td>\n",
              "      <td>NaN</td>\n",
              "    </tr>\n",
              "    <tr>\n",
              "      <th>4367-NUYAO</th>\n",
              "      <td>Male</td>\n",
              "      <td>0</td>\n",
              "      <td>Yes</td>\n",
              "      <td>Yes</td>\n",
              "      <td>0</td>\n",
              "      <td>Yes</td>\n",
              "      <td>Yes</td>\n",
              "      <td>No</td>\n",
              "      <td>No internet service</td>\n",
              "      <td>No internet service</td>\n",
              "      <td>No internet service</td>\n",
              "      <td>No internet service</td>\n",
              "      <td>No internet service</td>\n",
              "      <td>No internet service</td>\n",
              "      <td>Two year</td>\n",
              "      <td>No</td>\n",
              "      <td>Mailed check</td>\n",
              "      <td>25.75</td>\n",
              "      <td>NaN</td>\n",
              "    </tr>\n",
              "    <tr>\n",
              "      <th>2923-ARZLG</th>\n",
              "      <td>Male</td>\n",
              "      <td>0</td>\n",
              "      <td>Yes</td>\n",
              "      <td>Yes</td>\n",
              "      <td>0</td>\n",
              "      <td>Yes</td>\n",
              "      <td>No</td>\n",
              "      <td>No</td>\n",
              "      <td>No internet service</td>\n",
              "      <td>No internet service</td>\n",
              "      <td>No internet service</td>\n",
              "      <td>No internet service</td>\n",
              "      <td>No internet service</td>\n",
              "      <td>No internet service</td>\n",
              "      <td>One year</td>\n",
              "      <td>Yes</td>\n",
              "      <td>Mailed check</td>\n",
              "      <td>19.70</td>\n",
              "      <td>NaN</td>\n",
              "    </tr>\n",
              "    <tr>\n",
              "      <th>1371-DWPAZ</th>\n",
              "      <td>Female</td>\n",
              "      <td>0</td>\n",
              "      <td>Yes</td>\n",
              "      <td>Yes</td>\n",
              "      <td>0</td>\n",
              "      <td>No</td>\n",
              "      <td>No phone service</td>\n",
              "      <td>DSL</td>\n",
              "      <td>Yes</td>\n",
              "      <td>Yes</td>\n",
              "      <td>Yes</td>\n",
              "      <td>Yes</td>\n",
              "      <td>Yes</td>\n",
              "      <td>No</td>\n",
              "      <td>Two year</td>\n",
              "      <td>No</td>\n",
              "      <td>Credit card (automatic)</td>\n",
              "      <td>56.05</td>\n",
              "      <td>NaN</td>\n",
              "    </tr>\n",
              "    <tr>\n",
              "      <th>3115-CZMZD</th>\n",
              "      <td>Male</td>\n",
              "      <td>0</td>\n",
              "      <td>No</td>\n",
              "      <td>Yes</td>\n",
              "      <td>0</td>\n",
              "      <td>Yes</td>\n",
              "      <td>No</td>\n",
              "      <td>No</td>\n",
              "      <td>No internet service</td>\n",
              "      <td>No internet service</td>\n",
              "      <td>No internet service</td>\n",
              "      <td>No internet service</td>\n",
              "      <td>No internet service</td>\n",
              "      <td>No internet service</td>\n",
              "      <td>Two year</td>\n",
              "      <td>No</td>\n",
              "      <td>Mailed check</td>\n",
              "      <td>20.25</td>\n",
              "      <td>NaN</td>\n",
              "    </tr>\n",
              "    <tr>\n",
              "      <th>5709-LVOEQ</th>\n",
              "      <td>Female</td>\n",
              "      <td>0</td>\n",
              "      <td>Yes</td>\n",
              "      <td>Yes</td>\n",
              "      <td>0</td>\n",
              "      <td>Yes</td>\n",
              "      <td>No</td>\n",
              "      <td>DSL</td>\n",
              "      <td>Yes</td>\n",
              "      <td>Yes</td>\n",
              "      <td>Yes</td>\n",
              "      <td>No</td>\n",
              "      <td>Yes</td>\n",
              "      <td>Yes</td>\n",
              "      <td>Two year</td>\n",
              "      <td>No</td>\n",
              "      <td>Mailed check</td>\n",
              "      <td>80.85</td>\n",
              "      <td>NaN</td>\n",
              "    </tr>\n",
              "    <tr>\n",
              "      <th>7644-OMVMY</th>\n",
              "      <td>Male</td>\n",
              "      <td>0</td>\n",
              "      <td>Yes</td>\n",
              "      <td>Yes</td>\n",
              "      <td>0</td>\n",
              "      <td>Yes</td>\n",
              "      <td>No</td>\n",
              "      <td>No</td>\n",
              "      <td>No internet service</td>\n",
              "      <td>No internet service</td>\n",
              "      <td>No internet service</td>\n",
              "      <td>No internet service</td>\n",
              "      <td>No internet service</td>\n",
              "      <td>No internet service</td>\n",
              "      <td>Two year</td>\n",
              "      <td>No</td>\n",
              "      <td>Mailed check</td>\n",
              "      <td>19.85</td>\n",
              "      <td>NaN</td>\n",
              "    </tr>\n",
              "    <tr>\n",
              "      <th>3213-VVOLG</th>\n",
              "      <td>Male</td>\n",
              "      <td>0</td>\n",
              "      <td>Yes</td>\n",
              "      <td>Yes</td>\n",
              "      <td>0</td>\n",
              "      <td>Yes</td>\n",
              "      <td>Yes</td>\n",
              "      <td>No</td>\n",
              "      <td>No internet service</td>\n",
              "      <td>No internet service</td>\n",
              "      <td>No internet service</td>\n",
              "      <td>No internet service</td>\n",
              "      <td>No internet service</td>\n",
              "      <td>No internet service</td>\n",
              "      <td>Two year</td>\n",
              "      <td>No</td>\n",
              "      <td>Mailed check</td>\n",
              "      <td>25.35</td>\n",
              "      <td>NaN</td>\n",
              "    </tr>\n",
              "    <tr>\n",
              "      <th>4472-LVYGI</th>\n",
              "      <td>Female</td>\n",
              "      <td>0</td>\n",
              "      <td>Yes</td>\n",
              "      <td>Yes</td>\n",
              "      <td>0</td>\n",
              "      <td>No</td>\n",
              "      <td>No phone service</td>\n",
              "      <td>DSL</td>\n",
              "      <td>Yes</td>\n",
              "      <td>No</td>\n",
              "      <td>Yes</td>\n",
              "      <td>Yes</td>\n",
              "      <td>Yes</td>\n",
              "      <td>No</td>\n",
              "      <td>Two year</td>\n",
              "      <td>Yes</td>\n",
              "      <td>Bank transfer (automatic)</td>\n",
              "      <td>52.55</td>\n",
              "      <td>NaN</td>\n",
              "    </tr>\n",
              "    <tr>\n",
              "      <th>2520-SGTTA</th>\n",
              "      <td>Female</td>\n",
              "      <td>0</td>\n",
              "      <td>Yes</td>\n",
              "      <td>Yes</td>\n",
              "      <td>0</td>\n",
              "      <td>Yes</td>\n",
              "      <td>No</td>\n",
              "      <td>No</td>\n",
              "      <td>No internet service</td>\n",
              "      <td>No internet service</td>\n",
              "      <td>No internet service</td>\n",
              "      <td>No internet service</td>\n",
              "      <td>No internet service</td>\n",
              "      <td>No internet service</td>\n",
              "      <td>Two year</td>\n",
              "      <td>No</td>\n",
              "      <td>Mailed check</td>\n",
              "      <td>20.00</td>\n",
              "      <td>NaN</td>\n",
              "    </tr>\n",
              "    <tr>\n",
              "      <th>4075-WKNIU</th>\n",
              "      <td>Female</td>\n",
              "      <td>0</td>\n",
              "      <td>Yes</td>\n",
              "      <td>Yes</td>\n",
              "      <td>0</td>\n",
              "      <td>Yes</td>\n",
              "      <td>Yes</td>\n",
              "      <td>DSL</td>\n",
              "      <td>No</td>\n",
              "      <td>Yes</td>\n",
              "      <td>Yes</td>\n",
              "      <td>Yes</td>\n",
              "      <td>Yes</td>\n",
              "      <td>No</td>\n",
              "      <td>Two year</td>\n",
              "      <td>No</td>\n",
              "      <td>Mailed check</td>\n",
              "      <td>73.35</td>\n",
              "      <td>NaN</td>\n",
              "    </tr>\n",
              "  </tbody>\n",
              "</table>\n",
              "</div>"
            ],
            "text/plain": [
              "            gender SeniorCitizen  ... MonthlyCharges TotalCharges\n",
              "customerID                        ...                            \n",
              "2775-SEFEE    Male             0  ...          61.90          NaN\n",
              "4367-NUYAO    Male             0  ...          25.75          NaN\n",
              "2923-ARZLG    Male             0  ...          19.70          NaN\n",
              "1371-DWPAZ  Female             0  ...          56.05          NaN\n",
              "3115-CZMZD    Male             0  ...          20.25          NaN\n",
              "5709-LVOEQ  Female             0  ...          80.85          NaN\n",
              "7644-OMVMY    Male             0  ...          19.85          NaN\n",
              "3213-VVOLG    Male             0  ...          25.35          NaN\n",
              "4472-LVYGI  Female             0  ...          52.55          NaN\n",
              "2520-SGTTA  Female             0  ...          20.00          NaN\n",
              "4075-WKNIU  Female             0  ...          73.35          NaN\n",
              "\n",
              "[11 rows x 19 columns]"
            ]
          },
          "metadata": {
            "tags": []
          }
        },
        {
          "output_type": "display_data",
          "data": {
            "text/plain": [
              "'test_2'"
            ]
          },
          "metadata": {
            "tags": []
          }
        },
        {
          "output_type": "display_data",
          "data": {
            "text/html": [
              "<div>\n",
              "<style scoped>\n",
              "    .dataframe tbody tr th:only-of-type {\n",
              "        vertical-align: middle;\n",
              "    }\n",
              "\n",
              "    .dataframe tbody tr th {\n",
              "        vertical-align: top;\n",
              "    }\n",
              "\n",
              "    .dataframe thead th {\n",
              "        text-align: right;\n",
              "    }\n",
              "</style>\n",
              "<table border=\"1\" class=\"dataframe\">\n",
              "  <thead>\n",
              "    <tr style=\"text-align: right;\">\n",
              "      <th></th>\n",
              "      <th>gender</th>\n",
              "      <th>SeniorCitizen</th>\n",
              "      <th>Partner</th>\n",
              "      <th>Dependents</th>\n",
              "      <th>tenure</th>\n",
              "      <th>PhoneService</th>\n",
              "      <th>MultipleLines</th>\n",
              "      <th>InternetService</th>\n",
              "      <th>OnlineSecurity</th>\n",
              "      <th>OnlineBackup</th>\n",
              "      <th>DeviceProtection</th>\n",
              "      <th>TechSupport</th>\n",
              "      <th>StreamingTV</th>\n",
              "      <th>StreamingMovies</th>\n",
              "      <th>Contract</th>\n",
              "      <th>PaperlessBilling</th>\n",
              "      <th>PaymentMethod</th>\n",
              "      <th>MonthlyCharges</th>\n",
              "      <th>TotalCharges</th>\n",
              "    </tr>\n",
              "    <tr>\n",
              "      <th>customerID</th>\n",
              "      <th></th>\n",
              "      <th></th>\n",
              "      <th></th>\n",
              "      <th></th>\n",
              "      <th></th>\n",
              "      <th></th>\n",
              "      <th></th>\n",
              "      <th></th>\n",
              "      <th></th>\n",
              "      <th></th>\n",
              "      <th></th>\n",
              "      <th></th>\n",
              "      <th></th>\n",
              "      <th></th>\n",
              "      <th></th>\n",
              "      <th></th>\n",
              "      <th></th>\n",
              "      <th></th>\n",
              "      <th></th>\n",
              "    </tr>\n",
              "  </thead>\n",
              "  <tbody>\n",
              "  </tbody>\n",
              "</table>\n",
              "</div>"
            ],
            "text/plain": [
              "Empty DataFrame\n",
              "Columns: [gender, SeniorCitizen, Partner, Dependents, tenure, PhoneService, MultipleLines, InternetService, OnlineSecurity, OnlineBackup, DeviceProtection, TechSupport, StreamingTV, StreamingMovies, Contract, PaperlessBilling, PaymentMethod, MonthlyCharges, TotalCharges]\n",
              "Index: []"
            ]
          },
          "metadata": {
            "tags": []
          }
        }
      ]
    },
    {
      "cell_type": "code",
      "metadata": {
        "id": "qnhN2sdxTlk0",
        "colab_type": "code",
        "colab": {}
      },
      "source": [
        "#to fill in the missing values in training dataset for \"Total charges\" by type of internet service\n",
        "train_2.loc[:, 'TotalCharges'] = train_2.groupby('InternetService').TotalCharges.transform(lambda x: x.fillna(x.mean()))"
      ],
      "execution_count": 0,
      "outputs": []
    },
    {
      "cell_type": "code",
      "metadata": {
        "id": "YvXMfZCSTlk5",
        "colab_type": "code",
        "outputId": "7163c96b-14c1-47e3-bde4-bb28d554c569",
        "colab": {
          "base_uri": "https://localhost:8080/"
        }
      },
      "source": [
        "#find the mean age for different types of internet service in training set\n",
        "train_2.groupby('InternetService').TotalCharges.mean()"
      ],
      "execution_count": 0,
      "outputs": [
        {
          "output_type": "execute_result",
          "data": {
            "text/plain": [
              "InternetService\n",
              "DSL            2108.432482\n",
              "Fiber optic    3212.674478\n",
              "No              657.549753\n",
              "Name: TotalCharges, dtype: float64"
            ]
          },
          "metadata": {
            "tags": []
          },
          "execution_count": 59
        }
      ]
    },
    {
      "cell_type": "code",
      "metadata": {
        "id": "LnbsTpEvTlk9",
        "colab_type": "code",
        "colab": {}
      },
      "source": [
        "#fill in the missing values of 'TotalCharges' in testing set by mean in training set\n",
        "test_2.loc[:, 'TotalCharges'] = test_2['TotalCharges'].fillna(test_2['InternetService'].map({'DSL':2127.912974,'Fiber optic':3194.821521,'No':668.664151}))"
      ],
      "execution_count": 0,
      "outputs": []
    },
    {
      "cell_type": "code",
      "metadata": {
        "id": "b-5Te7U3TllC",
        "colab_type": "code",
        "outputId": "ccd1877b-eb7a-4725-844e-ed9c2a3505e4",
        "colab": {
          "base_uri": "https://localhost:8080/"
        }
      },
      "source": [
        "#check if all the missing values for age is filled in\n",
        "train_2.info()\n",
        "test_2.info()"
      ],
      "execution_count": 0,
      "outputs": [
        {
          "output_type": "stream",
          "text": [
            "<class 'pandas.core.frame.DataFrame'>\n",
            "Index: 5634 entries, 5140-FOMCQ to 0661-KBKPA\n",
            "Data columns (total 19 columns):\n",
            " #   Column            Non-Null Count  Dtype  \n",
            "---  ------            --------------  -----  \n",
            " 0   gender            5634 non-null   object \n",
            " 1   SeniorCitizen     5634 non-null   object \n",
            " 2   Partner           5634 non-null   object \n",
            " 3   Dependents        5634 non-null   object \n",
            " 4   tenure            5634 non-null   int64  \n",
            " 5   PhoneService      5634 non-null   object \n",
            " 6   MultipleLines     5634 non-null   object \n",
            " 7   InternetService   5634 non-null   object \n",
            " 8   OnlineSecurity    5634 non-null   object \n",
            " 9   OnlineBackup      5634 non-null   object \n",
            " 10  DeviceProtection  5634 non-null   object \n",
            " 11  TechSupport       5634 non-null   object \n",
            " 12  StreamingTV       5634 non-null   object \n",
            " 13  StreamingMovies   5634 non-null   object \n",
            " 14  Contract          5634 non-null   object \n",
            " 15  PaperlessBilling  5634 non-null   object \n",
            " 16  PaymentMethod     5634 non-null   object \n",
            " 17  MonthlyCharges    5634 non-null   float64\n",
            " 18  TotalCharges      5634 non-null   float64\n",
            "dtypes: float64(2), int64(1), object(16)\n",
            "memory usage: 880.3+ KB\n",
            "<class 'pandas.core.frame.DataFrame'>\n",
            "Index: 1409 entries, 6061-PQHMK to 1169-WCVAK\n",
            "Data columns (total 19 columns):\n",
            " #   Column            Non-Null Count  Dtype  \n",
            "---  ------            --------------  -----  \n",
            " 0   gender            1409 non-null   object \n",
            " 1   SeniorCitizen     1409 non-null   object \n",
            " 2   Partner           1409 non-null   object \n",
            " 3   Dependents        1409 non-null   object \n",
            " 4   tenure            1409 non-null   int64  \n",
            " 5   PhoneService      1409 non-null   object \n",
            " 6   MultipleLines     1409 non-null   object \n",
            " 7   InternetService   1409 non-null   object \n",
            " 8   OnlineSecurity    1409 non-null   object \n",
            " 9   OnlineBackup      1409 non-null   object \n",
            " 10  DeviceProtection  1409 non-null   object \n",
            " 11  TechSupport       1409 non-null   object \n",
            " 12  StreamingTV       1409 non-null   object \n",
            " 13  StreamingMovies   1409 non-null   object \n",
            " 14  Contract          1409 non-null   object \n",
            " 15  PaperlessBilling  1409 non-null   object \n",
            " 16  PaymentMethod     1409 non-null   object \n",
            " 17  MonthlyCharges    1409 non-null   float64\n",
            " 18  TotalCharges      1409 non-null   float64\n",
            "dtypes: float64(2), int64(1), object(16)\n",
            "memory usage: 220.2+ KB\n"
          ],
          "name": "stdout"
        }
      ]
    },
    {
      "cell_type": "code",
      "metadata": {
        "id": "VjWzt07dTllF",
        "colab_type": "code",
        "outputId": "a581d5a4-cbe0-4d89-ba36-2e053d026c70",
        "colab": {
          "base_uri": "https://localhost:8080/"
        }
      },
      "source": [
        "display('train_2', train_2.describe(), 'test_2', test_2.describe())"
      ],
      "execution_count": 0,
      "outputs": [
        {
          "output_type": "display_data",
          "data": {
            "text/plain": [
              "'train_2'"
            ]
          },
          "metadata": {
            "tags": []
          }
        },
        {
          "output_type": "display_data",
          "data": {
            "text/html": [
              "<div>\n",
              "<style scoped>\n",
              "    .dataframe tbody tr th:only-of-type {\n",
              "        vertical-align: middle;\n",
              "    }\n",
              "\n",
              "    .dataframe tbody tr th {\n",
              "        vertical-align: top;\n",
              "    }\n",
              "\n",
              "    .dataframe thead th {\n",
              "        text-align: right;\n",
              "    }\n",
              "</style>\n",
              "<table border=\"1\" class=\"dataframe\">\n",
              "  <thead>\n",
              "    <tr style=\"text-align: right;\">\n",
              "      <th></th>\n",
              "      <th>tenure</th>\n",
              "      <th>MonthlyCharges</th>\n",
              "      <th>TotalCharges</th>\n",
              "    </tr>\n",
              "  </thead>\n",
              "  <tbody>\n",
              "    <tr>\n",
              "      <th>count</th>\n",
              "      <td>5634.000000</td>\n",
              "      <td>5634.000000</td>\n",
              "      <td>5634.000000</td>\n",
              "    </tr>\n",
              "    <tr>\n",
              "      <th>mean</th>\n",
              "      <td>32.228612</td>\n",
              "      <td>64.859878</td>\n",
              "      <td>2282.027576</td>\n",
              "    </tr>\n",
              "    <tr>\n",
              "      <th>std</th>\n",
              "      <td>24.518091</td>\n",
              "      <td>30.112232</td>\n",
              "      <td>2263.926069</td>\n",
              "    </tr>\n",
              "    <tr>\n",
              "      <th>min</th>\n",
              "      <td>0.000000</td>\n",
              "      <td>18.250000</td>\n",
              "      <td>18.800000</td>\n",
              "    </tr>\n",
              "    <tr>\n",
              "      <th>25%</th>\n",
              "      <td>9.000000</td>\n",
              "      <td>35.562500</td>\n",
              "      <td>398.550000</td>\n",
              "    </tr>\n",
              "    <tr>\n",
              "      <th>50%</th>\n",
              "      <td>29.000000</td>\n",
              "      <td>70.425000</td>\n",
              "      <td>1398.975000</td>\n",
              "    </tr>\n",
              "    <tr>\n",
              "      <th>75%</th>\n",
              "      <td>55.000000</td>\n",
              "      <td>90.000000</td>\n",
              "      <td>3793.175000</td>\n",
              "    </tr>\n",
              "    <tr>\n",
              "      <th>max</th>\n",
              "      <td>72.000000</td>\n",
              "      <td>118.750000</td>\n",
              "      <td>8684.800000</td>\n",
              "    </tr>\n",
              "  </tbody>\n",
              "</table>\n",
              "</div>"
            ],
            "text/plain": [
              "            tenure  MonthlyCharges  TotalCharges\n",
              "count  5634.000000     5634.000000   5634.000000\n",
              "mean     32.228612       64.859878   2282.027576\n",
              "std      24.518091       30.112232   2263.926069\n",
              "min       0.000000       18.250000     18.800000\n",
              "25%       9.000000       35.562500    398.550000\n",
              "50%      29.000000       70.425000   1398.975000\n",
              "75%      55.000000       90.000000   3793.175000\n",
              "max      72.000000      118.750000   8684.800000"
            ]
          },
          "metadata": {
            "tags": []
          }
        },
        {
          "output_type": "display_data",
          "data": {
            "text/plain": [
              "'test_2'"
            ]
          },
          "metadata": {
            "tags": []
          }
        },
        {
          "output_type": "display_data",
          "data": {
            "text/html": [
              "<div>\n",
              "<style scoped>\n",
              "    .dataframe tbody tr th:only-of-type {\n",
              "        vertical-align: middle;\n",
              "    }\n",
              "\n",
              "    .dataframe tbody tr th {\n",
              "        vertical-align: top;\n",
              "    }\n",
              "\n",
              "    .dataframe thead th {\n",
              "        text-align: right;\n",
              "    }\n",
              "</style>\n",
              "<table border=\"1\" class=\"dataframe\">\n",
              "  <thead>\n",
              "    <tr style=\"text-align: right;\">\n",
              "      <th></th>\n",
              "      <th>tenure</th>\n",
              "      <th>MonthlyCharges</th>\n",
              "      <th>TotalCharges</th>\n",
              "    </tr>\n",
              "  </thead>\n",
              "  <tbody>\n",
              "    <tr>\n",
              "      <th>count</th>\n",
              "      <td>1409.000000</td>\n",
              "      <td>1409.000000</td>\n",
              "      <td>1409.000000</td>\n",
              "    </tr>\n",
              "    <tr>\n",
              "      <th>mean</th>\n",
              "      <td>32.941093</td>\n",
              "      <td>64.369092</td>\n",
              "      <td>2280.846558</td>\n",
              "    </tr>\n",
              "    <tr>\n",
              "      <th>std</th>\n",
              "      <td>24.724822</td>\n",
              "      <td>30.008631</td>\n",
              "      <td>2272.595889</td>\n",
              "    </tr>\n",
              "    <tr>\n",
              "      <th>min</th>\n",
              "      <td>1.000000</td>\n",
              "      <td>18.800000</td>\n",
              "      <td>19.000000</td>\n",
              "    </tr>\n",
              "    <tr>\n",
              "      <th>25%</th>\n",
              "      <td>9.000000</td>\n",
              "      <td>35.000000</td>\n",
              "      <td>419.700000</td>\n",
              "    </tr>\n",
              "    <tr>\n",
              "      <th>50%</th>\n",
              "      <td>30.000000</td>\n",
              "      <td>70.100000</td>\n",
              "      <td>1382.900000</td>\n",
              "    </tr>\n",
              "    <tr>\n",
              "      <th>75%</th>\n",
              "      <td>56.000000</td>\n",
              "      <td>89.300000</td>\n",
              "      <td>3772.500000</td>\n",
              "    </tr>\n",
              "    <tr>\n",
              "      <th>max</th>\n",
              "      <td>72.000000</td>\n",
              "      <td>117.600000</td>\n",
              "      <td>8594.400000</td>\n",
              "    </tr>\n",
              "  </tbody>\n",
              "</table>\n",
              "</div>"
            ],
            "text/plain": [
              "            tenure  MonthlyCharges  TotalCharges\n",
              "count  1409.000000     1409.000000   1409.000000\n",
              "mean     32.941093       64.369092   2280.846558\n",
              "std      24.724822       30.008631   2272.595889\n",
              "min       1.000000       18.800000     19.000000\n",
              "25%       9.000000       35.000000    419.700000\n",
              "50%      30.000000       70.100000   1382.900000\n",
              "75%      56.000000       89.300000   3772.500000\n",
              "max      72.000000      117.600000   8594.400000"
            ]
          },
          "metadata": {
            "tags": []
          }
        }
      ]
    },
    {
      "cell_type": "markdown",
      "metadata": {
        "id": "UTrQRELGTllI",
        "colab_type": "text"
      },
      "source": [
        "## One-hot Encoding"
      ]
    },
    {
      "cell_type": "code",
      "metadata": {
        "id": "hF8WFcKjTllI",
        "colab_type": "code",
        "colab": {}
      },
      "source": [
        "#create dummy for all categorical features\n",
        "genderdummy =pd.get_dummies(train_2['gender'],prefix ='gender')\n",
        "genderdummy1 =pd.get_dummies(test_2['gender'],prefix ='gender')\n",
        "Partnerdummy =pd.get_dummies(train_2['Partner'],prefix ='Partner')\n",
        "Partnerdummy1 =pd.get_dummies(test_2['Partner'],prefix ='Partner')\n",
        "Dependentsdummy =pd.get_dummies(train_2['Dependents'],prefix ='Dependents')\n",
        "Dependentsdummy1 =pd.get_dummies(test_2['Dependents'],prefix ='Dependents')\n",
        "PhoneServicedummy =pd.get_dummies(train_2['PhoneService'],prefix ='PhoneService')\n",
        "PhoneServicedummy1 =pd.get_dummies(test_2['PhoneService'],prefix ='PhoneService')\n",
        "MultipleLinesdummy =pd.get_dummies(train_2['MultipleLines'],prefix ='MultipleLines')\n",
        "MultipleLinesdummy1 =pd.get_dummies(test_2['MultipleLines'],prefix ='MultipleLines')\n",
        "InternetServicedummy =pd.get_dummies(train_2['InternetService'],prefix ='InternetService')\n",
        "InternetServicedummy1 =pd.get_dummies(test_2['InternetService'],prefix ='InternetService')\n",
        "OnlineSecuritydummy =pd.get_dummies(train_2['OnlineSecurity'],prefix ='OnlineSecurity')\n",
        "OnlineSecuritydummy1 =pd.get_dummies(test_2['OnlineSecurity'],prefix ='OnlineSecurity')\n",
        "OnlineBackupdummy =pd.get_dummies(train_2['OnlineBackup'],prefix ='OnlineBackup')\n",
        "OnlineBackupdummy1 =pd.get_dummies(test_2['OnlineBackup'],prefix ='OnlineBackup')\n",
        "DeviceProtectiondummy =pd.get_dummies(train_2['DeviceProtection'],prefix ='DeviceProtection')\n",
        "DeviceProtectiondummy1 =pd.get_dummies(test_2['DeviceProtection'],prefix ='DeviceProtection')\n",
        "TechSupportdummy =pd.get_dummies(train_2['TechSupport'],prefix ='TechSupport')\n",
        "TechSupportdummy1 =pd.get_dummies(test_2['TechSupport'],prefix ='TechSupport')\n",
        "StreamingTVdummy =pd.get_dummies(train_2['StreamingTV'],prefix ='StreamingTV')\n",
        "StreamingTVdummy1 =pd.get_dummies(test_2['StreamingTV'],prefix ='StreamingTV')\n",
        "StreamingMoviesdummy =pd.get_dummies(train_2['StreamingMovies'],prefix ='StreamingMovies')\n",
        "StreamingMoviesdummy1 =pd.get_dummies(test_2['StreamingMovies'],prefix ='StreamingMovies')\n",
        "Contractdummy =pd.get_dummies(train_2['Contract'],prefix ='Contract')\n",
        "Contractdummy1 =pd.get_dummies(test_2['Contract'],prefix ='Contract')\n",
        "PaperlessBillingdummy =pd.get_dummies(train_2['PaperlessBilling'],prefix ='PaperlessBilling')\n",
        "PaperlessBillingdummy1 =pd.get_dummies(test_2['PaperlessBilling'],prefix ='PaperlessBilling')\n",
        "PaymentMethoddummy =pd.get_dummies(train_2['PaymentMethod'],prefix ='PaymentMethod')\n",
        "PaymentMethoddummy1 =pd.get_dummies(test_2['PaymentMethod'],prefix ='PaymentMethod')"
      ],
      "execution_count": 0,
      "outputs": []
    },
    {
      "cell_type": "code",
      "metadata": {
        "id": "evb-Apq7TllL",
        "colab_type": "code",
        "colab": {}
      },
      "source": [
        "#add dummy variables to data frame\n",
        "trainwithdummy_2 = pd.concat([train_2,genderdummy,Partnerdummy,Dependentsdummy,PhoneServicedummy,MultipleLinesdummy,InternetServicedummy,OnlineSecuritydummy,OnlineBackupdummy,DeviceProtectiondummy,TechSupportdummy,StreamingTVdummy,StreamingMoviesdummy,Contractdummy,PaperlessBillingdummy,PaymentMethoddummy],axis=1,sort=True)\n",
        "testwithdummy_2 = pd.concat([test_2,genderdummy1,Partnerdummy1,Dependentsdummy1,PhoneServicedummy1,MultipleLinesdummy1,InternetServicedummy1,OnlineSecuritydummy1,OnlineBackupdummy1,DeviceProtectiondummy1,TechSupportdummy1,StreamingTVdummy1,StreamingMoviesdummy1,Contractdummy1,PaperlessBillingdummy1,PaymentMethoddummy1],axis=1,sort=True)"
      ],
      "execution_count": 0,
      "outputs": []
    },
    {
      "cell_type": "code",
      "metadata": {
        "id": "qbZuryvpTllO",
        "colab_type": "code",
        "colab": {}
      },
      "source": [
        "#drop meaningless and duplicated deatures\n",
        "traindrop_2=trainwithdummy_2.drop(columns=['gender','gender_Female','Partner','Partner_No','Dependents','Dependents_No','PhoneService','PhoneService_No','MultipleLines','MultipleLines_No phone service','InternetService','InternetService_No','OnlineSecurity','OnlineSecurity_No internet service','OnlineBackup','OnlineBackup_No internet service','DeviceProtection','DeviceProtection_No internet service','TechSupport','TechSupport_No internet service','StreamingTV','StreamingTV_No internet service','StreamingMovies','StreamingMovies_No internet service','Contract','Contract_One year','PaperlessBilling','PaperlessBilling_No','PaymentMethod','PaymentMethod_Credit card (automatic)'])\n",
        "testdrop_2=testwithdummy_2.drop(columns=['gender','gender_Female','Partner','Partner_No','Dependents','Dependents_No','PhoneService','PhoneService_No','MultipleLines','MultipleLines_No phone service','InternetService','InternetService_No','OnlineSecurity','OnlineSecurity_No internet service','OnlineBackup','OnlineBackup_No internet service','DeviceProtection','DeviceProtection_No internet service','TechSupport','TechSupport_No internet service','StreamingTV','StreamingTV_No internet service','StreamingMovies','StreamingMovies_No internet service','Contract','Contract_One year','PaperlessBilling','PaperlessBilling_No','PaymentMethod','PaymentMethod_Credit card (automatic)'])"
      ],
      "execution_count": 0,
      "outputs": []
    },
    {
      "cell_type": "code",
      "metadata": {
        "id": "xYm99K-OTllP",
        "colab_type": "code",
        "outputId": "059b6bc2-ce12-4456-e108-94c244161ea9",
        "colab": {
          "base_uri": "https://localhost:8080/"
        }
      },
      "source": [
        "traindrop_2.info()\n",
        "testdrop_2.info()"
      ],
      "execution_count": 0,
      "outputs": [
        {
          "output_type": "stream",
          "text": [
            "<class 'pandas.core.frame.DataFrame'>\n",
            "Index: 5634 entries, 0002-ORFBO to 9995-HOTOH\n",
            "Data columns (total 30 columns):\n",
            " #   Column                                   Non-Null Count  Dtype  \n",
            "---  ------                                   --------------  -----  \n",
            " 0   SeniorCitizen                            5634 non-null   object \n",
            " 1   tenure                                   5634 non-null   int64  \n",
            " 2   MonthlyCharges                           5634 non-null   float64\n",
            " 3   TotalCharges                             5634 non-null   float64\n",
            " 4   gender_Male                              5634 non-null   uint8  \n",
            " 5   Partner_Yes                              5634 non-null   uint8  \n",
            " 6   Dependents_Yes                           5634 non-null   uint8  \n",
            " 7   PhoneService_Yes                         5634 non-null   uint8  \n",
            " 8   MultipleLines_No                         5634 non-null   uint8  \n",
            " 9   MultipleLines_Yes                        5634 non-null   uint8  \n",
            " 10  InternetService_DSL                      5634 non-null   uint8  \n",
            " 11  InternetService_Fiber optic              5634 non-null   uint8  \n",
            " 12  OnlineSecurity_No                        5634 non-null   uint8  \n",
            " 13  OnlineSecurity_Yes                       5634 non-null   uint8  \n",
            " 14  OnlineBackup_No                          5634 non-null   uint8  \n",
            " 15  OnlineBackup_Yes                         5634 non-null   uint8  \n",
            " 16  DeviceProtection_No                      5634 non-null   uint8  \n",
            " 17  DeviceProtection_Yes                     5634 non-null   uint8  \n",
            " 18  TechSupport_No                           5634 non-null   uint8  \n",
            " 19  TechSupport_Yes                          5634 non-null   uint8  \n",
            " 20  StreamingTV_No                           5634 non-null   uint8  \n",
            " 21  StreamingTV_Yes                          5634 non-null   uint8  \n",
            " 22  StreamingMovies_No                       5634 non-null   uint8  \n",
            " 23  StreamingMovies_Yes                      5634 non-null   uint8  \n",
            " 24  Contract_Month-to-month                  5634 non-null   uint8  \n",
            " 25  Contract_Two year                        5634 non-null   uint8  \n",
            " 26  PaperlessBilling_Yes                     5634 non-null   uint8  \n",
            " 27  PaymentMethod_Bank transfer (automatic)  5634 non-null   uint8  \n",
            " 28  PaymentMethod_Electronic check           5634 non-null   uint8  \n",
            " 29  PaymentMethod_Mailed check               5634 non-null   uint8  \n",
            "dtypes: float64(2), int64(1), object(1), uint8(26)\n",
            "memory usage: 363.1+ KB\n",
            "<class 'pandas.core.frame.DataFrame'>\n",
            "Index: 1409 entries, 0017-IUDMW to 9993-LHIEB\n",
            "Data columns (total 30 columns):\n",
            " #   Column                                   Non-Null Count  Dtype  \n",
            "---  ------                                   --------------  -----  \n",
            " 0   SeniorCitizen                            1409 non-null   object \n",
            " 1   tenure                                   1409 non-null   int64  \n",
            " 2   MonthlyCharges                           1409 non-null   float64\n",
            " 3   TotalCharges                             1409 non-null   float64\n",
            " 4   gender_Male                              1409 non-null   uint8  \n",
            " 5   Partner_Yes                              1409 non-null   uint8  \n",
            " 6   Dependents_Yes                           1409 non-null   uint8  \n",
            " 7   PhoneService_Yes                         1409 non-null   uint8  \n",
            " 8   MultipleLines_No                         1409 non-null   uint8  \n",
            " 9   MultipleLines_Yes                        1409 non-null   uint8  \n",
            " 10  InternetService_DSL                      1409 non-null   uint8  \n",
            " 11  InternetService_Fiber optic              1409 non-null   uint8  \n",
            " 12  OnlineSecurity_No                        1409 non-null   uint8  \n",
            " 13  OnlineSecurity_Yes                       1409 non-null   uint8  \n",
            " 14  OnlineBackup_No                          1409 non-null   uint8  \n",
            " 15  OnlineBackup_Yes                         1409 non-null   uint8  \n",
            " 16  DeviceProtection_No                      1409 non-null   uint8  \n",
            " 17  DeviceProtection_Yes                     1409 non-null   uint8  \n",
            " 18  TechSupport_No                           1409 non-null   uint8  \n",
            " 19  TechSupport_Yes                          1409 non-null   uint8  \n",
            " 20  StreamingTV_No                           1409 non-null   uint8  \n",
            " 21  StreamingTV_Yes                          1409 non-null   uint8  \n",
            " 22  StreamingMovies_No                       1409 non-null   uint8  \n",
            " 23  StreamingMovies_Yes                      1409 non-null   uint8  \n",
            " 24  Contract_Month-to-month                  1409 non-null   uint8  \n",
            " 25  Contract_Two year                        1409 non-null   uint8  \n",
            " 26  PaperlessBilling_Yes                     1409 non-null   uint8  \n",
            " 27  PaymentMethod_Bank transfer (automatic)  1409 non-null   uint8  \n",
            " 28  PaymentMethod_Electronic check           1409 non-null   uint8  \n",
            " 29  PaymentMethod_Mailed check               1409 non-null   uint8  \n",
            "dtypes: float64(2), int64(1), object(1), uint8(26)\n",
            "memory usage: 90.8+ KB\n"
          ],
          "name": "stdout"
        }
      ]
    },
    {
      "cell_type": "code",
      "metadata": {
        "id": "HS1Aq7knTllR",
        "colab_type": "code",
        "outputId": "46740e06-a1d7-4023-cf6c-7e928d07371a",
        "colab": {
          "base_uri": "https://localhost:8080/"
        }
      },
      "source": [
        "display('traindrop_2', traindrop_2.head(),'testdrop_2', testdrop_2.head() )"
      ],
      "execution_count": 0,
      "outputs": [
        {
          "output_type": "display_data",
          "data": {
            "text/plain": [
              "'traindrop_2'"
            ]
          },
          "metadata": {
            "tags": []
          }
        },
        {
          "output_type": "display_data",
          "data": {
            "text/html": [
              "<div>\n",
              "<style scoped>\n",
              "    .dataframe tbody tr th:only-of-type {\n",
              "        vertical-align: middle;\n",
              "    }\n",
              "\n",
              "    .dataframe tbody tr th {\n",
              "        vertical-align: top;\n",
              "    }\n",
              "\n",
              "    .dataframe thead th {\n",
              "        text-align: right;\n",
              "    }\n",
              "</style>\n",
              "<table border=\"1\" class=\"dataframe\">\n",
              "  <thead>\n",
              "    <tr style=\"text-align: right;\">\n",
              "      <th></th>\n",
              "      <th>SeniorCitizen</th>\n",
              "      <th>tenure</th>\n",
              "      <th>MonthlyCharges</th>\n",
              "      <th>TotalCharges</th>\n",
              "      <th>gender_Male</th>\n",
              "      <th>Partner_Yes</th>\n",
              "      <th>Dependents_Yes</th>\n",
              "      <th>PhoneService_Yes</th>\n",
              "      <th>MultipleLines_No</th>\n",
              "      <th>MultipleLines_Yes</th>\n",
              "      <th>InternetService_DSL</th>\n",
              "      <th>InternetService_Fiber optic</th>\n",
              "      <th>OnlineSecurity_No</th>\n",
              "      <th>OnlineSecurity_Yes</th>\n",
              "      <th>OnlineBackup_No</th>\n",
              "      <th>OnlineBackup_Yes</th>\n",
              "      <th>DeviceProtection_No</th>\n",
              "      <th>DeviceProtection_Yes</th>\n",
              "      <th>TechSupport_No</th>\n",
              "      <th>TechSupport_Yes</th>\n",
              "      <th>StreamingTV_No</th>\n",
              "      <th>StreamingTV_Yes</th>\n",
              "      <th>StreamingMovies_No</th>\n",
              "      <th>StreamingMovies_Yes</th>\n",
              "      <th>Contract_Month-to-month</th>\n",
              "      <th>Contract_Two year</th>\n",
              "      <th>PaperlessBilling_Yes</th>\n",
              "      <th>PaymentMethod_Bank transfer (automatic)</th>\n",
              "      <th>PaymentMethod_Electronic check</th>\n",
              "      <th>PaymentMethod_Mailed check</th>\n",
              "    </tr>\n",
              "    <tr>\n",
              "      <th>customerID</th>\n",
              "      <th></th>\n",
              "      <th></th>\n",
              "      <th></th>\n",
              "      <th></th>\n",
              "      <th></th>\n",
              "      <th></th>\n",
              "      <th></th>\n",
              "      <th></th>\n",
              "      <th></th>\n",
              "      <th></th>\n",
              "      <th></th>\n",
              "      <th></th>\n",
              "      <th></th>\n",
              "      <th></th>\n",
              "      <th></th>\n",
              "      <th></th>\n",
              "      <th></th>\n",
              "      <th></th>\n",
              "      <th></th>\n",
              "      <th></th>\n",
              "      <th></th>\n",
              "      <th></th>\n",
              "      <th></th>\n",
              "      <th></th>\n",
              "      <th></th>\n",
              "      <th></th>\n",
              "      <th></th>\n",
              "      <th></th>\n",
              "      <th></th>\n",
              "      <th></th>\n",
              "    </tr>\n",
              "  </thead>\n",
              "  <tbody>\n",
              "    <tr>\n",
              "      <th>0002-ORFBO</th>\n",
              "      <td>0</td>\n",
              "      <td>9</td>\n",
              "      <td>65.6</td>\n",
              "      <td>593.30</td>\n",
              "      <td>0</td>\n",
              "      <td>1</td>\n",
              "      <td>1</td>\n",
              "      <td>1</td>\n",
              "      <td>1</td>\n",
              "      <td>0</td>\n",
              "      <td>1</td>\n",
              "      <td>0</td>\n",
              "      <td>1</td>\n",
              "      <td>0</td>\n",
              "      <td>0</td>\n",
              "      <td>1</td>\n",
              "      <td>1</td>\n",
              "      <td>0</td>\n",
              "      <td>0</td>\n",
              "      <td>1</td>\n",
              "      <td>0</td>\n",
              "      <td>1</td>\n",
              "      <td>1</td>\n",
              "      <td>0</td>\n",
              "      <td>0</td>\n",
              "      <td>0</td>\n",
              "      <td>1</td>\n",
              "      <td>0</td>\n",
              "      <td>0</td>\n",
              "      <td>1</td>\n",
              "    </tr>\n",
              "    <tr>\n",
              "      <th>0003-MKNFE</th>\n",
              "      <td>0</td>\n",
              "      <td>9</td>\n",
              "      <td>59.9</td>\n",
              "      <td>542.40</td>\n",
              "      <td>1</td>\n",
              "      <td>0</td>\n",
              "      <td>0</td>\n",
              "      <td>1</td>\n",
              "      <td>0</td>\n",
              "      <td>1</td>\n",
              "      <td>1</td>\n",
              "      <td>0</td>\n",
              "      <td>1</td>\n",
              "      <td>0</td>\n",
              "      <td>1</td>\n",
              "      <td>0</td>\n",
              "      <td>1</td>\n",
              "      <td>0</td>\n",
              "      <td>1</td>\n",
              "      <td>0</td>\n",
              "      <td>1</td>\n",
              "      <td>0</td>\n",
              "      <td>0</td>\n",
              "      <td>1</td>\n",
              "      <td>1</td>\n",
              "      <td>0</td>\n",
              "      <td>0</td>\n",
              "      <td>0</td>\n",
              "      <td>0</td>\n",
              "      <td>1</td>\n",
              "    </tr>\n",
              "    <tr>\n",
              "      <th>0004-TLHLJ</th>\n",
              "      <td>0</td>\n",
              "      <td>4</td>\n",
              "      <td>73.9</td>\n",
              "      <td>280.85</td>\n",
              "      <td>1</td>\n",
              "      <td>0</td>\n",
              "      <td>0</td>\n",
              "      <td>1</td>\n",
              "      <td>1</td>\n",
              "      <td>0</td>\n",
              "      <td>0</td>\n",
              "      <td>1</td>\n",
              "      <td>1</td>\n",
              "      <td>0</td>\n",
              "      <td>1</td>\n",
              "      <td>0</td>\n",
              "      <td>0</td>\n",
              "      <td>1</td>\n",
              "      <td>1</td>\n",
              "      <td>0</td>\n",
              "      <td>1</td>\n",
              "      <td>0</td>\n",
              "      <td>1</td>\n",
              "      <td>0</td>\n",
              "      <td>1</td>\n",
              "      <td>0</td>\n",
              "      <td>1</td>\n",
              "      <td>0</td>\n",
              "      <td>1</td>\n",
              "      <td>0</td>\n",
              "    </tr>\n",
              "    <tr>\n",
              "      <th>0011-IGKFF</th>\n",
              "      <td>1</td>\n",
              "      <td>13</td>\n",
              "      <td>98.0</td>\n",
              "      <td>1237.85</td>\n",
              "      <td>1</td>\n",
              "      <td>1</td>\n",
              "      <td>0</td>\n",
              "      <td>1</td>\n",
              "      <td>1</td>\n",
              "      <td>0</td>\n",
              "      <td>0</td>\n",
              "      <td>1</td>\n",
              "      <td>1</td>\n",
              "      <td>0</td>\n",
              "      <td>0</td>\n",
              "      <td>1</td>\n",
              "      <td>0</td>\n",
              "      <td>1</td>\n",
              "      <td>1</td>\n",
              "      <td>0</td>\n",
              "      <td>0</td>\n",
              "      <td>1</td>\n",
              "      <td>0</td>\n",
              "      <td>1</td>\n",
              "      <td>1</td>\n",
              "      <td>0</td>\n",
              "      <td>1</td>\n",
              "      <td>0</td>\n",
              "      <td>1</td>\n",
              "      <td>0</td>\n",
              "    </tr>\n",
              "    <tr>\n",
              "      <th>0013-EXCHZ</th>\n",
              "      <td>1</td>\n",
              "      <td>3</td>\n",
              "      <td>83.9</td>\n",
              "      <td>267.40</td>\n",
              "      <td>0</td>\n",
              "      <td>1</td>\n",
              "      <td>0</td>\n",
              "      <td>1</td>\n",
              "      <td>1</td>\n",
              "      <td>0</td>\n",
              "      <td>0</td>\n",
              "      <td>1</td>\n",
              "      <td>1</td>\n",
              "      <td>0</td>\n",
              "      <td>1</td>\n",
              "      <td>0</td>\n",
              "      <td>1</td>\n",
              "      <td>0</td>\n",
              "      <td>0</td>\n",
              "      <td>1</td>\n",
              "      <td>0</td>\n",
              "      <td>1</td>\n",
              "      <td>1</td>\n",
              "      <td>0</td>\n",
              "      <td>1</td>\n",
              "      <td>0</td>\n",
              "      <td>1</td>\n",
              "      <td>0</td>\n",
              "      <td>0</td>\n",
              "      <td>1</td>\n",
              "    </tr>\n",
              "  </tbody>\n",
              "</table>\n",
              "</div>"
            ],
            "text/plain": [
              "           SeniorCitizen  ...  PaymentMethod_Mailed check\n",
              "customerID                ...                            \n",
              "0002-ORFBO             0  ...                           1\n",
              "0003-MKNFE             0  ...                           1\n",
              "0004-TLHLJ             0  ...                           0\n",
              "0011-IGKFF             1  ...                           0\n",
              "0013-EXCHZ             1  ...                           1\n",
              "\n",
              "[5 rows x 30 columns]"
            ]
          },
          "metadata": {
            "tags": []
          }
        },
        {
          "output_type": "display_data",
          "data": {
            "text/plain": [
              "'testdrop_2'"
            ]
          },
          "metadata": {
            "tags": []
          }
        },
        {
          "output_type": "display_data",
          "data": {
            "text/html": [
              "<div>\n",
              "<style scoped>\n",
              "    .dataframe tbody tr th:only-of-type {\n",
              "        vertical-align: middle;\n",
              "    }\n",
              "\n",
              "    .dataframe tbody tr th {\n",
              "        vertical-align: top;\n",
              "    }\n",
              "\n",
              "    .dataframe thead th {\n",
              "        text-align: right;\n",
              "    }\n",
              "</style>\n",
              "<table border=\"1\" class=\"dataframe\">\n",
              "  <thead>\n",
              "    <tr style=\"text-align: right;\">\n",
              "      <th></th>\n",
              "      <th>SeniorCitizen</th>\n",
              "      <th>tenure</th>\n",
              "      <th>MonthlyCharges</th>\n",
              "      <th>TotalCharges</th>\n",
              "      <th>gender_Male</th>\n",
              "      <th>Partner_Yes</th>\n",
              "      <th>Dependents_Yes</th>\n",
              "      <th>PhoneService_Yes</th>\n",
              "      <th>MultipleLines_No</th>\n",
              "      <th>MultipleLines_Yes</th>\n",
              "      <th>InternetService_DSL</th>\n",
              "      <th>InternetService_Fiber optic</th>\n",
              "      <th>OnlineSecurity_No</th>\n",
              "      <th>OnlineSecurity_Yes</th>\n",
              "      <th>OnlineBackup_No</th>\n",
              "      <th>OnlineBackup_Yes</th>\n",
              "      <th>DeviceProtection_No</th>\n",
              "      <th>DeviceProtection_Yes</th>\n",
              "      <th>TechSupport_No</th>\n",
              "      <th>TechSupport_Yes</th>\n",
              "      <th>StreamingTV_No</th>\n",
              "      <th>StreamingTV_Yes</th>\n",
              "      <th>StreamingMovies_No</th>\n",
              "      <th>StreamingMovies_Yes</th>\n",
              "      <th>Contract_Month-to-month</th>\n",
              "      <th>Contract_Two year</th>\n",
              "      <th>PaperlessBilling_Yes</th>\n",
              "      <th>PaymentMethod_Bank transfer (automatic)</th>\n",
              "      <th>PaymentMethod_Electronic check</th>\n",
              "      <th>PaymentMethod_Mailed check</th>\n",
              "    </tr>\n",
              "    <tr>\n",
              "      <th>customerID</th>\n",
              "      <th></th>\n",
              "      <th></th>\n",
              "      <th></th>\n",
              "      <th></th>\n",
              "      <th></th>\n",
              "      <th></th>\n",
              "      <th></th>\n",
              "      <th></th>\n",
              "      <th></th>\n",
              "      <th></th>\n",
              "      <th></th>\n",
              "      <th></th>\n",
              "      <th></th>\n",
              "      <th></th>\n",
              "      <th></th>\n",
              "      <th></th>\n",
              "      <th></th>\n",
              "      <th></th>\n",
              "      <th></th>\n",
              "      <th></th>\n",
              "      <th></th>\n",
              "      <th></th>\n",
              "      <th></th>\n",
              "      <th></th>\n",
              "      <th></th>\n",
              "      <th></th>\n",
              "      <th></th>\n",
              "      <th></th>\n",
              "      <th></th>\n",
              "      <th></th>\n",
              "    </tr>\n",
              "  </thead>\n",
              "  <tbody>\n",
              "    <tr>\n",
              "      <th>0017-IUDMW</th>\n",
              "      <td>0</td>\n",
              "      <td>72</td>\n",
              "      <td>116.80</td>\n",
              "      <td>8456.75</td>\n",
              "      <td>0</td>\n",
              "      <td>1</td>\n",
              "      <td>1</td>\n",
              "      <td>1</td>\n",
              "      <td>0</td>\n",
              "      <td>1</td>\n",
              "      <td>0</td>\n",
              "      <td>1</td>\n",
              "      <td>0</td>\n",
              "      <td>1</td>\n",
              "      <td>0</td>\n",
              "      <td>1</td>\n",
              "      <td>0</td>\n",
              "      <td>1</td>\n",
              "      <td>0</td>\n",
              "      <td>1</td>\n",
              "      <td>0</td>\n",
              "      <td>1</td>\n",
              "      <td>0</td>\n",
              "      <td>1</td>\n",
              "      <td>0</td>\n",
              "      <td>1</td>\n",
              "      <td>1</td>\n",
              "      <td>0</td>\n",
              "      <td>0</td>\n",
              "      <td>0</td>\n",
              "    </tr>\n",
              "    <tr>\n",
              "      <th>0018-NYROU</th>\n",
              "      <td>0</td>\n",
              "      <td>5</td>\n",
              "      <td>68.95</td>\n",
              "      <td>351.50</td>\n",
              "      <td>0</td>\n",
              "      <td>1</td>\n",
              "      <td>0</td>\n",
              "      <td>1</td>\n",
              "      <td>1</td>\n",
              "      <td>0</td>\n",
              "      <td>0</td>\n",
              "      <td>1</td>\n",
              "      <td>1</td>\n",
              "      <td>0</td>\n",
              "      <td>1</td>\n",
              "      <td>0</td>\n",
              "      <td>1</td>\n",
              "      <td>0</td>\n",
              "      <td>1</td>\n",
              "      <td>0</td>\n",
              "      <td>1</td>\n",
              "      <td>0</td>\n",
              "      <td>1</td>\n",
              "      <td>0</td>\n",
              "      <td>1</td>\n",
              "      <td>0</td>\n",
              "      <td>1</td>\n",
              "      <td>0</td>\n",
              "      <td>1</td>\n",
              "      <td>0</td>\n",
              "    </tr>\n",
              "    <tr>\n",
              "      <th>0020-JDNXP</th>\n",
              "      <td>0</td>\n",
              "      <td>34</td>\n",
              "      <td>61.25</td>\n",
              "      <td>1993.20</td>\n",
              "      <td>0</td>\n",
              "      <td>1</td>\n",
              "      <td>1</td>\n",
              "      <td>0</td>\n",
              "      <td>0</td>\n",
              "      <td>0</td>\n",
              "      <td>1</td>\n",
              "      <td>0</td>\n",
              "      <td>0</td>\n",
              "      <td>1</td>\n",
              "      <td>1</td>\n",
              "      <td>0</td>\n",
              "      <td>0</td>\n",
              "      <td>1</td>\n",
              "      <td>0</td>\n",
              "      <td>1</td>\n",
              "      <td>0</td>\n",
              "      <td>1</td>\n",
              "      <td>0</td>\n",
              "      <td>1</td>\n",
              "      <td>0</td>\n",
              "      <td>0</td>\n",
              "      <td>0</td>\n",
              "      <td>0</td>\n",
              "      <td>0</td>\n",
              "      <td>1</td>\n",
              "    </tr>\n",
              "    <tr>\n",
              "      <th>0027-KWYKW</th>\n",
              "      <td>0</td>\n",
              "      <td>23</td>\n",
              "      <td>83.75</td>\n",
              "      <td>1849.95</td>\n",
              "      <td>0</td>\n",
              "      <td>1</td>\n",
              "      <td>1</td>\n",
              "      <td>1</td>\n",
              "      <td>0</td>\n",
              "      <td>1</td>\n",
              "      <td>0</td>\n",
              "      <td>1</td>\n",
              "      <td>1</td>\n",
              "      <td>0</td>\n",
              "      <td>1</td>\n",
              "      <td>0</td>\n",
              "      <td>1</td>\n",
              "      <td>0</td>\n",
              "      <td>1</td>\n",
              "      <td>0</td>\n",
              "      <td>0</td>\n",
              "      <td>1</td>\n",
              "      <td>1</td>\n",
              "      <td>0</td>\n",
              "      <td>1</td>\n",
              "      <td>0</td>\n",
              "      <td>1</td>\n",
              "      <td>0</td>\n",
              "      <td>1</td>\n",
              "      <td>0</td>\n",
              "    </tr>\n",
              "    <tr>\n",
              "      <th>0032-PGELS</th>\n",
              "      <td>0</td>\n",
              "      <td>1</td>\n",
              "      <td>30.50</td>\n",
              "      <td>30.50</td>\n",
              "      <td>0</td>\n",
              "      <td>1</td>\n",
              "      <td>1</td>\n",
              "      <td>0</td>\n",
              "      <td>0</td>\n",
              "      <td>0</td>\n",
              "      <td>1</td>\n",
              "      <td>0</td>\n",
              "      <td>0</td>\n",
              "      <td>1</td>\n",
              "      <td>1</td>\n",
              "      <td>0</td>\n",
              "      <td>1</td>\n",
              "      <td>0</td>\n",
              "      <td>1</td>\n",
              "      <td>0</td>\n",
              "      <td>1</td>\n",
              "      <td>0</td>\n",
              "      <td>1</td>\n",
              "      <td>0</td>\n",
              "      <td>1</td>\n",
              "      <td>0</td>\n",
              "      <td>0</td>\n",
              "      <td>1</td>\n",
              "      <td>0</td>\n",
              "      <td>0</td>\n",
              "    </tr>\n",
              "  </tbody>\n",
              "</table>\n",
              "</div>"
            ],
            "text/plain": [
              "           SeniorCitizen  ...  PaymentMethod_Mailed check\n",
              "customerID                ...                            \n",
              "0017-IUDMW             0  ...                           0\n",
              "0018-NYROU             0  ...                           0\n",
              "0020-JDNXP             0  ...                           1\n",
              "0027-KWYKW             0  ...                           0\n",
              "0032-PGELS             0  ...                           0\n",
              "\n",
              "[5 rows x 30 columns]"
            ]
          },
          "metadata": {
            "tags": []
          }
        }
      ]
    },
    {
      "cell_type": "markdown",
      "metadata": {
        "id": "H40MhDXrTllU",
        "colab_type": "text"
      },
      "source": [
        "## Data Visualization"
      ]
    },
    {
      "cell_type": "code",
      "metadata": {
        "id": "ihcHumTgTllU",
        "colab_type": "code",
        "outputId": "c7af5a20-1046-4793-a4a7-f71097a6bf14",
        "colab": {
          "base_uri": "https://localhost:8080/"
        }
      },
      "source": [
        "# histogram for tenure (training set)\n",
        "traindrop_2['tenure'].hist()"
      ],
      "execution_count": 0,
      "outputs": [
        {
          "output_type": "execute_result",
          "data": {
            "text/plain": [
              "<matplotlib.axes._subplots.AxesSubplot at 0x7f2e9e893c18>"
            ]
          },
          "metadata": {
            "tags": []
          },
          "execution_count": 68
        },
        {
          "output_type": "display_data",
          "data": {
            "image/png": "[encoded data removed]",
            "text/plain": [
              "<Figure size 432x288 with 1 Axes>"
            ]
          },
          "metadata": {
            "tags": [],
            "needs_background": "light"
          }
        }
      ]
    },
    {
      "cell_type": "code",
      "metadata": {
        "id": "5egJfm32TllV",
        "colab_type": "code",
        "outputId": "2279b635-76e4-486f-bb34-ddb8104be968",
        "colab": {
          "base_uri": "https://localhost:8080/"
        }
      },
      "source": [
        "# boxplot for tenure (training set)\n",
        "ax = sns.boxplot(traindrop_2['tenure'])"
      ],
      "execution_count": 0,
      "outputs": [
        {
          "output_type": "display_data",
          "data": {
            "image/png": "[encoded data removed]",
            "text/plain": [
              "<Figure size 432x288 with 1 Axes>"
            ]
          },
          "metadata": {
            "tags": [],
            "needs_background": "light"
          }
        }
      ]
    },
    {
      "cell_type": "code",
      "metadata": {
        "id": "1xA112dVTllX",
        "colab_type": "code",
        "outputId": "3359d061-8ebe-4038-ec1f-f5e8dc12c575",
        "colab": {
          "base_uri": "https://localhost:8080/"
        }
      },
      "source": [
        "# histogram for tenure (testing set)\n",
        "testdrop_2['tenure'].hist()"
      ],
      "execution_count": 0,
      "outputs": [
        {
          "output_type": "execute_result",
          "data": {
            "text/plain": [
              "<matplotlib.axes._subplots.AxesSubplot at 0x7f2e9e945860>"
            ]
          },
          "metadata": {
            "tags": []
          },
          "execution_count": 70
        },
        {
          "output_type": "display_data",
          "data": {
            "image/png": "[encoded data removed]",
            "text/plain": [
              "<Figure size 432x288 with 1 Axes>"
            ]
          },
          "metadata": {
            "tags": [],
            "needs_background": "light"
          }
        }
      ]
    },
    {
      "cell_type": "code",
      "metadata": {
        "id": "A8jLeFwnTllY",
        "colab_type": "code",
        "outputId": "558f2ea9-72ac-4fa4-f31a-e3566d1f333c",
        "colab": {
          "base_uri": "https://localhost:8080/"
        }
      },
      "source": [
        "# boxplot for tenure (testing set)\n",
        "ax = sns.boxplot(testdrop_2['tenure'])"
      ],
      "execution_count": 0,
      "outputs": [
        {
          "output_type": "display_data",
          "data": {
            "image/png": "[encoded data removed]",
            "text/plain": [
              "<Figure size 432x288 with 1 Axes>"
            ]
          },
          "metadata": {
            "tags": [],
            "needs_background": "light"
          }
        }
      ]
    },
    {
      "cell_type": "code",
      "metadata": {
        "id": "pN6icd3PTlla",
        "colab_type": "code",
        "outputId": "444ca468-9dab-4163-ccbe-750506f9ceeb",
        "colab": {
          "base_uri": "https://localhost:8080/"
        }
      },
      "source": [
        "# histogram for MonthlyCharges (training set)\n",
        "traindrop_2['MonthlyCharges'].hist()"
      ],
      "execution_count": 0,
      "outputs": [
        {
          "output_type": "execute_result",
          "data": {
            "text/plain": [
              "<matplotlib.axes._subplots.AxesSubplot at 0x7f2e9e669b00>"
            ]
          },
          "metadata": {
            "tags": []
          },
          "execution_count": 72
        },
        {
          "output_type": "display_data",
          "data": {
            "image/png": "[encoded data removed]",
            "text/plain": [
              "<Figure size 432x288 with 1 Axes>"
            ]
          },
          "metadata": {
            "tags": [],
            "needs_background": "light"
          }
        }
      ]
    },
    {
      "cell_type": "code",
      "metadata": {
        "id": "kn6eCBN_Tllc",
        "colab_type": "code",
        "outputId": "847da7fe-66a0-42a1-ab20-7bf6751f7d6b",
        "colab": {
          "base_uri": "https://localhost:8080/"
        }
      },
      "source": [
        "# boxplot for MonthlyCharges (training set)\n",
        "ax = sns.boxplot(traindrop_2['MonthlyCharges'])"
      ],
      "execution_count": 0,
      "outputs": [
        {
          "output_type": "display_data",
          "data": {
            "image/png": "[encoded data removed]",
            "text/plain": [
              "<Figure size 432x288 with 1 Axes>"
            ]
          },
          "metadata": {
            "tags": [],
            "needs_background": "light"
          }
        }
      ]
    },
    {
      "cell_type": "code",
      "metadata": {
        "id": "TegqbpLCTlle",
        "colab_type": "code",
        "outputId": "8ef955b3-49b2-451d-b362-04cc2367b9bd",
        "colab": {
          "base_uri": "https://localhost:8080/"
        }
      },
      "source": [
        "# histogram for MonthlyCharges (testing set)\n",
        "testdrop_2['MonthlyCharges'].hist()"
      ],
      "execution_count": 0,
      "outputs": [
        {
          "output_type": "execute_result",
          "data": {
            "text/plain": [
              "<matplotlib.axes._subplots.AxesSubplot at 0x7f2e9e4fe860>"
            ]
          },
          "metadata": {
            "tags": []
          },
          "execution_count": 74
        },
        {
          "output_type": "display_data",
          "data": {
            "image/png": "[encoded data removed]",
            "text/plain": [
              "<Figure size 432x288 with 1 Axes>"
            ]
          },
          "metadata": {
            "tags": [],
            "needs_background": "light"
          }
        }
      ]
    },
    {
      "cell_type": "code",
      "metadata": {
        "id": "e6jnjEpJTllh",
        "colab_type": "code",
        "outputId": "c75c1b17-2917-4e2e-d2a1-9a8de516c51e",
        "colab": {
          "base_uri": "https://localhost:8080/"
        }
      },
      "source": [
        "# boxplot for MonthlyCharges (testing set)\n",
        "ax = sns.boxplot(testdrop_2['MonthlyCharges'])"
      ],
      "execution_count": 0,
      "outputs": [
        {
          "output_type": "display_data",
          "data": {
            "image/png": "[encoded data removed]",
            "text/plain": [
              "<Figure size 432x288 with 1 Axes>"
            ]
          },
          "metadata": {
            "tags": [],
            "needs_background": "light"
          }
        }
      ]
    },
    {
      "cell_type": "code",
      "metadata": {
        "id": "oobghPb1Tllj",
        "colab_type": "code",
        "outputId": "749692bf-a12f-4eb6-ea2f-0b76996ac767",
        "colab": {
          "base_uri": "https://localhost:8080/"
        }
      },
      "source": [
        "# histogram for TotalCharges (training set)\n",
        "traindrop_2['TotalCharges'].hist()"
      ],
      "execution_count": 0,
      "outputs": [
        {
          "output_type": "execute_result",
          "data": {
            "text/plain": [
              "<matplotlib.axes._subplots.AxesSubplot at 0x7f2e9e460208>"
            ]
          },
          "metadata": {
            "tags": []
          },
          "execution_count": 76
        },
        {
          "output_type": "display_data",
          "data": {
            "image/png": "[encoded data removed]",
            "text/plain": [
              "<Figure size 432x288 with 1 Axes>"
            ]
          },
          "metadata": {
            "tags": [],
            "needs_background": "light"
          }
        }
      ]
    },
    {
      "cell_type": "code",
      "metadata": {
        "id": "N2GLAPXaTlll",
        "colab_type": "code",
        "outputId": "54a60c22-ace2-4eaf-97ac-3ed8e4179ef5",
        "colab": {
          "base_uri": "https://localhost:8080/"
        }
      },
      "source": [
        "# boxplot for TotalCharges (training set)\n",
        "ax = sns.boxplot(traindrop_2['TotalCharges'])"
      ],
      "execution_count": 0,
      "outputs": [
        {
          "output_type": "display_data",
          "data": {
            "image/png": "[encoded data removed]",
            "text/plain": [
              "<Figure size 432x288 with 1 Axes>"
            ]
          },
          "metadata": {
            "tags": [],
            "needs_background": "light"
          }
        }
      ]
    },
    {
      "cell_type": "code",
      "metadata": {
        "id": "vsdf7RGKTllm",
        "colab_type": "code",
        "outputId": "20e3fa4a-d288-4df4-a6b9-4e2f8ee9602f",
        "colab": {
          "base_uri": "https://localhost:8080/"
        }
      },
      "source": [
        "# histogram for TotalCharges (testing set)\n",
        "testdrop_2['TotalCharges'].hist()"
      ],
      "execution_count": 0,
      "outputs": [
        {
          "output_type": "execute_result",
          "data": {
            "text/plain": [
              "<matplotlib.axes._subplots.AxesSubplot at 0x7f2e9e3a8e80>"
            ]
          },
          "metadata": {
            "tags": []
          },
          "execution_count": 78
        },
        {
          "output_type": "display_data",
          "data": {
            "image/png": "[encoded data removed]",
            "text/plain": [
              "<Figure size 432x288 with 1 Axes>"
            ]
          },
          "metadata": {
            "tags": [],
            "needs_background": "light"
          }
        }
      ]
    },
    {
      "cell_type": "code",
      "metadata": {
        "id": "H9lQJ1GYTllp",
        "colab_type": "code",
        "outputId": "31463d38-d61e-4e56-b4f5-da789ad9a35d",
        "colab": {
          "base_uri": "https://localhost:8080/"
        }
      },
      "source": [
        "# boxplot for TotalCharges (testing set)\n",
        "ax = sns.boxplot(testdrop_2['TotalCharges'])"
      ],
      "execution_count": 0,
      "outputs": [
        {
          "output_type": "display_data",
          "data": {
            "image/png": "[encoded data removed]",
            "text/plain": [
              "<Figure size 432x288 with 1 Axes>"
            ]
          },
          "metadata": {
            "tags": [],
            "needs_background": "light"
          }
        }
      ]
    },
    {
      "cell_type": "markdown",
      "metadata": {
        "id": "a_XlXY0X9olH",
        "colab_type": "text"
      },
      "source": [
        "## Apply Z score normalization"
      ]
    },
    {
      "cell_type": "code",
      "metadata": {
        "id": "sNyZ26QKTllu",
        "colab_type": "code",
        "colab": {}
      },
      "source": [
        "#Apply Zscore normalization on a single attribute\n",
        "zscore_scaler = preprocessing.StandardScaler().fit(traindrop_2[['tenure']])\n",
        "traindrop_2['tenure_zscore']=zscore_scaler.transform(traindrop_2[['tenure']])\n",
        "testdrop_2['tenure_zscore']=zscore_scaler.transform(testdrop_2[['tenure']])\n",
        "zscore_scaler = preprocessing.StandardScaler().fit(traindrop_2[['MonthlyCharges']])\n",
        "traindrop_2['MonthlyCharges_zscore']=zscore_scaler.transform(traindrop_2[['MonthlyCharges']])\n",
        "testdrop_2['MonthlyCharges_zscore']=zscore_scaler.transform(testdrop_2[['MonthlyCharges']])\n",
        "zscore_scaler = preprocessing.StandardScaler().fit(traindrop_2[['TotalCharges']])\n",
        "traindrop_2['TotalCharges_zscore']=zscore_scaler.transform(traindrop_2[['TotalCharges']])\n",
        "testdrop_2['TotalCharges_zscore']=zscore_scaler.transform(testdrop_2[['TotalCharges']])"
      ],
      "execution_count": 0,
      "outputs": []
    },
    {
      "cell_type": "code",
      "metadata": {
        "id": "1tAQgQJXTllw",
        "colab_type": "code",
        "colab": {}
      },
      "source": [
        "traindrop_2 = traindrop_2.drop(columns=['tenure', 'MonthlyCharges', 'TotalCharges'])\n",
        "testdrop_2 = testdrop_2.drop(columns=['tenure', 'MonthlyCharges', 'TotalCharges'] )"
      ],
      "execution_count": 0,
      "outputs": []
    },
    {
      "cell_type": "code",
      "metadata": {
        "id": "MZD-NQSkTlly",
        "colab_type": "code",
        "outputId": "cdf92ceb-0991-4386-a630-56c2f401624b",
        "colab": {
          "base_uri": "https://localhost:8080/",
          "height": 504
        }
      },
      "source": [
        "display('Monthly Charges Z score', 'traindrop_2', \n",
        "        traindrop_2['MonthlyCharges_zscore'], 'test_drop_2',testdrop_2['MonthlyCharges_zscore'])"
      ],
      "execution_count": 0,
      "outputs": [
        {
          "output_type": "display_data",
          "data": {
            "text/plain": [
              "'Monthly Charges Z score'"
            ]
          },
          "metadata": {
            "tags": []
          }
        },
        {
          "output_type": "display_data",
          "data": {
            "text/plain": [
              "'traindrop_2'"
            ]
          },
          "metadata": {
            "tags": []
          }
        },
        {
          "output_type": "display_data",
          "data": {
            "text/plain": [
              "customerID\n",
              "0002-ORFBO    0.024581\n",
              "0003-MKNFE   -0.164728\n",
              "0004-TLHLJ    0.300241\n",
              "0011-IGKFF    1.100651\n",
              "0013-EXCHZ    0.632361\n",
              "                ...   \n",
              "9986-BONCE   -1.458337\n",
              "9987-LUTYD   -0.322485\n",
              "9992-RRAMN    0.672216\n",
              "9992-UJOEL   -0.483563\n",
              "9995-HOTOH   -0.194619\n",
              "Name: MonthlyCharges_zscore, Length: 5634, dtype: float64"
            ]
          },
          "metadata": {
            "tags": []
          }
        },
        {
          "output_type": "display_data",
          "data": {
            "text/plain": [
              "'test_drop_2'"
            ]
          },
          "metadata": {
            "tags": []
          }
        },
        {
          "output_type": "display_data",
          "data": {
            "text/plain": [
              "customerID\n",
              "0017-IUDMW    1.725038\n",
              "0018-NYROU    0.135841\n",
              "0020-JDNXP   -0.119891\n",
              "0027-KWYKW    0.627380\n",
              "0032-PGELS   -1.141162\n",
              "                ...   \n",
              "9933-QRGTX    1.074082\n",
              "9972-NKTFD   -0.339091\n",
              "9978-HYCIN    0.667234\n",
              "9979-RGMZT    0.969464\n",
              "9993-LHIEB    0.099308\n",
              "Name: MonthlyCharges_zscore, Length: 1409, dtype: float64"
            ]
          },
          "metadata": {
            "tags": []
          }
        }
      ]
    },
    {
      "cell_type": "code",
      "metadata": {
        "id": "GxLPquerTll1",
        "colab_type": "code",
        "outputId": "93788344-a040-4063-dec1-96c5d2ebcd8e",
        "colab": {
          "base_uri": "https://localhost:8080/",
          "height": 504
        }
      },
      "source": [
        "display('Total Charges Z score', 'traindrop_2', \n",
        "        traindrop_2['TotalCharges_zscore'], 'test_drop_2',testdrop_2['TotalCharges_zscore'])"
      ],
      "execution_count": 0,
      "outputs": [
        {
          "output_type": "display_data",
          "data": {
            "text/plain": [
              "'Total Charges Z score'"
            ]
          },
          "metadata": {
            "tags": []
          }
        },
        {
          "output_type": "display_data",
          "data": {
            "text/plain": [
              "'traindrop_2'"
            ]
          },
          "metadata": {
            "tags": []
          }
        },
        {
          "output_type": "display_data",
          "data": {
            "text/plain": [
              "customerID\n",
              "0002-ORFBO   -0.745995\n",
              "0003-MKNFE   -0.768480\n",
              "0004-TLHLJ   -0.884020\n",
              "0011-IGKFF   -0.461265\n",
              "0013-EXCHZ   -0.889961\n",
              "                ...   \n",
              "9986-BONCE   -0.970315\n",
              "9987-LUTYD   -0.679909\n",
              "9992-RRAMN   -0.180379\n",
              "9992-UJOEL   -0.967113\n",
              "9995-HOTOH    0.629746\n",
              "Name: TotalCharges_zscore, Length: 5634, dtype: float64"
            ]
          },
          "metadata": {
            "tags": []
          }
        },
        {
          "output_type": "display_data",
          "data": {
            "text/plain": [
              "'test_drop_2'"
            ]
          },
          "metadata": {
            "tags": []
          }
        },
        {
          "output_type": "display_data",
          "data": {
            "text/plain": [
              "customerID\n",
              "0017-IUDMW    2.727682\n",
              "0018-NYROU   -0.852810\n",
              "0020-JDNXP   -0.127590\n",
              "0027-KWYKW   -0.190870\n",
              "0032-PGELS   -0.994612\n",
              "                ...   \n",
              "9933-QRGTX    1.470904\n",
              "9972-NKTFD   -0.337730\n",
              "9978-HYCIN    0.766887\n",
              "9979-RGMZT   -0.728259\n",
              "9993-LHIEB    1.036178\n",
              "Name: TotalCharges_zscore, Length: 1409, dtype: float64"
            ]
          },
          "metadata": {
            "tags": []
          }
        }
      ]
    },
    {
      "cell_type": "code",
      "metadata": {
        "id": "HHmHDZcOTll2",
        "colab_type": "code",
        "outputId": "8e9f39e7-fa25-40a7-df11-b90de6355001",
        "colab": {
          "base_uri": "https://localhost:8080/",
          "height": 705
        }
      },
      "source": [
        "#check the data once again\n",
        "display('traindrop_2', traindrop_2.head(),'testdrop_2', testdrop_2.head() )"
      ],
      "execution_count": 0,
      "outputs": [
        {
          "output_type": "display_data",
          "data": {
            "text/plain": [
              "'traindrop_2'"
            ]
          },
          "metadata": {
            "tags": []
          }
        },
        {
          "output_type": "display_data",
          "data": {
            "text/html": [
              "<div>\n",
              "<style scoped>\n",
              "    .dataframe tbody tr th:only-of-type {\n",
              "        vertical-align: middle;\n",
              "    }\n",
              "\n",
              "    .dataframe tbody tr th {\n",
              "        vertical-align: top;\n",
              "    }\n",
              "\n",
              "    .dataframe thead th {\n",
              "        text-align: right;\n",
              "    }\n",
              "</style>\n",
              "<table border=\"1\" class=\"dataframe\">\n",
              "  <thead>\n",
              "    <tr style=\"text-align: right;\">\n",
              "      <th></th>\n",
              "      <th>SeniorCitizen</th>\n",
              "      <th>gender_Male</th>\n",
              "      <th>Partner_Yes</th>\n",
              "      <th>Dependents_Yes</th>\n",
              "      <th>PhoneService_Yes</th>\n",
              "      <th>MultipleLines_No</th>\n",
              "      <th>MultipleLines_Yes</th>\n",
              "      <th>InternetService_DSL</th>\n",
              "      <th>InternetService_Fiber optic</th>\n",
              "      <th>OnlineSecurity_No</th>\n",
              "      <th>OnlineSecurity_Yes</th>\n",
              "      <th>OnlineBackup_No</th>\n",
              "      <th>OnlineBackup_Yes</th>\n",
              "      <th>DeviceProtection_No</th>\n",
              "      <th>DeviceProtection_Yes</th>\n",
              "      <th>TechSupport_No</th>\n",
              "      <th>TechSupport_Yes</th>\n",
              "      <th>StreamingTV_No</th>\n",
              "      <th>StreamingTV_Yes</th>\n",
              "      <th>StreamingMovies_No</th>\n",
              "      <th>StreamingMovies_Yes</th>\n",
              "      <th>Contract_Month-to-month</th>\n",
              "      <th>Contract_Two year</th>\n",
              "      <th>PaperlessBilling_Yes</th>\n",
              "      <th>PaymentMethod_Bank transfer (automatic)</th>\n",
              "      <th>PaymentMethod_Electronic check</th>\n",
              "      <th>PaymentMethod_Mailed check</th>\n",
              "      <th>tenure_zscore</th>\n",
              "      <th>MonthlyCharges_zscore</th>\n",
              "      <th>TotalCharges_zscore</th>\n",
              "    </tr>\n",
              "    <tr>\n",
              "      <th>customerID</th>\n",
              "      <th></th>\n",
              "      <th></th>\n",
              "      <th></th>\n",
              "      <th></th>\n",
              "      <th></th>\n",
              "      <th></th>\n",
              "      <th></th>\n",
              "      <th></th>\n",
              "      <th></th>\n",
              "      <th></th>\n",
              "      <th></th>\n",
              "      <th></th>\n",
              "      <th></th>\n",
              "      <th></th>\n",
              "      <th></th>\n",
              "      <th></th>\n",
              "      <th></th>\n",
              "      <th></th>\n",
              "      <th></th>\n",
              "      <th></th>\n",
              "      <th></th>\n",
              "      <th></th>\n",
              "      <th></th>\n",
              "      <th></th>\n",
              "      <th></th>\n",
              "      <th></th>\n",
              "      <th></th>\n",
              "      <th></th>\n",
              "      <th></th>\n",
              "      <th></th>\n",
              "    </tr>\n",
              "  </thead>\n",
              "  <tbody>\n",
              "    <tr>\n",
              "      <th>0002-ORFBO</th>\n",
              "      <td>0</td>\n",
              "      <td>0</td>\n",
              "      <td>1</td>\n",
              "      <td>1</td>\n",
              "      <td>1</td>\n",
              "      <td>1</td>\n",
              "      <td>0</td>\n",
              "      <td>1</td>\n",
              "      <td>0</td>\n",
              "      <td>1</td>\n",
              "      <td>0</td>\n",
              "      <td>0</td>\n",
              "      <td>1</td>\n",
              "      <td>1</td>\n",
              "      <td>0</td>\n",
              "      <td>0</td>\n",
              "      <td>1</td>\n",
              "      <td>0</td>\n",
              "      <td>1</td>\n",
              "      <td>1</td>\n",
              "      <td>0</td>\n",
              "      <td>0</td>\n",
              "      <td>0</td>\n",
              "      <td>1</td>\n",
              "      <td>0</td>\n",
              "      <td>0</td>\n",
              "      <td>1</td>\n",
              "      <td>-0.947491</td>\n",
              "      <td>0.024581</td>\n",
              "      <td>-0.745995</td>\n",
              "    </tr>\n",
              "    <tr>\n",
              "      <th>0003-MKNFE</th>\n",
              "      <td>0</td>\n",
              "      <td>1</td>\n",
              "      <td>0</td>\n",
              "      <td>0</td>\n",
              "      <td>1</td>\n",
              "      <td>0</td>\n",
              "      <td>1</td>\n",
              "      <td>1</td>\n",
              "      <td>0</td>\n",
              "      <td>1</td>\n",
              "      <td>0</td>\n",
              "      <td>1</td>\n",
              "      <td>0</td>\n",
              "      <td>1</td>\n",
              "      <td>0</td>\n",
              "      <td>1</td>\n",
              "      <td>0</td>\n",
              "      <td>1</td>\n",
              "      <td>0</td>\n",
              "      <td>0</td>\n",
              "      <td>1</td>\n",
              "      <td>1</td>\n",
              "      <td>0</td>\n",
              "      <td>0</td>\n",
              "      <td>0</td>\n",
              "      <td>0</td>\n",
              "      <td>1</td>\n",
              "      <td>-0.947491</td>\n",
              "      <td>-0.164728</td>\n",
              "      <td>-0.768480</td>\n",
              "    </tr>\n",
              "    <tr>\n",
              "      <th>0004-TLHLJ</th>\n",
              "      <td>0</td>\n",
              "      <td>1</td>\n",
              "      <td>0</td>\n",
              "      <td>0</td>\n",
              "      <td>1</td>\n",
              "      <td>1</td>\n",
              "      <td>0</td>\n",
              "      <td>0</td>\n",
              "      <td>1</td>\n",
              "      <td>1</td>\n",
              "      <td>0</td>\n",
              "      <td>1</td>\n",
              "      <td>0</td>\n",
              "      <td>0</td>\n",
              "      <td>1</td>\n",
              "      <td>1</td>\n",
              "      <td>0</td>\n",
              "      <td>1</td>\n",
              "      <td>0</td>\n",
              "      <td>1</td>\n",
              "      <td>0</td>\n",
              "      <td>1</td>\n",
              "      <td>0</td>\n",
              "      <td>1</td>\n",
              "      <td>0</td>\n",
              "      <td>1</td>\n",
              "      <td>0</td>\n",
              "      <td>-1.151440</td>\n",
              "      <td>0.300241</td>\n",
              "      <td>-0.884020</td>\n",
              "    </tr>\n",
              "    <tr>\n",
              "      <th>0011-IGKFF</th>\n",
              "      <td>1</td>\n",
              "      <td>1</td>\n",
              "      <td>1</td>\n",
              "      <td>0</td>\n",
              "      <td>1</td>\n",
              "      <td>1</td>\n",
              "      <td>0</td>\n",
              "      <td>0</td>\n",
              "      <td>1</td>\n",
              "      <td>1</td>\n",
              "      <td>0</td>\n",
              "      <td>0</td>\n",
              "      <td>1</td>\n",
              "      <td>0</td>\n",
              "      <td>1</td>\n",
              "      <td>1</td>\n",
              "      <td>0</td>\n",
              "      <td>0</td>\n",
              "      <td>1</td>\n",
              "      <td>0</td>\n",
              "      <td>1</td>\n",
              "      <td>1</td>\n",
              "      <td>0</td>\n",
              "      <td>1</td>\n",
              "      <td>0</td>\n",
              "      <td>1</td>\n",
              "      <td>0</td>\n",
              "      <td>-0.784332</td>\n",
              "      <td>1.100651</td>\n",
              "      <td>-0.461265</td>\n",
              "    </tr>\n",
              "    <tr>\n",
              "      <th>0013-EXCHZ</th>\n",
              "      <td>1</td>\n",
              "      <td>0</td>\n",
              "      <td>1</td>\n",
              "      <td>0</td>\n",
              "      <td>1</td>\n",
              "      <td>1</td>\n",
              "      <td>0</td>\n",
              "      <td>0</td>\n",
              "      <td>1</td>\n",
              "      <td>1</td>\n",
              "      <td>0</td>\n",
              "      <td>1</td>\n",
              "      <td>0</td>\n",
              "      <td>1</td>\n",
              "      <td>0</td>\n",
              "      <td>0</td>\n",
              "      <td>1</td>\n",
              "      <td>0</td>\n",
              "      <td>1</td>\n",
              "      <td>1</td>\n",
              "      <td>0</td>\n",
              "      <td>1</td>\n",
              "      <td>0</td>\n",
              "      <td>1</td>\n",
              "      <td>0</td>\n",
              "      <td>0</td>\n",
              "      <td>1</td>\n",
              "      <td>-1.192230</td>\n",
              "      <td>0.632361</td>\n",
              "      <td>-0.889961</td>\n",
              "    </tr>\n",
              "  </tbody>\n",
              "</table>\n",
              "</div>"
            ],
            "text/plain": [
              "           SeniorCitizen  ...  TotalCharges_zscore\n",
              "customerID                ...                     \n",
              "0002-ORFBO             0  ...            -0.745995\n",
              "0003-MKNFE             0  ...            -0.768480\n",
              "0004-TLHLJ             0  ...            -0.884020\n",
              "0011-IGKFF             1  ...            -0.461265\n",
              "0013-EXCHZ             1  ...            -0.889961\n",
              "\n",
              "[5 rows x 30 columns]"
            ]
          },
          "metadata": {
            "tags": []
          }
        },
        {
          "output_type": "display_data",
          "data": {
            "text/plain": [
              "'testdrop_2'"
            ]
          },
          "metadata": {
            "tags": []
          }
        },
        {
          "output_type": "display_data",
          "data": {
            "text/html": [
              "<div>\n",
              "<style scoped>\n",
              "    .dataframe tbody tr th:only-of-type {\n",
              "        vertical-align: middle;\n",
              "    }\n",
              "\n",
              "    .dataframe tbody tr th {\n",
              "        vertical-align: top;\n",
              "    }\n",
              "\n",
              "    .dataframe thead th {\n",
              "        text-align: right;\n",
              "    }\n",
              "</style>\n",
              "<table border=\"1\" class=\"dataframe\">\n",
              "  <thead>\n",
              "    <tr style=\"text-align: right;\">\n",
              "      <th></th>\n",
              "      <th>SeniorCitizen</th>\n",
              "      <th>gender_Male</th>\n",
              "      <th>Partner_Yes</th>\n",
              "      <th>Dependents_Yes</th>\n",
              "      <th>PhoneService_Yes</th>\n",
              "      <th>MultipleLines_No</th>\n",
              "      <th>MultipleLines_Yes</th>\n",
              "      <th>InternetService_DSL</th>\n",
              "      <th>InternetService_Fiber optic</th>\n",
              "      <th>OnlineSecurity_No</th>\n",
              "      <th>OnlineSecurity_Yes</th>\n",
              "      <th>OnlineBackup_No</th>\n",
              "      <th>OnlineBackup_Yes</th>\n",
              "      <th>DeviceProtection_No</th>\n",
              "      <th>DeviceProtection_Yes</th>\n",
              "      <th>TechSupport_No</th>\n",
              "      <th>TechSupport_Yes</th>\n",
              "      <th>StreamingTV_No</th>\n",
              "      <th>StreamingTV_Yes</th>\n",
              "      <th>StreamingMovies_No</th>\n",
              "      <th>StreamingMovies_Yes</th>\n",
              "      <th>Contract_Month-to-month</th>\n",
              "      <th>Contract_Two year</th>\n",
              "      <th>PaperlessBilling_Yes</th>\n",
              "      <th>PaymentMethod_Bank transfer (automatic)</th>\n",
              "      <th>PaymentMethod_Electronic check</th>\n",
              "      <th>PaymentMethod_Mailed check</th>\n",
              "      <th>tenure_zscore</th>\n",
              "      <th>MonthlyCharges_zscore</th>\n",
              "      <th>TotalCharges_zscore</th>\n",
              "    </tr>\n",
              "    <tr>\n",
              "      <th>customerID</th>\n",
              "      <th></th>\n",
              "      <th></th>\n",
              "      <th></th>\n",
              "      <th></th>\n",
              "      <th></th>\n",
              "      <th></th>\n",
              "      <th></th>\n",
              "      <th></th>\n",
              "      <th></th>\n",
              "      <th></th>\n",
              "      <th></th>\n",
              "      <th></th>\n",
              "      <th></th>\n",
              "      <th></th>\n",
              "      <th></th>\n",
              "      <th></th>\n",
              "      <th></th>\n",
              "      <th></th>\n",
              "      <th></th>\n",
              "      <th></th>\n",
              "      <th></th>\n",
              "      <th></th>\n",
              "      <th></th>\n",
              "      <th></th>\n",
              "      <th></th>\n",
              "      <th></th>\n",
              "      <th></th>\n",
              "      <th></th>\n",
              "      <th></th>\n",
              "      <th></th>\n",
              "    </tr>\n",
              "  </thead>\n",
              "  <tbody>\n",
              "    <tr>\n",
              "      <th>0017-IUDMW</th>\n",
              "      <td>0</td>\n",
              "      <td>0</td>\n",
              "      <td>1</td>\n",
              "      <td>1</td>\n",
              "      <td>1</td>\n",
              "      <td>0</td>\n",
              "      <td>1</td>\n",
              "      <td>0</td>\n",
              "      <td>1</td>\n",
              "      <td>0</td>\n",
              "      <td>1</td>\n",
              "      <td>0</td>\n",
              "      <td>1</td>\n",
              "      <td>0</td>\n",
              "      <td>1</td>\n",
              "      <td>0</td>\n",
              "      <td>1</td>\n",
              "      <td>0</td>\n",
              "      <td>1</td>\n",
              "      <td>0</td>\n",
              "      <td>1</td>\n",
              "      <td>0</td>\n",
              "      <td>1</td>\n",
              "      <td>1</td>\n",
              "      <td>0</td>\n",
              "      <td>0</td>\n",
              "      <td>0</td>\n",
              "      <td>1.622268</td>\n",
              "      <td>1.725038</td>\n",
              "      <td>2.727682</td>\n",
              "    </tr>\n",
              "    <tr>\n",
              "      <th>0018-NYROU</th>\n",
              "      <td>0</td>\n",
              "      <td>0</td>\n",
              "      <td>1</td>\n",
              "      <td>0</td>\n",
              "      <td>1</td>\n",
              "      <td>1</td>\n",
              "      <td>0</td>\n",
              "      <td>0</td>\n",
              "      <td>1</td>\n",
              "      <td>1</td>\n",
              "      <td>0</td>\n",
              "      <td>1</td>\n",
              "      <td>0</td>\n",
              "      <td>1</td>\n",
              "      <td>0</td>\n",
              "      <td>1</td>\n",
              "      <td>0</td>\n",
              "      <td>1</td>\n",
              "      <td>0</td>\n",
              "      <td>1</td>\n",
              "      <td>0</td>\n",
              "      <td>1</td>\n",
              "      <td>0</td>\n",
              "      <td>1</td>\n",
              "      <td>0</td>\n",
              "      <td>1</td>\n",
              "      <td>0</td>\n",
              "      <td>-1.110650</td>\n",
              "      <td>0.135841</td>\n",
              "      <td>-0.852810</td>\n",
              "    </tr>\n",
              "    <tr>\n",
              "      <th>0020-JDNXP</th>\n",
              "      <td>0</td>\n",
              "      <td>0</td>\n",
              "      <td>1</td>\n",
              "      <td>1</td>\n",
              "      <td>0</td>\n",
              "      <td>0</td>\n",
              "      <td>0</td>\n",
              "      <td>1</td>\n",
              "      <td>0</td>\n",
              "      <td>0</td>\n",
              "      <td>1</td>\n",
              "      <td>1</td>\n",
              "      <td>0</td>\n",
              "      <td>0</td>\n",
              "      <td>1</td>\n",
              "      <td>0</td>\n",
              "      <td>1</td>\n",
              "      <td>0</td>\n",
              "      <td>1</td>\n",
              "      <td>0</td>\n",
              "      <td>1</td>\n",
              "      <td>0</td>\n",
              "      <td>0</td>\n",
              "      <td>0</td>\n",
              "      <td>0</td>\n",
              "      <td>0</td>\n",
              "      <td>1</td>\n",
              "      <td>0.072255</td>\n",
              "      <td>-0.119891</td>\n",
              "      <td>-0.127590</td>\n",
              "    </tr>\n",
              "    <tr>\n",
              "      <th>0027-KWYKW</th>\n",
              "      <td>0</td>\n",
              "      <td>0</td>\n",
              "      <td>1</td>\n",
              "      <td>1</td>\n",
              "      <td>1</td>\n",
              "      <td>0</td>\n",
              "      <td>1</td>\n",
              "      <td>0</td>\n",
              "      <td>1</td>\n",
              "      <td>1</td>\n",
              "      <td>0</td>\n",
              "      <td>1</td>\n",
              "      <td>0</td>\n",
              "      <td>1</td>\n",
              "      <td>0</td>\n",
              "      <td>1</td>\n",
              "      <td>0</td>\n",
              "      <td>0</td>\n",
              "      <td>1</td>\n",
              "      <td>1</td>\n",
              "      <td>0</td>\n",
              "      <td>1</td>\n",
              "      <td>0</td>\n",
              "      <td>1</td>\n",
              "      <td>0</td>\n",
              "      <td>1</td>\n",
              "      <td>0</td>\n",
              "      <td>-0.376434</td>\n",
              "      <td>0.627380</td>\n",
              "      <td>-0.190870</td>\n",
              "    </tr>\n",
              "    <tr>\n",
              "      <th>0032-PGELS</th>\n",
              "      <td>0</td>\n",
              "      <td>0</td>\n",
              "      <td>1</td>\n",
              "      <td>1</td>\n",
              "      <td>0</td>\n",
              "      <td>0</td>\n",
              "      <td>0</td>\n",
              "      <td>1</td>\n",
              "      <td>0</td>\n",
              "      <td>0</td>\n",
              "      <td>1</td>\n",
              "      <td>1</td>\n",
              "      <td>0</td>\n",
              "      <td>1</td>\n",
              "      <td>0</td>\n",
              "      <td>1</td>\n",
              "      <td>0</td>\n",
              "      <td>1</td>\n",
              "      <td>0</td>\n",
              "      <td>1</td>\n",
              "      <td>0</td>\n",
              "      <td>1</td>\n",
              "      <td>0</td>\n",
              "      <td>0</td>\n",
              "      <td>1</td>\n",
              "      <td>0</td>\n",
              "      <td>0</td>\n",
              "      <td>-1.273810</td>\n",
              "      <td>-1.141162</td>\n",
              "      <td>-0.994612</td>\n",
              "    </tr>\n",
              "  </tbody>\n",
              "</table>\n",
              "</div>"
            ],
            "text/plain": [
              "           SeniorCitizen  ...  TotalCharges_zscore\n",
              "customerID                ...                     \n",
              "0017-IUDMW             0  ...             2.727682\n",
              "0018-NYROU             0  ...            -0.852810\n",
              "0020-JDNXP             0  ...            -0.127590\n",
              "0027-KWYKW             0  ...            -0.190870\n",
              "0032-PGELS             0  ...            -0.994612\n",
              "\n",
              "[5 rows x 30 columns]"
            ]
          },
          "metadata": {
            "tags": []
          }
        }
      ]
    },
    {
      "cell_type": "markdown",
      "metadata": {
        "id": "1UlvZwv1Tll5",
        "colab_type": "text"
      },
      "source": [
        "## Cleaned Dataset 3"
      ]
    },
    {
      "cell_type": "code",
      "metadata": {
        "id": "qeTfh2jMTll5",
        "colab_type": "code",
        "colab": {}
      },
      "source": [
        "train_3, test_3,y_train_3, y_test_3 = train_test_split(X, y, test_size=0.2, random_state = 30)"
      ],
      "execution_count": 0,
      "outputs": []
    },
    {
      "cell_type": "code",
      "metadata": {
        "id": "s9VzWhESTll8",
        "colab_type": "code",
        "colab": {}
      },
      "source": [
        "y_traindrop_3 = y_train_3.sort_values(['customerID'])\n",
        "y_testdrop_3 = y_test_3.sort_values(['customerID'])"
      ],
      "execution_count": 0,
      "outputs": []
    },
    {
      "cell_type": "code",
      "metadata": {
        "id": "qh0CQ8G9Tll9",
        "colab_type": "code",
        "colab": {}
      },
      "source": [
        "churn = y_train_3['Churn']\n",
        "train_3 = train_3.join(churn)"
      ],
      "execution_count": 0,
      "outputs": []
    },
    {
      "cell_type": "markdown",
      "metadata": {
        "id": "wZfDCxVLTll_",
        "colab_type": "text"
      },
      "source": [
        "## One hot-encoding on Yes and Nos"
      ]
    },
    {
      "cell_type": "code",
      "metadata": {
        "id": "wimwhaD_Tll_",
        "colab_type": "code",
        "outputId": "01db5603-3ec1-4b6c-c0c8-8c5450aac3c5",
        "colab": {
          "base_uri": "https://localhost:8080/"
        }
      },
      "source": [
        "#get columns with only 'Yes' and 'No'\n",
        "to_1_or_0_list = []\n",
        "for instance in train_3.columns:\n",
        "    if len(train_3[instance].unique()) == 2:\n",
        "        print(instance)\n",
        "        if 'Yes' in list(train_3[instance].unique()):\n",
        "            to_1_or_0_list.append(instance)\n",
        "        print (train_3[instance].unique())\n",
        "print(to_1_or_0_list)"
      ],
      "execution_count": 0,
      "outputs": [
        {
          "output_type": "stream",
          "text": [
            "gender\n",
            "['Female' 'Male']\n",
            "SeniorCitizen\n",
            "[0 1]\n",
            "Partner\n",
            "['No' 'Yes']\n",
            "Dependents\n",
            "['Yes' 'No']\n",
            "PhoneService\n",
            "['Yes' 'No']\n",
            "PaperlessBilling\n",
            "['No' 'Yes']\n",
            "Churn\n",
            "['No' 'Yes']\n",
            "['Partner', 'Dependents', 'PhoneService', 'PaperlessBilling', 'Churn']\n"
          ],
          "name": "stdout"
        }
      ]
    },
    {
      "cell_type": "code",
      "metadata": {
        "id": "3y2QDJ3vTlmB",
        "colab_type": "code",
        "colab": {}
      },
      "source": [
        "#convert all columns with 'Yes' and 'No' to to 1 and 0\n",
        "for col in to_1_or_0_list:\n",
        "    train_3[col].replace(to_replace='Yes', value=1, inplace=True)\n",
        "    train_3[col].replace(to_replace='No',  value=0, inplace=True)\n",
        "train_3['gender'].replace(to_replace='Male', value=1, inplace=True)\n",
        "train_3['gender'].replace(to_replace='Female',  value=0, inplace=True)\n",
        "train_3[to_1_or_0_list + ['SeniorCitizen', 'gender']] = train_3[to_1_or_0_list + ['SeniorCitizen', 'gender']].astype(int)\n",
        "\n",
        "if 'Churn' in to_1_or_0_list:\n",
        "    to_1_or_0_list.remove('Churn')\n",
        "\n",
        "for col in to_1_or_0_list:\n",
        "    test_3[col].replace(to_replace='Yes', value=1, inplace=True)\n",
        "    test_3[col].replace(to_replace='No',  value=0, inplace=True)\n",
        "test_3['gender'].replace(to_replace='Male', value=1, inplace=True)\n",
        "test_3['gender'].replace(to_replace='Female',  value=0, inplace=True)\n",
        "test_3[to_1_or_0_list + ['SeniorCitizen', 'gender']] = test_3[to_1_or_0_list + ['SeniorCitizen', 'gender']].astype(int)"
      ],
      "execution_count": 0,
      "outputs": []
    },
    {
      "cell_type": "code",
      "metadata": {
        "id": "cH1PhV6KTlmC",
        "colab_type": "code",
        "outputId": "e99c4b5b-30b1-4a45-d538-b09d8dde2025",
        "colab": {
          "base_uri": "https://localhost:8080/"
        }
      },
      "source": [
        "#check the new unique instances in each column\n",
        "for instance in train_3.columns:\n",
        "    print(instance)\n",
        "    print (train_3[instance].unique())"
      ],
      "execution_count": 0,
      "outputs": [
        {
          "output_type": "stream",
          "text": [
            "gender\n",
            "[0 1]\n",
            "SeniorCitizen\n",
            "[0 1]\n",
            "Partner\n",
            "[0 1]\n",
            "Dependents\n",
            "[1 0]\n",
            "tenure\n",
            "[25 57 70 12 24 18 53  8  1 63  3 40 72 11 71 62  5  2 35 45 34 44 17 23\n",
            " 39 58  0  4 22 60 69  7 67 42 43 54 29 36 14 15 49 26 50 30 31  6 32 66\n",
            " 56 38 13 19 21 46 10 28 52 16  9 48 65 20 59 68 47 64 51 37 27 55 61 33\n",
            " 41]\n",
            "PhoneService\n",
            "[1 0]\n",
            "MultipleLines\n",
            "['No' 'Yes' 'No phone service']\n",
            "InternetService\n",
            "['No' 'Fiber optic' 'DSL']\n",
            "OnlineSecurity\n",
            "['No internet service' 'No' 'Yes']\n",
            "OnlineBackup\n",
            "['No internet service' 'No' 'Yes']\n",
            "DeviceProtection\n",
            "['No internet service' 'Yes' 'No']\n",
            "TechSupport\n",
            "['No internet service' 'No' 'Yes']\n",
            "StreamingTV\n",
            "['No internet service' 'Yes' 'No']\n",
            "StreamingMovies\n",
            "['No internet service' 'Yes' 'No']\n",
            "Contract\n",
            "['Month-to-month' 'Two year' 'One year']\n",
            "PaperlessBilling\n",
            "[0 1]\n",
            "PaymentMethod\n",
            "['Credit card (automatic)' 'Electronic check' 'Mailed check'\n",
            " 'Bank transfer (automatic)']\n",
            "MonthlyCharges\n",
            "[20.05 95.25 69.2  ... 42.1  23.5  34.85]\n",
            "TotalCharges\n",
            "['471.7' '5464.65' '4872.35' ... '212.4' '1131.2' '1416.2']\n",
            "Churn\n",
            "[0 1]\n"
          ],
          "name": "stdout"
        }
      ]
    },
    {
      "cell_type": "code",
      "metadata": {
        "id": "7yxvTD99TlmE",
        "colab_type": "code",
        "colab": {}
      },
      "source": [
        "## Change the datatype"
      ],
      "execution_count": 0,
      "outputs": []
    },
    {
      "cell_type": "code",
      "metadata": {
        "id": "jFTMJYafTlmG",
        "colab_type": "code",
        "colab": {}
      },
      "source": [
        "#train_3['SeniorCitizen'] = train_3['SeniorCitizen'].astype(str)\n",
        "#test_3['SeniorCitizen'] = test_3['SeniorCitizen'].astype(str)"
      ],
      "execution_count": 0,
      "outputs": []
    },
    {
      "cell_type": "code",
      "metadata": {
        "id": "JKhU832dTlmH",
        "colab_type": "code",
        "colab": {}
      },
      "source": [
        "train_3.loc[:, 'TotalCharges'] = pd.to_numeric(train_3.loc[:, 'TotalCharges'], errors='coerce')\n",
        "test_3.loc[:, 'TotalCharges'] = pd.to_numeric(test_3.loc[:, 'TotalCharges'], errors='coerce')"
      ],
      "execution_count": 0,
      "outputs": []
    },
    {
      "cell_type": "markdown",
      "metadata": {
        "id": "bi0KNSELTlmI",
        "colab_type": "text"
      },
      "source": [
        "## Handle missing values"
      ]
    },
    {
      "cell_type": "code",
      "metadata": {
        "id": "y9kRSVVBTlmM",
        "colab_type": "code",
        "outputId": "29a71dfa-fd0d-4e9f-b391-0ef588a05a58",
        "colab": {
          "base_uri": "https://localhost:8080/"
        }
      },
      "source": [
        "#check for null values\n",
        "train_3.isnull().sum()"
      ],
      "execution_count": 0,
      "outputs": [
        {
          "output_type": "execute_result",
          "data": {
            "text/plain": [
              "gender              0\n",
              "SeniorCitizen       0\n",
              "Partner             0\n",
              "Dependents          0\n",
              "tenure              0\n",
              "PhoneService        0\n",
              "MultipleLines       0\n",
              "InternetService     0\n",
              "OnlineSecurity      0\n",
              "OnlineBackup        0\n",
              "DeviceProtection    0\n",
              "TechSupport         0\n",
              "StreamingTV         0\n",
              "StreamingMovies     0\n",
              "Contract            0\n",
              "PaperlessBilling    0\n",
              "PaymentMethod       0\n",
              "MonthlyCharges      0\n",
              "TotalCharges        9\n",
              "Churn               0\n",
              "dtype: int64"
            ]
          },
          "metadata": {
            "tags": []
          },
          "execution_count": 94
        }
      ]
    },
    {
      "cell_type": "code",
      "metadata": {
        "id": "KAM-TzTPTlmN",
        "colab_type": "code",
        "outputId": "4a9a1f99-f0cd-4c73-da3c-69eb3785bbf6",
        "colab": {
          "base_uri": "https://localhost:8080/"
        }
      },
      "source": [
        "test_3.isnull().sum()"
      ],
      "execution_count": 0,
      "outputs": [
        {
          "output_type": "execute_result",
          "data": {
            "text/plain": [
              "gender              0\n",
              "SeniorCitizen       0\n",
              "Partner             0\n",
              "Dependents          0\n",
              "tenure              0\n",
              "PhoneService        0\n",
              "MultipleLines       0\n",
              "InternetService     0\n",
              "OnlineSecurity      0\n",
              "OnlineBackup        0\n",
              "DeviceProtection    0\n",
              "TechSupport         0\n",
              "StreamingTV         0\n",
              "StreamingMovies     0\n",
              "Contract            0\n",
              "PaperlessBilling    0\n",
              "PaymentMethod       0\n",
              "MonthlyCharges      0\n",
              "TotalCharges        2\n",
              "dtype: int64"
            ]
          },
          "metadata": {
            "tags": []
          },
          "execution_count": 95
        }
      ]
    },
    {
      "cell_type": "code",
      "metadata": {
        "id": "IcT3ThwjTlmP",
        "colab_type": "code",
        "colab": {}
      },
      "source": [
        "#to fill in the missing values in training dataset for \"Total charges\" by type of internet service\n",
        "train_3.loc[:, 'TotalCharges'] = train_3.groupby('InternetService').TotalCharges.transform(lambda x: x.fillna(x.mean()))"
      ],
      "execution_count": 0,
      "outputs": []
    },
    {
      "cell_type": "code",
      "metadata": {
        "id": "bRr5z1RoTlmQ",
        "colab_type": "code",
        "outputId": "0cf305c6-f2f6-4bf9-bc7a-19b5286c263d",
        "colab": {
          "base_uri": "https://localhost:8080/"
        }
      },
      "source": [
        "#find the mean age for different types of internet service in training set\n",
        "train_3.groupby('InternetService').TotalCharges.mean()"
      ],
      "execution_count": 0,
      "outputs": [
        {
          "output_type": "execute_result",
          "data": {
            "text/plain": [
              "InternetService\n",
              "DSL            2104.864799\n",
              "Fiber optic    3201.726507\n",
              "No              657.025640\n",
              "Name: TotalCharges, dtype: float64"
            ]
          },
          "metadata": {
            "tags": []
          },
          "execution_count": 97
        }
      ]
    },
    {
      "cell_type": "code",
      "metadata": {
        "id": "EoQfgkJUTlmR",
        "colab_type": "code",
        "colab": {}
      },
      "source": [
        "#to fill in the missing values in training dataset for \"Total charges\" by type of internet service\n",
        "test_3.loc[:, 'TotalCharges'] = test_3.groupby('InternetService').TotalCharges.transform(lambda x: x.fillna(x.mean()))"
      ],
      "execution_count": 0,
      "outputs": []
    },
    {
      "cell_type": "code",
      "metadata": {
        "id": "1QNGgQlhTlmS",
        "colab_type": "code",
        "outputId": "04eaa89e-1cd1-417b-db7f-0ebcb9abfe5c",
        "colab": {
          "base_uri": "https://localhost:8080/"
        }
      },
      "source": [
        "#find the mean age for different types of internet service in training set\n",
        "test_3.groupby('InternetService').TotalCharges.mean()"
      ],
      "execution_count": 0,
      "outputs": [
        {
          "output_type": "execute_result",
          "data": {
            "text/plain": [
              "InternetService\n",
              "DSL            2177.415091\n",
              "Fiber optic    3219.035391\n",
              "No              703.158704\n",
              "Name: TotalCharges, dtype: float64"
            ]
          },
          "metadata": {
            "tags": []
          },
          "execution_count": 99
        }
      ]
    },
    {
      "cell_type": "markdown",
      "metadata": {
        "id": "qK1sjQ9ZTlmU",
        "colab_type": "text"
      },
      "source": [
        "## Apply Z score normalization"
      ]
    },
    {
      "cell_type": "code",
      "metadata": {
        "id": "iWASFltTTlmU",
        "colab_type": "code",
        "outputId": "0732a796-3899-4c92-ce32-998b5df865c3",
        "colab": {
          "base_uri": "https://localhost:8080/"
        }
      },
      "source": [
        "from sklearn import preprocessing\n",
        "#convert to numeric\n",
        "train_3['TotalCharges'] = pd.to_numeric(train_3['TotalCharges'], errors='coerce')\n",
        "test_3['TotalCharges'] = pd.to_numeric(test_3['TotalCharges'], errors='coerce')\n",
        "#normalize\n",
        "for normalize_col in ['tenure','MonthlyCharges', 'TotalCharges']:\n",
        "    zscore_scaler = preprocessing.StandardScaler().fit(train_3[[normalize_col]])\n",
        "    train_3[normalize_col]=zscore_scaler.transform(train_3[[normalize_col]])\n",
        "    test_3[normalize_col]=zscore_scaler.transform(test_3[[normalize_col]])\n",
        "#rename normalized columns\n",
        "train_3.rename(columns={'tenure':'tenure_normalize','MonthlyCharges' :'MonthlyCharges_normalize', 'TotalCharges':'TotalCharges_normalize'}, inplace=True)\n",
        "test_3.rename(columns={'tenure':'tenure_normalize','MonthlyCharges' :'MonthlyCharges_normalize', 'TotalCharges':'TotalCharges_normalize'}, inplace=True)\n",
        "#check the attirbutes\n",
        "for instance in train_3.columns:\n",
        "    print(instance)\n",
        "    print (train_3[instance].unique())"
      ],
      "execution_count": 0,
      "outputs": [
        {
          "output_type": "stream",
          "text": [
            "gender\n",
            "[0 1]\n",
            "SeniorCitizen\n",
            "[0 1]\n",
            "Partner\n",
            "[0 1]\n",
            "Dependents\n",
            "[1 0]\n",
            "tenure_normalize\n",
            "[-0.29351889  1.01151782  1.54168898 -0.82369005 -0.33430129 -0.57899567\n",
            "  0.84838823 -0.98681964 -1.27229642  1.2562122  -1.19073163  0.31821707\n",
            "  1.62325378 -0.86447245  1.58247138  1.2154298  -1.10916683 -1.23151402\n",
            "  0.11430508  0.52212905  0.07352269  0.48134666 -0.61977807 -0.37508368\n",
            "  0.27743467  1.05230022 -1.31307882 -1.14994923 -0.41586608  1.13386501\n",
            "  1.50090658 -1.02760204  1.41934179  0.39978186  0.44056426  0.88917063\n",
            " -0.1303893   0.15508748 -0.74212526 -0.70134286  0.68525864 -0.25273649\n",
            "  0.72604104 -0.0896069  -0.04882451 -1.06838443 -0.00804211  1.37855939\n",
            "  0.97073542  0.23665227 -0.78290765 -0.53821327 -0.45664848  0.56291145\n",
            " -0.90525485 -0.1711717   0.80760583 -0.66056046 -0.94603724  0.64447624\n",
            "  1.337777   -0.49743087  1.09308261  1.46012419  0.60369385  1.2969946\n",
            "  0.76682344  0.19586988 -0.21195409  0.92995302  1.17464741  0.03274029\n",
            "  0.35899946]\n",
            "PhoneService\n",
            "[1 0]\n",
            "MultipleLines\n",
            "['No' 'Yes' 'No phone service']\n",
            "InternetService\n",
            "['No' 'Fiber optic' 'DSL']\n",
            "OnlineSecurity\n",
            "['No internet service' 'No' 'Yes']\n",
            "OnlineBackup\n",
            "['No internet service' 'No' 'Yes']\n",
            "DeviceProtection\n",
            "['No internet service' 'Yes' 'No']\n",
            "TechSupport\n",
            "['No internet service' 'No' 'Yes']\n",
            "StreamingTV\n",
            "['No internet service' 'Yes' 'No']\n",
            "StreamingMovies\n",
            "['No internet service' 'Yes' 'No']\n",
            "Contract\n",
            "['Month-to-month' 'Two year' 'One year']\n",
            "PaperlessBilling\n",
            "[0 1]\n",
            "PaymentMethod\n",
            "['Credit card (automatic)' 'Electronic check' 'Mailed check'\n",
            " 'Bank transfer (automatic)']\n",
            "MonthlyCharges_normalize\n",
            "[-1.46656985  1.02351151  0.16092349 ... -0.73643296 -1.35233075\n",
            " -0.97650065]\n",
            "TotalCharges_normalize\n",
            "[-0.79185375  1.41807252  1.15591501 ... -0.90662235 -0.49995289\n",
            " -0.37380923]\n",
            "Churn\n",
            "[0 1]\n"
          ],
          "name": "stdout"
        }
      ]
    },
    {
      "cell_type": "markdown",
      "metadata": {
        "id": "L_xvWy2RTlmZ",
        "colab_type": "text"
      },
      "source": [
        "## Drop Meaningless Column"
      ]
    },
    {
      "cell_type": "code",
      "metadata": {
        "id": "I1DswI6CTlmZ",
        "colab_type": "code",
        "colab": {}
      },
      "source": [
        "corr_train_3 = train_3.corr()"
      ],
      "execution_count": 0,
      "outputs": []
    },
    {
      "cell_type": "code",
      "metadata": {
        "id": "AikaCIC-Tlmd",
        "colab_type": "code",
        "outputId": "7e6b5916-43d8-480b-c263-919ff8854700",
        "colab": {
          "base_uri": "https://localhost:8080/"
        }
      },
      "source": [
        "display(corr_train_3)"
      ],
      "execution_count": 0,
      "outputs": [
        {
          "output_type": "display_data",
          "data": {
            "text/html": [
              "<div>\n",
              "<style scoped>\n",
              "    .dataframe tbody tr th:only-of-type {\n",
              "        vertical-align: middle;\n",
              "    }\n",
              "\n",
              "    .dataframe tbody tr th {\n",
              "        vertical-align: top;\n",
              "    }\n",
              "\n",
              "    .dataframe thead th {\n",
              "        text-align: right;\n",
              "    }\n",
              "</style>\n",
              "<table border=\"1\" class=\"dataframe\">\n",
              "  <thead>\n",
              "    <tr style=\"text-align: right;\">\n",
              "      <th></th>\n",
              "      <th>gender</th>\n",
              "      <th>SeniorCitizen</th>\n",
              "      <th>Partner</th>\n",
              "      <th>Dependents</th>\n",
              "      <th>tenure_normalize</th>\n",
              "      <th>PhoneService</th>\n",
              "      <th>PaperlessBilling</th>\n",
              "      <th>MonthlyCharges_normalize</th>\n",
              "      <th>TotalCharges_normalize</th>\n",
              "      <th>Churn</th>\n",
              "    </tr>\n",
              "  </thead>\n",
              "  <tbody>\n",
              "    <tr>\n",
              "      <th>gender</th>\n",
              "      <td>1.000000</td>\n",
              "      <td>0.002801</td>\n",
              "      <td>0.008452</td>\n",
              "      <td>0.005606</td>\n",
              "      <td>-0.000264</td>\n",
              "      <td>-0.001401</td>\n",
              "      <td>-0.002363</td>\n",
              "      <td>-0.020641</td>\n",
              "      <td>-0.006339</td>\n",
              "      <td>-0.004396</td>\n",
              "    </tr>\n",
              "    <tr>\n",
              "      <th>SeniorCitizen</th>\n",
              "      <td>0.002801</td>\n",
              "      <td>1.000000</td>\n",
              "      <td>0.010613</td>\n",
              "      <td>-0.212642</td>\n",
              "      <td>0.019703</td>\n",
              "      <td>-0.005788</td>\n",
              "      <td>0.157305</td>\n",
              "      <td>0.219404</td>\n",
              "      <td>0.105615</td>\n",
              "      <td>0.159660</td>\n",
              "    </tr>\n",
              "    <tr>\n",
              "      <th>Partner</th>\n",
              "      <td>0.008452</td>\n",
              "      <td>0.010613</td>\n",
              "      <td>1.000000</td>\n",
              "      <td>0.457452</td>\n",
              "      <td>0.379089</td>\n",
              "      <td>0.016484</td>\n",
              "      <td>-0.019237</td>\n",
              "      <td>0.096616</td>\n",
              "      <td>0.317670</td>\n",
              "      <td>-0.142811</td>\n",
              "    </tr>\n",
              "    <tr>\n",
              "      <th>Dependents</th>\n",
              "      <td>0.005606</td>\n",
              "      <td>-0.212642</td>\n",
              "      <td>0.457452</td>\n",
              "      <td>1.000000</td>\n",
              "      <td>0.160163</td>\n",
              "      <td>-0.004537</td>\n",
              "      <td>-0.110748</td>\n",
              "      <td>-0.122334</td>\n",
              "      <td>0.059486</td>\n",
              "      <td>-0.160368</td>\n",
              "    </tr>\n",
              "    <tr>\n",
              "      <th>tenure_normalize</th>\n",
              "      <td>-0.000264</td>\n",
              "      <td>0.019703</td>\n",
              "      <td>0.379089</td>\n",
              "      <td>0.160163</td>\n",
              "      <td>1.000000</td>\n",
              "      <td>0.007016</td>\n",
              "      <td>0.007854</td>\n",
              "      <td>0.251817</td>\n",
              "      <td>0.824399</td>\n",
              "      <td>-0.348422</td>\n",
              "    </tr>\n",
              "    <tr>\n",
              "      <th>PhoneService</th>\n",
              "      <td>-0.001401</td>\n",
              "      <td>-0.005788</td>\n",
              "      <td>0.016484</td>\n",
              "      <td>-0.004537</td>\n",
              "      <td>0.007016</td>\n",
              "      <td>1.000000</td>\n",
              "      <td>0.011857</td>\n",
              "      <td>0.242674</td>\n",
              "      <td>0.109540</td>\n",
              "      <td>0.013807</td>\n",
              "    </tr>\n",
              "    <tr>\n",
              "      <th>PaperlessBilling</th>\n",
              "      <td>-0.002363</td>\n",
              "      <td>0.157305</td>\n",
              "      <td>-0.019237</td>\n",
              "      <td>-0.110748</td>\n",
              "      <td>0.007854</td>\n",
              "      <td>0.011857</td>\n",
              "      <td>1.000000</td>\n",
              "      <td>0.360121</td>\n",
              "      <td>0.163555</td>\n",
              "      <td>0.186618</td>\n",
              "    </tr>\n",
              "    <tr>\n",
              "      <th>MonthlyCharges_normalize</th>\n",
              "      <td>-0.020641</td>\n",
              "      <td>0.219404</td>\n",
              "      <td>0.096616</td>\n",
              "      <td>-0.122334</td>\n",
              "      <td>0.251817</td>\n",
              "      <td>0.242674</td>\n",
              "      <td>0.360121</td>\n",
              "      <td>1.000000</td>\n",
              "      <td>0.653788</td>\n",
              "      <td>0.195612</td>\n",
              "    </tr>\n",
              "    <tr>\n",
              "      <th>TotalCharges_normalize</th>\n",
              "      <td>-0.006339</td>\n",
              "      <td>0.105615</td>\n",
              "      <td>0.317670</td>\n",
              "      <td>0.059486</td>\n",
              "      <td>0.824399</td>\n",
              "      <td>0.109540</td>\n",
              "      <td>0.163555</td>\n",
              "      <td>0.653788</td>\n",
              "      <td>1.000000</td>\n",
              "      <td>-0.196307</td>\n",
              "    </tr>\n",
              "    <tr>\n",
              "      <th>Churn</th>\n",
              "      <td>-0.004396</td>\n",
              "      <td>0.159660</td>\n",
              "      <td>-0.142811</td>\n",
              "      <td>-0.160368</td>\n",
              "      <td>-0.348422</td>\n",
              "      <td>0.013807</td>\n",
              "      <td>0.186618</td>\n",
              "      <td>0.195612</td>\n",
              "      <td>-0.196307</td>\n",
              "      <td>1.000000</td>\n",
              "    </tr>\n",
              "  </tbody>\n",
              "</table>\n",
              "</div>"
            ],
            "text/plain": [
              "                            gender  ...     Churn\n",
              "gender                    1.000000  ... -0.004396\n",
              "SeniorCitizen             0.002801  ...  0.159660\n",
              "Partner                   0.008452  ... -0.142811\n",
              "Dependents                0.005606  ... -0.160368\n",
              "tenure_normalize         -0.000264  ... -0.348422\n",
              "PhoneService             -0.001401  ...  0.013807\n",
              "PaperlessBilling         -0.002363  ...  0.186618\n",
              "MonthlyCharges_normalize -0.020641  ...  0.195612\n",
              "TotalCharges_normalize   -0.006339  ... -0.196307\n",
              "Churn                    -0.004396  ...  1.000000\n",
              "\n",
              "[10 rows x 10 columns]"
            ]
          },
          "metadata": {
            "tags": []
          }
        }
      ]
    },
    {
      "cell_type": "code",
      "metadata": {
        "id": "BPmQpONwTlmf",
        "colab_type": "code",
        "outputId": "1b348a6d-e947-4278-8679-b7e3d7426d47",
        "colab": {
          "base_uri": "https://localhost:8080/"
        }
      },
      "source": [
        "sns.heatmap(corr_train_3.iloc[8:,:], xticklabels=corr_train_3.columns.values, yticklabels=['Churn'], cmap=sns.diverging_palette(220, 10, as_cmap=True), annot=True, square=True,)"
      ],
      "execution_count": 0,
      "outputs": [
        {
          "output_type": "execute_result",
          "data": {
            "text/plain": [
              "<matplotlib.axes._subplots.AxesSubplot at 0x7f2e9e279278>"
            ]
          },
          "metadata": {
            "tags": []
          },
          "execution_count": 103
        },
        {
          "output_type": "display_data",
          "data": {
            "image/png": "[encoded data removed]",
            "text/plain": [
              "<Figure size 432x288 with 2 Axes>"
            ]
          },
          "metadata": {
            "tags": [],
            "needs_background": "light"
          }
        }
      ]
    },
    {
      "cell_type": "code",
      "metadata": {
        "id": "gPiMSieETlmh",
        "colab_type": "code",
        "colab": {}
      },
      "source": [
        "#drop attributes PhoneService\n",
        "train_3.drop(columns = ['PhoneService'], inplace = True)\n",
        "test_3.drop(columns = ['PhoneService'], inplace = True)"
      ],
      "execution_count": 0,
      "outputs": []
    },
    {
      "cell_type": "code",
      "metadata": {
        "id": "nOwuIYMrTlmi",
        "colab_type": "code",
        "outputId": "470bd347-8d66-44fc-9801-2c16b287be7c",
        "colab": {
          "base_uri": "https://localhost:8080/"
        }
      },
      "source": [
        "train_3.columns"
      ],
      "execution_count": 0,
      "outputs": [
        {
          "output_type": "execute_result",
          "data": {
            "text/plain": [
              "Index(['gender', 'SeniorCitizen', 'Partner', 'Dependents', 'tenure_normalize',\n",
              "       'MultipleLines', 'InternetService', 'OnlineSecurity', 'OnlineBackup',\n",
              "       'DeviceProtection', 'TechSupport', 'StreamingTV', 'StreamingMovies',\n",
              "       'Contract', 'PaperlessBilling', 'PaymentMethod',\n",
              "       'MonthlyCharges_normalize', 'TotalCharges_normalize', 'Churn'],\n",
              "      dtype='object')"
            ]
          },
          "metadata": {
            "tags": []
          },
          "execution_count": 105
        }
      ]
    },
    {
      "cell_type": "code",
      "metadata": {
        "id": "-ZcqDoo8Tlmj",
        "colab_type": "code",
        "outputId": "7b0f7fda-9b1c-4ef8-cc48-7b035fdd160e",
        "colab": {
          "base_uri": "https://localhost:8080/"
        }
      },
      "source": [
        "for instance in train_3.columns:\n",
        "    print(instance)\n",
        "    print (train_3[instance].unique())"
      ],
      "execution_count": 0,
      "outputs": [
        {
          "output_type": "stream",
          "text": [
            "gender\n",
            "[0 1]\n",
            "SeniorCitizen\n",
            "[0 1]\n",
            "Partner\n",
            "[0 1]\n",
            "Dependents\n",
            "[1 0]\n",
            "tenure_normalize\n",
            "[-0.29351889  1.01151782  1.54168898 -0.82369005 -0.33430129 -0.57899567\n",
            "  0.84838823 -0.98681964 -1.27229642  1.2562122  -1.19073163  0.31821707\n",
            "  1.62325378 -0.86447245  1.58247138  1.2154298  -1.10916683 -1.23151402\n",
            "  0.11430508  0.52212905  0.07352269  0.48134666 -0.61977807 -0.37508368\n",
            "  0.27743467  1.05230022 -1.31307882 -1.14994923 -0.41586608  1.13386501\n",
            "  1.50090658 -1.02760204  1.41934179  0.39978186  0.44056426  0.88917063\n",
            " -0.1303893   0.15508748 -0.74212526 -0.70134286  0.68525864 -0.25273649\n",
            "  0.72604104 -0.0896069  -0.04882451 -1.06838443 -0.00804211  1.37855939\n",
            "  0.97073542  0.23665227 -0.78290765 -0.53821327 -0.45664848  0.56291145\n",
            " -0.90525485 -0.1711717   0.80760583 -0.66056046 -0.94603724  0.64447624\n",
            "  1.337777   -0.49743087  1.09308261  1.46012419  0.60369385  1.2969946\n",
            "  0.76682344  0.19586988 -0.21195409  0.92995302  1.17464741  0.03274029\n",
            "  0.35899946]\n",
            "MultipleLines\n",
            "['No' 'Yes' 'No phone service']\n",
            "InternetService\n",
            "['No' 'Fiber optic' 'DSL']\n",
            "OnlineSecurity\n",
            "['No internet service' 'No' 'Yes']\n",
            "OnlineBackup\n",
            "['No internet service' 'No' 'Yes']\n",
            "DeviceProtection\n",
            "['No internet service' 'Yes' 'No']\n",
            "TechSupport\n",
            "['No internet service' 'No' 'Yes']\n",
            "StreamingTV\n",
            "['No internet service' 'Yes' 'No']\n",
            "StreamingMovies\n",
            "['No internet service' 'Yes' 'No']\n",
            "Contract\n",
            "['Month-to-month' 'Two year' 'One year']\n",
            "PaperlessBilling\n",
            "[0 1]\n",
            "PaymentMethod\n",
            "['Credit card (automatic)' 'Electronic check' 'Mailed check'\n",
            " 'Bank transfer (automatic)']\n",
            "MonthlyCharges_normalize\n",
            "[-1.46656985  1.02351151  0.16092349 ... -0.73643296 -1.35233075\n",
            " -0.97650065]\n",
            "TotalCharges_normalize\n",
            "[-0.79185375  1.41807252  1.15591501 ... -0.90662235 -0.49995289\n",
            " -0.37380923]\n",
            "Churn\n",
            "[0 1]\n"
          ],
          "name": "stdout"
        }
      ]
    },
    {
      "cell_type": "markdown",
      "metadata": {
        "id": "oRGitxg-brKF",
        "colab_type": "text"
      },
      "source": [
        "## One hot-encoding"
      ]
    },
    {
      "cell_type": "code",
      "metadata": {
        "id": "f-df-5hqTlml",
        "colab_type": "code",
        "colab": {}
      },
      "source": [
        "#create dummy for all categorical features\n",
        "MultipleLinesdummy =pd.get_dummies(train_3['MultipleLines'],prefix ='MultipleLines')\n",
        "MultipleLinesdummy1 =pd.get_dummies(test_3['MultipleLines'],prefix ='MultipleLines')\n",
        "InternetServicedummy =pd.get_dummies(train_3['InternetService'],prefix ='InternetService')\n",
        "InternetServicedummy1 =pd.get_dummies(test_3['InternetService'],prefix ='InternetService')\n",
        "OnlineSecuritydummy =pd.get_dummies(train_3['OnlineSecurity'],prefix ='OnlineSecurity')\n",
        "OnlineSecuritydummy1 =pd.get_dummies(test_3['OnlineSecurity'],prefix ='OnlineSecurity')\n",
        "OnlineBackupdummy =pd.get_dummies(train_3['OnlineBackup'],prefix ='OnlineBackup')\n",
        "OnlineBackupdummy1 =pd.get_dummies(test_3['OnlineBackup'],prefix ='OnlineBackup')\n",
        "DeviceProtectiondummy =pd.get_dummies(train_3['DeviceProtection'],prefix ='DeviceProtection')\n",
        "DeviceProtectiondummy1 =pd.get_dummies(test_3['DeviceProtection'],prefix ='DeviceProtection')\n",
        "TechSupportdummy =pd.get_dummies(train_3['TechSupport'],prefix ='TechSupport')\n",
        "TechSupportdummy1 =pd.get_dummies(test_3['TechSupport'],prefix ='TechSupport')\n",
        "StreamingTVdummy =pd.get_dummies(train_3['StreamingTV'],prefix ='StreamingTV')\n",
        "StreamingTVdummy1 =pd.get_dummies(test_3['StreamingTV'],prefix ='StreamingTV')\n",
        "StreamingMoviesdummy =pd.get_dummies(train_3['StreamingMovies'],prefix ='StreamingMovies')\n",
        "StreamingMoviesdummy1 =pd.get_dummies(test_3['StreamingMovies'],prefix ='StreamingMovies')\n",
        "Contractdummy =pd.get_dummies(train_3['Contract'],prefix ='Contract')\n",
        "Contractdummy1 =pd.get_dummies(test_3['Contract'],prefix ='Contract')\n",
        "PaymentMethoddummy =pd.get_dummies(train_3['PaymentMethod'],prefix ='PaymentMethod')\n",
        "PaymentMethoddummy1 =pd.get_dummies(test_3['PaymentMethod'],prefix ='PaymentMethod')"
      ],
      "execution_count": 0,
      "outputs": []
    },
    {
      "cell_type": "code",
      "metadata": {
        "id": "QMjn9d2cTlmn",
        "colab_type": "code",
        "colab": {}
      },
      "source": [
        "#add dummy variables to data frame\n",
        "trainwithdummy_3 = pd.concat([train_3, MultipleLinesdummy,InternetServicedummy,OnlineSecuritydummy,OnlineBackupdummy,DeviceProtectiondummy,TechSupportdummy,StreamingTVdummy,StreamingMoviesdummy,Contractdummy,PaymentMethoddummy],axis=1,sort=True)\n",
        "testwithdummy_3 = pd.concat([test_3,MultipleLinesdummy1,InternetServicedummy1,OnlineSecuritydummy1,OnlineBackupdummy1,DeviceProtectiondummy1,TechSupportdummy1,StreamingTVdummy1,StreamingMoviesdummy1,Contractdummy1,PaymentMethoddummy1],axis=1,sort=True)"
      ],
      "execution_count": 0,
      "outputs": []
    },
    {
      "cell_type": "code",
      "metadata": {
        "id": "V5aCG5URTlmo",
        "colab_type": "code",
        "colab": {}
      },
      "source": [
        "#drop meaningless and duplicated deatures\n",
        "traindrop_3=trainwithdummy_3.drop(columns=['MultipleLines','MultipleLines_No phone service','InternetService','InternetService_No','OnlineSecurity','OnlineSecurity_No internet service','OnlineBackup','OnlineBackup_No internet service','DeviceProtection','DeviceProtection_No internet service','TechSupport','TechSupport_No internet service','StreamingTV','StreamingTV_No internet service','StreamingMovies','StreamingMovies_No internet service','Contract','Contract_One year','PaymentMethod','PaymentMethod_Credit card (automatic)'])\n",
        "testdrop_3=testwithdummy_3.drop(columns=['MultipleLines','MultipleLines_No phone service','InternetService','InternetService_No','OnlineSecurity','OnlineSecurity_No internet service','OnlineBackup','OnlineBackup_No internet service','DeviceProtection','DeviceProtection_No internet service','TechSupport','TechSupport_No internet service','StreamingTV','StreamingTV_No internet service','StreamingMovies','StreamingMovies_No internet service','Contract','Contract_One year','PaymentMethod','PaymentMethod_Credit card (automatic)'])"
      ],
      "execution_count": 0,
      "outputs": []
    },
    {
      "cell_type": "code",
      "metadata": {
        "id": "qXDunz5eTlmp",
        "colab_type": "code",
        "outputId": "98112fc1-8c4f-468b-ae39-7f99d7ccdf1b",
        "colab": {
          "base_uri": "https://localhost:8080/",
          "height": 1000
        }
      },
      "source": [
        "for instance in traindrop_3.columns:\n",
        "    print(instance)\n",
        "    print (traindrop_3[instance].unique())"
      ],
      "execution_count": 0,
      "outputs": [
        {
          "output_type": "stream",
          "text": [
            "gender\n",
            "[1 0]\n",
            "SeniorCitizen\n",
            "[0 1]\n",
            "Partner\n",
            "[0 1]\n",
            "Dependents\n",
            "[0 1]\n",
            "tenure_normalize\n",
            "[-0.94603724 -1.14994923 -0.78290765 -1.19073163  1.58247138  1.2562122\n",
            " -1.02760204  1.337777    0.88917063  1.62325378 -1.10916683  0.97073542\n",
            "  0.07352269 -1.27229642  0.52212905  0.72604104 -0.25273649  1.50090658\n",
            "  0.19586988  0.68525864  1.37855939  0.44056426  0.92995302  1.09308261\n",
            " -1.23151402 -0.21195409 -0.29351889 -0.1303893  -0.74212526  0.11430508\n",
            "  1.2969946   0.27743467  0.31821707 -0.86447245 -1.06838443  1.54168898\n",
            "  1.01151782 -0.66056046  0.03274029 -0.45664848  1.17464741 -0.70134286\n",
            "  0.48134666 -0.82369005 -0.41586608 -0.33430129 -0.53821327  0.60369385\n",
            "  1.2154298  -0.0896069   1.05230022 -0.90525485  0.80760583 -0.98681964\n",
            "  0.64447624  0.56291145  1.41934179 -0.1711717  -0.00804211 -0.37508368\n",
            "  0.35899946  0.84838823  1.46012419  1.13386501 -0.04882451 -0.61977807\n",
            "  0.15508748 -0.49743087  0.76682344 -0.57899567  0.23665227  0.39978186\n",
            " -1.31307882]\n",
            "PaperlessBilling\n",
            "[0 1]\n",
            "MonthlyCharges_normalize\n",
            "[-0.1470254   0.31655357  1.11457167 ... -1.51127211  0.14767837\n",
            "  0.11622123]\n",
            "TotalCharges_normalize\n",
            "[-0.76056127 -0.87632574 -0.45274861 ... -0.95958056  1.04760851\n",
            "  0.64038579]\n",
            "Churn\n",
            "[0 1]\n",
            "MultipleLines_No\n",
            "[0 1]\n",
            "MultipleLines_Yes\n",
            "[1 0]\n",
            "InternetService_DSL\n",
            "[1 0]\n",
            "InternetService_Fiber optic\n",
            "[0 1]\n",
            "OnlineSecurity_No\n",
            "[1 0]\n",
            "OnlineSecurity_Yes\n",
            "[0 1]\n",
            "OnlineBackup_No\n",
            "[1 0]\n",
            "OnlineBackup_Yes\n",
            "[0 1]\n",
            "DeviceProtection_No\n",
            "[1 0]\n",
            "DeviceProtection_Yes\n",
            "[0 1]\n",
            "TechSupport_No\n",
            "[1 0]\n",
            "TechSupport_Yes\n",
            "[0 1]\n",
            "StreamingTV_No\n",
            "[1 0]\n",
            "StreamingTV_Yes\n",
            "[0 1]\n",
            "StreamingMovies_No\n",
            "[0 1]\n",
            "StreamingMovies_Yes\n",
            "[1 0]\n",
            "Contract_Month-to-month\n",
            "[1 0]\n",
            "Contract_Two year\n",
            "[0 1]\n",
            "PaymentMethod_Bank transfer (automatic)\n",
            "[0 1]\n",
            "PaymentMethod_Electronic check\n",
            "[0 1]\n",
            "PaymentMethod_Mailed check\n",
            "[1 0]\n"
          ],
          "name": "stdout"
        }
      ]
    },
    {
      "cell_type": "markdown",
      "metadata": {
        "colab_type": "text",
        "id": "vnww3r81otns"
      },
      "source": [
        "## BenchMark Model (Dataset 1)"
      ]
    },
    {
      "cell_type": "code",
      "metadata": {
        "colab_type": "code",
        "id": "_gGjBZHlotnt",
        "colab": {}
      },
      "source": [
        "from sklearn.metrics import accuracy_score\n",
        "from sklearn.metrics import classification_report\n",
        "from sklearn.metrics import confusion_matrix"
      ],
      "execution_count": 0,
      "outputs": []
    },
    {
      "cell_type": "code",
      "metadata": {
        "colab_type": "code",
        "id": "W_4oh10Notnv",
        "outputId": "73922ad2-4581-43a1-96c0-596fd01dcae9",
        "colab": {
          "base_uri": "https://localhost:8080/",
          "height": 235
        }
      },
      "source": [
        "X_1 = traindrop_1\n",
        "y_1 = y_traindrop_1.loc[:,'Churn'].map({'Yes': 1, 'No': 0})\n",
        "X_test_1 = testdrop_1\n",
        "y_test_1 = y_testdrop_1.loc[:,'Churn'].map({'Yes': 1, 'No': 0})\n",
        "y_test_1"
      ],
      "execution_count": 0,
      "outputs": [
        {
          "output_type": "execute_result",
          "data": {
            "text/plain": [
              "customerID\n",
              "0011-IGKFF    1\n",
              "0013-MHZWF    0\n",
              "0016-QLJIS    0\n",
              "0021-IKXGC    0\n",
              "0031-PVLZI    1\n",
              "             ..\n",
              "9959-WOFKT    0\n",
              "9961-JBNMK    1\n",
              "9965-YOKZB    1\n",
              "9971-ZWPBF    0\n",
              "9992-RRAMN    1\n",
              "Name: Churn, Length: 1409, dtype: int64"
            ]
          },
          "metadata": {
            "tags": []
          },
          "execution_count": 112
        }
      ]
    },
    {
      "cell_type": "code",
      "metadata": {
        "colab_type": "code",
        "id": "wmy4CDOJotnw",
        "outputId": "d722e504-be9b-41dd-91db-14376337b3b8",
        "colab": {
          "base_uri": "https://localhost:8080/",
          "height": 34
        }
      },
      "source": [
        "# Do majority-class prediction (not accept: 0)\n",
        "pred_val_maj = np.zeros((5634,),dtype=int)\n",
        "pred_val_maj"
      ],
      "execution_count": 0,
      "outputs": [
        {
          "output_type": "execute_result",
          "data": {
            "text/plain": [
              "array([0, 0, 0, ..., 0, 0, 0])"
            ]
          },
          "metadata": {
            "tags": []
          },
          "execution_count": 113
        }
      ]
    },
    {
      "cell_type": "code",
      "metadata": {
        "colab_type": "code",
        "id": "qBIsqp1Qotn0",
        "outputId": "b2a933ee-06d5-4362-dbbe-9963a9d7373d",
        "colab": {
          "base_uri": "https://localhost:8080/",
          "height": 50
        }
      },
      "source": [
        "print(\"Accuracy of Benchmark Model:\",\"\\n\", accuracy_score(y_1, pred_val_maj, normalize=True, sample_weight=None))"
      ],
      "execution_count": 0,
      "outputs": [
        {
          "output_type": "stream",
          "text": [
            "Accuracy of Benchmark Model: \n",
            " 0.729144479943202\n"
          ],
          "name": "stdout"
        }
      ]
    },
    {
      "cell_type": "code",
      "metadata": {
        "colab_type": "code",
        "id": "_1REBJmOotn1",
        "outputId": "0aee04b3-7220-452e-b6a5-df7c40dccbbc",
        "colab": {
          "base_uri": "https://localhost:8080/",
          "height": 67
        }
      },
      "source": [
        "print(\"Confusion Matrix of Benchmark Model:\", \"\\n\", confusion_matrix(y_1, pred_val_maj))"
      ],
      "execution_count": 0,
      "outputs": [
        {
          "output_type": "stream",
          "text": [
            "Confusion Matrix of Benchmark Model: \n",
            " [[4108    0]\n",
            " [1526    0]]\n"
          ],
          "name": "stdout"
        }
      ]
    },
    {
      "cell_type": "code",
      "metadata": {
        "colab_type": "code",
        "id": "aXoNISmgotn3",
        "outputId": "f9dfeda3-8479-4341-aa2b-6186fd076d59",
        "colab": {
          "base_uri": "https://localhost:8080/",
          "height": 185
        }
      },
      "source": [
        "print(\"Classification Report of Benchmark Model:\", \"\\n\", classification_report(y_1, pred_val_maj))"
      ],
      "execution_count": 0,
      "outputs": [
        {
          "output_type": "stream",
          "text": [
            "Classification Report of Benchmark Model: \n",
            "               precision    recall  f1-score   support\n",
            "\n",
            "           0       0.73      1.00      0.84      4108\n",
            "           1       0.00      0.00      0.00      1526\n",
            "\n",
            "    accuracy                           0.73      5634\n",
            "   macro avg       0.36      0.50      0.42      5634\n",
            "weighted avg       0.53      0.73      0.61      5634\n",
            "\n"
          ],
          "name": "stdout"
        }
      ]
    },
    {
      "cell_type": "code",
      "metadata": {
        "id": "I8ttYCDlDlvL",
        "colab_type": "code",
        "colab": {}
      },
      "source": [
        "pred_val_maj_test = np.zeros((1409,),dtype=int)"
      ],
      "execution_count": 0,
      "outputs": []
    },
    {
      "cell_type": "code",
      "metadata": {
        "id": "KhK6GcsbDmSk",
        "colab_type": "code",
        "outputId": "c5957753-9ec5-4132-d358-c69d104875d5",
        "colab": {
          "base_uri": "https://localhost:8080/",
          "height": 50
        }
      },
      "source": [
        "print(\"Accuracy of Benchmark Model:\",\"\\n\", accuracy_score(y_test_1, pred_val_maj_test, normalize=True, sample_weight=None))"
      ],
      "execution_count": 0,
      "outputs": [
        {
          "output_type": "stream",
          "text": [
            "Accuracy of Benchmark Model: \n",
            " 0.7565649396735273\n"
          ],
          "name": "stdout"
        }
      ]
    },
    {
      "cell_type": "markdown",
      "metadata": {
        "id": "5DdGd-WMnS-F",
        "colab_type": "text"
      },
      "source": [
        "## BenchMark Model (Dataset 2)"
      ]
    },
    {
      "cell_type": "code",
      "metadata": {
        "id": "X2U3eUtxnoro",
        "colab_type": "code",
        "outputId": "67f588eb-bbac-411f-dd15-2db755ad5f35",
        "colab": {
          "base_uri": "https://localhost:8080/",
          "height": 235
        }
      },
      "source": [
        "X_2 = traindrop_2\n",
        "y_2 = y_traindrop_2.loc[:,'Churn'].map({'Yes': 1, 'No': 0})\n",
        "X_test_2 = testdrop_2\n",
        "y_test_2 = y_testdrop_2.loc[:,'Churn'].map({'Yes': 1, 'No': 0})\n",
        "y_test_2"
      ],
      "execution_count": 0,
      "outputs": [
        {
          "output_type": "execute_result",
          "data": {
            "text/plain": [
              "customerID\n",
              "0017-IUDMW    0\n",
              "0018-NYROU    0\n",
              "0020-JDNXP    0\n",
              "0027-KWYKW    0\n",
              "0032-PGELS    1\n",
              "             ..\n",
              "9933-QRGTX    0\n",
              "9972-NKTFD    0\n",
              "9978-HYCIN    0\n",
              "9979-RGMZT    0\n",
              "9993-LHIEB    0\n",
              "Name: Churn, Length: 1409, dtype: int64"
            ]
          },
          "metadata": {
            "tags": []
          },
          "execution_count": 119
        }
      ]
    },
    {
      "cell_type": "code",
      "metadata": {
        "id": "Yqz1ceeln1-I",
        "colab_type": "code",
        "outputId": "b0589233-6060-4cfe-a018-1128b5590d81",
        "colab": {
          "base_uri": "https://localhost:8080/",
          "height": 34
        }
      },
      "source": [
        "# Do majority-class prediction (not accept: 0)\n",
        "pred_val_maj = np.zeros((5634,),dtype=int)\n",
        "pred_val_maj"
      ],
      "execution_count": 0,
      "outputs": [
        {
          "output_type": "execute_result",
          "data": {
            "text/plain": [
              "array([0, 0, 0, ..., 0, 0, 0])"
            ]
          },
          "metadata": {
            "tags": []
          },
          "execution_count": 120
        }
      ]
    },
    {
      "cell_type": "code",
      "metadata": {
        "id": "DejCfd1wnWse",
        "colab_type": "code",
        "outputId": "24595874-07a4-4404-ee71-182447dec852",
        "colab": {
          "base_uri": "https://localhost:8080/",
          "height": 50
        }
      },
      "source": [
        "print(\"Accuracy of Benchmark Model:\",\"\\n\", accuracy_score(y_2, pred_val_maj, normalize=True, sample_weight=None))"
      ],
      "execution_count": 0,
      "outputs": [
        {
          "output_type": "stream",
          "text": [
            "Accuracy of Benchmark Model: \n",
            " 0.7296769613063543\n"
          ],
          "name": "stdout"
        }
      ]
    },
    {
      "cell_type": "code",
      "metadata": {
        "id": "MUF3g74fnW2z",
        "colab_type": "code",
        "outputId": "6835ca3c-b9d6-4b2b-93b8-b05990565775",
        "colab": {
          "base_uri": "https://localhost:8080/",
          "height": 67
        }
      },
      "source": [
        "print(\"Confusion Matrix of Benchmark Model:\", \"\\n\", confusion_matrix(y_2, pred_val_maj))"
      ],
      "execution_count": 0,
      "outputs": [
        {
          "output_type": "stream",
          "text": [
            "Confusion Matrix of Benchmark Model: \n",
            " [[4111    0]\n",
            " [1523    0]]\n"
          ],
          "name": "stdout"
        }
      ]
    },
    {
      "cell_type": "code",
      "metadata": {
        "id": "CnFIGNxYnW_y",
        "colab_type": "code",
        "outputId": "4cd1a5ff-8f7b-47f7-ee84-e1530041eae6",
        "colab": {
          "base_uri": "https://localhost:8080/",
          "height": 185
        }
      },
      "source": [
        "print(\"Classification Report of Benchmark Model:\", \"\\n\", classification_report(y_2, pred_val_maj))"
      ],
      "execution_count": 0,
      "outputs": [
        {
          "output_type": "stream",
          "text": [
            "Classification Report of Benchmark Model: \n",
            "               precision    recall  f1-score   support\n",
            "\n",
            "           0       0.73      1.00      0.84      4111\n",
            "           1       0.00      0.00      0.00      1523\n",
            "\n",
            "    accuracy                           0.73      5634\n",
            "   macro avg       0.36      0.50      0.42      5634\n",
            "weighted avg       0.53      0.73      0.62      5634\n",
            "\n"
          ],
          "name": "stdout"
        }
      ]
    },
    {
      "cell_type": "code",
      "metadata": {
        "colab_type": "code",
        "id": "4ko90UajD0Z1",
        "colab": {}
      },
      "source": [
        "pred_val_maj_test = np.zeros((1409,),dtype=int)"
      ],
      "execution_count": 0,
      "outputs": []
    },
    {
      "cell_type": "code",
      "metadata": {
        "colab_type": "code",
        "id": "aLu3ApSpD0Z4",
        "outputId": "3298c175-b20f-468e-8044-7a9bd7f97a38",
        "colab": {
          "base_uri": "https://localhost:8080/",
          "height": 50
        }
      },
      "source": [
        "print(\"Accuracy of Benchmark Model:\",\"\\n\", accuracy_score(y_test_2, pred_val_maj_test, normalize=True, sample_weight=None))"
      ],
      "execution_count": 0,
      "outputs": [
        {
          "output_type": "stream",
          "text": [
            "Accuracy of Benchmark Model: \n",
            " 0.7544357700496807\n"
          ],
          "name": "stdout"
        }
      ]
    },
    {
      "cell_type": "markdown",
      "metadata": {
        "colab_type": "text",
        "id": "X5dvMq7ppikV"
      },
      "source": [
        "## BenchMark Model (Dataset 3)\n",
        "\n"
      ]
    },
    {
      "cell_type": "code",
      "metadata": {
        "colab_type": "code",
        "id": "dMzvdtxspikX",
        "colab": {}
      },
      "source": [
        "X_3= traindrop_3.drop(['Churn'], axis = 1)\n",
        "y_3 = y_traindrop_3.loc[:,'Churn'].map({'Yes': 1, 'No': 0})\n",
        "X_test_3 = testdrop_3\n",
        "y_test_3 = y_testdrop_3.loc[:,'Churn'].map({'Yes': 1, 'No': 0})"
      ],
      "execution_count": 0,
      "outputs": []
    },
    {
      "cell_type": "code",
      "metadata": {
        "colab_type": "code",
        "id": "3tWwrUUOpikZ",
        "outputId": "0143b1df-3d4e-4eef-fa09-0fdaebf874df",
        "colab": {
          "base_uri": "https://localhost:8080/",
          "height": 34
        }
      },
      "source": [
        "# Do majority-class prediction (not accept: 0)\n",
        "pred_val_maj = np.zeros((5634,),dtype=int)\n",
        "pred_val_maj"
      ],
      "execution_count": 0,
      "outputs": [
        {
          "output_type": "execute_result",
          "data": {
            "text/plain": [
              "array([0, 0, 0, ..., 0, 0, 0])"
            ]
          },
          "metadata": {
            "tags": []
          },
          "execution_count": 127
        }
      ]
    },
    {
      "cell_type": "code",
      "metadata": {
        "colab_type": "code",
        "id": "sa867CMWpikb",
        "outputId": "17cc4f8d-4f77-45d9-dad7-31ebd980d9fd",
        "colab": {
          "base_uri": "https://localhost:8080/",
          "height": 50
        }
      },
      "source": [
        "print(\"Accuracy of Benchmark Model:\",\"\\n\", accuracy_score(y_3, pred_val_maj, normalize=True, sample_weight=None))"
      ],
      "execution_count": 0,
      "outputs": [
        {
          "output_type": "stream",
          "text": [
            "Accuracy of Benchmark Model: \n",
            " 0.740681576144835\n"
          ],
          "name": "stdout"
        }
      ]
    },
    {
      "cell_type": "code",
      "metadata": {
        "colab_type": "code",
        "id": "lhvOeWcnpikc",
        "outputId": "1f08f852-0dac-4a01-f545-290c4c02f95e",
        "colab": {
          "base_uri": "https://localhost:8080/",
          "height": 67
        }
      },
      "source": [
        "print(\"Confusion Matrix of Benchmark Model:\", \"\\n\", confusion_matrix(y_3, pred_val_maj))"
      ],
      "execution_count": 0,
      "outputs": [
        {
          "output_type": "stream",
          "text": [
            "Confusion Matrix of Benchmark Model: \n",
            " [[4173    0]\n",
            " [1461    0]]\n"
          ],
          "name": "stdout"
        }
      ]
    },
    {
      "cell_type": "code",
      "metadata": {
        "colab_type": "code",
        "id": "kx1BrwIdpikd",
        "outputId": "a5d3dd4a-2f5a-4281-d92e-f95c26d6037b",
        "colab": {
          "base_uri": "https://localhost:8080/",
          "height": 185
        }
      },
      "source": [
        "print(\"Classification Report of Benchmark Model:\", \"\\n\", classification_report(y_3, pred_val_maj))"
      ],
      "execution_count": 0,
      "outputs": [
        {
          "output_type": "stream",
          "text": [
            "Classification Report of Benchmark Model: \n",
            "               precision    recall  f1-score   support\n",
            "\n",
            "           0       0.74      1.00      0.85      4173\n",
            "           1       0.00      0.00      0.00      1461\n",
            "\n",
            "    accuracy                           0.74      5634\n",
            "   macro avg       0.37      0.50      0.43      5634\n",
            "weighted avg       0.55      0.74      0.63      5634\n",
            "\n"
          ],
          "name": "stdout"
        }
      ]
    },
    {
      "cell_type": "code",
      "metadata": {
        "colab_type": "code",
        "id": "z99uXf0rD3t2",
        "colab": {}
      },
      "source": [
        "pred_val_maj_test = np.zeros((1409,),dtype=int)"
      ],
      "execution_count": 0,
      "outputs": []
    },
    {
      "cell_type": "code",
      "metadata": {
        "colab_type": "code",
        "id": "b2MQOIBZD3t4",
        "outputId": "2770a764-90b9-42cd-c7be-78287a75df8a",
        "colab": {
          "base_uri": "https://localhost:8080/",
          "height": 50
        }
      },
      "source": [
        "print(\"Accuracy of Benchmark Model:\",\"\\n\", accuracy_score(y_test_3, pred_val_maj_test, normalize=True, sample_weight=None))"
      ],
      "execution_count": 0,
      "outputs": [
        {
          "output_type": "stream",
          "text": [
            "Accuracy of Benchmark Model: \n",
            " 0.7104329311568488\n"
          ],
          "name": "stdout"
        }
      ]
    },
    {
      "cell_type": "markdown",
      "metadata": {
        "id": "jnb-SizsTebE",
        "colab_type": "text"
      },
      "source": [
        "## Gaussian Naive Bayes Model (Dataset 1)"
      ]
    },
    {
      "cell_type": "code",
      "metadata": {
        "id": "6oG3y1FbTl1o",
        "colab_type": "code",
        "outputId": "8fbd6cfd-cb44-434d-8dc2-c4463e8e2a45",
        "colab": {
          "base_uri": "https://localhost:8080/"
        }
      },
      "source": [
        "for instance in X_1.columns:\n",
        "    print(instance)\n",
        "    print (X_1[instance].unique())"
      ],
      "execution_count": 0,
      "outputs": [
        {
          "output_type": "stream",
          "text": [
            "SeniorCitizen\n",
            "['0' '1']\n",
            "tenure\n",
            "[ 9  4  3 71 63  7 54 72  5 56 34 45  1 50 13 23 55 26 37 49 20 43 59 12\n",
            " 27  2 25 29 14 35 64 39 40 11  6 30 70 58 16 69 32 33 10 21 15 44 66 22\n",
            " 24 19 47 46 52  8 60 48 67 28 41 61 68 31 36 17 18 65 62 53 57 38 51 42\n",
            "  0]\n",
            "MonthlyCharges\n",
            "[65.6  59.9  73.9  ... 68.8  18.9  67.85]\n",
            "TotalCharges\n",
            "[ 593.3   542.4   280.85 ...   92.75 4627.65 3707.6 ]\n",
            "gender_Male\n",
            "[0 1]\n",
            "Partner_Yes\n",
            "[1 0]\n",
            "Dependents_Yes\n",
            "[1 0]\n",
            "PhoneService_Yes\n",
            "[1 0]\n",
            "MultipleLines_No\n",
            "[1 0]\n",
            "MultipleLines_Yes\n",
            "[0 1]\n",
            "InternetService_DSL\n",
            "[1 0]\n",
            "InternetService_Fiber optic\n",
            "[0 1]\n",
            "OnlineSecurity_No\n",
            "[1 0]\n",
            "OnlineSecurity_Yes\n",
            "[0 1]\n",
            "OnlineBackup_No\n",
            "[0 1]\n",
            "OnlineBackup_Yes\n",
            "[1 0]\n",
            "DeviceProtection_No\n",
            "[1 0]\n",
            "DeviceProtection_Yes\n",
            "[0 1]\n",
            "TechSupport_No\n",
            "[0 1]\n",
            "TechSupport_Yes\n",
            "[1 0]\n",
            "StreamingTV_No\n",
            "[0 1]\n",
            "StreamingTV_Yes\n",
            "[1 0]\n",
            "StreamingMovies_No\n",
            "[1 0]\n",
            "StreamingMovies_Yes\n",
            "[0 1]\n",
            "Contract_Month-to-month\n",
            "[0 1]\n",
            "Contract_Two year\n",
            "[0 1]\n",
            "PaperlessBilling_Yes\n",
            "[1 0]\n",
            "PaymentMethod_Bank transfer (automatic)\n",
            "[0 1]\n",
            "PaymentMethod_Electronic check\n",
            "[0 1]\n",
            "PaymentMethod_Mailed check\n",
            "[1 0]\n",
            "MonthlyCharges_minmax\n",
            "[0.47114428 0.41442786 0.55373134 ... 0.50298507 0.00646766 0.49353234]\n",
            "TotalCharges_minmax\n",
            "[0.06628817 0.06041461 0.03023327 ... 0.00852763 0.53182859 0.4256602 ]\n"
          ],
          "name": "stdout"
        }
      ]
    },
    {
      "cell_type": "code",
      "metadata": {
        "id": "lHDQ0lqQUgTN",
        "colab_type": "code",
        "colab": {}
      },
      "source": [
        "#convert str to int\n",
        "X_1.loc[:,'SeniorCitizen'] = X_1.loc[:,'SeniorCitizen'].map({'1': 1, '0': 0})\n",
        "X_test_1.loc[:,'SeniorCitizen'] = X_test_1.loc[:,'SeniorCitizen'].map({'1': 1, '0': 0})"
      ],
      "execution_count": 0,
      "outputs": []
    },
    {
      "cell_type": "code",
      "metadata": {
        "id": "dm-Xb153Tl5E",
        "colab_type": "code",
        "outputId": "2cb21872-66af-4154-ed10-618166c6fbd4",
        "colab": {
          "base_uri": "https://localhost:8080/"
        }
      },
      "source": [
        "for instance in X_1.columns:\n",
        "    print(instance)\n",
        "    print (X_1[instance].unique())"
      ],
      "execution_count": 0,
      "outputs": [
        {
          "output_type": "stream",
          "text": [
            "SeniorCitizen\n",
            "[0 1]\n",
            "tenure\n",
            "[ 9  4  3 71 63  7 54 72  5 56 34 45  1 50 13 23 55 26 37 49 20 43 59 12\n",
            " 27  2 25 29 14 35 64 39 40 11  6 30 70 58 16 69 32 33 10 21 15 44 66 22\n",
            " 24 19 47 46 52  8 60 48 67 28 41 61 68 31 36 17 18 65 62 53 57 38 51 42\n",
            "  0]\n",
            "MonthlyCharges\n",
            "[65.6  59.9  73.9  ... 68.8  18.9  67.85]\n",
            "TotalCharges\n",
            "[ 593.3   542.4   280.85 ...   92.75 4627.65 3707.6 ]\n",
            "gender_Male\n",
            "[0 1]\n",
            "Partner_Yes\n",
            "[1 0]\n",
            "Dependents_Yes\n",
            "[1 0]\n",
            "PhoneService_Yes\n",
            "[1 0]\n",
            "MultipleLines_No\n",
            "[1 0]\n",
            "MultipleLines_Yes\n",
            "[0 1]\n",
            "InternetService_DSL\n",
            "[1 0]\n",
            "InternetService_Fiber optic\n",
            "[0 1]\n",
            "OnlineSecurity_No\n",
            "[1 0]\n",
            "OnlineSecurity_Yes\n",
            "[0 1]\n",
            "OnlineBackup_No\n",
            "[0 1]\n",
            "OnlineBackup_Yes\n",
            "[1 0]\n",
            "DeviceProtection_No\n",
            "[1 0]\n",
            "DeviceProtection_Yes\n",
            "[0 1]\n",
            "TechSupport_No\n",
            "[0 1]\n",
            "TechSupport_Yes\n",
            "[1 0]\n",
            "StreamingTV_No\n",
            "[0 1]\n",
            "StreamingTV_Yes\n",
            "[1 0]\n",
            "StreamingMovies_No\n",
            "[1 0]\n",
            "StreamingMovies_Yes\n",
            "[0 1]\n",
            "Contract_Month-to-month\n",
            "[0 1]\n",
            "Contract_Two year\n",
            "[0 1]\n",
            "PaperlessBilling_Yes\n",
            "[1 0]\n",
            "PaymentMethod_Bank transfer (automatic)\n",
            "[0 1]\n",
            "PaymentMethod_Electronic check\n",
            "[0 1]\n",
            "PaymentMethod_Mailed check\n",
            "[1 0]\n",
            "MonthlyCharges_minmax\n",
            "[0.47114428 0.41442786 0.55373134 ... 0.50298507 0.00646766 0.49353234]\n",
            "TotalCharges_minmax\n",
            "[0.06628817 0.06041461 0.03023327 ... 0.00852763 0.53182859 0.4256602 ]\n"
          ],
          "name": "stdout"
        }
      ]
    },
    {
      "cell_type": "code",
      "metadata": {
        "id": "xmlnWwcLVk1K",
        "colab_type": "code",
        "colab": {}
      },
      "source": [
        "# import cross validation\n",
        "from sklearn.model_selection import cross_val_predict, cross_val_score"
      ],
      "execution_count": 0,
      "outputs": []
    },
    {
      "cell_type": "code",
      "metadata": {
        "id": "gkRoovJCVk63",
        "colab_type": "code",
        "colab": {}
      },
      "source": [
        "#Import Gaussian Naive Bayes model from sklearn\n",
        "from sklearn.naive_bayes import GaussianNB\n",
        "\n",
        "#Create a Gaussian Naive Bayes Classifier\n",
        "gnb_1 = GaussianNB()"
      ],
      "execution_count": 0,
      "outputs": []
    },
    {
      "cell_type": "code",
      "metadata": {
        "id": "sWgm7lkdVk4O",
        "colab_type": "code",
        "outputId": "9206f11f-5272-4889-9ab0-f14bce165c65",
        "colab": {
          "base_uri": "https://localhost:8080/"
        }
      },
      "source": [
        "pred_y = cross_val_predict(gnb_1,X_1,y_1,cv=10)\n",
        "pred_y"
      ],
      "execution_count": 0,
      "outputs": [
        {
          "output_type": "execute_result",
          "data": {
            "text/plain": [
              "array([0, 1, 1, ..., 1, 0, 0])"
            ]
          },
          "metadata": {
            "tags": []
          },
          "execution_count": 138
        }
      ]
    },
    {
      "cell_type": "code",
      "metadata": {
        "id": "Pn-89srSWVYA",
        "colab_type": "code",
        "outputId": "39f9411b-f0e7-48d4-efe7-123a5b80e6b9",
        "colab": {
          "base_uri": "https://localhost:8080/"
        }
      },
      "source": [
        "score = cross_val_score(gnb_1,X_1,y_1,cv=10)\n",
        "score.mean()"
      ],
      "execution_count": 0,
      "outputs": [
        {
          "output_type": "execute_result",
          "data": {
            "text/plain": [
              "0.7502755627779247"
            ]
          },
          "metadata": {
            "tags": []
          },
          "execution_count": 139
        }
      ]
    },
    {
      "cell_type": "code",
      "metadata": {
        "id": "Xiw7nJgfW7yP",
        "colab_type": "code",
        "outputId": "d0f91d9c-d5d6-4d8d-a3bc-6db794afaaa9",
        "colab": {
          "base_uri": "https://localhost:8080/"
        }
      },
      "source": [
        "# print the accurary rate\n",
        "print(\"Accuracy of Naive Bayes Model:\",\"\\n\", accuracy_score(y_1, pred_y, normalize=True, sample_weight=None))"
      ],
      "execution_count": 0,
      "outputs": [
        {
          "output_type": "stream",
          "text": [
            "Accuracy of Naive Bayes Model: \n",
            " 0.7502662406815761\n"
          ],
          "name": "stdout"
        }
      ]
    },
    {
      "cell_type": "code",
      "metadata": {
        "id": "QUaw0sRiW73z",
        "colab_type": "code",
        "outputId": "088bc0a6-7d79-4207-ef69-65d3d5e91caf",
        "colab": {
          "base_uri": "https://localhost:8080/"
        }
      },
      "source": [
        "# print the confusion matrix\n",
        "print(\"Confusion Matrix of Naive Bayes Model:\", \"\\n\", confusion_matrix(y_1, pred_y))"
      ],
      "execution_count": 0,
      "outputs": [
        {
          "output_type": "stream",
          "text": [
            "Confusion Matrix of Naive Bayes Model: \n",
            " [[3044 1064]\n",
            " [ 343 1183]]\n"
          ],
          "name": "stdout"
        }
      ]
    },
    {
      "cell_type": "code",
      "metadata": {
        "id": "AFdQ8YMqW71T",
        "colab_type": "code",
        "outputId": "a503ad32-3d21-43dc-e51c-8c1bb97fe2d0",
        "colab": {
          "base_uri": "https://localhost:8080/"
        }
      },
      "source": [
        "# print the classification report with precision, recall\n",
        "print(\"Classification Report of Naive Bayes Model:\",\"\\n\",classification_report(y_1, pred_y))"
      ],
      "execution_count": 0,
      "outputs": [
        {
          "output_type": "stream",
          "text": [
            "Classification Report of Naive Bayes Model: \n",
            "               precision    recall  f1-score   support\n",
            "\n",
            "           0       0.90      0.74      0.81      4108\n",
            "           1       0.53      0.78      0.63      1526\n",
            "\n",
            "    accuracy                           0.75      5634\n",
            "   macro avg       0.71      0.76      0.72      5634\n",
            "weighted avg       0.80      0.75      0.76      5634\n",
            "\n"
          ],
          "name": "stdout"
        }
      ]
    },
    {
      "cell_type": "code",
      "metadata": {
        "id": "HWhLw16EW7vr",
        "colab_type": "code",
        "outputId": "aaf6d103-0e11-48ae-96f2-f26708c35551",
        "colab": {
          "base_uri": "https://localhost:8080/"
        }
      },
      "source": [
        "prob = cross_val_predict(gnb_1,X_1,y_1,cv=10, method = 'predict_proba')\n",
        "prob"
      ],
      "execution_count": 0,
      "outputs": [
        {
          "output_type": "execute_result",
          "data": {
            "text/plain": [
              "array([[9.98132424e-01, 1.86757620e-03],\n",
              "       [1.35096025e-02, 9.86490398e-01],\n",
              "       [6.31855861e-05, 9.99936814e-01],\n",
              "       ...,\n",
              "       [3.52251017e-02, 9.64774898e-01],\n",
              "       [1.00000000e+00, 5.17116379e-13],\n",
              "       [1.00000000e+00, 4.12248843e-11]])"
            ]
          },
          "metadata": {
            "tags": []
          },
          "execution_count": 143
        }
      ]
    },
    {
      "cell_type": "code",
      "metadata": {
        "id": "1C8hzwYSXo2Y",
        "colab_type": "code",
        "outputId": "74c5a03e-b859-42d7-c231-133d3ca59690",
        "colab": {
          "base_uri": "https://localhost:8080/"
        }
      },
      "source": [
        "prob[:,1]"
      ],
      "execution_count": 0,
      "outputs": [
        {
          "output_type": "execute_result",
          "data": {
            "text/plain": [
              "array([1.86757620e-03, 9.86490398e-01, 9.99936814e-01, ...,\n",
              "       9.64774898e-01, 5.17116379e-13, 4.12248843e-11])"
            ]
          },
          "metadata": {
            "tags": []
          },
          "execution_count": 144
        }
      ]
    },
    {
      "cell_type": "code",
      "metadata": {
        "id": "ImVmGEr-Xo9S",
        "colab_type": "code",
        "colab": {}
      },
      "source": [
        "from sklearn.metrics import roc_curve, auc\n",
        "from sklearn import metrics"
      ],
      "execution_count": 0,
      "outputs": []
    },
    {
      "cell_type": "code",
      "metadata": {
        "id": "rYlIQ7KiXo7W",
        "colab_type": "code",
        "colab": {}
      },
      "source": [
        "# y is the true label, pred_prob[:,1] measures the predicted probability of belonging to class 1 (which is defined as positive class)\n",
        "fpr, tpr, thresholds = roc_curve(y_1, prob[:,1], pos_label=1)"
      ],
      "execution_count": 0,
      "outputs": []
    },
    {
      "cell_type": "code",
      "metadata": {
        "id": "XdytdYgkXo5K",
        "colab_type": "code",
        "outputId": "6503c67b-2950-439d-9d43-a6b4d2e26a02",
        "colab": {
          "base_uri": "https://localhost:8080/"
        }
      },
      "source": [
        "roc_auc=auc(fpr,tpr)\n",
        "roc_auc"
      ],
      "execution_count": 0,
      "outputs": [
        {
          "output_type": "execute_result",
          "data": {
            "text/plain": [
              "0.8298112655547913"
            ]
          },
          "metadata": {
            "tags": []
          },
          "execution_count": 147
        }
      ]
    },
    {
      "cell_type": "code",
      "metadata": {
        "id": "sbk_nRQlYBz1",
        "colab_type": "code",
        "outputId": "1ba951da-3cb0-44f5-a2e1-7cb31df42dd1",
        "colab": {
          "base_uri": "https://localhost:8080/"
        }
      },
      "source": [
        "import matplotlib.pyplot as plt\n",
        "%matplotlib inline\n",
        "\n",
        "plt.figure()\n",
        "lw = 2\n",
        "plt.plot(fpr, tpr, marker='o',color='darkorange',\n",
        "         lw=lw, label='ROC curve (area = %0.2f)' % roc_auc)\n",
        "plt.plot([0, 1], [0, 1], color='navy', lw=lw, linestyle='--')\n",
        "plt.xlim([-0.05, 1.0])\n",
        "plt.ylim([0.0, 1.05])\n",
        "plt.xlabel('False Positive Rate')\n",
        "plt.ylabel('True Positive Rate')\n",
        "plt.title('Receiver operating characteristic')\n",
        "plt.legend(loc=\"lower right\")\n",
        "plt.show()"
      ],
      "execution_count": 0,
      "outputs": [
        {
          "output_type": "display_data",
          "data": {
            "image/png": "[encoded data removed]",
            "text/plain": [
              "<Figure size 432x288 with 1 Axes>"
            ]
          },
          "metadata": {
            "tags": [],
            "needs_background": "light"
          }
        }
      ]
    },
    {
      "cell_type": "code",
      "metadata": {
        "id": "RP8f9aKEYNsM",
        "colab_type": "code",
        "outputId": "73e15566-86f5-4209-ec96-c573b7aeb27a",
        "colab": {
          "base_uri": "https://localhost:8080/"
        }
      },
      "source": [
        "gnb_1.fit(X_1, y_1)"
      ],
      "execution_count": 0,
      "outputs": [
        {
          "output_type": "execute_result",
          "data": {
            "text/plain": [
              "GaussianNB(priors=None, var_smoothing=1e-09)"
            ]
          },
          "metadata": {
            "tags": []
          },
          "execution_count": 149
        }
      ]
    },
    {
      "cell_type": "markdown",
      "metadata": {
        "colab_type": "text",
        "id": "cNKlpvmvxQui"
      },
      "source": [
        "## Predict Testing data"
      ]
    },
    {
      "cell_type": "code",
      "metadata": {
        "colab_type": "code",
        "id": "eMKkHLqQxQuj",
        "colab": {}
      },
      "source": [
        "pred_val_test = gnb_1.predict(X_test_1)"
      ],
      "execution_count": 0,
      "outputs": []
    },
    {
      "cell_type": "code",
      "metadata": {
        "colab_type": "code",
        "outputId": "c5b322b6-fecd-470e-bbf1-86618fe7983d",
        "id": "sYT0WgWoxQul",
        "colab": {
          "base_uri": "https://localhost:8080/"
        }
      },
      "source": [
        "print(\"Accuracy from testing data: \", accuracy_score(y_test_1, pred_val_test, normalize = True, sample_weight = None))\n",
        "print(confusion_matrix(y_test_1, pred_val_test))\n",
        "print(\"Classification Report of Naive Bayes Model:\",\"\\n\",classification_report(y_test_1, pred_val_test))"
      ],
      "execution_count": 0,
      "outputs": [
        {
          "output_type": "stream",
          "text": [
            "Accuracy from testing data:  0.7402413058907026\n",
            "[[787 279]\n",
            " [ 87 256]]\n",
            "Classification Report of Naive Bayes Model: \n",
            "               precision    recall  f1-score   support\n",
            "\n",
            "           0       0.90      0.74      0.81      1066\n",
            "           1       0.48      0.75      0.58       343\n",
            "\n",
            "    accuracy                           0.74      1409\n",
            "   macro avg       0.69      0.74      0.70      1409\n",
            "weighted avg       0.80      0.74      0.76      1409\n",
            "\n"
          ],
          "name": "stdout"
        }
      ]
    },
    {
      "cell_type": "markdown",
      "metadata": {
        "colab_type": "text",
        "id": "Jc6Z0RZuY2Li"
      },
      "source": [
        "## Gaussian Naive Bayes Model (Dataset 2)"
      ]
    },
    {
      "cell_type": "code",
      "metadata": {
        "colab_type": "code",
        "id": "-TKf3pyUY2Ln",
        "colab": {}
      },
      "source": [
        "X_2.loc[:,'SeniorCitizen'] = X_2.loc[:,'SeniorCitizen'].map({'1': 1, '0': 0})\n",
        "X_test_2.loc[:,'SeniorCitizen'] = X_test_2.loc[:,'SeniorCitizen'].map({'1': 1, '0': 0})"
      ],
      "execution_count": 0,
      "outputs": []
    },
    {
      "cell_type": "code",
      "metadata": {
        "colab_type": "code",
        "id": "mn-8P364Y2Ls",
        "colab": {}
      },
      "source": [
        "gnb_2 = GaussianNB()"
      ],
      "execution_count": 0,
      "outputs": []
    },
    {
      "cell_type": "code",
      "metadata": {
        "colab_type": "code",
        "id": "OE3A4GsGY2Lt",
        "outputId": "b8a0ec93-dfc9-4585-8cd9-ecfad312db5c",
        "colab": {
          "base_uri": "https://localhost:8080/"
        }
      },
      "source": [
        "pred_y = cross_val_predict(gnb_2,X_2,y_2,cv=10)\n",
        "pred_y"
      ],
      "execution_count": 0,
      "outputs": [
        {
          "output_type": "execute_result",
          "data": {
            "text/plain": [
              "array([0, 1, 1, ..., 1, 1, 0])"
            ]
          },
          "metadata": {
            "tags": []
          },
          "execution_count": 154
        }
      ]
    },
    {
      "cell_type": "code",
      "metadata": {
        "colab_type": "code",
        "id": "bzs2f-7yY2Lu",
        "outputId": "5ed4b9e3-6b95-4d95-84b6-4aded02986ed",
        "colab": {
          "base_uri": "https://localhost:8080/"
        }
      },
      "source": [
        "score = cross_val_score(gnb_2,X_2,y_2,cv=10)\n",
        "score.mean()"
      ],
      "execution_count": 0,
      "outputs": [
        {
          "output_type": "execute_result",
          "data": {
            "text/plain": [
              "0.7442399506191502"
            ]
          },
          "metadata": {
            "tags": []
          },
          "execution_count": 155
        }
      ]
    },
    {
      "cell_type": "code",
      "metadata": {
        "colab_type": "code",
        "id": "9DCTgQppY2Lz",
        "outputId": "de1918ea-f2c7-42d3-ebf2-f75acca537ac",
        "colab": {
          "base_uri": "https://localhost:8080/"
        }
      },
      "source": [
        "print(\"Accuracy of Naive Bayes Model:\",\"\\n\", accuracy_score(y_2, pred_y, normalize=True, sample_weight=None))"
      ],
      "execution_count": 0,
      "outputs": [
        {
          "output_type": "stream",
          "text": [
            "Accuracy of Naive Bayes Model: \n",
            " 0.7442314518991835\n"
          ],
          "name": "stdout"
        }
      ]
    },
    {
      "cell_type": "code",
      "metadata": {
        "colab_type": "code",
        "id": "MaJ4z3fzY2L1",
        "outputId": "de460afa-a001-4196-cf6f-3a01ef9ac09d",
        "colab": {
          "base_uri": "https://localhost:8080/"
        }
      },
      "source": [
        "print(\"Confusion Matrix of Naive Bayes Model:\", \"\\n\", confusion_matrix(y_2, pred_y))"
      ],
      "execution_count": 0,
      "outputs": [
        {
          "output_type": "stream",
          "text": [
            "Confusion Matrix of Naive Bayes Model: \n",
            " [[3019 1092]\n",
            " [ 349 1174]]\n"
          ],
          "name": "stdout"
        }
      ]
    },
    {
      "cell_type": "code",
      "metadata": {
        "colab_type": "code",
        "id": "8EyQ6yTwY2L3",
        "outputId": "efa0ad9b-3582-44b2-b834-7256207b5497",
        "colab": {
          "base_uri": "https://localhost:8080/"
        }
      },
      "source": [
        "print(\"Classification Report of Naive Bayes Model:\",\"\\n\",classification_report(y_2, pred_y))"
      ],
      "execution_count": 0,
      "outputs": [
        {
          "output_type": "stream",
          "text": [
            "Classification Report of Naive Bayes Model: \n",
            "               precision    recall  f1-score   support\n",
            "\n",
            "           0       0.90      0.73      0.81      4111\n",
            "           1       0.52      0.77      0.62      1523\n",
            "\n",
            "    accuracy                           0.74      5634\n",
            "   macro avg       0.71      0.75      0.71      5634\n",
            "weighted avg       0.79      0.74      0.76      5634\n",
            "\n"
          ],
          "name": "stdout"
        }
      ]
    },
    {
      "cell_type": "code",
      "metadata": {
        "colab_type": "code",
        "id": "luShdEYmY2L5",
        "outputId": "ae91af22-cf12-4ae5-9dd5-2c0522384d46",
        "colab": {
          "base_uri": "https://localhost:8080/"
        }
      },
      "source": [
        "prob = cross_val_predict(gnb_2,X_2,y_2,cv=10, method = 'predict_proba')\n",
        "prob"
      ],
      "execution_count": 0,
      "outputs": [
        {
          "output_type": "execute_result",
          "data": {
            "text/plain": [
              "array([[9.98782984e-01, 1.21701602e-03],\n",
              "       [2.36371373e-02, 9.76362863e-01],\n",
              "       [1.51787439e-04, 9.99848213e-01],\n",
              "       ...,\n",
              "       [1.13620076e-04, 9.99886380e-01],\n",
              "       [4.91111883e-02, 9.50888812e-01],\n",
              "       [1.00000000e+00, 1.22101456e-13]])"
            ]
          },
          "metadata": {
            "tags": []
          },
          "execution_count": 159
        }
      ]
    },
    {
      "cell_type": "code",
      "metadata": {
        "colab_type": "code",
        "id": "XIqKvZPqY2L6",
        "outputId": "02fd63fc-0f69-4c07-af73-e4eeeb0932c0",
        "colab": {
          "base_uri": "https://localhost:8080/"
        }
      },
      "source": [
        "prob[:,1]"
      ],
      "execution_count": 0,
      "outputs": [
        {
          "output_type": "execute_result",
          "data": {
            "text/plain": [
              "array([1.21701602e-03, 9.76362863e-01, 9.99848213e-01, ...,\n",
              "       9.99886380e-01, 9.50888812e-01, 1.22101456e-13])"
            ]
          },
          "metadata": {
            "tags": []
          },
          "execution_count": 160
        }
      ]
    },
    {
      "cell_type": "code",
      "metadata": {
        "colab_type": "code",
        "id": "dZFuYN6yY2L-",
        "colab": {}
      },
      "source": [
        "fpr, tpr, thresholds = roc_curve(y_2, prob[:,1], pos_label=1)"
      ],
      "execution_count": 0,
      "outputs": []
    },
    {
      "cell_type": "code",
      "metadata": {
        "colab_type": "code",
        "id": "hBU2IUSNY2L_",
        "outputId": "31a59c38-f5d6-4204-90e7-c92009ae6581",
        "colab": {
          "base_uri": "https://localhost:8080/"
        }
      },
      "source": [
        "roc_auc=auc(fpr,tpr)\n",
        "roc_auc"
      ],
      "execution_count": 0,
      "outputs": [
        {
          "output_type": "execute_result",
          "data": {
            "text/plain": [
              "0.8258923858335012"
            ]
          },
          "metadata": {
            "tags": []
          },
          "execution_count": 162
        }
      ]
    },
    {
      "cell_type": "code",
      "metadata": {
        "colab_type": "code",
        "id": "FDdn_V-8Y2MB",
        "outputId": "420c956f-e84c-4590-8802-7ab47262cb90",
        "colab": {
          "base_uri": "https://localhost:8080/"
        }
      },
      "source": [
        "plt.figure()\n",
        "lw = 2\n",
        "plt.plot(fpr, tpr, marker='o',color='darkorange',\n",
        "         lw=lw, label='ROC curve (area = %0.2f)' % roc_auc)\n",
        "plt.plot([0, 1], [0, 1], color='navy', lw=lw, linestyle='--')\n",
        "plt.xlim([-0.05, 1.0])\n",
        "plt.ylim([0.0, 1.05])\n",
        "plt.xlabel('False Positive Rate')\n",
        "plt.ylabel('True Positive Rate')\n",
        "plt.title('Receiver operating characteristic')\n",
        "plt.legend(loc=\"lower right\")\n",
        "plt.show()"
      ],
      "execution_count": 0,
      "outputs": [
        {
          "output_type": "display_data",
          "data": {
            "image/png": "[encoded data removed]",
            "text/plain": [
              "<Figure size 432x288 with 1 Axes>"
            ]
          },
          "metadata": {
            "tags": [],
            "needs_background": "light"
          }
        }
      ]
    },
    {
      "cell_type": "code",
      "metadata": {
        "colab_type": "code",
        "id": "VdVFpm3jY2MD",
        "outputId": "76c3a239-34a1-48ef-f7cb-89954746af26",
        "colab": {
          "base_uri": "https://localhost:8080/"
        }
      },
      "source": [
        "gnb_2.fit(X_2, y_2)"
      ],
      "execution_count": 0,
      "outputs": [
        {
          "output_type": "execute_result",
          "data": {
            "text/plain": [
              "GaussianNB(priors=None, var_smoothing=1e-09)"
            ]
          },
          "metadata": {
            "tags": []
          },
          "execution_count": 164
        }
      ]
    },
    {
      "cell_type": "markdown",
      "metadata": {
        "id": "iFW6ybYpw54h",
        "colab_type": "text"
      },
      "source": [
        "## Predict Testing data"
      ]
    },
    {
      "cell_type": "code",
      "metadata": {
        "colab_type": "code",
        "id": "r_6SOHKtw_D6",
        "colab": {}
      },
      "source": [
        "pred_val_test = gnb_2.predict(X_test_2)"
      ],
      "execution_count": 0,
      "outputs": []
    },
    {
      "cell_type": "code",
      "metadata": {
        "colab_type": "code",
        "outputId": "861992e1-a540-4381-fc1e-0b62035f2c78",
        "id": "WWuyO50lw_D8",
        "colab": {
          "base_uri": "https://localhost:8080/"
        }
      },
      "source": [
        "print(\"Accuracy from testing data: \", accuracy_score(y_test_2, pred_val_test, normalize = True, sample_weight = None))\n",
        "print(confusion_matrix(y_test_2, pred_val_test))\n",
        "print(\"Classification Report of Naive Bayes Model:\",\"\\n\",classification_report(y_test_2, pred_val_test))"
      ],
      "execution_count": 0,
      "outputs": [
        {
          "output_type": "stream",
          "text": [
            "Accuracy from testing data:  0.7501774308019872\n",
            "[[777 286]\n",
            " [ 66 280]]\n",
            "Classification Report of Naive Bayes Model: \n",
            "               precision    recall  f1-score   support\n",
            "\n",
            "           0       0.92      0.73      0.82      1063\n",
            "           1       0.49      0.81      0.61       346\n",
            "\n",
            "    accuracy                           0.75      1409\n",
            "   macro avg       0.71      0.77      0.71      1409\n",
            "weighted avg       0.82      0.75      0.77      1409\n",
            "\n"
          ],
          "name": "stdout"
        }
      ]
    },
    {
      "cell_type": "markdown",
      "metadata": {
        "colab_type": "text",
        "id": "CF_rugE3aJNy"
      },
      "source": [
        "## Gaussian Naive Bayes Model (Dataset 3)"
      ]
    },
    {
      "cell_type": "code",
      "metadata": {
        "id": "CgAorqOTa9JQ",
        "colab_type": "code",
        "outputId": "18a345c1-e8a8-440a-f456-825da67d025e",
        "colab": {
          "base_uri": "https://localhost:8080/"
        }
      },
      "source": [
        "for instance in X_3.columns:\n",
        "    print(instance)\n",
        "    print (X_3[instance].unique())"
      ],
      "execution_count": 0,
      "outputs": [
        {
          "output_type": "stream",
          "text": [
            "gender\n",
            "[1 0]\n",
            "SeniorCitizen\n",
            "[0 1]\n",
            "Partner\n",
            "[0 1]\n",
            "Dependents\n",
            "[0 1]\n",
            "tenure_normalize\n",
            "[-0.94603724 -1.14994923 -0.78290765 -1.19073163  1.58247138  1.2562122\n",
            " -1.02760204  1.337777    0.88917063  1.62325378 -1.10916683  0.97073542\n",
            "  0.07352269 -1.27229642  0.52212905  0.72604104 -0.25273649  1.50090658\n",
            "  0.19586988  0.68525864  1.37855939  0.44056426  0.92995302  1.09308261\n",
            " -1.23151402 -0.21195409 -0.29351889 -0.1303893  -0.74212526  0.11430508\n",
            "  1.2969946   0.27743467  0.31821707 -0.86447245 -1.06838443  1.54168898\n",
            "  1.01151782 -0.66056046  0.03274029 -0.45664848  1.17464741 -0.70134286\n",
            "  0.48134666 -0.82369005 -0.41586608 -0.33430129 -0.53821327  0.60369385\n",
            "  1.2154298  -0.0896069   1.05230022 -0.90525485  0.80760583 -0.98681964\n",
            "  0.64447624  0.56291145  1.41934179 -0.1711717  -0.00804211 -0.37508368\n",
            "  0.35899946  0.84838823  1.46012419  1.13386501 -0.04882451 -0.61977807\n",
            "  0.15508748 -0.49743087  0.76682344 -0.57899567  0.23665227  0.39978186\n",
            " -1.31307882]\n",
            "PaperlessBilling\n",
            "[0 1]\n",
            "MonthlyCharges_normalize\n",
            "[-0.1470254   0.31655357  1.11457167 ... -1.51127211  0.14767837\n",
            "  0.11622123]\n",
            "TotalCharges_normalize\n",
            "[-0.76056127 -0.87632574 -0.45274861 ... -0.95958056  1.04760851\n",
            "  0.64038579]\n",
            "MultipleLines_No\n",
            "[0 1]\n",
            "MultipleLines_Yes\n",
            "[1 0]\n",
            "InternetService_DSL\n",
            "[1 0]\n",
            "InternetService_Fiber optic\n",
            "[0 1]\n",
            "OnlineSecurity_No\n",
            "[1 0]\n",
            "OnlineSecurity_Yes\n",
            "[0 1]\n",
            "OnlineBackup_No\n",
            "[1 0]\n",
            "OnlineBackup_Yes\n",
            "[0 1]\n",
            "DeviceProtection_No\n",
            "[1 0]\n",
            "DeviceProtection_Yes\n",
            "[0 1]\n",
            "TechSupport_No\n",
            "[1 0]\n",
            "TechSupport_Yes\n",
            "[0 1]\n",
            "StreamingTV_No\n",
            "[1 0]\n",
            "StreamingTV_Yes\n",
            "[0 1]\n",
            "StreamingMovies_No\n",
            "[0 1]\n",
            "StreamingMovies_Yes\n",
            "[1 0]\n",
            "Contract_Month-to-month\n",
            "[1 0]\n",
            "Contract_Two year\n",
            "[0 1]\n",
            "PaymentMethod_Bank transfer (automatic)\n",
            "[0 1]\n",
            "PaymentMethod_Electronic check\n",
            "[0 1]\n",
            "PaymentMethod_Mailed check\n",
            "[1 0]\n"
          ],
          "name": "stdout"
        }
      ]
    },
    {
      "cell_type": "code",
      "metadata": {
        "colab_type": "code",
        "id": "GFQS2pB9aJN4",
        "colab": {}
      },
      "source": [
        "gnb_3 = GaussianNB()"
      ],
      "execution_count": 0,
      "outputs": []
    },
    {
      "cell_type": "code",
      "metadata": {
        "colab_type": "code",
        "id": "cjRjr5RAaJN5",
        "outputId": "12b99393-c44c-4582-be0d-b4cc1df3313c",
        "colab": {
          "base_uri": "https://localhost:8080/"
        }
      },
      "source": [
        "pred_y = cross_val_predict(gnb_3,X_3,y_3,cv=10)\n",
        "pred_y"
      ],
      "execution_count": 0,
      "outputs": [
        {
          "output_type": "execute_result",
          "data": {
            "text/plain": [
              "array([1, 1, 1, ..., 1, 0, 0])"
            ]
          },
          "metadata": {
            "tags": []
          },
          "execution_count": 169
        }
      ]
    },
    {
      "cell_type": "code",
      "metadata": {
        "colab_type": "code",
        "id": "MlPwrG_6aJN7",
        "outputId": "53489d8e-bba3-44f0-d574-4497fdac65c4",
        "colab": {
          "base_uri": "https://localhost:8080/"
        }
      },
      "source": [
        "score = cross_val_score(gnb_3,X_3,y_3,cv=10)\n",
        "score.mean()"
      ],
      "execution_count": 0,
      "outputs": [
        {
          "output_type": "execute_result",
          "data": {
            "text/plain": [
              "0.747257599234093"
            ]
          },
          "metadata": {
            "tags": []
          },
          "execution_count": 170
        }
      ]
    },
    {
      "cell_type": "code",
      "metadata": {
        "colab_type": "code",
        "id": "G85JHtTRaJN_",
        "outputId": "e012bd7f-fa43-47f2-a2a4-4577cfce8af3",
        "colab": {
          "base_uri": "https://localhost:8080/"
        }
      },
      "source": [
        "print(\"Accuracy of Naive Bayes Model:\",\"\\n\", accuracy_score(y_3, pred_y, normalize=True, sample_weight=None))"
      ],
      "execution_count": 0,
      "outputs": [
        {
          "output_type": "stream",
          "text": [
            "Accuracy of Naive Bayes Model: \n",
            " 0.7472488462903798\n"
          ],
          "name": "stdout"
        }
      ]
    },
    {
      "cell_type": "code",
      "metadata": {
        "colab_type": "code",
        "id": "Fc_BHxhlaJOB",
        "outputId": "9336ef4a-4176-4383-9950-bb1f2d25538e",
        "colab": {
          "base_uri": "https://localhost:8080/"
        }
      },
      "source": [
        "\n",
        "print(\"Confusion Matrix of Naive Bayes Model:\", \"\\n\", confusion_matrix(y_3, pred_y))"
      ],
      "execution_count": 0,
      "outputs": [
        {
          "output_type": "stream",
          "text": [
            "Confusion Matrix of Naive Bayes Model: \n",
            " [[3087 1086]\n",
            " [ 338 1123]]\n"
          ],
          "name": "stdout"
        }
      ]
    },
    {
      "cell_type": "code",
      "metadata": {
        "colab_type": "code",
        "id": "2iMS-QRKaJOC",
        "outputId": "d24d53f0-bdcc-4738-84f1-d3727e9798db",
        "colab": {
          "base_uri": "https://localhost:8080/"
        }
      },
      "source": [
        "print(\"Classification Report of Naive Bayes Model:\",\"\\n\",classification_report(y_3, pred_y))"
      ],
      "execution_count": 0,
      "outputs": [
        {
          "output_type": "stream",
          "text": [
            "Classification Report of Naive Bayes Model: \n",
            "               precision    recall  f1-score   support\n",
            "\n",
            "           0       0.90      0.74      0.81      4173\n",
            "           1       0.51      0.77      0.61      1461\n",
            "\n",
            "    accuracy                           0.75      5634\n",
            "   macro avg       0.70      0.75      0.71      5634\n",
            "weighted avg       0.80      0.75      0.76      5634\n",
            "\n"
          ],
          "name": "stdout"
        }
      ]
    },
    {
      "cell_type": "code",
      "metadata": {
        "colab_type": "code",
        "id": "dz1y672vaJOE",
        "outputId": "c2876ce8-a5d8-46c8-bfd8-9f845846e4d5",
        "colab": {
          "base_uri": "https://localhost:8080/"
        }
      },
      "source": [
        "prob = cross_val_predict(gnb_3,X_3,y_3,cv=10, method = 'predict_proba')\n",
        "prob"
      ],
      "execution_count": 0,
      "outputs": [
        {
          "output_type": "execute_result",
          "data": {
            "text/plain": [
              "array([[2.33119675e-02, 9.76688032e-01],\n",
              "       [1.27532299e-04, 9.99872468e-01],\n",
              "       [3.72080309e-04, 9.99627920e-01],\n",
              "       ...,\n",
              "       [3.48467460e-02, 9.65153254e-01],\n",
              "       [1.00000000e+00, 5.99506990e-16],\n",
              "       [1.00000000e+00, 1.30585999e-13]])"
            ]
          },
          "metadata": {
            "tags": []
          },
          "execution_count": 174
        }
      ]
    },
    {
      "cell_type": "code",
      "metadata": {
        "colab_type": "code",
        "id": "zR-dQIJbaJOF",
        "outputId": "5c4e2898-2bcf-4f34-8966-cf43f1745fd2",
        "colab": {
          "base_uri": "https://localhost:8080/"
        }
      },
      "source": [
        "prob[:,1]"
      ],
      "execution_count": 0,
      "outputs": [
        {
          "output_type": "execute_result",
          "data": {
            "text/plain": [
              "array([9.76688032e-01, 9.99872468e-01, 9.99627920e-01, ...,\n",
              "       9.65153254e-01, 5.99506990e-16, 1.30585999e-13])"
            ]
          },
          "metadata": {
            "tags": []
          },
          "execution_count": 175
        }
      ]
    },
    {
      "cell_type": "code",
      "metadata": {
        "colab_type": "code",
        "id": "VIrb26iFaJOH",
        "colab": {}
      },
      "source": [
        "fpr, tpr, thresholds = roc_curve(y_3, prob[:,1], pos_label=1)"
      ],
      "execution_count": 0,
      "outputs": []
    },
    {
      "cell_type": "code",
      "metadata": {
        "colab_type": "code",
        "id": "NpSI27XEaJOI",
        "outputId": "b42f2b53-2d59-46d9-b87c-571fa4aa2a83",
        "colab": {
          "base_uri": "https://localhost:8080/"
        }
      },
      "source": [
        "roc_auc=auc(fpr,tpr)\n",
        "roc_auc"
      ],
      "execution_count": 0,
      "outputs": [
        {
          "output_type": "execute_result",
          "data": {
            "text/plain": [
              "0.8292359884023512"
            ]
          },
          "metadata": {
            "tags": []
          },
          "execution_count": 177
        }
      ]
    },
    {
      "cell_type": "code",
      "metadata": {
        "colab_type": "code",
        "id": "eOpAzx6GaJOJ",
        "outputId": "503af3e0-5933-43c7-ecf6-ccd9afb0631d",
        "colab": {
          "base_uri": "https://localhost:8080/"
        }
      },
      "source": [
        "plt.figure()\n",
        "lw = 2\n",
        "plt.plot(fpr, tpr, marker='o',color='darkorange',\n",
        "         lw=lw, label='ROC curve (area = %0.2f)' % roc_auc)\n",
        "plt.plot([0, 1], [0, 1], color='navy', lw=lw, linestyle='--')\n",
        "plt.xlim([-0.05, 1.0])\n",
        "plt.ylim([0.0, 1.05])\n",
        "plt.xlabel('False Positive Rate')\n",
        "plt.ylabel('True Positive Rate')\n",
        "plt.title('Receiver operating characteristic')\n",
        "plt.legend(loc=\"lower right\")\n",
        "plt.show()"
      ],
      "execution_count": 0,
      "outputs": [
        {
          "output_type": "display_data",
          "data": {
            "image/png": "[encoded data removed]",
            "text/plain": [
              "<Figure size 432x288 with 1 Axes>"
            ]
          },
          "metadata": {
            "tags": [],
            "needs_background": "light"
          }
        }
      ]
    },
    {
      "cell_type": "code",
      "metadata": {
        "colab_type": "code",
        "id": "cgZdVTv6aJOL",
        "outputId": "50e9bc84-8467-485d-b5b1-5810402e6634",
        "colab": {
          "base_uri": "https://localhost:8080/"
        }
      },
      "source": [
        "gnb_3.fit(X_3, y_3)"
      ],
      "execution_count": 0,
      "outputs": [
        {
          "output_type": "execute_result",
          "data": {
            "text/plain": [
              "GaussianNB(priors=None, var_smoothing=1e-09)"
            ]
          },
          "metadata": {
            "tags": []
          },
          "execution_count": 179
        }
      ]
    },
    {
      "cell_type": "markdown",
      "metadata": {
        "id": "QYnE8Sz6wcoL",
        "colab_type": "text"
      },
      "source": [
        "## Predict testing data"
      ]
    },
    {
      "cell_type": "code",
      "metadata": {
        "colab_type": "code",
        "id": "xXb52QXGwhM6",
        "colab": {}
      },
      "source": [
        "pred_val_test = gnb_3.predict(X_test_3)"
      ],
      "execution_count": 0,
      "outputs": []
    },
    {
      "cell_type": "code",
      "metadata": {
        "colab_type": "code",
        "id": "DLCTtRFywhM9",
        "outputId": "df28f55d-43a7-4187-9a1c-b0b9bd5c1255",
        "colab": {
          "base_uri": "https://localhost:8080/"
        }
      },
      "source": [
        "print(\"Accuracy from testing data: \", accuracy_score(y_test_3, pred_val_test, normalize = True, sample_weight = None))\n",
        "print(confusion_matrix(y_test_3, pred_val_test))\n",
        "print(\"Classification Report of Naive Bayes Model:\",\"\\n\",classification_report(y_test_3, pred_val_test))"
      ],
      "execution_count": 0,
      "outputs": [
        {
          "output_type": "stream",
          "text": [
            "Accuracy from testing data:  0.7444996451383961\n",
            "[[742 259]\n",
            " [101 307]]\n",
            "Classification Report of Naive Bayes Model: \n",
            "               precision    recall  f1-score   support\n",
            "\n",
            "           0       0.88      0.74      0.80      1001\n",
            "           1       0.54      0.75      0.63       408\n",
            "\n",
            "    accuracy                           0.74      1409\n",
            "   macro avg       0.71      0.75      0.72      1409\n",
            "weighted avg       0.78      0.74      0.75      1409\n",
            "\n"
          ],
          "name": "stdout"
        }
      ]
    },
    {
      "cell_type": "markdown",
      "metadata": {
        "id": "uhEnyq4NTlmv",
        "colab_type": "text"
      },
      "source": [
        "## Logistic Regression (Dataset 1)"
      ]
    },
    {
      "cell_type": "code",
      "metadata": {
        "id": "E3OzPnRBTlmy",
        "colab_type": "code",
        "colab": {}
      },
      "source": [
        "#import tools for logisitic regression\n",
        "from sklearn.linear_model import LogisticRegression"
      ],
      "execution_count": 0,
      "outputs": []
    },
    {
      "cell_type": "code",
      "metadata": {
        "id": "8RqyxJlUTlmz",
        "colab_type": "code",
        "colab": {}
      },
      "source": [
        "from sklearn.model_selection import GridSearchCV\n",
        "penalty = ['l1']\n",
        "C = np.arange(1,5)\n",
        "solver = ['liblinear','saga']\n",
        "random_state = [40]\n",
        "try_grid = [{'penalty': penalty, 'C':C, 'solver':solver, 'random_state':random_state}]"
      ],
      "execution_count": 0,
      "outputs": []
    },
    {
      "cell_type": "code",
      "metadata": {
        "id": "1w8Yinx8Tlm2",
        "colab_type": "code",
        "outputId": "68496c94-1309-404c-ffe0-75f31f176323",
        "colab": {
          "base_uri": "https://localhost:8080/",
          "height": 269
        }
      },
      "source": [
        "LRM_1_1 = GridSearchCV(LogisticRegression(), param_grid=try_grid, cv=10)\n",
        "LRM_1_1.fit(X_1,y_1)"
      ],
      "execution_count": 0,
      "outputs": [
        {
          "output_type": "execute_result",
          "data": {
            "text/plain": [
              "GridSearchCV(cv=10, error_score=nan,\n",
              "             estimator=LogisticRegression(C=1.0, class_weight=None, dual=False,\n",
              "                                          fit_intercept=True,\n",
              "                                          intercept_scaling=1, l1_ratio=None,\n",
              "                                          max_iter=100, multi_class='auto',\n",
              "                                          n_jobs=None, penalty='l2',\n",
              "                                          random_state=None, solver='lbfgs',\n",
              "                                          tol=0.0001, verbose=0,\n",
              "                                          warm_start=False),\n",
              "             iid='deprecated', n_jobs=None,\n",
              "             param_grid=[{'C': array([1, 2, 3, 4]), 'penalty': ['l1'],\n",
              "                          'random_state': [40],\n",
              "                          'solver': ['liblinear', 'saga']}],\n",
              "             pre_dispatch='2*n_jobs', refit=True, return_train_score=False,\n",
              "             scoring=None, verbose=0)"
            ]
          },
          "metadata": {
            "tags": []
          },
          "execution_count": 184
        }
      ]
    },
    {
      "cell_type": "code",
      "metadata": {
        "id": "b7EIG3AITlm3",
        "colab_type": "code",
        "outputId": "367ae570-6238-4174-c9b3-3cd998afe36a",
        "colab": {
          "base_uri": "https://localhost:8080/",
          "height": 50
        }
      },
      "source": [
        "display(LRM_1_1.best_params_, LRM_1_1.best_score_)"
      ],
      "execution_count": 0,
      "outputs": [
        {
          "output_type": "display_data",
          "data": {
            "text/plain": [
              "{'C': 3, 'penalty': 'l1', 'random_state': 40, 'solver': 'liblinear'}"
            ]
          },
          "metadata": {
            "tags": []
          }
        },
        {
          "output_type": "display_data",
          "data": {
            "text/plain": [
              "0.8058258695186626"
            ]
          },
          "metadata": {
            "tags": []
          }
        }
      ]
    },
    {
      "cell_type": "code",
      "metadata": {
        "id": "eEtOWn33Tlm5",
        "colab_type": "code",
        "colab": {}
      },
      "source": [
        "penalty = ['l2']\n",
        "C = np.arange(1,5)\n",
        "solver = ['newton-cg','lbfgs','liblinear','sag','saga']\n",
        "random_state = [50]\n",
        "try_grid_2 = [{'penalty': penalty, 'C':C, 'solver':solver, 'random_state':random_state}]"
      ],
      "execution_count": 0,
      "outputs": []
    },
    {
      "cell_type": "code",
      "metadata": {
        "id": "2KXKXCQKTlm7",
        "colab_type": "code",
        "outputId": "7b2581b7-4291-474b-dfcd-edf243e16256",
        "colab": {
          "base_uri": "https://localhost:8080/",
          "height": 286
        }
      },
      "source": [
        "LRM_1_2 = GridSearchCV(LogisticRegression(), param_grid=try_grid_2, cv=10)\n",
        "LRM_1_2.fit(X_1,y_1)"
      ],
      "execution_count": 0,
      "outputs": [
        {
          "output_type": "execute_result",
          "data": {
            "text/plain": [
              "GridSearchCV(cv=10, error_score=nan,\n",
              "             estimator=LogisticRegression(C=1.0, class_weight=None, dual=False,\n",
              "                                          fit_intercept=True,\n",
              "                                          intercept_scaling=1, l1_ratio=None,\n",
              "                                          max_iter=100, multi_class='auto',\n",
              "                                          n_jobs=None, penalty='l2',\n",
              "                                          random_state=None, solver='lbfgs',\n",
              "                                          tol=0.0001, verbose=0,\n",
              "                                          warm_start=False),\n",
              "             iid='deprecated', n_jobs=None,\n",
              "             param_grid=[{'C': array([1, 2, 3, 4]), 'penalty': ['l2'],\n",
              "                          'random_state': [50],\n",
              "                          'solver': ['newton-cg', 'lbfgs', 'liblinear', 'sag',\n",
              "                                     'saga']}],\n",
              "             pre_dispatch='2*n_jobs', refit=True, return_train_score=False,\n",
              "             scoring=None, verbose=0)"
            ]
          },
          "metadata": {
            "tags": []
          },
          "execution_count": 187
        }
      ]
    },
    {
      "cell_type": "code",
      "metadata": {
        "id": "X7e_DXa1Tlm8",
        "colab_type": "code",
        "outputId": "d6cf346f-c5a7-4c50-cc7b-ca22d6f66aa3",
        "colab": {
          "base_uri": "https://localhost:8080/",
          "height": 50
        }
      },
      "source": [
        "display(LRM_1_2.best_params_, LRM_1_2.best_score_)"
      ],
      "execution_count": 0,
      "outputs": [
        {
          "output_type": "display_data",
          "data": {
            "text/plain": [
              "{'C': 1, 'penalty': 'l2', 'random_state': 50, 'solver': 'newton-cg'}"
            ]
          },
          "metadata": {
            "tags": []
          }
        },
        {
          "output_type": "display_data",
          "data": {
            "text/plain": [
              "0.8056482496252346"
            ]
          },
          "metadata": {
            "tags": []
          }
        }
      ]
    },
    {
      "cell_type": "markdown",
      "metadata": {
        "id": "rLo6kgQQTlm9",
        "colab_type": "text"
      },
      "source": [
        "## use LRM_1_2"
      ]
    },
    {
      "cell_type": "code",
      "metadata": {
        "id": "kieXqP7zTlm9",
        "colab_type": "code",
        "colab": {}
      },
      "source": [
        "lr_1 = LogisticRegression(penalty='l2', C=1,random_state=50, solver='newton-cg')"
      ],
      "execution_count": 0,
      "outputs": []
    },
    {
      "cell_type": "code",
      "metadata": {
        "id": "JKJ2xKBqTlm-",
        "colab_type": "code",
        "colab": {}
      },
      "source": [
        "# import cross validation and other evaluation tool \n",
        "from sklearn.model_selection import cross_val_score\n",
        "from sklearn.model_selection import cross_val_predict\n",
        "from sklearn.metrics import accuracy_score\n",
        "from sklearn.metrics import classification_report\n",
        "from sklearn.metrics import confusion_matrix"
      ],
      "execution_count": 0,
      "outputs": []
    },
    {
      "cell_type": "code",
      "metadata": {
        "id": "Uriv5fcLTlm_",
        "colab_type": "code",
        "colab": {}
      },
      "source": [
        "# change target column to array\n",
        "yact = y_1.values.ravel()"
      ],
      "execution_count": 0,
      "outputs": []
    },
    {
      "cell_type": "code",
      "metadata": {
        "id": "sE1wx8biTlnB",
        "colab_type": "code",
        "colab": {}
      },
      "source": [
        "score_cv = cross_val_score(lr_1, X_1, yact, cv=10)"
      ],
      "execution_count": 0,
      "outputs": []
    },
    {
      "cell_type": "code",
      "metadata": {
        "id": "p28J1BG1TlnC",
        "colab_type": "code",
        "outputId": "16630745-0dd7-4d23-b790-1f8545dda548",
        "colab": {
          "base_uri": "https://localhost:8080/",
          "height": 34
        }
      },
      "source": [
        "# accuracy from cross validation\n",
        "score_cv.mean()"
      ],
      "execution_count": 0,
      "outputs": [
        {
          "output_type": "execute_result",
          "data": {
            "text/plain": [
              "0.8056482496252346"
            ]
          },
          "metadata": {
            "tags": []
          },
          "execution_count": 193
        }
      ]
    },
    {
      "cell_type": "code",
      "metadata": {
        "id": "IRC598kUTlnD",
        "colab_type": "code",
        "colab": {}
      },
      "source": [
        "#predict value of target based on cross validation\n",
        "pred_y = cross_val_predict(lr_1, X_1, yact, cv=10)"
      ],
      "execution_count": 0,
      "outputs": []
    },
    {
      "cell_type": "code",
      "metadata": {
        "id": "sGye22mCTlnF",
        "colab_type": "code",
        "outputId": "b6a32484-f0fe-42b8-cfa4-dc4d6e878d64",
        "colab": {
          "base_uri": "https://localhost:8080/",
          "height": 50
        }
      },
      "source": [
        "# Confusion matrix\n",
        "print(confusion_matrix(y_1, pred_y))"
      ],
      "execution_count": 0,
      "outputs": [
        {
          "output_type": "stream",
          "text": [
            "[[3682  426]\n",
            " [ 669  857]]\n"
          ],
          "name": "stdout"
        }
      ]
    },
    {
      "cell_type": "code",
      "metadata": {
        "id": "Mf5sU0qKTlnK",
        "colab_type": "code",
        "outputId": "f798404d-d720-4535-8f9e-81ecf955f543",
        "colab": {
          "base_uri": "https://localhost:8080/",
          "height": 168
        }
      },
      "source": [
        "print(classification_report(yact, pred_y))"
      ],
      "execution_count": 0,
      "outputs": [
        {
          "output_type": "stream",
          "text": [
            "              precision    recall  f1-score   support\n",
            "\n",
            "           0       0.85      0.90      0.87      4108\n",
            "           1       0.67      0.56      0.61      1526\n",
            "\n",
            "    accuracy                           0.81      5634\n",
            "   macro avg       0.76      0.73      0.74      5634\n",
            "weighted avg       0.80      0.81      0.80      5634\n",
            "\n"
          ],
          "name": "stdout"
        }
      ]
    },
    {
      "cell_type": "markdown",
      "metadata": {
        "id": "5lsIGhmvTlnM",
        "colab_type": "text"
      },
      "source": [
        "## ROC Curve"
      ]
    },
    {
      "cell_type": "code",
      "metadata": {
        "id": "iVrRvF6xTlnM",
        "colab_type": "code",
        "outputId": "f5448a10-fa4b-41f6-fd4a-47de23c81d7b",
        "colab": {
          "base_uri": "https://localhost:8080/",
          "height": 134
        }
      },
      "source": [
        "# probablities for each prediction\n",
        "proba_y = cross_val_predict(lr_1, X_1, yact, cv=10, method='predict_proba')\n",
        "proba_y"
      ],
      "execution_count": 0,
      "outputs": [
        {
          "output_type": "execute_result",
          "data": {
            "text/plain": [
              "array([[0.83602955, 0.16397045],\n",
              "       [0.6082178 , 0.3917822 ],\n",
              "       [0.3155261 , 0.6844739 ],\n",
              "       ...,\n",
              "       [0.61036659, 0.38963341],\n",
              "       [0.99197213, 0.00802787],\n",
              "       [0.97237623, 0.02762377]])"
            ]
          },
          "metadata": {
            "tags": []
          },
          "execution_count": 197
        }
      ]
    },
    {
      "cell_type": "code",
      "metadata": {
        "id": "aJ3IcjxYTlnP",
        "colab_type": "code",
        "outputId": "3b182b2c-32d4-447e-e022-e8bdb73e8dee",
        "colab": {
          "base_uri": "https://localhost:8080/",
          "height": 50
        }
      },
      "source": [
        "# probabilities of being '0' for all instances at default threshold of 0.5\n",
        "proba_y_0 = proba_y[:,0]\n",
        "proba_y_0"
      ],
      "execution_count": 0,
      "outputs": [
        {
          "output_type": "execute_result",
          "data": {
            "text/plain": [
              "array([0.83602955, 0.6082178 , 0.3155261 , ..., 0.61036659, 0.99197213,\n",
              "       0.97237623])"
            ]
          },
          "metadata": {
            "tags": []
          },
          "execution_count": 198
        }
      ]
    },
    {
      "cell_type": "code",
      "metadata": {
        "id": "gnWflRV9TlnQ",
        "colab_type": "code",
        "outputId": "8fa6c067-f7ea-488d-86f1-8292b6c8baa0",
        "colab": {
          "base_uri": "https://localhost:8080/",
          "height": 1000
        }
      },
      "source": [
        "# Increase threshold for '0' to be 0.7\n",
        "proba_y_0_lt= [0 if i >= 0.7 else 1 for i in proba_y_0]\n",
        "proba_y_0_lt"
      ],
      "execution_count": 0,
      "outputs": [
        {
          "output_type": "execute_result",
          "data": {
            "text/plain": [
              "[0,\n",
              " 1,\n",
              " 1,\n",
              " 1,\n",
              " 0,\n",
              " 0,\n",
              " 1,\n",
              " 0,\n",
              " 0,\n",
              " 1,\n",
              " 0,\n",
              " 0,\n",
              " 0,\n",
              " 0,\n",
              " 0,\n",
              " 1,\n",
              " 0,\n",
              " 1,\n",
              " 1,\n",
              " 0,\n",
              " 1,\n",
              " 0,\n",
              " 0,\n",
              " 0,\n",
              " 0,\n",
              " 0,\n",
              " 0,\n",
              " 0,\n",
              " 0,\n",
              " 0,\n",
              " 1,\n",
              " 1,\n",
              " 0,\n",
              " 0,\n",
              " 0,\n",
              " 0,\n",
              " 0,\n",
              " 1,\n",
              " 1,\n",
              " 1,\n",
              " 0,\n",
              " 1,\n",
              " 1,\n",
              " 1,\n",
              " 1,\n",
              " 1,\n",
              " 0,\n",
              " 0,\n",
              " 0,\n",
              " 0,\n",
              " 1,\n",
              " 0,\n",
              " 1,\n",
              " 1,\n",
              " 1,\n",
              " 0,\n",
              " 0,\n",
              " 1,\n",
              " 0,\n",
              " 1,\n",
              " 0,\n",
              " 1,\n",
              " 0,\n",
              " 1,\n",
              " 0,\n",
              " 0,\n",
              " 1,\n",
              " 1,\n",
              " 1,\n",
              " 1,\n",
              " 1,\n",
              " 0,\n",
              " 1,\n",
              " 1,\n",
              " 0,\n",
              " 0,\n",
              " 0,\n",
              " 1,\n",
              " 0,\n",
              " 1,\n",
              " 0,\n",
              " 1,\n",
              " 0,\n",
              " 0,\n",
              " 0,\n",
              " 0,\n",
              " 0,\n",
              " 0,\n",
              " 1,\n",
              " 1,\n",
              " 1,\n",
              " 0,\n",
              " 0,\n",
              " 0,\n",
              " 0,\n",
              " 0,\n",
              " 0,\n",
              " 1,\n",
              " 0,\n",
              " 1,\n",
              " 0,\n",
              " 0,\n",
              " 0,\n",
              " 0,\n",
              " 1,\n",
              " 1,\n",
              " 0,\n",
              " 1,\n",
              " 0,\n",
              " 1,\n",
              " 0,\n",
              " 1,\n",
              " 0,\n",
              " 0,\n",
              " 0,\n",
              " 0,\n",
              " 1,\n",
              " 0,\n",
              " 0,\n",
              " 1,\n",
              " 0,\n",
              " 0,\n",
              " 0,\n",
              " 1,\n",
              " 0,\n",
              " 0,\n",
              " 0,\n",
              " 0,\n",
              " 1,\n",
              " 0,\n",
              " 1,\n",
              " 1,\n",
              " 1,\n",
              " 1,\n",
              " 0,\n",
              " 0,\n",
              " 1,\n",
              " 0,\n",
              " 0,\n",
              " 0,\n",
              " 0,\n",
              " 0,\n",
              " 1,\n",
              " 0,\n",
              " 1,\n",
              " 0,\n",
              " 1,\n",
              " 0,\n",
              " 0,\n",
              " 1,\n",
              " 1,\n",
              " 0,\n",
              " 0,\n",
              " 0,\n",
              " 1,\n",
              " 0,\n",
              " 0,\n",
              " 0,\n",
              " 1,\n",
              " 0,\n",
              " 0,\n",
              " 1,\n",
              " 0,\n",
              " 1,\n",
              " 1,\n",
              " 0,\n",
              " 1,\n",
              " 1,\n",
              " 0,\n",
              " 1,\n",
              " 1,\n",
              " 1,\n",
              " 1,\n",
              " 1,\n",
              " 0,\n",
              " 1,\n",
              " 1,\n",
              " 1,\n",
              " 0,\n",
              " 1,\n",
              " 1,\n",
              " 0,\n",
              " 0,\n",
              " 1,\n",
              " 0,\n",
              " 1,\n",
              " 0,\n",
              " 1,\n",
              " 1,\n",
              " 0,\n",
              " 0,\n",
              " 0,\n",
              " 1,\n",
              " 1,\n",
              " 0,\n",
              " 1,\n",
              " 1,\n",
              " 0,\n",
              " 0,\n",
              " 0,\n",
              " 0,\n",
              " 1,\n",
              " 0,\n",
              " 1,\n",
              " 1,\n",
              " 1,\n",
              " 1,\n",
              " 0,\n",
              " 1,\n",
              " 1,\n",
              " 0,\n",
              " 0,\n",
              " 1,\n",
              " 0,\n",
              " 0,\n",
              " 0,\n",
              " 0,\n",
              " 0,\n",
              " 0,\n",
              " 0,\n",
              " 1,\n",
              " 0,\n",
              " 1,\n",
              " 0,\n",
              " 1,\n",
              " 0,\n",
              " 1,\n",
              " 0,\n",
              " 1,\n",
              " 0,\n",
              " 1,\n",
              " 1,\n",
              " 0,\n",
              " 0,\n",
              " 0,\n",
              " 0,\n",
              " 1,\n",
              " 1,\n",
              " 1,\n",
              " 1,\n",
              " 0,\n",
              " 0,\n",
              " 0,\n",
              " 0,\n",
              " 0,\n",
              " 0,\n",
              " 0,\n",
              " 1,\n",
              " 0,\n",
              " 0,\n",
              " 1,\n",
              " 0,\n",
              " 0,\n",
              " 0,\n",
              " 0,\n",
              " 0,\n",
              " 1,\n",
              " 0,\n",
              " 1,\n",
              " 0,\n",
              " 0,\n",
              " 1,\n",
              " 0,\n",
              " 1,\n",
              " 0,\n",
              " 1,\n",
              " 0,\n",
              " 0,\n",
              " 0,\n",
              " 0,\n",
              " 0,\n",
              " 0,\n",
              " 1,\n",
              " 1,\n",
              " 1,\n",
              " 0,\n",
              " 1,\n",
              " 0,\n",
              " 0,\n",
              " 1,\n",
              " 0,\n",
              " 0,\n",
              " 1,\n",
              " 0,\n",
              " 0,\n",
              " 0,\n",
              " 0,\n",
              " 1,\n",
              " 0,\n",
              " 1,\n",
              " 0,\n",
              " 1,\n",
              " 1,\n",
              " 1,\n",
              " 0,\n",
              " 0,\n",
              " 0,\n",
              " 1,\n",
              " 0,\n",
              " 0,\n",
              " 0,\n",
              " 0,\n",
              " 0,\n",
              " 0,\n",
              " 1,\n",
              " 1,\n",
              " 0,\n",
              " 0,\n",
              " 0,\n",
              " 0,\n",
              " 1,\n",
              " 0,\n",
              " 1,\n",
              " 1,\n",
              " 1,\n",
              " 0,\n",
              " 1,\n",
              " 1,\n",
              " 0,\n",
              " 0,\n",
              " 1,\n",
              " 1,\n",
              " 0,\n",
              " 1,\n",
              " 0,\n",
              " 1,\n",
              " 0,\n",
              " 0,\n",
              " 0,\n",
              " 0,\n",
              " 0,\n",
              " 1,\n",
              " 1,\n",
              " 1,\n",
              " 0,\n",
              " 0,\n",
              " 0,\n",
              " 0,\n",
              " 1,\n",
              " 0,\n",
              " 0,\n",
              " 0,\n",
              " 1,\n",
              " 0,\n",
              " 1,\n",
              " 1,\n",
              " 0,\n",
              " 0,\n",
              " 1,\n",
              " 0,\n",
              " 1,\n",
              " 1,\n",
              " 0,\n",
              " 1,\n",
              " 0,\n",
              " 1,\n",
              " 1,\n",
              " 0,\n",
              " 1,\n",
              " 0,\n",
              " 0,\n",
              " 0,\n",
              " 0,\n",
              " 0,\n",
              " 1,\n",
              " 0,\n",
              " 1,\n",
              " 0,\n",
              " 0,\n",
              " 0,\n",
              " 1,\n",
              " 1,\n",
              " 0,\n",
              " 0,\n",
              " 0,\n",
              " 1,\n",
              " 0,\n",
              " 1,\n",
              " 1,\n",
              " 1,\n",
              " 0,\n",
              " 1,\n",
              " 0,\n",
              " 0,\n",
              " 0,\n",
              " 1,\n",
              " 0,\n",
              " 1,\n",
              " 0,\n",
              " 1,\n",
              " 0,\n",
              " 0,\n",
              " 1,\n",
              " 0,\n",
              " 0,\n",
              " 1,\n",
              " 1,\n",
              " 0,\n",
              " 0,\n",
              " 1,\n",
              " 0,\n",
              " 1,\n",
              " 0,\n",
              " 1,\n",
              " 0,\n",
              " 0,\n",
              " 0,\n",
              " 1,\n",
              " 0,\n",
              " 0,\n",
              " 0,\n",
              " 1,\n",
              " 0,\n",
              " 0,\n",
              " 0,\n",
              " 1,\n",
              " 0,\n",
              " 1,\n",
              " 0,\n",
              " 0,\n",
              " 0,\n",
              " 1,\n",
              " 0,\n",
              " 0,\n",
              " 0,\n",
              " 0,\n",
              " 0,\n",
              " 1,\n",
              " 1,\n",
              " 1,\n",
              " 0,\n",
              " 1,\n",
              " 0,\n",
              " 1,\n",
              " 0,\n",
              " 0,\n",
              " 0,\n",
              " 1,\n",
              " 0,\n",
              " 0,\n",
              " 0,\n",
              " 0,\n",
              " 1,\n",
              " 1,\n",
              " 0,\n",
              " 0,\n",
              " 0,\n",
              " 0,\n",
              " 1,\n",
              " 1,\n",
              " 1,\n",
              " 1,\n",
              " 0,\n",
              " 1,\n",
              " 0,\n",
              " 0,\n",
              " 0,\n",
              " 0,\n",
              " 0,\n",
              " 1,\n",
              " 0,\n",
              " 0,\n",
              " 0,\n",
              " 0,\n",
              " 0,\n",
              " 0,\n",
              " 1,\n",
              " 0,\n",
              " 0,\n",
              " 0,\n",
              " 1,\n",
              " 0,\n",
              " 0,\n",
              " 0,\n",
              " 1,\n",
              " 1,\n",
              " 0,\n",
              " 0,\n",
              " 1,\n",
              " 0,\n",
              " 0,\n",
              " 1,\n",
              " 1,\n",
              " 1,\n",
              " 0,\n",
              " 0,\n",
              " 1,\n",
              " 0,\n",
              " 1,\n",
              " 1,\n",
              " 0,\n",
              " 1,\n",
              " 0,\n",
              " 0,\n",
              " 0,\n",
              " 1,\n",
              " 0,\n",
              " 1,\n",
              " 0,\n",
              " 0,\n",
              " 0,\n",
              " 0,\n",
              " 1,\n",
              " 0,\n",
              " 1,\n",
              " 1,\n",
              " 1,\n",
              " 1,\n",
              " 1,\n",
              " 1,\n",
              " 0,\n",
              " 0,\n",
              " 0,\n",
              " 0,\n",
              " 0,\n",
              " 1,\n",
              " 1,\n",
              " 0,\n",
              " 0,\n",
              " 1,\n",
              " 0,\n",
              " 1,\n",
              " 1,\n",
              " 0,\n",
              " 0,\n",
              " 1,\n",
              " 0,\n",
              " 0,\n",
              " 0,\n",
              " 0,\n",
              " 1,\n",
              " 0,\n",
              " 0,\n",
              " 1,\n",
              " 0,\n",
              " 0,\n",
              " 0,\n",
              " 0,\n",
              " 0,\n",
              " 0,\n",
              " 0,\n",
              " 0,\n",
              " 0,\n",
              " 0,\n",
              " 0,\n",
              " 1,\n",
              " 1,\n",
              " 0,\n",
              " 0,\n",
              " 1,\n",
              " 0,\n",
              " 0,\n",
              " 0,\n",
              " 1,\n",
              " 1,\n",
              " 1,\n",
              " 1,\n",
              " 0,\n",
              " 1,\n",
              " 0,\n",
              " 1,\n",
              " 0,\n",
              " 0,\n",
              " 0,\n",
              " 0,\n",
              " 0,\n",
              " 0,\n",
              " 0,\n",
              " 1,\n",
              " 0,\n",
              " 1,\n",
              " 0,\n",
              " 0,\n",
              " 0,\n",
              " 0,\n",
              " 0,\n",
              " 0,\n",
              " 1,\n",
              " 0,\n",
              " 0,\n",
              " 0,\n",
              " 1,\n",
              " 0,\n",
              " 0,\n",
              " 1,\n",
              " 1,\n",
              " 1,\n",
              " 0,\n",
              " 1,\n",
              " 0,\n",
              " 1,\n",
              " 0,\n",
              " 0,\n",
              " 0,\n",
              " 0,\n",
              " 1,\n",
              " 0,\n",
              " 0,\n",
              " 0,\n",
              " 1,\n",
              " 0,\n",
              " 0,\n",
              " 0,\n",
              " 1,\n",
              " 0,\n",
              " 0,\n",
              " 0,\n",
              " 0,\n",
              " 0,\n",
              " 0,\n",
              " 0,\n",
              " 1,\n",
              " 1,\n",
              " 0,\n",
              " 1,\n",
              " 0,\n",
              " 1,\n",
              " 0,\n",
              " 0,\n",
              " 0,\n",
              " 0,\n",
              " 0,\n",
              " 0,\n",
              " 0,\n",
              " 0,\n",
              " 0,\n",
              " 0,\n",
              " 0,\n",
              " 0,\n",
              " 0,\n",
              " 0,\n",
              " 0,\n",
              " 0,\n",
              " 1,\n",
              " 1,\n",
              " 0,\n",
              " 0,\n",
              " 0,\n",
              " 0,\n",
              " 0,\n",
              " 0,\n",
              " 0,\n",
              " 0,\n",
              " 0,\n",
              " 1,\n",
              " 0,\n",
              " 0,\n",
              " 1,\n",
              " 1,\n",
              " 1,\n",
              " 0,\n",
              " 0,\n",
              " 0,\n",
              " 1,\n",
              " 0,\n",
              " 0,\n",
              " 0,\n",
              " 1,\n",
              " 1,\n",
              " 1,\n",
              " 1,\n",
              " 0,\n",
              " 1,\n",
              " 0,\n",
              " 0,\n",
              " 0,\n",
              " 1,\n",
              " 0,\n",
              " 1,\n",
              " 1,\n",
              " 0,\n",
              " 0,\n",
              " 1,\n",
              " 0,\n",
              " 1,\n",
              " 0,\n",
              " 0,\n",
              " 1,\n",
              " 0,\n",
              " 0,\n",
              " 0,\n",
              " 0,\n",
              " 1,\n",
              " 0,\n",
              " 1,\n",
              " 0,\n",
              " 0,\n",
              " 1,\n",
              " 0,\n",
              " 1,\n",
              " 0,\n",
              " 1,\n",
              " 0,\n",
              " 0,\n",
              " 0,\n",
              " 0,\n",
              " 0,\n",
              " 0,\n",
              " 0,\n",
              " 1,\n",
              " 1,\n",
              " 1,\n",
              " 0,\n",
              " 1,\n",
              " 1,\n",
              " 1,\n",
              " 1,\n",
              " 0,\n",
              " 0,\n",
              " 0,\n",
              " 0,\n",
              " 0,\n",
              " 0,\n",
              " 1,\n",
              " 0,\n",
              " 1,\n",
              " 0,\n",
              " 0,\n",
              " 1,\n",
              " 0,\n",
              " 1,\n",
              " 0,\n",
              " 0,\n",
              " 0,\n",
              " 0,\n",
              " 0,\n",
              " 0,\n",
              " 0,\n",
              " 1,\n",
              " 1,\n",
              " 1,\n",
              " 0,\n",
              " 0,\n",
              " 1,\n",
              " 1,\n",
              " 1,\n",
              " 0,\n",
              " 1,\n",
              " 1,\n",
              " 0,\n",
              " 1,\n",
              " 1,\n",
              " 0,\n",
              " 1,\n",
              " 0,\n",
              " 0,\n",
              " 1,\n",
              " 1,\n",
              " 0,\n",
              " 0,\n",
              " 1,\n",
              " 0,\n",
              " 0,\n",
              " 0,\n",
              " 1,\n",
              " 1,\n",
              " 0,\n",
              " 0,\n",
              " 1,\n",
              " 0,\n",
              " 0,\n",
              " 0,\n",
              " 0,\n",
              " 0,\n",
              " 1,\n",
              " 1,\n",
              " 0,\n",
              " 1,\n",
              " 1,\n",
              " 0,\n",
              " 0,\n",
              " 1,\n",
              " 0,\n",
              " 0,\n",
              " 1,\n",
              " 1,\n",
              " 0,\n",
              " 0,\n",
              " 0,\n",
              " 0,\n",
              " 1,\n",
              " 0,\n",
              " 1,\n",
              " 0,\n",
              " 0,\n",
              " 0,\n",
              " 1,\n",
              " 1,\n",
              " 1,\n",
              " 0,\n",
              " 0,\n",
              " 0,\n",
              " 0,\n",
              " 0,\n",
              " 1,\n",
              " 0,\n",
              " 0,\n",
              " 0,\n",
              " 0,\n",
              " 1,\n",
              " 0,\n",
              " 1,\n",
              " 1,\n",
              " 0,\n",
              " 0,\n",
              " 0,\n",
              " 0,\n",
              " 0,\n",
              " 1,\n",
              " 1,\n",
              " 1,\n",
              " 0,\n",
              " 1,\n",
              " 0,\n",
              " 0,\n",
              " 1,\n",
              " 0,\n",
              " 1,\n",
              " 0,\n",
              " 1,\n",
              " 0,\n",
              " 1,\n",
              " 0,\n",
              " 0,\n",
              " 1,\n",
              " 0,\n",
              " 1,\n",
              " 0,\n",
              " 0,\n",
              " 1,\n",
              " 1,\n",
              " 0,\n",
              " 0,\n",
              " 0,\n",
              " 1,\n",
              " 1,\n",
              " 0,\n",
              " 1,\n",
              " 1,\n",
              " 0,\n",
              " 1,\n",
              " 1,\n",
              " 1,\n",
              " 0,\n",
              " 0,\n",
              " 0,\n",
              " 0,\n",
              " 0,\n",
              " 1,\n",
              " 0,\n",
              " 0,\n",
              " 0,\n",
              " 0,\n",
              " 1,\n",
              " 1,\n",
              " 0,\n",
              " 0,\n",
              " 0,\n",
              " 0,\n",
              " 0,\n",
              " 1,\n",
              " 0,\n",
              " 1,\n",
              " 0,\n",
              " 0,\n",
              " 0,\n",
              " 0,\n",
              " 1,\n",
              " 1,\n",
              " 1,\n",
              " 1,\n",
              " 0,\n",
              " 0,\n",
              " 0,\n",
              " 0,\n",
              " 0,\n",
              " 0,\n",
              " 1,\n",
              " 1,\n",
              " 1,\n",
              " 0,\n",
              " 0,\n",
              " 1,\n",
              " 0,\n",
              " 0,\n",
              " 0,\n",
              " 0,\n",
              " 0,\n",
              " 1,\n",
              " 0,\n",
              " 1,\n",
              " 1,\n",
              " 0,\n",
              " 0,\n",
              " 0,\n",
              " 0,\n",
              " 1,\n",
              " 1,\n",
              " 0,\n",
              " 0,\n",
              " 1,\n",
              " 1,\n",
              " 1,\n",
              " 1,\n",
              " 0,\n",
              " 1,\n",
              " 0,\n",
              " 0,\n",
              " 0,\n",
              " 0,\n",
              " 1,\n",
              " 1,\n",
              " 0,\n",
              " 1,\n",
              " 0,\n",
              " 1,\n",
              " 1,\n",
              " 0,\n",
              " 0,\n",
              " 0,\n",
              " 1,\n",
              " 0,\n",
              " 0,\n",
              " 1,\n",
              " 1,\n",
              " 1,\n",
              " 1,\n",
              " 0,\n",
              " 0,\n",
              " 1,\n",
              " 0,\n",
              " 1,\n",
              " 0,\n",
              " 0,\n",
              " 0,\n",
              " 1,\n",
              " 0,\n",
              " 0,\n",
              " 1,\n",
              " 0,\n",
              " 0,\n",
              " 0,\n",
              " 0,\n",
              " 0,\n",
              " 0,\n",
              " 0,\n",
              " 0,\n",
              " 0,\n",
              " 0,\n",
              " 1,\n",
              " 0,\n",
              " 0,\n",
              " 0,\n",
              " 0,\n",
              " 0,\n",
              " 0,\n",
              " 0,\n",
              " 1,\n",
              " 0,\n",
              " 0,\n",
              " 1,\n",
              " 0,\n",
              " 0,\n",
              " 1,\n",
              " 1,\n",
              " 0,\n",
              " 0,\n",
              " 0,\n",
              " 0,\n",
              " 0,\n",
              " 1,\n",
              " 1,\n",
              " 1,\n",
              " 1,\n",
              " 0,\n",
              " 0,\n",
              " 0,\n",
              " 1,\n",
              " 1,\n",
              " 1,\n",
              " 0,\n",
              " 0,\n",
              " 1,\n",
              " 1,\n",
              " 1,\n",
              " 0,\n",
              " 0,\n",
              " 1,\n",
              " 0,\n",
              " 0,\n",
              " 0,\n",
              " 1,\n",
              " 0,\n",
              " 1,\n",
              " 0,\n",
              " 0,\n",
              " 1,\n",
              " 0,\n",
              " 0,\n",
              " 0,\n",
              " ...]"
            ]
          },
          "metadata": {
            "tags": []
          },
          "execution_count": 199
        }
      ]
    },
    {
      "cell_type": "code",
      "metadata": {
        "id": "l0HrLnyVTlnT",
        "colab_type": "code",
        "outputId": "0e7e711f-c885-4a1e-c8e8-ded6a5b714cc",
        "colab": {
          "base_uri": "https://localhost:8080/",
          "height": 67
        }
      },
      "source": [
        "print(\"Confusion Matrix:\", '\\n',confusion_matrix(y_1, proba_y_0_lt))"
      ],
      "execution_count": 0,
      "outputs": [
        {
          "output_type": "stream",
          "text": [
            "Confusion Matrix: \n",
            " [[3122  986]\n",
            " [ 354 1172]]\n"
          ],
          "name": "stdout"
        }
      ]
    },
    {
      "cell_type": "code",
      "metadata": {
        "id": "ozlDvVuNTlnU",
        "colab_type": "code",
        "outputId": "c40ab66e-8c45-4240-c858-349fb078c01a",
        "colab": {
          "base_uri": "https://localhost:8080/",
          "height": 34
        }
      },
      "source": [
        "print(\"Accuracy:\",accuracy_score(y_1, proba_y_0_lt, normalize=True, sample_weight=None))"
      ],
      "execution_count": 0,
      "outputs": [
        {
          "output_type": "stream",
          "text": [
            "Accuracy: 0.762158324458644\n"
          ],
          "name": "stdout"
        }
      ]
    },
    {
      "cell_type": "code",
      "metadata": {
        "id": "eZsk3OZ3Tlna",
        "colab_type": "code",
        "colab": {}
      },
      "source": [
        "from sklearn.metrics import roc_curve, auc\n",
        "from sklearn import metrics\n",
        "import matplotlib as mpl\n",
        "import matplotlib.pyplot as plt"
      ],
      "execution_count": 0,
      "outputs": []
    },
    {
      "cell_type": "code",
      "metadata": {
        "id": "f3Rk4-dbTlnb",
        "colab_type": "code",
        "colab": {}
      },
      "source": [
        "# calculate tpr and fpr based on different thresholds\n",
        "fpr, tpr, thresholds = metrics.roc_curve(yact,proba_y_0,pos_label=0)"
      ],
      "execution_count": 0,
      "outputs": []
    },
    {
      "cell_type": "code",
      "metadata": {
        "id": "lce1xj3TTlnd",
        "colab_type": "code",
        "outputId": "46feb831-2519-429a-ad49-487065ebb141",
        "colab": {
          "base_uri": "https://localhost:8080/",
          "height": 34
        }
      },
      "source": [
        "#Area under curve\n",
        "metrics.auc(fpr, tpr)"
      ],
      "execution_count": 0,
      "outputs": [
        {
          "output_type": "execute_result",
          "data": {
            "text/plain": [
              "0.844350233728645"
            ]
          },
          "metadata": {
            "tags": []
          },
          "execution_count": 204
        }
      ]
    },
    {
      "cell_type": "code",
      "metadata": {
        "id": "VY6vjlRpTlnf",
        "colab_type": "code",
        "outputId": "0a8e7e41-596e-40ef-9450-6be5dcfa3831",
        "colab": {
          "base_uri": "https://localhost:8080/",
          "height": 282
        }
      },
      "source": [
        "plt.plot(fpr,tpr)"
      ],
      "execution_count": 0,
      "outputs": [
        {
          "output_type": "execute_result",
          "data": {
            "text/plain": [
              "[<matplotlib.lines.Line2D at 0x7f2e9e612080>]"
            ]
          },
          "metadata": {
            "tags": []
          },
          "execution_count": 205
        },
        {
          "output_type": "display_data",
          "data": {
            "image/png": "[encoded data removed]",
            "text/plain": [
              "<Figure size 432x288 with 1 Axes>"
            ]
          },
          "metadata": {
            "tags": [],
            "needs_background": "light"
          }
        }
      ]
    },
    {
      "cell_type": "code",
      "metadata": {
        "id": "f2Yii9PzTlni",
        "colab_type": "code",
        "outputId": "a4c4d824-eea0-4b65-b0ca-2eb30de78cc1",
        "colab": {
          "base_uri": "https://localhost:8080/",
          "height": 101
        }
      },
      "source": [
        "# train model using training dataset\n",
        "# https://scikit-learn.org/stable/modules/generated/sklearn.linear_model.LogisticRegression.html#sklearn.linear_model.LogisticRegression.fit\n",
        "lr_1.fit(X_1, yact)"
      ],
      "execution_count": 0,
      "outputs": [
        {
          "output_type": "execute_result",
          "data": {
            "text/plain": [
              "LogisticRegression(C=1, class_weight=None, dual=False, fit_intercept=True,\n",
              "                   intercept_scaling=1, l1_ratio=None, max_iter=100,\n",
              "                   multi_class='auto', n_jobs=None, penalty='l2',\n",
              "                   random_state=50, solver='newton-cg', tol=0.0001, verbose=0,\n",
              "                   warm_start=False)"
            ]
          },
          "metadata": {
            "tags": []
          },
          "execution_count": 206
        }
      ]
    },
    {
      "cell_type": "code",
      "metadata": {
        "id": "Zk6zqyJ7Tlnj",
        "colab_type": "code",
        "outputId": "f90c9229-901e-40cc-8dff-27d40906be81",
        "colab": {
          "base_uri": "https://localhost:8080/",
          "height": 34
        }
      },
      "source": [
        "# show the intercept of the trained model (Theta_0)\n",
        "lr_1.intercept_"
      ],
      "execution_count": 0,
      "outputs": [
        {
          "output_type": "execute_result",
          "data": {
            "text/plain": [
              "array([-1.66172911])"
            ]
          },
          "metadata": {
            "tags": []
          },
          "execution_count": 207
        }
      ]
    },
    {
      "cell_type": "code",
      "metadata": {
        "id": "p21Pa0hMTlnm",
        "colab_type": "code",
        "outputId": "9c56ad67-d00f-4f4b-872a-7c44f9d75cc1",
        "colab": {
          "base_uri": "https://localhost:8080/",
          "height": 994
        }
      },
      "source": [
        "# show the coefficients of independent attributes\n",
        "coeff_df = pd.DataFrame(lr_1.coef_.flatten(), X_1.columns, columns=['Coefficient'])  \n",
        "coeff_df"
      ],
      "execution_count": 0,
      "outputs": [
        {
          "output_type": "execute_result",
          "data": {
            "text/html": [
              "<div>\n",
              "<style scoped>\n",
              "    .dataframe tbody tr th:only-of-type {\n",
              "        vertical-align: middle;\n",
              "    }\n",
              "\n",
              "    .dataframe tbody tr th {\n",
              "        vertical-align: top;\n",
              "    }\n",
              "\n",
              "    .dataframe thead th {\n",
              "        text-align: right;\n",
              "    }\n",
              "</style>\n",
              "<table border=\"1\" class=\"dataframe\">\n",
              "  <thead>\n",
              "    <tr style=\"text-align: right;\">\n",
              "      <th></th>\n",
              "      <th>Coefficient</th>\n",
              "    </tr>\n",
              "  </thead>\n",
              "  <tbody>\n",
              "    <tr>\n",
              "      <th>SeniorCitizen</th>\n",
              "      <td>1.775793e-01</td>\n",
              "    </tr>\n",
              "    <tr>\n",
              "      <th>tenure</th>\n",
              "      <td>-5.150078e-02</td>\n",
              "    </tr>\n",
              "    <tr>\n",
              "      <th>MonthlyCharges</th>\n",
              "      <td>-3.940698e-03</td>\n",
              "    </tr>\n",
              "    <tr>\n",
              "      <th>TotalCharges</th>\n",
              "      <td>2.403919e-04</td>\n",
              "    </tr>\n",
              "    <tr>\n",
              "      <th>gender_Male</th>\n",
              "      <td>-1.051838e-02</td>\n",
              "    </tr>\n",
              "    <tr>\n",
              "      <th>Partner_Yes</th>\n",
              "      <td>-5.580209e-02</td>\n",
              "    </tr>\n",
              "    <tr>\n",
              "      <th>Dependents_Yes</th>\n",
              "      <td>-8.367250e-02</td>\n",
              "    </tr>\n",
              "    <tr>\n",
              "      <th>PhoneService_Yes</th>\n",
              "      <td>-2.067587e-01</td>\n",
              "    </tr>\n",
              "    <tr>\n",
              "      <th>MultipleLines_No</th>\n",
              "      <td>-2.223004e-01</td>\n",
              "    </tr>\n",
              "    <tr>\n",
              "      <th>MultipleLines_Yes</th>\n",
              "      <td>1.554171e-02</td>\n",
              "    </tr>\n",
              "    <tr>\n",
              "      <th>InternetService_DSL</th>\n",
              "      <td>-2.690378e-01</td>\n",
              "    </tr>\n",
              "    <tr>\n",
              "      <th>InternetService_Fiber optic</th>\n",
              "      <td>6.100341e-01</td>\n",
              "    </tr>\n",
              "    <tr>\n",
              "      <th>OnlineSecurity_No</th>\n",
              "      <td>3.775845e-01</td>\n",
              "    </tr>\n",
              "    <tr>\n",
              "      <th>OnlineSecurity_Yes</th>\n",
              "      <td>-3.658816e-02</td>\n",
              "    </tr>\n",
              "    <tr>\n",
              "      <th>OnlineBackup_No</th>\n",
              "      <td>2.538929e-01</td>\n",
              "    </tr>\n",
              "    <tr>\n",
              "      <th>OnlineBackup_Yes</th>\n",
              "      <td>8.710346e-02</td>\n",
              "    </tr>\n",
              "    <tr>\n",
              "      <th>DeviceProtection_No</th>\n",
              "      <td>1.915239e-01</td>\n",
              "    </tr>\n",
              "    <tr>\n",
              "      <th>DeviceProtection_Yes</th>\n",
              "      <td>1.494725e-01</td>\n",
              "    </tr>\n",
              "    <tr>\n",
              "      <th>TechSupport_No</th>\n",
              "      <td>3.521863e-01</td>\n",
              "    </tr>\n",
              "    <tr>\n",
              "      <th>TechSupport_Yes</th>\n",
              "      <td>-1.118997e-02</td>\n",
              "    </tr>\n",
              "    <tr>\n",
              "      <th>StreamingTV_No</th>\n",
              "      <td>9.516410e-02</td>\n",
              "    </tr>\n",
              "    <tr>\n",
              "      <th>StreamingTV_Yes</th>\n",
              "      <td>2.458323e-01</td>\n",
              "    </tr>\n",
              "    <tr>\n",
              "      <th>StreamingMovies_No</th>\n",
              "      <td>3.998412e-02</td>\n",
              "    </tr>\n",
              "    <tr>\n",
              "      <th>StreamingMovies_Yes</th>\n",
              "      <td>3.010123e-01</td>\n",
              "    </tr>\n",
              "    <tr>\n",
              "      <th>Contract_Month-to-month</th>\n",
              "      <td>6.368193e-01</td>\n",
              "    </tr>\n",
              "    <tr>\n",
              "      <th>Contract_Two year</th>\n",
              "      <td>-5.755016e-01</td>\n",
              "    </tr>\n",
              "    <tr>\n",
              "      <th>PaperlessBilling_Yes</th>\n",
              "      <td>3.822094e-01</td>\n",
              "    </tr>\n",
              "    <tr>\n",
              "      <th>PaymentMethod_Bank transfer (automatic)</th>\n",
              "      <td>1.067882e-01</td>\n",
              "    </tr>\n",
              "    <tr>\n",
              "      <th>PaymentMethod_Electronic check</th>\n",
              "      <td>4.553157e-01</td>\n",
              "    </tr>\n",
              "    <tr>\n",
              "      <th>PaymentMethod_Mailed check</th>\n",
              "      <td>2.039773e-02</td>\n",
              "    </tr>\n",
              "    <tr>\n",
              "      <th>MonthlyCharges_minmax</th>\n",
              "      <td>-2.277573e-05</td>\n",
              "    </tr>\n",
              "    <tr>\n",
              "      <th>TotalCharges_minmax</th>\n",
              "      <td>2.246070e-07</td>\n",
              "    </tr>\n",
              "  </tbody>\n",
              "</table>\n",
              "</div>"
            ],
            "text/plain": [
              "                                          Coefficient\n",
              "SeniorCitizen                            1.775793e-01\n",
              "tenure                                  -5.150078e-02\n",
              "MonthlyCharges                          -3.940698e-03\n",
              "TotalCharges                             2.403919e-04\n",
              "gender_Male                             -1.051838e-02\n",
              "Partner_Yes                             -5.580209e-02\n",
              "Dependents_Yes                          -8.367250e-02\n",
              "PhoneService_Yes                        -2.067587e-01\n",
              "MultipleLines_No                        -2.223004e-01\n",
              "MultipleLines_Yes                        1.554171e-02\n",
              "InternetService_DSL                     -2.690378e-01\n",
              "InternetService_Fiber optic              6.100341e-01\n",
              "OnlineSecurity_No                        3.775845e-01\n",
              "OnlineSecurity_Yes                      -3.658816e-02\n",
              "OnlineBackup_No                          2.538929e-01\n",
              "OnlineBackup_Yes                         8.710346e-02\n",
              "DeviceProtection_No                      1.915239e-01\n",
              "DeviceProtection_Yes                     1.494725e-01\n",
              "TechSupport_No                           3.521863e-01\n",
              "TechSupport_Yes                         -1.118997e-02\n",
              "StreamingTV_No                           9.516410e-02\n",
              "StreamingTV_Yes                          2.458323e-01\n",
              "StreamingMovies_No                       3.998412e-02\n",
              "StreamingMovies_Yes                      3.010123e-01\n",
              "Contract_Month-to-month                  6.368193e-01\n",
              "Contract_Two year                       -5.755016e-01\n",
              "PaperlessBilling_Yes                     3.822094e-01\n",
              "PaymentMethod_Bank transfer (automatic)  1.067882e-01\n",
              "PaymentMethod_Electronic check           4.553157e-01\n",
              "PaymentMethod_Mailed check               2.039773e-02\n",
              "MonthlyCharges_minmax                   -2.277573e-05\n",
              "TotalCharges_minmax                      2.246070e-07"
            ]
          },
          "metadata": {
            "tags": []
          },
          "execution_count": 208
        }
      ]
    },
    {
      "cell_type": "code",
      "metadata": {
        "id": "hQOK79_JTlnp",
        "colab_type": "code",
        "outputId": "4667d760-170e-4014-c803-4fb2768e6e03",
        "colab": {
          "base_uri": "https://localhost:8080/",
          "height": 655
        }
      },
      "source": [
        "print('Area Under Curve:', \"%.4f\" % metrics.auc(fpr, tpr))\n",
        "print('Cross Validation Score:', \"%.4f\" % score_cv.mean())\n",
        "for j in range(4, 7):\n",
        "    print('Confusion Matrix', 'with thresold', float(j)/float(10), ':', '\\n',\n",
        "          confusion_matrix(y_1, [0 if i >= float(j)/float(10) else 1 for i in proba_y_0]))\n",
        "    print(classification_report(y_1, [0 if i >= float(j)/float(10) else 1 for i in proba_y_0]))"
      ],
      "execution_count": 0,
      "outputs": [
        {
          "output_type": "stream",
          "text": [
            "Area Under Curve: 0.8444\n",
            "Cross Validation Score: 0.8056\n",
            "Confusion Matrix with thresold 0.4 : \n",
            " [[3859  249]\n",
            " [ 908  618]]\n",
            "              precision    recall  f1-score   support\n",
            "\n",
            "           0       0.81      0.94      0.87      4108\n",
            "           1       0.71      0.40      0.52      1526\n",
            "\n",
            "    accuracy                           0.79      5634\n",
            "   macro avg       0.76      0.67      0.69      5634\n",
            "weighted avg       0.78      0.79      0.77      5634\n",
            "\n",
            "Confusion Matrix with thresold 0.5 : \n",
            " [[3682  426]\n",
            " [ 669  857]]\n",
            "              precision    recall  f1-score   support\n",
            "\n",
            "           0       0.85      0.90      0.87      4108\n",
            "           1       0.67      0.56      0.61      1526\n",
            "\n",
            "    accuracy                           0.81      5634\n",
            "   macro avg       0.76      0.73      0.74      5634\n",
            "weighted avg       0.80      0.81      0.80      5634\n",
            "\n",
            "Confusion Matrix with thresold 0.6 : \n",
            " [[3420  688]\n",
            " [ 499 1027]]\n",
            "              precision    recall  f1-score   support\n",
            "\n",
            "           0       0.87      0.83      0.85      4108\n",
            "           1       0.60      0.67      0.63      1526\n",
            "\n",
            "    accuracy                           0.79      5634\n",
            "   macro avg       0.74      0.75      0.74      5634\n",
            "weighted avg       0.80      0.79      0.79      5634\n",
            "\n"
          ],
          "name": "stdout"
        }
      ]
    },
    {
      "cell_type": "markdown",
      "metadata": {
        "id": "zZc60ofDTlnr",
        "colab_type": "text"
      },
      "source": [
        "## Predict testing data"
      ]
    },
    {
      "cell_type": "code",
      "metadata": {
        "id": "Mvt1xqMWTlnr",
        "colab_type": "code",
        "colab": {}
      },
      "source": [
        "pred_val_test = LRM_1_2.predict(X_test_1)"
      ],
      "execution_count": 0,
      "outputs": []
    },
    {
      "cell_type": "code",
      "metadata": {
        "id": "g8BpK228Tlnt",
        "colab_type": "code",
        "outputId": "95e2f8d6-1523-4067-a738-3f44384fb973",
        "colab": {
          "base_uri": "https://localhost:8080/",
          "height": 235
        }
      },
      "source": [
        "print(\"Accuracy from testing data: \", accuracy_score(y_test_1, pred_val_test, normalize = True, sample_weight = None))\n",
        "print(confusion_matrix(y_test_1, pred_val_test))\n",
        "print(\"Classification Report of Naive Bayes Model:\",\"\\n\",classification_report(y_test_1, pred_val_test))"
      ],
      "execution_count": 0,
      "outputs": [
        {
          "output_type": "stream",
          "text": [
            "Accuracy from testing data:  0.8041163946061036\n",
            "[[948 118]\n",
            " [158 185]]\n",
            "Classification Report of Naive Bayes Model: \n",
            "               precision    recall  f1-score   support\n",
            "\n",
            "           0       0.86      0.89      0.87      1066\n",
            "           1       0.61      0.54      0.57       343\n",
            "\n",
            "    accuracy                           0.80      1409\n",
            "   macro avg       0.73      0.71      0.72      1409\n",
            "weighted avg       0.80      0.80      0.80      1409\n",
            "\n"
          ],
          "name": "stdout"
        }
      ]
    },
    {
      "cell_type": "markdown",
      "metadata": {
        "id": "VKiLzjPsTlnw",
        "colab_type": "text"
      },
      "source": [
        "## Logistic Regression (Dataset 2)"
      ]
    },
    {
      "cell_type": "code",
      "metadata": {
        "id": "aatnWKuFTlny",
        "colab_type": "code",
        "outputId": "8d89d782-d6b0-43b0-e3dd-975aef6c947c",
        "colab": {
          "base_uri": "https://localhost:8080/",
          "height": 269
        }
      },
      "source": [
        "LRM_2_1 = GridSearchCV(LogisticRegression(), param_grid=try_grid, cv=10)\n",
        "LRM_2_1.fit(X_2,y_2)"
      ],
      "execution_count": 0,
      "outputs": [
        {
          "output_type": "execute_result",
          "data": {
            "text/plain": [
              "GridSearchCV(cv=10, error_score=nan,\n",
              "             estimator=LogisticRegression(C=1.0, class_weight=None, dual=False,\n",
              "                                          fit_intercept=True,\n",
              "                                          intercept_scaling=1, l1_ratio=None,\n",
              "                                          max_iter=100, multi_class='auto',\n",
              "                                          n_jobs=None, penalty='l2',\n",
              "                                          random_state=None, solver='lbfgs',\n",
              "                                          tol=0.0001, verbose=0,\n",
              "                                          warm_start=False),\n",
              "             iid='deprecated', n_jobs=None,\n",
              "             param_grid=[{'C': array([1, 2, 3, 4]), 'penalty': ['l1'],\n",
              "                          'random_state': [40],\n",
              "                          'solver': ['liblinear', 'saga']}],\n",
              "             pre_dispatch='2*n_jobs', refit=True, return_train_score=False,\n",
              "             scoring=None, verbose=0)"
            ]
          },
          "metadata": {
            "tags": []
          },
          "execution_count": 212
        }
      ]
    },
    {
      "cell_type": "code",
      "metadata": {
        "id": "O3J4-zH3Tln1",
        "colab_type": "code",
        "outputId": "2ac83251-c507-432e-f7cc-e6753e0fe2d2",
        "colab": {
          "base_uri": "https://localhost:8080/",
          "height": 50
        }
      },
      "source": [
        "display(LRM_2_1.best_params_, LRM_2_1.best_score_)"
      ],
      "execution_count": 0,
      "outputs": [
        {
          "output_type": "display_data",
          "data": {
            "text/plain": [
              "{'C': 2, 'penalty': 'l1', 'random_state': 40, 'solver': 'saga'}"
            ]
          },
          "metadata": {
            "tags": []
          }
        },
        {
          "output_type": "display_data",
          "data": {
            "text/plain": [
              "0.7994353325019211"
            ]
          },
          "metadata": {
            "tags": []
          }
        }
      ]
    },
    {
      "cell_type": "code",
      "metadata": {
        "id": "8t57d-nUTln3",
        "colab_type": "code",
        "outputId": "6a2d131b-9c89-4717-99e3-651d8bf2e7b9",
        "colab": {
          "base_uri": "https://localhost:8080/",
          "height": 286
        }
      },
      "source": [
        "LRM_2_2 = GridSearchCV(LogisticRegression(), param_grid=try_grid_2, cv=10)\n",
        "LRM_2_2.fit(X_2,y_2)"
      ],
      "execution_count": 0,
      "outputs": [
        {
          "output_type": "execute_result",
          "data": {
            "text/plain": [
              "GridSearchCV(cv=10, error_score=nan,\n",
              "             estimator=LogisticRegression(C=1.0, class_weight=None, dual=False,\n",
              "                                          fit_intercept=True,\n",
              "                                          intercept_scaling=1, l1_ratio=None,\n",
              "                                          max_iter=100, multi_class='auto',\n",
              "                                          n_jobs=None, penalty='l2',\n",
              "                                          random_state=None, solver='lbfgs',\n",
              "                                          tol=0.0001, verbose=0,\n",
              "                                          warm_start=False),\n",
              "             iid='deprecated', n_jobs=None,\n",
              "             param_grid=[{'C': array([1, 2, 3, 4]), 'penalty': ['l2'],\n",
              "                          'random_state': [50],\n",
              "                          'solver': ['newton-cg', 'lbfgs', 'liblinear', 'sag',\n",
              "                                     'saga']}],\n",
              "             pre_dispatch='2*n_jobs', refit=True, return_train_score=False,\n",
              "             scoring=None, verbose=0)"
            ]
          },
          "metadata": {
            "tags": []
          },
          "execution_count": 214
        }
      ]
    },
    {
      "cell_type": "code",
      "metadata": {
        "id": "cOOV0o34Tln6",
        "colab_type": "code",
        "outputId": "2326b378-95ab-4570-a6b0-921ff88acb7c",
        "colab": {
          "base_uri": "https://localhost:8080/",
          "height": 50
        }
      },
      "source": [
        "display(LRM_2_2.best_params_, LRM_2_2.best_score_)"
      ],
      "execution_count": 0,
      "outputs": [
        {
          "output_type": "display_data",
          "data": {
            "text/plain": [
              "{'C': 4, 'penalty': 'l2', 'random_state': 50, 'solver': 'newton-cg'}"
            ]
          },
          "metadata": {
            "tags": []
          }
        },
        {
          "output_type": "display_data",
          "data": {
            "text/plain": [
              "0.7999678772533162"
            ]
          },
          "metadata": {
            "tags": []
          }
        }
      ]
    },
    {
      "cell_type": "markdown",
      "metadata": {
        "id": "w_FjKRHqTln_",
        "colab_type": "text"
      },
      "source": [
        "## use LRM_2_2"
      ]
    },
    {
      "cell_type": "code",
      "metadata": {
        "id": "T2Uu_950Tln_",
        "colab_type": "code",
        "colab": {}
      },
      "source": [
        "lr_2 = LogisticRegression(penalty='l2', C=2,random_state=50, solver='saga')"
      ],
      "execution_count": 0,
      "outputs": []
    },
    {
      "cell_type": "code",
      "metadata": {
        "id": "g80Nfpz3TloB",
        "colab_type": "code",
        "colab": {}
      },
      "source": [
        "yact = y_2.values.ravel()"
      ],
      "execution_count": 0,
      "outputs": []
    },
    {
      "cell_type": "code",
      "metadata": {
        "id": "Airi7TcVTloC",
        "colab_type": "code",
        "colab": {}
      },
      "source": [
        "score_cv = cross_val_score(lr_2, X_2, yact, cv=10)"
      ],
      "execution_count": 0,
      "outputs": []
    },
    {
      "cell_type": "code",
      "metadata": {
        "id": "_npC0eFcTloD",
        "colab_type": "code",
        "outputId": "61582b76-a11c-4815-e966-5733bc57f84b",
        "colab": {
          "base_uri": "https://localhost:8080/",
          "height": 34
        }
      },
      "source": [
        "score_cv.mean()"
      ],
      "execution_count": 0,
      "outputs": [
        {
          "output_type": "execute_result",
          "data": {
            "text/plain": [
              "0.7989024728216368"
            ]
          },
          "metadata": {
            "tags": []
          },
          "execution_count": 219
        }
      ]
    },
    {
      "cell_type": "code",
      "metadata": {
        "id": "62eBLQDoTloE",
        "colab_type": "code",
        "colab": {}
      },
      "source": [
        "pred_y = cross_val_predict(lr_2, X_2, yact, cv=10)"
      ],
      "execution_count": 0,
      "outputs": []
    },
    {
      "cell_type": "code",
      "metadata": {
        "id": "MmtE771vTloF",
        "colab_type": "code",
        "outputId": "d9af1daf-7901-4fc0-b1a6-8b1a99ee6011",
        "colab": {
          "base_uri": "https://localhost:8080/",
          "height": 50
        }
      },
      "source": [
        "print(confusion_matrix(y_2, pred_y))"
      ],
      "execution_count": 0,
      "outputs": [
        {
          "output_type": "stream",
          "text": [
            "[[3664  447]\n",
            " [ 686  837]]\n"
          ],
          "name": "stdout"
        }
      ]
    },
    {
      "cell_type": "code",
      "metadata": {
        "id": "tVQDgmk2TloG",
        "colab_type": "code",
        "outputId": "e49476d1-b987-41b6-bfa5-1c5e4d8c3229",
        "colab": {
          "base_uri": "https://localhost:8080/",
          "height": 168
        }
      },
      "source": [
        "print(classification_report(yact, pred_y))"
      ],
      "execution_count": 0,
      "outputs": [
        {
          "output_type": "stream",
          "text": [
            "              precision    recall  f1-score   support\n",
            "\n",
            "           0       0.84      0.89      0.87      4111\n",
            "           1       0.65      0.55      0.60      1523\n",
            "\n",
            "    accuracy                           0.80      5634\n",
            "   macro avg       0.75      0.72      0.73      5634\n",
            "weighted avg       0.79      0.80      0.79      5634\n",
            "\n"
          ],
          "name": "stdout"
        }
      ]
    },
    {
      "cell_type": "markdown",
      "metadata": {
        "id": "3xeJA9DmTloH",
        "colab_type": "text"
      },
      "source": [
        "## ROC Curve"
      ]
    },
    {
      "cell_type": "code",
      "metadata": {
        "id": "Wu5SaxWhTloH",
        "colab_type": "code",
        "outputId": "3a811aed-bd72-47a6-aab2-75f3f5b17a65",
        "colab": {
          "base_uri": "https://localhost:8080/",
          "height": 134
        }
      },
      "source": [
        "proba_y = cross_val_predict(lr_2, X_2, yact, cv=10, method='predict_proba')\n",
        "proba_y"
      ],
      "execution_count": 0,
      "outputs": [
        {
          "output_type": "execute_result",
          "data": {
            "text/plain": [
              "array([[0.82338059, 0.17661941],\n",
              "       [0.62184868, 0.37815132],\n",
              "       [0.34900985, 0.65099015],\n",
              "       ...,\n",
              "       [0.3512466 , 0.6487534 ],\n",
              "       [0.62999956, 0.37000044],\n",
              "       [0.97980822, 0.02019178]])"
            ]
          },
          "metadata": {
            "tags": []
          },
          "execution_count": 223
        }
      ]
    },
    {
      "cell_type": "code",
      "metadata": {
        "id": "rnouJWWnTloK",
        "colab_type": "code",
        "outputId": "08abd095-7431-45c9-b2f8-a3031150bda9",
        "colab": {
          "base_uri": "https://localhost:8080/",
          "height": 50
        }
      },
      "source": [
        "proba_y_0 = proba_y[:,0]\n",
        "proba_y_0"
      ],
      "execution_count": 0,
      "outputs": [
        {
          "output_type": "execute_result",
          "data": {
            "text/plain": [
              "array([0.82338059, 0.62184868, 0.34900985, ..., 0.3512466 , 0.62999956,\n",
              "       0.97980822])"
            ]
          },
          "metadata": {
            "tags": []
          },
          "execution_count": 224
        }
      ]
    },
    {
      "cell_type": "code",
      "metadata": {
        "id": "TRaRCJl4TloL",
        "colab_type": "code",
        "outputId": "3a6331d1-3fb9-4cce-ccc5-7fa5826be0f7",
        "colab": {
          "base_uri": "https://localhost:8080/",
          "height": 1000
        }
      },
      "source": [
        "proba_y_0_lt= [0 if i >= 0.7 else 1 for i in proba_y_0]\n",
        "proba_y_0_lt"
      ],
      "execution_count": 0,
      "outputs": [
        {
          "output_type": "execute_result",
          "data": {
            "text/plain": [
              "[0,\n",
              " 1,\n",
              " 1,\n",
              " 1,\n",
              " 1,\n",
              " 1,\n",
              " 0,\n",
              " 0,\n",
              " 1,\n",
              " 0,\n",
              " 0,\n",
              " 0,\n",
              " 0,\n",
              " 0,\n",
              " 1,\n",
              " 0,\n",
              " 1,\n",
              " 0,\n",
              " 1,\n",
              " 0,\n",
              " 0,\n",
              " 0,\n",
              " 0,\n",
              " 0,\n",
              " 0,\n",
              " 0,\n",
              " 0,\n",
              " 0,\n",
              " 0,\n",
              " 0,\n",
              " 1,\n",
              " 0,\n",
              " 0,\n",
              " 0,\n",
              " 1,\n",
              " 1,\n",
              " 0,\n",
              " 1,\n",
              " 1,\n",
              " 1,\n",
              " 1,\n",
              " 1,\n",
              " 0,\n",
              " 0,\n",
              " 0,\n",
              " 0,\n",
              " 0,\n",
              " 1,\n",
              " 1,\n",
              " 1,\n",
              " 1,\n",
              " 0,\n",
              " 1,\n",
              " 1,\n",
              " 0,\n",
              " 0,\n",
              " 1,\n",
              " 0,\n",
              " 1,\n",
              " 0,\n",
              " 0,\n",
              " 1,\n",
              " 1,\n",
              " 1,\n",
              " 1,\n",
              " 0,\n",
              " 1,\n",
              " 1,\n",
              " 0,\n",
              " 0,\n",
              " 0,\n",
              " 1,\n",
              " 0,\n",
              " 0,\n",
              " 0,\n",
              " 0,\n",
              " 0,\n",
              " 0,\n",
              " 0,\n",
              " 0,\n",
              " 0,\n",
              " 0,\n",
              " 1,\n",
              " 0,\n",
              " 0,\n",
              " 0,\n",
              " 0,\n",
              " 0,\n",
              " 1,\n",
              " 0,\n",
              " 0,\n",
              " 0,\n",
              " 1,\n",
              " 0,\n",
              " 1,\n",
              " 0,\n",
              " 1,\n",
              " 0,\n",
              " 1,\n",
              " 1,\n",
              " 0,\n",
              " 0,\n",
              " 0,\n",
              " 0,\n",
              " 0,\n",
              " 1,\n",
              " 1,\n",
              " 0,\n",
              " 0,\n",
              " 0,\n",
              " 0,\n",
              " 0,\n",
              " 1,\n",
              " 0,\n",
              " 0,\n",
              " 0,\n",
              " 1,\n",
              " 1,\n",
              " 1,\n",
              " 1,\n",
              " 1,\n",
              " 0,\n",
              " 0,\n",
              " 1,\n",
              " 1,\n",
              " 0,\n",
              " 0,\n",
              " 0,\n",
              " 1,\n",
              " 1,\n",
              " 0,\n",
              " 1,\n",
              " 0,\n",
              " 1,\n",
              " 0,\n",
              " 0,\n",
              " 0,\n",
              " 1,\n",
              " 1,\n",
              " 0,\n",
              " 0,\n",
              " 0,\n",
              " 0,\n",
              " 0,\n",
              " 0,\n",
              " 1,\n",
              " 0,\n",
              " 0,\n",
              " 1,\n",
              " 0,\n",
              " 1,\n",
              " 1,\n",
              " 0,\n",
              " 1,\n",
              " 0,\n",
              " 1,\n",
              " 0,\n",
              " 1,\n",
              " 0,\n",
              " 1,\n",
              " 0,\n",
              " 1,\n",
              " 1,\n",
              " 1,\n",
              " 0,\n",
              " 1,\n",
              " 1,\n",
              " 0,\n",
              " 1,\n",
              " 0,\n",
              " 0,\n",
              " 1,\n",
              " 0,\n",
              " 1,\n",
              " 1,\n",
              " 0,\n",
              " 0,\n",
              " 0,\n",
              " 0,\n",
              " 1,\n",
              " 1,\n",
              " 0,\n",
              " 1,\n",
              " 1,\n",
              " 0,\n",
              " 0,\n",
              " 0,\n",
              " 0,\n",
              " 1,\n",
              " 0,\n",
              " 1,\n",
              " 1,\n",
              " 1,\n",
              " 1,\n",
              " 0,\n",
              " 0,\n",
              " 1,\n",
              " 1,\n",
              " 0,\n",
              " 0,\n",
              " 1,\n",
              " 0,\n",
              " 0,\n",
              " 0,\n",
              " 1,\n",
              " 1,\n",
              " 0,\n",
              " 0,\n",
              " 0,\n",
              " 0,\n",
              " 1,\n",
              " 1,\n",
              " 0,\n",
              " 0,\n",
              " 0,\n",
              " 1,\n",
              " 1,\n",
              " 0,\n",
              " 1,\n",
              " 1,\n",
              " 0,\n",
              " 1,\n",
              " 0,\n",
              " 1,\n",
              " 0,\n",
              " 0,\n",
              " 0,\n",
              " 1,\n",
              " 1,\n",
              " 1,\n",
              " 1,\n",
              " 0,\n",
              " 1,\n",
              " 0,\n",
              " 0,\n",
              " 0,\n",
              " 0,\n",
              " 0,\n",
              " 0,\n",
              " 1,\n",
              " 0,\n",
              " 1,\n",
              " 0,\n",
              " 0,\n",
              " 1,\n",
              " 0,\n",
              " 0,\n",
              " 1,\n",
              " 0,\n",
              " 1,\n",
              " 1,\n",
              " 0,\n",
              " 1,\n",
              " 0,\n",
              " 0,\n",
              " 0,\n",
              " 0,\n",
              " 0,\n",
              " 0,\n",
              " 0,\n",
              " 0,\n",
              " 1,\n",
              " 1,\n",
              " 1,\n",
              " 1,\n",
              " 1,\n",
              " 0,\n",
              " 1,\n",
              " 0,\n",
              " 1,\n",
              " 1,\n",
              " 0,\n",
              " 0,\n",
              " 0,\n",
              " 0,\n",
              " 0,\n",
              " 0,\n",
              " 0,\n",
              " 1,\n",
              " 1,\n",
              " 0,\n",
              " 1,\n",
              " 0,\n",
              " 1,\n",
              " 0,\n",
              " 1,\n",
              " 1,\n",
              " 0,\n",
              " 0,\n",
              " 0,\n",
              " 1,\n",
              " 0,\n",
              " 0,\n",
              " 0,\n",
              " 0,\n",
              " 0,\n",
              " 0,\n",
              " 0,\n",
              " 1,\n",
              " 0,\n",
              " 0,\n",
              " 0,\n",
              " 0,\n",
              " 1,\n",
              " 0,\n",
              " 0,\n",
              " 1,\n",
              " 1,\n",
              " 1,\n",
              " 0,\n",
              " 1,\n",
              " 0,\n",
              " 0,\n",
              " 1,\n",
              " 1,\n",
              " 0,\n",
              " 0,\n",
              " 1,\n",
              " 1,\n",
              " 0,\n",
              " 1,\n",
              " 0,\n",
              " 0,\n",
              " 0,\n",
              " 0,\n",
              " 1,\n",
              " 1,\n",
              " 0,\n",
              " 1,\n",
              " 0,\n",
              " 0,\n",
              " 0,\n",
              " 1,\n",
              " 0,\n",
              " 0,\n",
              " 0,\n",
              " 0,\n",
              " 1,\n",
              " 0,\n",
              " 1,\n",
              " 0,\n",
              " 0,\n",
              " 1,\n",
              " 0,\n",
              " 1,\n",
              " 0,\n",
              " 0,\n",
              " 1,\n",
              " 0,\n",
              " 1,\n",
              " 1,\n",
              " 0,\n",
              " 0,\n",
              " 0,\n",
              " 0,\n",
              " 1,\n",
              " 0,\n",
              " 1,\n",
              " 0,\n",
              " 0,\n",
              " 0,\n",
              " 0,\n",
              " 1,\n",
              " 1,\n",
              " 0,\n",
              " 0,\n",
              " 1,\n",
              " 0,\n",
              " 1,\n",
              " 1,\n",
              " 1,\n",
              " 1,\n",
              " 0,\n",
              " 1,\n",
              " 0,\n",
              " 1,\n",
              " 0,\n",
              " 1,\n",
              " 0,\n",
              " 1,\n",
              " 0,\n",
              " 1,\n",
              " 0,\n",
              " 0,\n",
              " 0,\n",
              " 1,\n",
              " 0,\n",
              " 1,\n",
              " 0,\n",
              " 0,\n",
              " 1,\n",
              " 0,\n",
              " 0,\n",
              " 1,\n",
              " 1,\n",
              " 1,\n",
              " 0,\n",
              " 1,\n",
              " 0,\n",
              " 0,\n",
              " 0,\n",
              " 0,\n",
              " 0,\n",
              " 0,\n",
              " 1,\n",
              " 0,\n",
              " 0,\n",
              " 0,\n",
              " 0,\n",
              " 1,\n",
              " 0,\n",
              " 0,\n",
              " 0,\n",
              " 0,\n",
              " 1,\n",
              " 1,\n",
              " 1,\n",
              " 0,\n",
              " 1,\n",
              " 0,\n",
              " 1,\n",
              " 0,\n",
              " 0,\n",
              " 1,\n",
              " 0,\n",
              " 1,\n",
              " 0,\n",
              " 0,\n",
              " 0,\n",
              " 0,\n",
              " 1,\n",
              " 1,\n",
              " 0,\n",
              " 0,\n",
              " 0,\n",
              " 1,\n",
              " 1,\n",
              " 0,\n",
              " 0,\n",
              " 0,\n",
              " 1,\n",
              " 1,\n",
              " 0,\n",
              " 0,\n",
              " 0,\n",
              " 1,\n",
              " 0,\n",
              " 0,\n",
              " 0,\n",
              " 0,\n",
              " 0,\n",
              " 1,\n",
              " 1,\n",
              " 0,\n",
              " 0,\n",
              " 0,\n",
              " 0,\n",
              " 0,\n",
              " 0,\n",
              " 0,\n",
              " 1,\n",
              " 0,\n",
              " 0,\n",
              " 0,\n",
              " 1,\n",
              " 1,\n",
              " 1,\n",
              " 0,\n",
              " 0,\n",
              " 1,\n",
              " 0,\n",
              " 0,\n",
              " 1,\n",
              " 1,\n",
              " 1,\n",
              " 0,\n",
              " 1,\n",
              " 0,\n",
              " 1,\n",
              " 1,\n",
              " 0,\n",
              " 0,\n",
              " 0,\n",
              " 0,\n",
              " 0,\n",
              " 0,\n",
              " 0,\n",
              " 0,\n",
              " 0,\n",
              " 0,\n",
              " 0,\n",
              " 1,\n",
              " 1,\n",
              " 1,\n",
              " 0,\n",
              " 1,\n",
              " 1,\n",
              " 1,\n",
              " 1,\n",
              " 0,\n",
              " 0,\n",
              " 0,\n",
              " 0,\n",
              " 1,\n",
              " 0,\n",
              " 1,\n",
              " 0,\n",
              " 1,\n",
              " 0,\n",
              " 1,\n",
              " 1,\n",
              " 0,\n",
              " 0,\n",
              " 0,\n",
              " 1,\n",
              " 0,\n",
              " 0,\n",
              " 0,\n",
              " 1,\n",
              " 0,\n",
              " 1,\n",
              " 0,\n",
              " 0,\n",
              " 0,\n",
              " 1,\n",
              " 0,\n",
              " 1,\n",
              " 0,\n",
              " 1,\n",
              " 0,\n",
              " 0,\n",
              " 0,\n",
              " 0,\n",
              " 1,\n",
              " 1,\n",
              " 0,\n",
              " 0,\n",
              " 0,\n",
              " 0,\n",
              " 1,\n",
              " 0,\n",
              " 0,\n",
              " 1,\n",
              " 1,\n",
              " 0,\n",
              " 0,\n",
              " 0,\n",
              " 0,\n",
              " 0,\n",
              " 1,\n",
              " 0,\n",
              " 0,\n",
              " 0,\n",
              " 0,\n",
              " 0,\n",
              " 0,\n",
              " 1,\n",
              " 0,\n",
              " 0,\n",
              " 0,\n",
              " 0,\n",
              " 1,\n",
              " 0,\n",
              " 1,\n",
              " 1,\n",
              " 1,\n",
              " 0,\n",
              " 0,\n",
              " 1,\n",
              " 0,\n",
              " 1,\n",
              " 0,\n",
              " 0,\n",
              " 0,\n",
              " 0,\n",
              " 1,\n",
              " 0,\n",
              " 0,\n",
              " 1,\n",
              " 0,\n",
              " 0,\n",
              " 1,\n",
              " 0,\n",
              " 0,\n",
              " 0,\n",
              " 0,\n",
              " 0,\n",
              " 0,\n",
              " 0,\n",
              " 1,\n",
              " 0,\n",
              " 1,\n",
              " 0,\n",
              " 1,\n",
              " 0,\n",
              " 0,\n",
              " 0,\n",
              " 0,\n",
              " 1,\n",
              " 0,\n",
              " 0,\n",
              " 0,\n",
              " 0,\n",
              " 0,\n",
              " 0,\n",
              " 0,\n",
              " 0,\n",
              " 0,\n",
              " 0,\n",
              " 0,\n",
              " 0,\n",
              " 1,\n",
              " 1,\n",
              " 0,\n",
              " 0,\n",
              " 0,\n",
              " 1,\n",
              " 0,\n",
              " 0,\n",
              " 0,\n",
              " 0,\n",
              " 0,\n",
              " 0,\n",
              " 0,\n",
              " 1,\n",
              " 1,\n",
              " 0,\n",
              " 0,\n",
              " 0,\n",
              " 0,\n",
              " 1,\n",
              " 0,\n",
              " 0,\n",
              " 0,\n",
              " 1,\n",
              " 0,\n",
              " 1,\n",
              " 1,\n",
              " 1,\n",
              " 1,\n",
              " 0,\n",
              " 1,\n",
              " 0,\n",
              " 0,\n",
              " 0,\n",
              " 1,\n",
              " 0,\n",
              " 1,\n",
              " 1,\n",
              " 0,\n",
              " 1,\n",
              " 1,\n",
              " 1,\n",
              " 1,\n",
              " 0,\n",
              " 1,\n",
              " 0,\n",
              " 0,\n",
              " 0,\n",
              " 1,\n",
              " 0,\n",
              " 1,\n",
              " 0,\n",
              " 0,\n",
              " 1,\n",
              " 1,\n",
              " 0,\n",
              " 0,\n",
              " 0,\n",
              " 0,\n",
              " 0,\n",
              " 1,\n",
              " 1,\n",
              " 1,\n",
              " 0,\n",
              " 1,\n",
              " 1,\n",
              " 1,\n",
              " 1,\n",
              " 0,\n",
              " 0,\n",
              " 0,\n",
              " 0,\n",
              " 0,\n",
              " 1,\n",
              " 0,\n",
              " 0,\n",
              " 0,\n",
              " 1,\n",
              " 1,\n",
              " 0,\n",
              " 0,\n",
              " 0,\n",
              " 0,\n",
              " 0,\n",
              " 1,\n",
              " 0,\n",
              " 1,\n",
              " 1,\n",
              " 0,\n",
              " 0,\n",
              " 1,\n",
              " 1,\n",
              " 1,\n",
              " 0,\n",
              " 1,\n",
              " 1,\n",
              " 0,\n",
              " 1,\n",
              " 1,\n",
              " 0,\n",
              " 0,\n",
              " 0,\n",
              " 0,\n",
              " 1,\n",
              " 0,\n",
              " 1,\n",
              " 0,\n",
              " 0,\n",
              " 1,\n",
              " 0,\n",
              " 0,\n",
              " 0,\n",
              " 1,\n",
              " 1,\n",
              " 0,\n",
              " 0,\n",
              " 0,\n",
              " 0,\n",
              " 0,\n",
              " 0,\n",
              " 0,\n",
              " 1,\n",
              " 0,\n",
              " 0,\n",
              " 1,\n",
              " 1,\n",
              " 1,\n",
              " 0,\n",
              " 0,\n",
              " 1,\n",
              " 1,\n",
              " 0,\n",
              " 0,\n",
              " 0,\n",
              " 1,\n",
              " 1,\n",
              " 1,\n",
              " 0,\n",
              " 1,\n",
              " 0,\n",
              " 1,\n",
              " 0,\n",
              " 1,\n",
              " 1,\n",
              " 0,\n",
              " 0,\n",
              " 1,\n",
              " 0,\n",
              " 1,\n",
              " 1,\n",
              " 0,\n",
              " 0,\n",
              " 0,\n",
              " 0,\n",
              " 0,\n",
              " 1,\n",
              " 0,\n",
              " 0,\n",
              " 0,\n",
              " 1,\n",
              " 1,\n",
              " 1,\n",
              " 0,\n",
              " 0,\n",
              " 0,\n",
              " 1,\n",
              " 0,\n",
              " 1,\n",
              " 0,\n",
              " 0,\n",
              " 1,\n",
              " 0,\n",
              " 0,\n",
              " 1,\n",
              " 0,\n",
              " 1,\n",
              " 0,\n",
              " 1,\n",
              " 0,\n",
              " 0,\n",
              " 1,\n",
              " 1,\n",
              " 0,\n",
              " 1,\n",
              " 1,\n",
              " 0,\n",
              " 0,\n",
              " 1,\n",
              " 0,\n",
              " 1,\n",
              " 0,\n",
              " 0,\n",
              " 1,\n",
              " 1,\n",
              " 1,\n",
              " 0,\n",
              " 0,\n",
              " 0,\n",
              " 0,\n",
              " 0,\n",
              " 0,\n",
              " 1,\n",
              " 0,\n",
              " 1,\n",
              " 1,\n",
              " 0,\n",
              " 1,\n",
              " 1,\n",
              " 0,\n",
              " 0,\n",
              " 0,\n",
              " 1,\n",
              " 0,\n",
              " 1,\n",
              " 0,\n",
              " 0,\n",
              " 0,\n",
              " 0,\n",
              " 1,\n",
              " 1,\n",
              " 1,\n",
              " 1,\n",
              " 1,\n",
              " 0,\n",
              " 0,\n",
              " 0,\n",
              " 0,\n",
              " 1,\n",
              " 1,\n",
              " 1,\n",
              " 0,\n",
              " 0,\n",
              " 1,\n",
              " 0,\n",
              " 0,\n",
              " 0,\n",
              " 0,\n",
              " 1,\n",
              " 1,\n",
              " 0,\n",
              " 1,\n",
              " 0,\n",
              " 1,\n",
              " 1,\n",
              " 0,\n",
              " 0,\n",
              " 1,\n",
              " 1,\n",
              " 0,\n",
              " 0,\n",
              " 1,\n",
              " 1,\n",
              " 0,\n",
              " 0,\n",
              " 0,\n",
              " 0,\n",
              " 0,\n",
              " 1,\n",
              " 0,\n",
              " 1,\n",
              " 0,\n",
              " 1,\n",
              " 1,\n",
              " 0,\n",
              " 0,\n",
              " 1,\n",
              " 0,\n",
              " 1,\n",
              " 0,\n",
              " 1,\n",
              " 0,\n",
              " 0,\n",
              " 1,\n",
              " 1,\n",
              " 1,\n",
              " 0,\n",
              " 1,\n",
              " 0,\n",
              " 1,\n",
              " 0,\n",
              " 1,\n",
              " 0,\n",
              " 0,\n",
              " 0,\n",
              " 0,\n",
              " 1,\n",
              " 0,\n",
              " 0,\n",
              " 1,\n",
              " 1,\n",
              " 0,\n",
              " 0,\n",
              " 0,\n",
              " 0,\n",
              " 0,\n",
              " 0,\n",
              " 0,\n",
              " 0,\n",
              " 0,\n",
              " 1,\n",
              " 1,\n",
              " 0,\n",
              " 0,\n",
              " 0,\n",
              " 0,\n",
              " 0,\n",
              " 0,\n",
              " 1,\n",
              " 0,\n",
              " 0,\n",
              " 0,\n",
              " 1,\n",
              " 1,\n",
              " 0,\n",
              " 0,\n",
              " 1,\n",
              " 1,\n",
              " 0,\n",
              " 0,\n",
              " 0,\n",
              " 0,\n",
              " 1,\n",
              " 0,\n",
              " 0,\n",
              " 1,\n",
              " 1,\n",
              " 0,\n",
              " 1,\n",
              " 0,\n",
              " 0,\n",
              " 0,\n",
              " 0,\n",
              " 0,\n",
              " 0,\n",
              " 1,\n",
              " 1,\n",
              " 0,\n",
              " 1,\n",
              " 1,\n",
              " 1,\n",
              " 0,\n",
              " 0,\n",
              " 1,\n",
              " 0,\n",
              " 0,\n",
              " 1,\n",
              " 0,\n",
              " 1,\n",
              " 1,\n",
              " 1,\n",
              " 0,\n",
              " 0,\n",
              " 0,\n",
              " 0,\n",
              " 0,\n",
              " 0,\n",
              " 0,\n",
              " 1,\n",
              " 1,\n",
              " 0,\n",
              " 0,\n",
              " 0,\n",
              " 0,\n",
              " 1,\n",
              " 1,\n",
              " 0,\n",
              " 0,\n",
              " 0,\n",
              " 0,\n",
              " 0,\n",
              " 0,\n",
              " 0,\n",
              " 1,\n",
              " 1,\n",
              " 0,\n",
              " 0,\n",
              " 1,\n",
              " 1,\n",
              " 0,\n",
              " 0,\n",
              " 1,\n",
              " 0,\n",
              " 1,\n",
              " 1,\n",
              " 0,\n",
              " 1,\n",
              " 0,\n",
              " 0,\n",
              " 0,\n",
              " ...]"
            ]
          },
          "metadata": {
            "tags": []
          },
          "execution_count": 225
        }
      ]
    },
    {
      "cell_type": "code",
      "metadata": {
        "id": "tBSS6QD6TloO",
        "colab_type": "code",
        "outputId": "dede49f8-a937-41bc-80aa-49f6945369e2",
        "colab": {
          "base_uri": "https://localhost:8080/",
          "height": 67
        }
      },
      "source": [
        "print(\"Confusion Matrix:\", '\\n',confusion_matrix(y_2, proba_y_0_lt))"
      ],
      "execution_count": 0,
      "outputs": [
        {
          "output_type": "stream",
          "text": [
            "Confusion Matrix: \n",
            " [[3086 1025]\n",
            " [ 352 1171]]\n"
          ],
          "name": "stdout"
        }
      ]
    },
    {
      "cell_type": "code",
      "metadata": {
        "id": "qApdqOnATloQ",
        "colab_type": "code",
        "outputId": "f84062d7-a8b1-479e-8c3f-3dd38a296313",
        "colab": {
          "base_uri": "https://localhost:8080/",
          "height": 34
        }
      },
      "source": [
        "print(\"Accuracy:\",accuracy_score(y_2, proba_y_0_lt, normalize=True, sample_weight=None))"
      ],
      "execution_count": 0,
      "outputs": [
        {
          "output_type": "stream",
          "text": [
            "Accuracy: 0.755591054313099\n"
          ],
          "name": "stdout"
        }
      ]
    },
    {
      "cell_type": "code",
      "metadata": {
        "id": "mkgANmkGTloR",
        "colab_type": "code",
        "outputId": "fb9247f7-23c0-471b-cca6-2680943f6c03",
        "colab": {
          "base_uri": "https://localhost:8080/",
          "height": 67
        }
      },
      "source": [
        "display(yact, proba_y_0)"
      ],
      "execution_count": 0,
      "outputs": [
        {
          "output_type": "display_data",
          "data": {
            "text/plain": [
              "array([0, 0, 1, ..., 1, 0, 0])"
            ]
          },
          "metadata": {
            "tags": []
          }
        },
        {
          "output_type": "display_data",
          "data": {
            "text/plain": [
              "array([0.82338059, 0.62184868, 0.34900985, ..., 0.3512466 , 0.62999956,\n",
              "       0.97980822])"
            ]
          },
          "metadata": {
            "tags": []
          }
        }
      ]
    },
    {
      "cell_type": "code",
      "metadata": {
        "id": "JSalPH55TloS",
        "colab_type": "code",
        "colab": {}
      },
      "source": [
        "fpr, tpr, thresholds = metrics.roc_curve(yact,proba_y_0,pos_label=0)"
      ],
      "execution_count": 0,
      "outputs": []
    },
    {
      "cell_type": "code",
      "metadata": {
        "id": "35mDyjprTloT",
        "colab_type": "code",
        "outputId": "6599748c-8803-431d-9ef5-a81366d12261",
        "colab": {
          "base_uri": "https://localhost:8080/",
          "height": 34
        }
      },
      "source": [
        "metrics.auc(fpr, tpr)"
      ],
      "execution_count": 0,
      "outputs": [
        {
          "output_type": "execute_result",
          "data": {
            "text/plain": [
              "0.8416847773050316"
            ]
          },
          "metadata": {
            "tags": []
          },
          "execution_count": 230
        }
      ]
    },
    {
      "cell_type": "code",
      "metadata": {
        "id": "6XkLVgatTloU",
        "colab_type": "code",
        "outputId": "696377d7-a336-42ba-8cc7-fd238c198167",
        "colab": {
          "base_uri": "https://localhost:8080/",
          "height": 282
        }
      },
      "source": [
        "plt.plot(fpr,tpr)"
      ],
      "execution_count": 0,
      "outputs": [
        {
          "output_type": "execute_result",
          "data": {
            "text/plain": [
              "[<matplotlib.lines.Line2D at 0x7f2e9e955358>]"
            ]
          },
          "metadata": {
            "tags": []
          },
          "execution_count": 231
        },
        {
          "output_type": "display_data",
          "data": {
            "image/png": "[encoded data removed]",
            "text/plain": [
              "<Figure size 432x288 with 1 Axes>"
            ]
          },
          "metadata": {
            "tags": [],
            "needs_background": "light"
          }
        }
      ]
    },
    {
      "cell_type": "code",
      "metadata": {
        "id": "wtYDCxArTloV",
        "colab_type": "code",
        "outputId": "40db6f7b-ed80-493c-c49f-20f3a83237a9",
        "colab": {
          "base_uri": "https://localhost:8080/",
          "height": 101
        }
      },
      "source": [
        "lr_2.fit(X_2, yact)"
      ],
      "execution_count": 0,
      "outputs": [
        {
          "output_type": "execute_result",
          "data": {
            "text/plain": [
              "LogisticRegression(C=2, class_weight=None, dual=False, fit_intercept=True,\n",
              "                   intercept_scaling=1, l1_ratio=None, max_iter=100,\n",
              "                   multi_class='auto', n_jobs=None, penalty='l2',\n",
              "                   random_state=50, solver='saga', tol=0.0001, verbose=0,\n",
              "                   warm_start=False)"
            ]
          },
          "metadata": {
            "tags": []
          },
          "execution_count": 232
        }
      ]
    },
    {
      "cell_type": "code",
      "metadata": {
        "id": "QdWMWAbQTloW",
        "colab_type": "code",
        "outputId": "ae39e8fc-bb3b-45e2-ae6b-77a8afb1efb6",
        "colab": {
          "base_uri": "https://localhost:8080/",
          "height": 34
        }
      },
      "source": [
        "lr_2.intercept_"
      ],
      "execution_count": 0,
      "outputs": [
        {
          "output_type": "execute_result",
          "data": {
            "text/plain": [
              "array([-2.61419863])"
            ]
          },
          "metadata": {
            "tags": []
          },
          "execution_count": 233
        }
      ]
    },
    {
      "cell_type": "code",
      "metadata": {
        "id": "kNfR3UDQTloY",
        "colab_type": "code",
        "outputId": "a29b443f-57f0-47a1-a200-ef3da0113caf",
        "colab": {
          "base_uri": "https://localhost:8080/",
          "height": 935
        }
      },
      "source": [
        "coeff_df = pd.DataFrame(lr_2.coef_.flatten(), X_2.columns, columns=['Coefficient'])  \n",
        "coeff_df"
      ],
      "execution_count": 0,
      "outputs": [
        {
          "output_type": "execute_result",
          "data": {
            "text/html": [
              "<div>\n",
              "<style scoped>\n",
              "    .dataframe tbody tr th:only-of-type {\n",
              "        vertical-align: middle;\n",
              "    }\n",
              "\n",
              "    .dataframe tbody tr th {\n",
              "        vertical-align: top;\n",
              "    }\n",
              "\n",
              "    .dataframe thead th {\n",
              "        text-align: right;\n",
              "    }\n",
              "</style>\n",
              "<table border=\"1\" class=\"dataframe\">\n",
              "  <thead>\n",
              "    <tr style=\"text-align: right;\">\n",
              "      <th></th>\n",
              "      <th>Coefficient</th>\n",
              "    </tr>\n",
              "  </thead>\n",
              "  <tbody>\n",
              "    <tr>\n",
              "      <th>SeniorCitizen</th>\n",
              "      <td>0.248867</td>\n",
              "    </tr>\n",
              "    <tr>\n",
              "      <th>gender_Male</th>\n",
              "      <td>-0.067406</td>\n",
              "    </tr>\n",
              "    <tr>\n",
              "      <th>Partner_Yes</th>\n",
              "      <td>0.031870</td>\n",
              "    </tr>\n",
              "    <tr>\n",
              "      <th>Dependents_Yes</th>\n",
              "      <td>-0.144406</td>\n",
              "    </tr>\n",
              "    <tr>\n",
              "      <th>PhoneService_Yes</th>\n",
              "      <td>-0.282461</td>\n",
              "    </tr>\n",
              "    <tr>\n",
              "      <th>MultipleLines_No</th>\n",
              "      <td>-0.245014</td>\n",
              "    </tr>\n",
              "    <tr>\n",
              "      <th>MultipleLines_Yes</th>\n",
              "      <td>-0.037448</td>\n",
              "    </tr>\n",
              "    <tr>\n",
              "      <th>InternetService_DSL</th>\n",
              "      <td>-0.229731</td>\n",
              "    </tr>\n",
              "    <tr>\n",
              "      <th>InternetService_Fiber optic</th>\n",
              "      <td>0.512922</td>\n",
              "    </tr>\n",
              "    <tr>\n",
              "      <th>OnlineSecurity_No</th>\n",
              "      <td>0.350152</td>\n",
              "    </tr>\n",
              "    <tr>\n",
              "      <th>OnlineSecurity_Yes</th>\n",
              "      <td>-0.066961</td>\n",
              "    </tr>\n",
              "    <tr>\n",
              "      <th>OnlineBackup_No</th>\n",
              "      <td>0.242252</td>\n",
              "    </tr>\n",
              "    <tr>\n",
              "      <th>OnlineBackup_Yes</th>\n",
              "      <td>0.040939</td>\n",
              "    </tr>\n",
              "    <tr>\n",
              "      <th>DeviceProtection_No</th>\n",
              "      <td>0.149109</td>\n",
              "    </tr>\n",
              "    <tr>\n",
              "      <th>DeviceProtection_Yes</th>\n",
              "      <td>0.134083</td>\n",
              "    </tr>\n",
              "    <tr>\n",
              "      <th>TechSupport_No</th>\n",
              "      <td>0.315667</td>\n",
              "    </tr>\n",
              "    <tr>\n",
              "      <th>TechSupport_Yes</th>\n",
              "      <td>-0.032476</td>\n",
              "    </tr>\n",
              "    <tr>\n",
              "      <th>StreamingTV_No</th>\n",
              "      <td>0.042305</td>\n",
              "    </tr>\n",
              "    <tr>\n",
              "      <th>StreamingTV_Yes</th>\n",
              "      <td>0.240887</td>\n",
              "    </tr>\n",
              "    <tr>\n",
              "      <th>StreamingMovies_No</th>\n",
              "      <td>0.015748</td>\n",
              "    </tr>\n",
              "    <tr>\n",
              "      <th>StreamingMovies_Yes</th>\n",
              "      <td>0.267444</td>\n",
              "    </tr>\n",
              "    <tr>\n",
              "      <th>Contract_Month-to-month</th>\n",
              "      <td>0.678997</td>\n",
              "    </tr>\n",
              "    <tr>\n",
              "      <th>Contract_Two year</th>\n",
              "      <td>-0.849776</td>\n",
              "    </tr>\n",
              "    <tr>\n",
              "      <th>PaperlessBilling_Yes</th>\n",
              "      <td>0.306301</td>\n",
              "    </tr>\n",
              "    <tr>\n",
              "      <th>PaymentMethod_Bank transfer (automatic)</th>\n",
              "      <td>0.015021</td>\n",
              "    </tr>\n",
              "    <tr>\n",
              "      <th>PaymentMethod_Electronic check</th>\n",
              "      <td>0.279803</td>\n",
              "    </tr>\n",
              "    <tr>\n",
              "      <th>PaymentMethod_Mailed check</th>\n",
              "      <td>-0.122404</td>\n",
              "    </tr>\n",
              "    <tr>\n",
              "      <th>tenure_zscore</th>\n",
              "      <td>-1.428689</td>\n",
              "    </tr>\n",
              "    <tr>\n",
              "      <th>MonthlyCharges_zscore</th>\n",
              "      <td>-0.049409</td>\n",
              "    </tr>\n",
              "    <tr>\n",
              "      <th>TotalCharges_zscore</th>\n",
              "      <td>0.714945</td>\n",
              "    </tr>\n",
              "  </tbody>\n",
              "</table>\n",
              "</div>"
            ],
            "text/plain": [
              "                                         Coefficient\n",
              "SeniorCitizen                               0.248867\n",
              "gender_Male                                -0.067406\n",
              "Partner_Yes                                 0.031870\n",
              "Dependents_Yes                             -0.144406\n",
              "PhoneService_Yes                           -0.282461\n",
              "MultipleLines_No                           -0.245014\n",
              "MultipleLines_Yes                          -0.037448\n",
              "InternetService_DSL                        -0.229731\n",
              "InternetService_Fiber optic                 0.512922\n",
              "OnlineSecurity_No                           0.350152\n",
              "OnlineSecurity_Yes                         -0.066961\n",
              "OnlineBackup_No                             0.242252\n",
              "OnlineBackup_Yes                            0.040939\n",
              "DeviceProtection_No                         0.149109\n",
              "DeviceProtection_Yes                        0.134083\n",
              "TechSupport_No                              0.315667\n",
              "TechSupport_Yes                            -0.032476\n",
              "StreamingTV_No                              0.042305\n",
              "StreamingTV_Yes                             0.240887\n",
              "StreamingMovies_No                          0.015748\n",
              "StreamingMovies_Yes                         0.267444\n",
              "Contract_Month-to-month                     0.678997\n",
              "Contract_Two year                          -0.849776\n",
              "PaperlessBilling_Yes                        0.306301\n",
              "PaymentMethod_Bank transfer (automatic)     0.015021\n",
              "PaymentMethod_Electronic check              0.279803\n",
              "PaymentMethod_Mailed check                 -0.122404\n",
              "tenure_zscore                              -1.428689\n",
              "MonthlyCharges_zscore                      -0.049409\n",
              "TotalCharges_zscore                         0.714945"
            ]
          },
          "metadata": {
            "tags": []
          },
          "execution_count": 234
        }
      ]
    },
    {
      "cell_type": "code",
      "metadata": {
        "id": "iK9QRAeDTloa",
        "colab_type": "code",
        "outputId": "b20f861b-b0e9-4990-b110-da6b1eff59e6",
        "colab": {
          "base_uri": "https://localhost:8080/",
          "height": 655
        }
      },
      "source": [
        "print('Area Under Curve:', \"%.4f\" % metrics.auc(fpr, tpr))\n",
        "print('Cross Validation Score:', \"%.4f\" % score_cv.mean())\n",
        "for j in range(4, 7):\n",
        "    print('Confusion Matrix', 'with thresold', float(j)/float(10), ':', '\\n',\n",
        "          confusion_matrix(y_2, [0 if i >= float(j)/float(10) else 1 for i in proba_y_0]))\n",
        "    print(classification_report(y_2, [0 if i >= float(j)/float(10) else 1 for i in proba_y_0]))"
      ],
      "execution_count": 0,
      "outputs": [
        {
          "output_type": "stream",
          "text": [
            "Area Under Curve: 0.8417\n",
            "Cross Validation Score: 0.7989\n",
            "Confusion Matrix with thresold 0.4 : \n",
            " [[3867  244]\n",
            " [ 932  591]]\n",
            "              precision    recall  f1-score   support\n",
            "\n",
            "           0       0.81      0.94      0.87      4111\n",
            "           1       0.71      0.39      0.50      1523\n",
            "\n",
            "    accuracy                           0.79      5634\n",
            "   macro avg       0.76      0.66      0.68      5634\n",
            "weighted avg       0.78      0.79      0.77      5634\n",
            "\n",
            "Confusion Matrix with thresold 0.5 : \n",
            " [[3664  447]\n",
            " [ 686  837]]\n",
            "              precision    recall  f1-score   support\n",
            "\n",
            "           0       0.84      0.89      0.87      4111\n",
            "           1       0.65      0.55      0.60      1523\n",
            "\n",
            "    accuracy                           0.80      5634\n",
            "   macro avg       0.75      0.72      0.73      5634\n",
            "weighted avg       0.79      0.80      0.79      5634\n",
            "\n",
            "Confusion Matrix with thresold 0.6 : \n",
            " [[3385  726]\n",
            " [ 503 1020]]\n",
            "              precision    recall  f1-score   support\n",
            "\n",
            "           0       0.87      0.82      0.85      4111\n",
            "           1       0.58      0.67      0.62      1523\n",
            "\n",
            "    accuracy                           0.78      5634\n",
            "   macro avg       0.73      0.75      0.74      5634\n",
            "weighted avg       0.79      0.78      0.79      5634\n",
            "\n"
          ],
          "name": "stdout"
        }
      ]
    },
    {
      "cell_type": "markdown",
      "metadata": {
        "id": "ZZ9DcdK3Tlob",
        "colab_type": "text"
      },
      "source": [
        "## Predict testing data"
      ]
    },
    {
      "cell_type": "code",
      "metadata": {
        "id": "73R0HQtvTlob",
        "colab_type": "code",
        "colab": {}
      },
      "source": [
        "pred_val_test = LRM_2_2.predict(X_test_2)"
      ],
      "execution_count": 0,
      "outputs": []
    },
    {
      "cell_type": "code",
      "metadata": {
        "scrolled": true,
        "id": "rPA2sQ6_Tloc",
        "colab_type": "code",
        "outputId": "8f7a427d-533c-456b-a5ef-5c1c5b0b4463",
        "colab": {
          "base_uri": "https://localhost:8080/",
          "height": 235
        }
      },
      "source": [
        "print(\"Accuracy from testing data: \", accuracy_score(y_test_2, pred_val_test, normalize = True, sample_weight = None))\n",
        "print(confusion_matrix(y_test_2, pred_val_test))\n",
        "print(\"Classification Report of Naive Bayes Model:\",\"\\n\",classification_report(y_test_2, pred_val_test))"
      ],
      "execution_count": 0,
      "outputs": [
        {
          "output_type": "stream",
          "text": [
            "Accuracy from testing data:  0.8190205819730305\n",
            "[[945 118]\n",
            " [137 209]]\n",
            "Classification Report of Naive Bayes Model: \n",
            "               precision    recall  f1-score   support\n",
            "\n",
            "           0       0.87      0.89      0.88      1063\n",
            "           1       0.64      0.60      0.62       346\n",
            "\n",
            "    accuracy                           0.82      1409\n",
            "   macro avg       0.76      0.75      0.75      1409\n",
            "weighted avg       0.82      0.82      0.82      1409\n",
            "\n"
          ],
          "name": "stdout"
        }
      ]
    },
    {
      "cell_type": "markdown",
      "metadata": {
        "id": "RO-y37sATlod",
        "colab_type": "text"
      },
      "source": [
        "## Logistic Regression (Dataset 3)"
      ]
    },
    {
      "cell_type": "code",
      "metadata": {
        "id": "q1RS-F8HTloe",
        "colab_type": "code",
        "outputId": "a6053413-1a4f-4247-b6f9-ba10d847f99e",
        "colab": {
          "base_uri": "https://localhost:8080/",
          "height": 269
        }
      },
      "source": [
        "LRM_3_1 = GridSearchCV(LogisticRegression(), param_grid=try_grid, cv=10)\n",
        "LRM_3_1.fit(X_3,y_3)"
      ],
      "execution_count": 0,
      "outputs": [
        {
          "output_type": "execute_result",
          "data": {
            "text/plain": [
              "GridSearchCV(cv=10, error_score=nan,\n",
              "             estimator=LogisticRegression(C=1.0, class_weight=None, dual=False,\n",
              "                                          fit_intercept=True,\n",
              "                                          intercept_scaling=1, l1_ratio=None,\n",
              "                                          max_iter=100, multi_class='auto',\n",
              "                                          n_jobs=None, penalty='l2',\n",
              "                                          random_state=None, solver='lbfgs',\n",
              "                                          tol=0.0001, verbose=0,\n",
              "                                          warm_start=False),\n",
              "             iid='deprecated', n_jobs=None,\n",
              "             param_grid=[{'C': array([1, 2, 3, 4]), 'penalty': ['l1'],\n",
              "                          'random_state': [40],\n",
              "                          'solver': ['liblinear', 'saga']}],\n",
              "             pre_dispatch='2*n_jobs', refit=True, return_train_score=False,\n",
              "             scoring=None, verbose=0)"
            ]
          },
          "metadata": {
            "tags": []
          },
          "execution_count": 238
        }
      ]
    },
    {
      "cell_type": "code",
      "metadata": {
        "id": "zzy1C_CDTlof",
        "colab_type": "code",
        "outputId": "d93eb571-20dd-483e-a986-2a153c919e55",
        "colab": {
          "base_uri": "https://localhost:8080/",
          "height": 50
        }
      },
      "source": [
        "display(LRM_3_1.best_params_, LRM_3_1.best_score_)"
      ],
      "execution_count": 0,
      "outputs": [
        {
          "output_type": "display_data",
          "data": {
            "text/plain": [
              "{'C': 1, 'penalty': 'l1', 'random_state': 40, 'solver': 'liblinear'}"
            ]
          },
          "metadata": {
            "tags": []
          }
        },
        {
          "output_type": "display_data",
          "data": {
            "text/plain": [
              "0.8065363490923749"
            ]
          },
          "metadata": {
            "tags": []
          }
        }
      ]
    },
    {
      "cell_type": "code",
      "metadata": {
        "id": "kZe2ion_Tlog",
        "colab_type": "code",
        "outputId": "561e55d7-ccae-4df3-800c-e98551662f13",
        "colab": {
          "base_uri": "https://localhost:8080/",
          "height": 286
        }
      },
      "source": [
        "LRM_3_2 = GridSearchCV(LogisticRegression(), param_grid=try_grid_2, cv=10)\n",
        "LRM_3_2.fit(X_3,y_3)\n"
      ],
      "execution_count": 0,
      "outputs": [
        {
          "output_type": "execute_result",
          "data": {
            "text/plain": [
              "GridSearchCV(cv=10, error_score=nan,\n",
              "             estimator=LogisticRegression(C=1.0, class_weight=None, dual=False,\n",
              "                                          fit_intercept=True,\n",
              "                                          intercept_scaling=1, l1_ratio=None,\n",
              "                                          max_iter=100, multi_class='auto',\n",
              "                                          n_jobs=None, penalty='l2',\n",
              "                                          random_state=None, solver='lbfgs',\n",
              "                                          tol=0.0001, verbose=0,\n",
              "                                          warm_start=False),\n",
              "             iid='deprecated', n_jobs=None,\n",
              "             param_grid=[{'C': array([1, 2, 3, 4]), 'penalty': ['l2'],\n",
              "                          'random_state': [50],\n",
              "                          'solver': ['newton-cg', 'lbfgs', 'liblinear', 'sag',\n",
              "                                     'saga']}],\n",
              "             pre_dispatch='2*n_jobs', refit=True, return_train_score=False,\n",
              "             scoring=None, verbose=0)"
            ]
          },
          "metadata": {
            "tags": []
          },
          "execution_count": 240
        }
      ]
    },
    {
      "cell_type": "code",
      "metadata": {
        "id": "G7FbBG-WTloh",
        "colab_type": "code",
        "outputId": "be91b8ea-0e2c-42e9-bbfe-e3c1221a402c",
        "colab": {
          "base_uri": "https://localhost:8080/",
          "height": 50
        }
      },
      "source": [
        "display(LRM_3_2.best_params_, LRM_3_2.best_score_)"
      ],
      "execution_count": 0,
      "outputs": [
        {
          "output_type": "display_data",
          "data": {
            "text/plain": [
              "{'C': 3, 'penalty': 'l2', 'random_state': 50, 'solver': 'newton-cg'}"
            ]
          },
          "metadata": {
            "tags": []
          }
        },
        {
          "output_type": "display_data",
          "data": {
            "text/plain": [
              "0.8074244485595152"
            ]
          },
          "metadata": {
            "tags": []
          }
        }
      ]
    },
    {
      "cell_type": "markdown",
      "metadata": {
        "id": "OO4-c92gTloi",
        "colab_type": "text"
      },
      "source": [
        "## use LRM_3_2"
      ]
    },
    {
      "cell_type": "code",
      "metadata": {
        "id": "m9WGUzBQTloj",
        "colab_type": "code",
        "colab": {}
      },
      "source": [
        "lr_3 = LogisticRegression(penalty='l2', C=1.0,random_state=50, solver='liblinear')"
      ],
      "execution_count": 0,
      "outputs": []
    },
    {
      "cell_type": "code",
      "metadata": {
        "id": "BXPAYXKNTlok",
        "colab_type": "code",
        "colab": {}
      },
      "source": [
        "yact = y_3.values.ravel()"
      ],
      "execution_count": 0,
      "outputs": []
    },
    {
      "cell_type": "code",
      "metadata": {
        "id": "TIFnfGSOTloo",
        "colab_type": "code",
        "colab": {}
      },
      "source": [
        "score_cv = cross_val_score(lr_3, X_3, yact, cv=10)"
      ],
      "execution_count": 0,
      "outputs": []
    },
    {
      "cell_type": "code",
      "metadata": {
        "id": "0lggzCjRTloq",
        "colab_type": "code",
        "outputId": "cc33a5cd-c15a-4c55-c37b-30ec4e769982",
        "colab": {
          "base_uri": "https://localhost:8080/",
          "height": 34
        }
      },
      "source": [
        "score_cv.mean()"
      ],
      "execution_count": 0,
      "outputs": [
        {
          "output_type": "execute_result",
          "data": {
            "text/plain": [
              "0.8060038043409797"
            ]
          },
          "metadata": {
            "tags": []
          },
          "execution_count": 245
        }
      ]
    },
    {
      "cell_type": "code",
      "metadata": {
        "id": "rW_6IxkVTlos",
        "colab_type": "code",
        "colab": {}
      },
      "source": [
        "pred_y = cross_val_predict(lr_3, X_3, yact, cv=10)"
      ],
      "execution_count": 0,
      "outputs": []
    },
    {
      "cell_type": "code",
      "metadata": {
        "id": "B3VY1q82Tlow",
        "colab_type": "code",
        "outputId": "b26b1185-c1e5-4638-9503-15ad69a03919",
        "colab": {
          "base_uri": "https://localhost:8080/",
          "height": 50
        }
      },
      "source": [
        "print(confusion_matrix(y_3, pred_y))"
      ],
      "execution_count": 0,
      "outputs": [
        {
          "output_type": "stream",
          "text": [
            "[[3756  417]\n",
            " [ 676  785]]\n"
          ],
          "name": "stdout"
        }
      ]
    },
    {
      "cell_type": "code",
      "metadata": {
        "id": "pMlUxWJ8Tloy",
        "colab_type": "code",
        "outputId": "267bfbb5-40fd-4b73-905c-40566253614a",
        "colab": {
          "base_uri": "https://localhost:8080/",
          "height": 168
        }
      },
      "source": [
        "print(classification_report(yact, pred_y))"
      ],
      "execution_count": 0,
      "outputs": [
        {
          "output_type": "stream",
          "text": [
            "              precision    recall  f1-score   support\n",
            "\n",
            "           0       0.85      0.90      0.87      4173\n",
            "           1       0.65      0.54      0.59      1461\n",
            "\n",
            "    accuracy                           0.81      5634\n",
            "   macro avg       0.75      0.72      0.73      5634\n",
            "weighted avg       0.80      0.81      0.80      5634\n",
            "\n"
          ],
          "name": "stdout"
        }
      ]
    },
    {
      "cell_type": "markdown",
      "metadata": {
        "id": "qV0v7ZD9Tlo0",
        "colab_type": "text"
      },
      "source": [
        "## ROC Curve"
      ]
    },
    {
      "cell_type": "code",
      "metadata": {
        "id": "LymoBsmwTlo0",
        "colab_type": "code",
        "outputId": "e818775c-9fee-4a73-d380-629d513d0ac0",
        "colab": {
          "base_uri": "https://localhost:8080/",
          "height": 134
        }
      },
      "source": [
        "proba_y = cross_val_predict(lr_3, X_3, yact, cv=10, method='predict_proba')\n",
        "proba_y"
      ],
      "execution_count": 0,
      "outputs": [
        {
          "output_type": "execute_result",
          "data": {
            "text/plain": [
              "array([[0.6369891 , 0.3630109 ],\n",
              "       [0.34899616, 0.65100384],\n",
              "       [0.26230411, 0.73769589],\n",
              "       ...,\n",
              "       [0.60200407, 0.39799593],\n",
              "       [0.99490221, 0.00509779],\n",
              "       [0.97870177, 0.02129823]])"
            ]
          },
          "metadata": {
            "tags": []
          },
          "execution_count": 249
        }
      ]
    },
    {
      "cell_type": "code",
      "metadata": {
        "id": "eCdHJLqxTlo3",
        "colab_type": "code",
        "outputId": "14393837-782c-41f8-81e3-9b0906534427",
        "colab": {
          "base_uri": "https://localhost:8080/",
          "height": 50
        }
      },
      "source": [
        "proba_y_0 = proba_y[:,0]\n",
        "proba_y_0"
      ],
      "execution_count": 0,
      "outputs": [
        {
          "output_type": "execute_result",
          "data": {
            "text/plain": [
              "array([0.6369891 , 0.34899616, 0.26230411, ..., 0.60200407, 0.99490221,\n",
              "       0.97870177])"
            ]
          },
          "metadata": {
            "tags": []
          },
          "execution_count": 250
        }
      ]
    },
    {
      "cell_type": "code",
      "metadata": {
        "id": "ligA6Z70Tlo4",
        "colab_type": "code",
        "outputId": "9b49a7b4-631a-4aa7-d079-e85b350252fa",
        "colab": {
          "base_uri": "https://localhost:8080/",
          "height": 1000
        }
      },
      "source": [
        "proba_y_0_lt= [0 if i >= 0.7 else 1 for i in proba_y_0]\n",
        "proba_y_0_lt"
      ],
      "execution_count": 0,
      "outputs": [
        {
          "output_type": "execute_result",
          "data": {
            "text/plain": [
              "[1,\n",
              " 1,\n",
              " 1,\n",
              " 1,\n",
              " 1,\n",
              " 0,\n",
              " 0,\n",
              " 1,\n",
              " 0,\n",
              " 0,\n",
              " 0,\n",
              " 1,\n",
              " 0,\n",
              " 0,\n",
              " 0,\n",
              " 0,\n",
              " 1,\n",
              " 0,\n",
              " 1,\n",
              " 0,\n",
              " 1,\n",
              " 0,\n",
              " 0,\n",
              " 1,\n",
              " 0,\n",
              " 0,\n",
              " 0,\n",
              " 0,\n",
              " 0,\n",
              " 0,\n",
              " 0,\n",
              " 0,\n",
              " 0,\n",
              " 1,\n",
              " 0,\n",
              " 0,\n",
              " 0,\n",
              " 0,\n",
              " 0,\n",
              " 1,\n",
              " 1,\n",
              " 1,\n",
              " 0,\n",
              " 1,\n",
              " 1,\n",
              " 1,\n",
              " 1,\n",
              " 1,\n",
              " 0,\n",
              " 0,\n",
              " 0,\n",
              " 1,\n",
              " 0,\n",
              " 1,\n",
              " 1,\n",
              " 1,\n",
              " 0,\n",
              " 1,\n",
              " 1,\n",
              " 1,\n",
              " 0,\n",
              " 1,\n",
              " 0,\n",
              " 1,\n",
              " 0,\n",
              " 0,\n",
              " 0,\n",
              " 0,\n",
              " 1,\n",
              " 0,\n",
              " 1,\n",
              " 0,\n",
              " 1,\n",
              " 1,\n",
              " 0,\n",
              " 1,\n",
              " 1,\n",
              " 1,\n",
              " 0,\n",
              " 0,\n",
              " 0,\n",
              " 1,\n",
              " 0,\n",
              " 1,\n",
              " 0,\n",
              " 1,\n",
              " 0,\n",
              " 0,\n",
              " 1,\n",
              " 0,\n",
              " 0,\n",
              " 0,\n",
              " 0,\n",
              " 0,\n",
              " 1,\n",
              " 1,\n",
              " 1,\n",
              " 0,\n",
              " 0,\n",
              " 0,\n",
              " 0,\n",
              " 1,\n",
              " 0,\n",
              " 1,\n",
              " 0,\n",
              " 1,\n",
              " 0,\n",
              " 1,\n",
              " 0,\n",
              " 1,\n",
              " 0,\n",
              " 0,\n",
              " 0,\n",
              " 0,\n",
              " 1,\n",
              " 0,\n",
              " 0,\n",
              " 0,\n",
              " 1,\n",
              " 0,\n",
              " 0,\n",
              " 0,\n",
              " 0,\n",
              " 0,\n",
              " 1,\n",
              " 1,\n",
              " 0,\n",
              " 0,\n",
              " 1,\n",
              " 0,\n",
              " 0,\n",
              " 0,\n",
              " 0,\n",
              " 1,\n",
              " 0,\n",
              " 1,\n",
              " 0,\n",
              " 1,\n",
              " 0,\n",
              " 0,\n",
              " 0,\n",
              " 1,\n",
              " 1,\n",
              " 0,\n",
              " 0,\n",
              " 0,\n",
              " 0,\n",
              " 1,\n",
              " 0,\n",
              " 0,\n",
              " 0,\n",
              " 0,\n",
              " 0,\n",
              " 1,\n",
              " 0,\n",
              " 1,\n",
              " 1,\n",
              " 0,\n",
              " 1,\n",
              " 1,\n",
              " 0,\n",
              " 1,\n",
              " 0,\n",
              " 1,\n",
              " 0,\n",
              " 0,\n",
              " 1,\n",
              " 1,\n",
              " 0,\n",
              " 1,\n",
              " 1,\n",
              " 1,\n",
              " 0,\n",
              " 1,\n",
              " 1,\n",
              " 0,\n",
              " 0,\n",
              " 1,\n",
              " 0,\n",
              " 0,\n",
              " 0,\n",
              " 0,\n",
              " 1,\n",
              " 1,\n",
              " 0,\n",
              " 0,\n",
              " 0,\n",
              " 0,\n",
              " 0,\n",
              " 1,\n",
              " 0,\n",
              " 0,\n",
              " 0,\n",
              " 1,\n",
              " 0,\n",
              " 1,\n",
              " 1,\n",
              " 1,\n",
              " 0,\n",
              " 0,\n",
              " 1,\n",
              " 1,\n",
              " 0,\n",
              " 1,\n",
              " 0,\n",
              " 0,\n",
              " 0,\n",
              " 0,\n",
              " 1,\n",
              " 0,\n",
              " 0,\n",
              " 1,\n",
              " 0,\n",
              " 0,\n",
              " 1,\n",
              " 0,\n",
              " 1,\n",
              " 0,\n",
              " 0,\n",
              " 1,\n",
              " 0,\n",
              " 1,\n",
              " 0,\n",
              " 1,\n",
              " 0,\n",
              " 1,\n",
              " 0,\n",
              " 0,\n",
              " 0,\n",
              " 1,\n",
              " 1,\n",
              " 1,\n",
              " 1,\n",
              " 0,\n",
              " 1,\n",
              " 0,\n",
              " 0,\n",
              " 0,\n",
              " 0,\n",
              " 0,\n",
              " 0,\n",
              " 1,\n",
              " 0,\n",
              " 0,\n",
              " 1,\n",
              " 0,\n",
              " 1,\n",
              " 0,\n",
              " 1,\n",
              " 0,\n",
              " 1,\n",
              " 0,\n",
              " 0,\n",
              " 1,\n",
              " 0,\n",
              " 0,\n",
              " 0,\n",
              " 0,\n",
              " 0,\n",
              " 0,\n",
              " 0,\n",
              " 0,\n",
              " 1,\n",
              " 0,\n",
              " 1,\n",
              " 1,\n",
              " 1,\n",
              " 1,\n",
              " 0,\n",
              " 1,\n",
              " 0,\n",
              " 1,\n",
              " 0,\n",
              " 1,\n",
              " 0,\n",
              " 0,\n",
              " 0,\n",
              " 0,\n",
              " 0,\n",
              " 0,\n",
              " 0,\n",
              " 1,\n",
              " 0,\n",
              " 1,\n",
              " 0,\n",
              " 1,\n",
              " 0,\n",
              " 0,\n",
              " 1,\n",
              " 1,\n",
              " 0,\n",
              " 0,\n",
              " 0,\n",
              " 0,\n",
              " 1,\n",
              " 0,\n",
              " 0,\n",
              " 0,\n",
              " 0,\n",
              " 0,\n",
              " 0,\n",
              " 0,\n",
              " 0,\n",
              " 1,\n",
              " 0,\n",
              " 0,\n",
              " 0,\n",
              " 0,\n",
              " 1,\n",
              " 0,\n",
              " 1,\n",
              " 1,\n",
              " 1,\n",
              " 1,\n",
              " 0,\n",
              " 1,\n",
              " 1,\n",
              " 0,\n",
              " 0,\n",
              " 1,\n",
              " 1,\n",
              " 0,\n",
              " 0,\n",
              " 0,\n",
              " 0,\n",
              " 0,\n",
              " 0,\n",
              " 0,\n",
              " 1,\n",
              " 1,\n",
              " 0,\n",
              " 1,\n",
              " 0,\n",
              " 0,\n",
              " 0,\n",
              " 1,\n",
              " 0,\n",
              " 0,\n",
              " 0,\n",
              " 0,\n",
              " 1,\n",
              " 0,\n",
              " 1,\n",
              " 0,\n",
              " 0,\n",
              " 0,\n",
              " 1,\n",
              " 0,\n",
              " 1,\n",
              " 0,\n",
              " 0,\n",
              " 1,\n",
              " 0,\n",
              " 1,\n",
              " 1,\n",
              " 0,\n",
              " 1,\n",
              " 0,\n",
              " 0,\n",
              " 0,\n",
              " 0,\n",
              " 0,\n",
              " 1,\n",
              " 0,\n",
              " 1,\n",
              " 0,\n",
              " 0,\n",
              " 0,\n",
              " 0,\n",
              " 0,\n",
              " 1,\n",
              " 1,\n",
              " 0,\n",
              " 0,\n",
              " 0,\n",
              " 1,\n",
              " 1,\n",
              " 1,\n",
              " 1,\n",
              " 0,\n",
              " 1,\n",
              " 0,\n",
              " 0,\n",
              " 1,\n",
              " 0,\n",
              " 0,\n",
              " 0,\n",
              " 0,\n",
              " 1,\n",
              " 0,\n",
              " 1,\n",
              " 0,\n",
              " 0,\n",
              " 1,\n",
              " 1,\n",
              " 1,\n",
              " 0,\n",
              " 0,\n",
              " 0,\n",
              " 1,\n",
              " 0,\n",
              " 1,\n",
              " 0,\n",
              " 1,\n",
              " 0,\n",
              " 0,\n",
              " 0,\n",
              " 1,\n",
              " 0,\n",
              " 0,\n",
              " 0,\n",
              " 1,\n",
              " 0,\n",
              " 0,\n",
              " 0,\n",
              " 1,\n",
              " 0,\n",
              " 0,\n",
              " 0,\n",
              " 1,\n",
              " 0,\n",
              " 0,\n",
              " 1,\n",
              " 1,\n",
              " 0,\n",
              " 1,\n",
              " 0,\n",
              " 1,\n",
              " 0,\n",
              " 0,\n",
              " 0,\n",
              " 1,\n",
              " 0,\n",
              " 0,\n",
              " 1,\n",
              " 0,\n",
              " 0,\n",
              " 0,\n",
              " 0,\n",
              " 1,\n",
              " 0,\n",
              " 0,\n",
              " 0,\n",
              " 1,\n",
              " 1,\n",
              " 0,\n",
              " 0,\n",
              " 1,\n",
              " 1,\n",
              " 0,\n",
              " 1,\n",
              " 1,\n",
              " 0,\n",
              " 0,\n",
              " 0,\n",
              " 0,\n",
              " 0,\n",
              " 0,\n",
              " 0,\n",
              " 0,\n",
              " 1,\n",
              " 0,\n",
              " 0,\n",
              " 0,\n",
              " 1,\n",
              " 0,\n",
              " 0,\n",
              " 0,\n",
              " 0,\n",
              " 1,\n",
              " 0,\n",
              " 0,\n",
              " 0,\n",
              " 1,\n",
              " 0,\n",
              " 0,\n",
              " 1,\n",
              " 0,\n",
              " 1,\n",
              " 1,\n",
              " 1,\n",
              " 0,\n",
              " 0,\n",
              " 1,\n",
              " 0,\n",
              " 1,\n",
              " 0,\n",
              " 1,\n",
              " 0,\n",
              " 0,\n",
              " 0,\n",
              " 1,\n",
              " 0,\n",
              " 0,\n",
              " 0,\n",
              " 0,\n",
              " 0,\n",
              " 0,\n",
              " 0,\n",
              " 0,\n",
              " 0,\n",
              " 1,\n",
              " 1,\n",
              " 1,\n",
              " 0,\n",
              " 1,\n",
              " 1,\n",
              " 1,\n",
              " 0,\n",
              " 0,\n",
              " 0,\n",
              " 0,\n",
              " 0,\n",
              " 1,\n",
              " 1,\n",
              " 0,\n",
              " 1,\n",
              " 0,\n",
              " 1,\n",
              " 1,\n",
              " 0,\n",
              " 0,\n",
              " 1,\n",
              " 0,\n",
              " 0,\n",
              " 0,\n",
              " 1,\n",
              " 1,\n",
              " 0,\n",
              " 1,\n",
              " 0,\n",
              " 0,\n",
              " 0,\n",
              " 0,\n",
              " 1,\n",
              " 0,\n",
              " 0,\n",
              " 0,\n",
              " 1,\n",
              " 0,\n",
              " 0,\n",
              " 0,\n",
              " 0,\n",
              " 1,\n",
              " 0,\n",
              " 0,\n",
              " 0,\n",
              " 1,\n",
              " 0,\n",
              " 0,\n",
              " 1,\n",
              " 0,\n",
              " 0,\n",
              " 0,\n",
              " 0,\n",
              " 1,\n",
              " 0,\n",
              " 1,\n",
              " 0,\n",
              " 1,\n",
              " 0,\n",
              " 1,\n",
              " 1,\n",
              " 0,\n",
              " 0,\n",
              " 0,\n",
              " 0,\n",
              " 0,\n",
              " 0,\n",
              " 0,\n",
              " 0,\n",
              " 0,\n",
              " 1,\n",
              " 0,\n",
              " 0,\n",
              " 0,\n",
              " 0,\n",
              " 0,\n",
              " 0,\n",
              " 1,\n",
              " 0,\n",
              " 0,\n",
              " 1,\n",
              " 0,\n",
              " 0,\n",
              " 1,\n",
              " 1,\n",
              " 1,\n",
              " 0,\n",
              " 1,\n",
              " 0,\n",
              " 0,\n",
              " 0,\n",
              " 0,\n",
              " 0,\n",
              " 0,\n",
              " 1,\n",
              " 0,\n",
              " 0,\n",
              " 0,\n",
              " 1,\n",
              " 0,\n",
              " 0,\n",
              " 0,\n",
              " 0,\n",
              " 0,\n",
              " 1,\n",
              " 1,\n",
              " 0,\n",
              " 1,\n",
              " 0,\n",
              " 0,\n",
              " 1,\n",
              " 0,\n",
              " 0,\n",
              " 0,\n",
              " 0,\n",
              " 0,\n",
              " 1,\n",
              " 0,\n",
              " 0,\n",
              " 0,\n",
              " 0,\n",
              " 0,\n",
              " 0,\n",
              " 0,\n",
              " 0,\n",
              " 0,\n",
              " 0,\n",
              " 1,\n",
              " 0,\n",
              " 0,\n",
              " 0,\n",
              " 0,\n",
              " 0,\n",
              " 0,\n",
              " 0,\n",
              " 0,\n",
              " 0,\n",
              " 0,\n",
              " 0,\n",
              " 0,\n",
              " 1,\n",
              " 1,\n",
              " 0,\n",
              " 0,\n",
              " 0,\n",
              " 1,\n",
              " 0,\n",
              " 1,\n",
              " 0,\n",
              " 1,\n",
              " 1,\n",
              " 1,\n",
              " 0,\n",
              " 1,\n",
              " 0,\n",
              " 0,\n",
              " 0,\n",
              " 0,\n",
              " 0,\n",
              " 1,\n",
              " 0,\n",
              " 0,\n",
              " 1,\n",
              " 0,\n",
              " 1,\n",
              " 0,\n",
              " 0,\n",
              " 0,\n",
              " 1,\n",
              " 0,\n",
              " 1,\n",
              " 0,\n",
              " 1,\n",
              " 1,\n",
              " 1,\n",
              " 0,\n",
              " 0,\n",
              " 0,\n",
              " 0,\n",
              " 0,\n",
              " 0,\n",
              " 0,\n",
              " 1,\n",
              " 1,\n",
              " 1,\n",
              " 1,\n",
              " 1,\n",
              " 1,\n",
              " 1,\n",
              " 1,\n",
              " 0,\n",
              " 0,\n",
              " 0,\n",
              " 0,\n",
              " 0,\n",
              " 0,\n",
              " 1,\n",
              " 0,\n",
              " 0,\n",
              " 1,\n",
              " 0,\n",
              " 0,\n",
              " 1,\n",
              " 0,\n",
              " 1,\n",
              " 0,\n",
              " 0,\n",
              " 0,\n",
              " 0,\n",
              " 0,\n",
              " 0,\n",
              " 0,\n",
              " 1,\n",
              " 0,\n",
              " 1,\n",
              " 0,\n",
              " 0,\n",
              " 1,\n",
              " 1,\n",
              " 1,\n",
              " 0,\n",
              " 1,\n",
              " 0,\n",
              " 1,\n",
              " 1,\n",
              " 0,\n",
              " 0,\n",
              " 0,\n",
              " 1,\n",
              " 0,\n",
              " 1,\n",
              " 0,\n",
              " 0,\n",
              " 0,\n",
              " 0,\n",
              " 0,\n",
              " 1,\n",
              " 0,\n",
              " 0,\n",
              " 0,\n",
              " 1,\n",
              " 0,\n",
              " 0,\n",
              " 0,\n",
              " 0,\n",
              " 1,\n",
              " 0,\n",
              " 1,\n",
              " 1,\n",
              " 0,\n",
              " 0,\n",
              " 1,\n",
              " 1,\n",
              " 0,\n",
              " 0,\n",
              " 0,\n",
              " 1,\n",
              " 1,\n",
              " 0,\n",
              " 1,\n",
              " 1,\n",
              " 0,\n",
              " 0,\n",
              " 1,\n",
              " 0,\n",
              " 1,\n",
              " 1,\n",
              " 0,\n",
              " 1,\n",
              " 0,\n",
              " 0,\n",
              " 1,\n",
              " 1,\n",
              " 0,\n",
              " 0,\n",
              " 0,\n",
              " 0,\n",
              " 1,\n",
              " 0,\n",
              " 0,\n",
              " 0,\n",
              " 1,\n",
              " 1,\n",
              " 0,\n",
              " 0,\n",
              " 0,\n",
              " 1,\n",
              " 0,\n",
              " 0,\n",
              " 0,\n",
              " 0,\n",
              " 0,\n",
              " 1,\n",
              " 0,\n",
              " 1,\n",
              " 0,\n",
              " 0,\n",
              " 0,\n",
              " 1,\n",
              " 0,\n",
              " 1,\n",
              " 0,\n",
              " 1,\n",
              " 0,\n",
              " 1,\n",
              " 0,\n",
              " 0,\n",
              " 0,\n",
              " 1,\n",
              " 0,\n",
              " 0,\n",
              " 1,\n",
              " 0,\n",
              " 1,\n",
              " 1,\n",
              " 1,\n",
              " 1,\n",
              " 0,\n",
              " 1,\n",
              " 1,\n",
              " 0,\n",
              " 0,\n",
              " 0,\n",
              " 0,\n",
              " 0,\n",
              " 1,\n",
              " 0,\n",
              " 0,\n",
              " 0,\n",
              " 0,\n",
              " 1,\n",
              " 1,\n",
              " 0,\n",
              " 1,\n",
              " 1,\n",
              " 0,\n",
              " 0,\n",
              " 0,\n",
              " 0,\n",
              " 1,\n",
              " 0,\n",
              " 0,\n",
              " 1,\n",
              " 0,\n",
              " 0,\n",
              " 0,\n",
              " 1,\n",
              " 1,\n",
              " 1,\n",
              " 1,\n",
              " 1,\n",
              " 0,\n",
              " 0,\n",
              " 0,\n",
              " 0,\n",
              " 1,\n",
              " 0,\n",
              " 0,\n",
              " 1,\n",
              " 1,\n",
              " 1,\n",
              " 0,\n",
              " 0,\n",
              " 1,\n",
              " 1,\n",
              " 0,\n",
              " 1,\n",
              " 0,\n",
              " 0,\n",
              " 1,\n",
              " 1,\n",
              " 0,\n",
              " 0,\n",
              " 1,\n",
              " 0,\n",
              " 0,\n",
              " 0,\n",
              " 1,\n",
              " 1,\n",
              " 0,\n",
              " 1,\n",
              " 1,\n",
              " 1,\n",
              " 1,\n",
              " 0,\n",
              " 0,\n",
              " 0,\n",
              " 0,\n",
              " 1,\n",
              " 1,\n",
              " 0,\n",
              " 1,\n",
              " 0,\n",
              " 1,\n",
              " 0,\n",
              " 1,\n",
              " 0,\n",
              " 0,\n",
              " 1,\n",
              " 0,\n",
              " 0,\n",
              " 0,\n",
              " 0,\n",
              " 1,\n",
              " 0,\n",
              " 1,\n",
              " 0,\n",
              " 1,\n",
              " 0,\n",
              " 1,\n",
              " 0,\n",
              " 1,\n",
              " 0,\n",
              " 0,\n",
              " 0,\n",
              " 1,\n",
              " 0,\n",
              " 1,\n",
              " 1,\n",
              " 0,\n",
              " 0,\n",
              " 0,\n",
              " 0,\n",
              " 0,\n",
              " 0,\n",
              " 0,\n",
              " 0,\n",
              " 1,\n",
              " 0,\n",
              " 0,\n",
              " 0,\n",
              " 0,\n",
              " 0,\n",
              " 0,\n",
              " 1,\n",
              " 1,\n",
              " 0,\n",
              " 0,\n",
              " 0,\n",
              " 1,\n",
              " 1,\n",
              " 0,\n",
              " 0,\n",
              " 0,\n",
              " 0,\n",
              " 1,\n",
              " 0,\n",
              " 0,\n",
              " 1,\n",
              " 1,\n",
              " 1,\n",
              " 0,\n",
              " 1,\n",
              " 0,\n",
              " 0,\n",
              " 0,\n",
              " 0,\n",
              " 1,\n",
              " 0,\n",
              " 0,\n",
              " 1,\n",
              " 0,\n",
              " 1,\n",
              " 1,\n",
              " 1,\n",
              " 0,\n",
              " 0,\n",
              " 1,\n",
              " 0,\n",
              " 0,\n",
              " 0,\n",
              " 0,\n",
              " 1,\n",
              " 0,\n",
              " 0,\n",
              " 1,\n",
              " 0,\n",
              " 0,\n",
              " 0,\n",
              " 0,\n",
              " 0,\n",
              " 1,\n",
              " 1,\n",
              " 0,\n",
              " 1,\n",
              " 0,\n",
              " 0,\n",
              " 0,\n",
              " 1,\n",
              " 1,\n",
              " 0,\n",
              " 0,\n",
              " 0,\n",
              " 0,\n",
              " 0,\n",
              " 0,\n",
              " 0,\n",
              " 0,\n",
              " ...]"
            ]
          },
          "metadata": {
            "tags": []
          },
          "execution_count": 251
        }
      ]
    },
    {
      "cell_type": "code",
      "metadata": {
        "id": "JGbdWnAqTlo6",
        "colab_type": "code",
        "outputId": "7ac9c427-453a-45d1-f263-605bce2178d5",
        "colab": {
          "base_uri": "https://localhost:8080/",
          "height": 67
        }
      },
      "source": [
        "print(\"Confusion Matrix:\", '\\n',confusion_matrix(y_3, proba_y_0_lt))"
      ],
      "execution_count": 0,
      "outputs": [
        {
          "output_type": "stream",
          "text": [
            "Confusion Matrix: \n",
            " [[3210  963]\n",
            " [ 354 1107]]\n"
          ],
          "name": "stdout"
        }
      ]
    },
    {
      "cell_type": "code",
      "metadata": {
        "id": "3YME5sIQTlo-",
        "colab_type": "code",
        "outputId": "dd008c83-c49f-4605-83a2-4c4f54d7d646",
        "colab": {
          "base_uri": "https://localhost:8080/",
          "height": 34
        }
      },
      "source": [
        "print(\"Accuracy:\",accuracy_score(y_3, proba_y_0_lt, normalize=True, sample_weight=None))"
      ],
      "execution_count": 0,
      "outputs": [
        {
          "output_type": "stream",
          "text": [
            "Accuracy: 0.7662406815761449\n"
          ],
          "name": "stdout"
        }
      ]
    },
    {
      "cell_type": "code",
      "metadata": {
        "id": "pUo0UBVeTlpB",
        "colab_type": "code",
        "colab": {}
      },
      "source": [
        "fpr, tpr, thresholds = metrics.roc_curve(yact,proba_y_0,pos_label=0)"
      ],
      "execution_count": 0,
      "outputs": []
    },
    {
      "cell_type": "code",
      "metadata": {
        "id": "afnq9-GwTlpD",
        "colab_type": "code",
        "outputId": "68369096-1f37-41e4-88a8-ed06704585fd",
        "colab": {
          "base_uri": "https://localhost:8080/",
          "height": 34
        }
      },
      "source": [
        "metrics.auc(fpr, tpr)"
      ],
      "execution_count": 0,
      "outputs": [
        {
          "output_type": "execute_result",
          "data": {
            "text/plain": [
              "0.8460800363734597"
            ]
          },
          "metadata": {
            "tags": []
          },
          "execution_count": 255
        }
      ]
    },
    {
      "cell_type": "code",
      "metadata": {
        "id": "mL9xDlfXTlpE",
        "colab_type": "code",
        "outputId": "a2dc6a30-89e3-4499-eb28-1e6408b34b66",
        "colab": {
          "base_uri": "https://localhost:8080/",
          "height": 282
        }
      },
      "source": [
        "plt.plot(fpr,tpr)"
      ],
      "execution_count": 0,
      "outputs": [
        {
          "output_type": "execute_result",
          "data": {
            "text/plain": [
              "[<matplotlib.lines.Line2D at 0x7f2e9e471978>]"
            ]
          },
          "metadata": {
            "tags": []
          },
          "execution_count": 256
        },
        {
          "output_type": "display_data",
          "data": {
            "image/png": "[encoded data removed]",
            "text/plain": [
              "<Figure size 432x288 with 1 Axes>"
            ]
          },
          "metadata": {
            "tags": [],
            "needs_background": "light"
          }
        }
      ]
    },
    {
      "cell_type": "code",
      "metadata": {
        "id": "5gVCau7tTlpG",
        "colab_type": "code",
        "outputId": "32cf0701-7138-4f02-cc50-11cd01e69273",
        "colab": {
          "base_uri": "https://localhost:8080/",
          "height": 101
        }
      },
      "source": [
        "lr_3.fit(X_3, yact)"
      ],
      "execution_count": 0,
      "outputs": [
        {
          "output_type": "execute_result",
          "data": {
            "text/plain": [
              "LogisticRegression(C=1.0, class_weight=None, dual=False, fit_intercept=True,\n",
              "                   intercept_scaling=1, l1_ratio=None, max_iter=100,\n",
              "                   multi_class='auto', n_jobs=None, penalty='l2',\n",
              "                   random_state=50, solver='liblinear', tol=0.0001, verbose=0,\n",
              "                   warm_start=False)"
            ]
          },
          "metadata": {
            "tags": []
          },
          "execution_count": 257
        }
      ]
    },
    {
      "cell_type": "code",
      "metadata": {
        "id": "3CuNFIu9TlpH",
        "colab_type": "code",
        "outputId": "50985466-8285-456b-c53e-48c997e45adf",
        "colab": {
          "base_uri": "https://localhost:8080/",
          "height": 34
        }
      },
      "source": [
        "lr_3.intercept_"
      ],
      "execution_count": 0,
      "outputs": [
        {
          "output_type": "execute_result",
          "data": {
            "text/plain": [
              "array([-1.64955954])"
            ]
          },
          "metadata": {
            "tags": []
          },
          "execution_count": 258
        }
      ]
    },
    {
      "cell_type": "code",
      "metadata": {
        "id": "Ptu20N5LTlpJ",
        "colab_type": "code",
        "outputId": "29b33ab7-a919-447d-dd02-1c2bea9de4ad",
        "colab": {
          "base_uri": "https://localhost:8080/",
          "height": 906
        }
      },
      "source": [
        "coeff_df = pd.DataFrame(lr_3.coef_.flatten(), X_3.columns, columns=['Coefficient'])  \n",
        "coeff_df"
      ],
      "execution_count": 0,
      "outputs": [
        {
          "output_type": "execute_result",
          "data": {
            "text/html": [
              "<div>\n",
              "<style scoped>\n",
              "    .dataframe tbody tr th:only-of-type {\n",
              "        vertical-align: middle;\n",
              "    }\n",
              "\n",
              "    .dataframe tbody tr th {\n",
              "        vertical-align: top;\n",
              "    }\n",
              "\n",
              "    .dataframe thead th {\n",
              "        text-align: right;\n",
              "    }\n",
              "</style>\n",
              "<table border=\"1\" class=\"dataframe\">\n",
              "  <thead>\n",
              "    <tr style=\"text-align: right;\">\n",
              "      <th></th>\n",
              "      <th>Coefficient</th>\n",
              "    </tr>\n",
              "  </thead>\n",
              "  <tbody>\n",
              "    <tr>\n",
              "      <th>gender</th>\n",
              "      <td>-0.011252</td>\n",
              "    </tr>\n",
              "    <tr>\n",
              "      <th>SeniorCitizen</th>\n",
              "      <td>0.280746</td>\n",
              "    </tr>\n",
              "    <tr>\n",
              "      <th>Partner</th>\n",
              "      <td>0.027269</td>\n",
              "    </tr>\n",
              "    <tr>\n",
              "      <th>Dependents</th>\n",
              "      <td>-0.120246</td>\n",
              "    </tr>\n",
              "    <tr>\n",
              "      <th>tenure_normalize</th>\n",
              "      <td>-1.418198</td>\n",
              "    </tr>\n",
              "    <tr>\n",
              "      <th>PaperlessBilling</th>\n",
              "      <td>0.279519</td>\n",
              "    </tr>\n",
              "    <tr>\n",
              "      <th>MonthlyCharges_normalize</th>\n",
              "      <td>0.511374</td>\n",
              "    </tr>\n",
              "    <tr>\n",
              "      <th>TotalCharges_normalize</th>\n",
              "      <td>0.644958</td>\n",
              "    </tr>\n",
              "    <tr>\n",
              "      <th>MultipleLines_No</th>\n",
              "      <td>-0.885050</td>\n",
              "    </tr>\n",
              "    <tr>\n",
              "      <th>MultipleLines_Yes</th>\n",
              "      <td>-0.754432</td>\n",
              "    </tr>\n",
              "    <tr>\n",
              "      <th>InternetService_DSL</th>\n",
              "      <td>-0.182154</td>\n",
              "    </tr>\n",
              "    <tr>\n",
              "      <th>InternetService_Fiber optic</th>\n",
              "      <td>0.157136</td>\n",
              "    </tr>\n",
              "    <tr>\n",
              "      <th>OnlineSecurity_No</th>\n",
              "      <td>0.263898</td>\n",
              "    </tr>\n",
              "    <tr>\n",
              "      <th>OnlineSecurity_Yes</th>\n",
              "      <td>-0.288916</td>\n",
              "    </tr>\n",
              "    <tr>\n",
              "      <th>OnlineBackup_No</th>\n",
              "      <td>0.061289</td>\n",
              "    </tr>\n",
              "    <tr>\n",
              "      <th>OnlineBackup_Yes</th>\n",
              "      <td>-0.086307</td>\n",
              "    </tr>\n",
              "    <tr>\n",
              "      <th>DeviceProtection_No</th>\n",
              "      <td>0.054676</td>\n",
              "    </tr>\n",
              "    <tr>\n",
              "      <th>DeviceProtection_Yes</th>\n",
              "      <td>-0.079694</td>\n",
              "    </tr>\n",
              "    <tr>\n",
              "      <th>TechSupport_No</th>\n",
              "      <td>0.218544</td>\n",
              "    </tr>\n",
              "    <tr>\n",
              "      <th>TechSupport_Yes</th>\n",
              "      <td>-0.243562</td>\n",
              "    </tr>\n",
              "    <tr>\n",
              "      <th>StreamingTV_No</th>\n",
              "      <td>-0.025870</td>\n",
              "    </tr>\n",
              "    <tr>\n",
              "      <th>StreamingTV_Yes</th>\n",
              "      <td>0.000852</td>\n",
              "    </tr>\n",
              "    <tr>\n",
              "      <th>StreamingMovies_No</th>\n",
              "      <td>-0.020345</td>\n",
              "    </tr>\n",
              "    <tr>\n",
              "      <th>StreamingMovies_Yes</th>\n",
              "      <td>-0.004673</td>\n",
              "    </tr>\n",
              "    <tr>\n",
              "      <th>Contract_Month-to-month</th>\n",
              "      <td>0.622626</td>\n",
              "    </tr>\n",
              "    <tr>\n",
              "      <th>Contract_Two year</th>\n",
              "      <td>-0.750127</td>\n",
              "    </tr>\n",
              "    <tr>\n",
              "      <th>PaymentMethod_Bank transfer (automatic)</th>\n",
              "      <td>0.138006</td>\n",
              "    </tr>\n",
              "    <tr>\n",
              "      <th>PaymentMethod_Electronic check</th>\n",
              "      <td>0.483058</td>\n",
              "    </tr>\n",
              "    <tr>\n",
              "      <th>PaymentMethod_Mailed check</th>\n",
              "      <td>0.050261</td>\n",
              "    </tr>\n",
              "  </tbody>\n",
              "</table>\n",
              "</div>"
            ],
            "text/plain": [
              "                                         Coefficient\n",
              "gender                                     -0.011252\n",
              "SeniorCitizen                               0.280746\n",
              "Partner                                     0.027269\n",
              "Dependents                                 -0.120246\n",
              "tenure_normalize                           -1.418198\n",
              "PaperlessBilling                            0.279519\n",
              "MonthlyCharges_normalize                    0.511374\n",
              "TotalCharges_normalize                      0.644958\n",
              "MultipleLines_No                           -0.885050\n",
              "MultipleLines_Yes                          -0.754432\n",
              "InternetService_DSL                        -0.182154\n",
              "InternetService_Fiber optic                 0.157136\n",
              "OnlineSecurity_No                           0.263898\n",
              "OnlineSecurity_Yes                         -0.288916\n",
              "OnlineBackup_No                             0.061289\n",
              "OnlineBackup_Yes                           -0.086307\n",
              "DeviceProtection_No                         0.054676\n",
              "DeviceProtection_Yes                       -0.079694\n",
              "TechSupport_No                              0.218544\n",
              "TechSupport_Yes                            -0.243562\n",
              "StreamingTV_No                             -0.025870\n",
              "StreamingTV_Yes                             0.000852\n",
              "StreamingMovies_No                         -0.020345\n",
              "StreamingMovies_Yes                        -0.004673\n",
              "Contract_Month-to-month                     0.622626\n",
              "Contract_Two year                          -0.750127\n",
              "PaymentMethod_Bank transfer (automatic)     0.138006\n",
              "PaymentMethod_Electronic check              0.483058\n",
              "PaymentMethod_Mailed check                  0.050261"
            ]
          },
          "metadata": {
            "tags": []
          },
          "execution_count": 259
        }
      ]
    },
    {
      "cell_type": "code",
      "metadata": {
        "id": "VnVd8JcuTlpK",
        "colab_type": "code",
        "outputId": "34a9da00-03f1-4062-b0b2-d877704a01b5",
        "colab": {
          "base_uri": "https://localhost:8080/",
          "height": 655
        }
      },
      "source": [
        "print('Area Under Curve:', \"%.4f\" % metrics.auc(fpr, tpr))\n",
        "print('Cross Validation Score:', \"%.4f\" % score_cv.mean())\n",
        "for j in range(4, 7):\n",
        "    print('Confusion Matrix', 'with thresold', float(j)/float(10), ':', '\\n',\n",
        "          confusion_matrix(y_3, [0 if i >= float(j)/float(10) else 1 for i in proba_y_0]))\n",
        "    print(classification_report(y_3, [0 if i >= float(j)/float(10) else 1 for i in proba_y_0]))"
      ],
      "execution_count": 0,
      "outputs": [
        {
          "output_type": "stream",
          "text": [
            "Area Under Curve: 0.8461\n",
            "Cross Validation Score: 0.8060\n",
            "Confusion Matrix with thresold 0.4 : \n",
            " [[3946  227]\n",
            " [ 908  553]]\n",
            "              precision    recall  f1-score   support\n",
            "\n",
            "           0       0.81      0.95      0.87      4173\n",
            "           1       0.71      0.38      0.49      1461\n",
            "\n",
            "    accuracy                           0.80      5634\n",
            "   macro avg       0.76      0.66      0.68      5634\n",
            "weighted avg       0.79      0.80      0.78      5634\n",
            "\n",
            "Confusion Matrix with thresold 0.5 : \n",
            " [[3756  417]\n",
            " [ 676  785]]\n",
            "              precision    recall  f1-score   support\n",
            "\n",
            "           0       0.85      0.90      0.87      4173\n",
            "           1       0.65      0.54      0.59      1461\n",
            "\n",
            "    accuracy                           0.81      5634\n",
            "   macro avg       0.75      0.72      0.73      5634\n",
            "weighted avg       0.80      0.81      0.80      5634\n",
            "\n",
            "Confusion Matrix with thresold 0.6 : \n",
            " [[3509  664]\n",
            " [ 505  956]]\n",
            "              precision    recall  f1-score   support\n",
            "\n",
            "           0       0.87      0.84      0.86      4173\n",
            "           1       0.59      0.65      0.62      1461\n",
            "\n",
            "    accuracy                           0.79      5634\n",
            "   macro avg       0.73      0.75      0.74      5634\n",
            "weighted avg       0.80      0.79      0.80      5634\n",
            "\n"
          ],
          "name": "stdout"
        }
      ]
    },
    {
      "cell_type": "markdown",
      "metadata": {
        "id": "HFpCHNIDTlpK",
        "colab_type": "text"
      },
      "source": [
        "## Predict testing data"
      ]
    },
    {
      "cell_type": "code",
      "metadata": {
        "id": "oWpPri2UTlpL",
        "colab_type": "code",
        "colab": {}
      },
      "source": [
        "pred_val_test = LRM_3_2.predict(X_test_3)"
      ],
      "execution_count": 0,
      "outputs": []
    },
    {
      "cell_type": "code",
      "metadata": {
        "id": "FZIULGIbTlpL",
        "colab_type": "code",
        "outputId": "e6ef2c7d-57be-4961-fc4b-00669d09c086",
        "colab": {
          "base_uri": "https://localhost:8080/",
          "height": 235
        }
      },
      "source": [
        "print(\"Accuracy from testing data: \", accuracy_score(y_test_3, pred_val_test, normalize = True, sample_weight = None))\n",
        "print(confusion_matrix(y_test_3, pred_val_test))\n",
        "print(\"Classification Report of Naive Bayes Model:\",\"\\n\",classification_report(y_test_3, pred_val_test))"
      ],
      "execution_count": 0,
      "outputs": [
        {
          "output_type": "stream",
          "text": [
            "Accuracy from testing data:  0.794180269694819\n",
            "[[901 100]\n",
            " [190 218]]\n",
            "Classification Report of Naive Bayes Model: \n",
            "               precision    recall  f1-score   support\n",
            "\n",
            "           0       0.83      0.90      0.86      1001\n",
            "           1       0.69      0.53      0.60       408\n",
            "\n",
            "    accuracy                           0.79      1409\n",
            "   macro avg       0.76      0.72      0.73      1409\n",
            "weighted avg       0.79      0.79      0.79      1409\n",
            "\n"
          ],
          "name": "stdout"
        }
      ]
    },
    {
      "cell_type": "markdown",
      "metadata": {
        "id": "UBgaPgDcMP4O",
        "colab_type": "text"
      },
      "source": [
        "# DTM (Dataset 1)"
      ]
    },
    {
      "cell_type": "code",
      "metadata": {
        "id": "hPXrA5E5_yZw",
        "colab_type": "code",
        "outputId": "0a479208-b0f8-4477-a7c8-b886909d0773",
        "colab": {
          "base_uri": "https://localhost:8080/",
          "height": 118
        }
      },
      "source": [
        "from sklearn.tree import DecisionTreeClassifier\n",
        "DTM_1_1 = DecisionTreeClassifier(random_state=60)\n",
        "DTM_1_1.fit(X_1, y_1)"
      ],
      "execution_count": 0,
      "outputs": [
        {
          "output_type": "execute_result",
          "data": {
            "text/plain": [
              "DecisionTreeClassifier(ccp_alpha=0.0, class_weight=None, criterion='gini',\n",
              "                       max_depth=None, max_features=None, max_leaf_nodes=None,\n",
              "                       min_impurity_decrease=0.0, min_impurity_split=None,\n",
              "                       min_samples_leaf=1, min_samples_split=2,\n",
              "                       min_weight_fraction_leaf=0.0, presort='deprecated',\n",
              "                       random_state=60, splitter='best')"
            ]
          },
          "metadata": {
            "tags": []
          },
          "execution_count": 263
        }
      ]
    },
    {
      "cell_type": "code",
      "metadata": {
        "id": "H3uDECaHABGy",
        "colab_type": "code",
        "outputId": "0ec5753b-eaf0-41bf-d5e0-9f010045311c",
        "colab": {
          "base_uri": "https://localhost:8080/",
          "height": 50
        }
      },
      "source": [
        "print('depth: ', DTM_1_1.get_depth(),'\\n',\n",
        "      'leaves: ', DTM_1_1.get_n_leaves())"
      ],
      "execution_count": 0,
      "outputs": [
        {
          "output_type": "stream",
          "text": [
            "depth:  26 \n",
            " leaves:  1099\n"
          ],
          "name": "stdout"
        }
      ]
    },
    {
      "cell_type": "code",
      "metadata": {
        "id": "VlGoSv3_k5GQ",
        "colab_type": "code",
        "outputId": "95259211-1264-4b5b-835e-871939590837",
        "colab": {
          "base_uri": "https://localhost:8080/",
          "height": 34
        }
      },
      "source": [
        "score_cv = cross_val_score(DecisionTreeClassifier(), X_1, y_1, cv=10)\n",
        "score_cv.mean()"
      ],
      "execution_count": 0,
      "outputs": [
        {
          "output_type": "execute_result",
          "data": {
            "text/plain": [
              "0.726655896098661"
            ]
          },
          "metadata": {
            "tags": []
          },
          "execution_count": 265
        }
      ]
    },
    {
      "cell_type": "code",
      "metadata": {
        "id": "yUqA4NQ_FZdx",
        "colab_type": "code",
        "outputId": "41564c9c-4207-4a8f-e66b-43005300544c",
        "colab": {
          "base_uri": "https://localhost:8080/",
          "height": 470
        }
      },
      "source": [
        "max_depth = [1, 2, 3, 4, 5, 6, 7, 8, 9, 10, 11, 12, 13, 14, 15, 16, 17, 18, 19, 20, 21, 22, 23, 24, 25, 26]\n",
        "num_leaf = [5, 10, 20, 50, 100, 200, 500, 1000, 1100]\n",
        "try_grid = [{'max_depth':max_depth, \n",
        "           'max_leaf_nodes':num_leaf}]\n",
        "try_grid"
      ],
      "execution_count": 0,
      "outputs": [
        {
          "output_type": "execute_result",
          "data": {
            "text/plain": [
              "[{'max_depth': [1,\n",
              "   2,\n",
              "   3,\n",
              "   4,\n",
              "   5,\n",
              "   6,\n",
              "   7,\n",
              "   8,\n",
              "   9,\n",
              "   10,\n",
              "   11,\n",
              "   12,\n",
              "   13,\n",
              "   14,\n",
              "   15,\n",
              "   16,\n",
              "   17,\n",
              "   18,\n",
              "   19,\n",
              "   20,\n",
              "   21,\n",
              "   22,\n",
              "   23,\n",
              "   24,\n",
              "   25,\n",
              "   26],\n",
              "  'max_leaf_nodes': [5, 10, 20, 50, 100, 200, 500, 1000, 1100]}]"
            ]
          },
          "metadata": {
            "tags": []
          },
          "execution_count": 266
        }
      ]
    },
    {
      "cell_type": "code",
      "metadata": {
        "id": "mHKLi3e6F4_h",
        "colab_type": "code",
        "outputId": "869fd2e7-f4ff-4cfd-fde7-b33335eb34f3",
        "colab": {
          "base_uri": "https://localhost:8080/",
          "height": 34
        }
      },
      "source": [
        "DTM_1_2 = GridSearchCV(DecisionTreeClassifier(random_state=70), param_grid = try_grid, cv = 10)\n",
        "DTM_1_2.fit(X_1, y_1)\n",
        "print(DTM_1_2.best_params_, DTM_1_2.best_score_)"
      ],
      "execution_count": 0,
      "outputs": [
        {
          "output_type": "stream",
          "text": [
            "{'max_depth': 7, 'max_leaf_nodes': 20} 0.7948175302016806\n"
          ],
          "name": "stdout"
        }
      ]
    },
    {
      "cell_type": "markdown",
      "metadata": {
        "id": "LxfDImXtHrVJ",
        "colab_type": "text"
      },
      "source": [
        "# Use DTM_1_2"
      ]
    },
    {
      "cell_type": "code",
      "metadata": {
        "id": "7_3YZRnGILe8",
        "colab_type": "code",
        "outputId": "6faad11e-3d60-4460-f9c5-40f873b97ccf",
        "colab": {
          "base_uri": "https://localhost:8080/",
          "height": 118
        }
      },
      "source": [
        "clf_1 = DecisionTreeClassifier(max_depth=7, max_leaf_nodes=20, random_state=70)\n",
        "clf_1.fit(X_1, y_1)"
      ],
      "execution_count": 0,
      "outputs": [
        {
          "output_type": "execute_result",
          "data": {
            "text/plain": [
              "DecisionTreeClassifier(ccp_alpha=0.0, class_weight=None, criterion='gini',\n",
              "                       max_depth=7, max_features=None, max_leaf_nodes=20,\n",
              "                       min_impurity_decrease=0.0, min_impurity_split=None,\n",
              "                       min_samples_leaf=1, min_samples_split=2,\n",
              "                       min_weight_fraction_leaf=0.0, presort='deprecated',\n",
              "                       random_state=70, splitter='best')"
            ]
          },
          "metadata": {
            "tags": []
          },
          "execution_count": 268
        }
      ]
    },
    {
      "cell_type": "code",
      "metadata": {
        "colab_type": "code",
        "id": "iixqV6BO1L44",
        "colab": {}
      },
      "source": [
        "yact = y_1.values.ravel()"
      ],
      "execution_count": 0,
      "outputs": []
    },
    {
      "cell_type": "code",
      "metadata": {
        "id": "oYgVDGNIvQCd",
        "colab_type": "code",
        "colab": {}
      },
      "source": [
        "pred_y = cross_val_predict(clf_1, X_1, yact, cv=10)"
      ],
      "execution_count": 0,
      "outputs": []
    },
    {
      "cell_type": "code",
      "metadata": {
        "id": "JT7ALUc30Gj_",
        "colab_type": "code",
        "outputId": "a60713e8-e8fc-4c02-bf4e-3590f923b6d3",
        "colab": {
          "base_uri": "https://localhost:8080/",
          "height": 34
        }
      },
      "source": [
        "print(accuracy_score(yact, pred_y, normalize=True))"
      ],
      "execution_count": 0,
      "outputs": [
        {
          "output_type": "stream",
          "text": [
            "0.7948171813986511\n"
          ],
          "name": "stdout"
        }
      ]
    },
    {
      "cell_type": "code",
      "metadata": {
        "id": "rwtfAGWwvBna",
        "colab_type": "code",
        "outputId": "d66677fd-c241-4f8a-ba7e-72db0d92e979",
        "colab": {
          "base_uri": "https://localhost:8080/",
          "height": 168
        }
      },
      "source": [
        "print(classification_report(yact, pred_y))"
      ],
      "execution_count": 0,
      "outputs": [
        {
          "output_type": "stream",
          "text": [
            "              precision    recall  f1-score   support\n",
            "\n",
            "           0       0.83      0.90      0.86      4108\n",
            "           1       0.65      0.52      0.58      1526\n",
            "\n",
            "    accuracy                           0.79      5634\n",
            "   macro avg       0.74      0.71      0.72      5634\n",
            "weighted avg       0.78      0.79      0.79      5634\n",
            "\n"
          ],
          "name": "stdout"
        }
      ]
    },
    {
      "cell_type": "markdown",
      "metadata": {
        "id": "viOBLUFV05Jy",
        "colab_type": "text"
      },
      "source": [
        "# ROC Curve\n"
      ]
    },
    {
      "cell_type": "code",
      "metadata": {
        "id": "SJ-thrkEI2LA",
        "colab_type": "code",
        "colab": {}
      },
      "source": [
        "proba_y = cross_val_predict(clf_1, X_1, yact, cv=10, method='predict_proba')"
      ],
      "execution_count": 0,
      "outputs": []
    },
    {
      "cell_type": "code",
      "metadata": {
        "id": "21VhnINLI4Av",
        "colab_type": "code",
        "outputId": "b2d3f138-bbb6-45cb-cb44-3a4c3a7d7a34",
        "colab": {
          "base_uri": "https://localhost:8080/",
          "height": 50
        }
      },
      "source": [
        "proba_y_0 = proba_y[:,0]\n",
        "proba_y_0"
      ],
      "execution_count": 0,
      "outputs": [
        {
          "output_type": "execute_result",
          "data": {
            "text/plain": [
              "array([0.96474359, 0.83815029, 0.46236559, ..., 0.3381295 , 0.95875635,\n",
              "       0.95875635])"
            ]
          },
          "metadata": {
            "tags": []
          },
          "execution_count": 274
        }
      ]
    },
    {
      "cell_type": "code",
      "metadata": {
        "id": "SaKCtQeaI7Ab",
        "colab_type": "code",
        "colab": {}
      },
      "source": [
        "fpr, tpr, thresholds = metrics.roc_curve(yact,proba_y_0,pos_label=0)"
      ],
      "execution_count": 0,
      "outputs": []
    },
    {
      "cell_type": "code",
      "metadata": {
        "id": "HLNBvTmQJCKO",
        "colab_type": "code",
        "outputId": "c08a0f40-ff02-4f27-bfb2-c7442d9bf721",
        "colab": {
          "base_uri": "https://localhost:8080/",
          "height": 34
        }
      },
      "source": [
        "metrics.auc(fpr, tpr)"
      ],
      "execution_count": 0,
      "outputs": [
        {
          "output_type": "execute_result",
          "data": {
            "text/plain": [
              "0.8234094902890629"
            ]
          },
          "metadata": {
            "tags": []
          },
          "execution_count": 276
        }
      ]
    },
    {
      "cell_type": "code",
      "metadata": {
        "id": "Kk3orZeAJKkq",
        "colab_type": "code",
        "outputId": "6a4a52de-429c-4a7d-d744-1b2c99e2cb78",
        "colab": {
          "base_uri": "https://localhost:8080/",
          "height": 282
        }
      },
      "source": [
        "plt.plot(fpr,tpr)"
      ],
      "execution_count": 0,
      "outputs": [
        {
          "output_type": "execute_result",
          "data": {
            "text/plain": [
              "[<matplotlib.lines.Line2D at 0x7f2e9740e2e8>]"
            ]
          },
          "metadata": {
            "tags": []
          },
          "execution_count": 277
        },
        {
          "output_type": "display_data",
          "data": {
            "image/png": "[encoded data removed]",
            "text/plain": [
              "<Figure size 432x288 with 1 Axes>"
            ]
          },
          "metadata": {
            "tags": [],
            "needs_background": "light"
          }
        }
      ]
    },
    {
      "cell_type": "markdown",
      "metadata": {
        "id": "hRJ0Z4611EYA",
        "colab_type": "text"
      },
      "source": [
        "# Predict Testing data\n"
      ]
    },
    {
      "cell_type": "code",
      "metadata": {
        "id": "uobFEw4R_tZf",
        "colab_type": "code",
        "colab": {}
      },
      "source": [
        "pred_val_test = clf_1.predict(X_test_1)"
      ],
      "execution_count": 0,
      "outputs": []
    },
    {
      "cell_type": "code",
      "metadata": {
        "id": "zg0EhPvADyxs",
        "colab_type": "code",
        "outputId": "97f4a185-36ff-44ad-e032-250d178fb4c9",
        "colab": {
          "base_uri": "https://localhost:8080/",
          "height": 235
        }
      },
      "source": [
        "print(\"Accuracy from testing data: \", accuracy_score(y_test_1, pred_val_test, normalize = True, sample_weight = None))\n",
        "print(confusion_matrix(y_test_1, pred_val_test))\n",
        "print(\"Classification Report of Decision Tree Model:\",\"\\n\",classification_report(y_test_1, pred_val_test))"
      ],
      "execution_count": 0,
      "outputs": [
        {
          "output_type": "stream",
          "text": [
            "Accuracy from testing data:  0.7913413768630234\n",
            "[[951 115]\n",
            " [179 164]]\n",
            "Classification Report of Decision Tree Model: \n",
            "               precision    recall  f1-score   support\n",
            "\n",
            "           0       0.84      0.89      0.87      1066\n",
            "           1       0.59      0.48      0.53       343\n",
            "\n",
            "    accuracy                           0.79      1409\n",
            "   macro avg       0.71      0.69      0.70      1409\n",
            "weighted avg       0.78      0.79      0.78      1409\n",
            "\n"
          ],
          "name": "stdout"
        }
      ]
    },
    {
      "cell_type": "markdown",
      "metadata": {
        "id": "dcRX6ui-1nsE",
        "colab_type": "text"
      },
      "source": [
        "# DTM (Dataset 2)\n"
      ]
    },
    {
      "cell_type": "code",
      "metadata": {
        "id": "HEqUiadY2j4Y",
        "colab_type": "code",
        "outputId": "18578eef-4549-4df0-eabc-9c470dc1f02a",
        "colab": {
          "base_uri": "https://localhost:8080/",
          "height": 118
        }
      },
      "source": [
        "DTM_2_1 = DecisionTreeClassifier(random_state=80)\n",
        "DTM_2_1.fit(X_2, y_2)"
      ],
      "execution_count": 0,
      "outputs": [
        {
          "output_type": "execute_result",
          "data": {
            "text/plain": [
              "DecisionTreeClassifier(ccp_alpha=0.0, class_weight=None, criterion='gini',\n",
              "                       max_depth=None, max_features=None, max_leaf_nodes=None,\n",
              "                       min_impurity_decrease=0.0, min_impurity_split=None,\n",
              "                       min_samples_leaf=1, min_samples_split=2,\n",
              "                       min_weight_fraction_leaf=0.0, presort='deprecated',\n",
              "                       random_state=80, splitter='best')"
            ]
          },
          "metadata": {
            "tags": []
          },
          "execution_count": 280
        }
      ]
    },
    {
      "cell_type": "code",
      "metadata": {
        "id": "N22L7OCu2oYC",
        "colab_type": "code",
        "outputId": "ec0a3861-8319-43ee-fe3e-50c56813992c",
        "colab": {
          "base_uri": "https://localhost:8080/",
          "height": 34
        }
      },
      "source": [
        "print(DTM_2_1.get_depth(), DTM_2_1.get_n_leaves())"
      ],
      "execution_count": 0,
      "outputs": [
        {
          "output_type": "stream",
          "text": [
            "24 1141\n"
          ],
          "name": "stdout"
        }
      ]
    },
    {
      "cell_type": "code",
      "metadata": {
        "id": "wrAJZ8AwrsfK",
        "colab_type": "code",
        "outputId": "03c5efc3-4374-46ea-edb3-9b2a1690c7a8",
        "colab": {
          "base_uri": "https://localhost:8080/",
          "height": 34
        }
      },
      "source": [
        "score_cv = cross_val_score(DecisionTreeClassifier(), X_2, y_2, cv=10)\n",
        "score_cv.mean()"
      ],
      "execution_count": 0,
      "outputs": [
        {
          "output_type": "execute_result",
          "data": {
            "text/plain": [
              "0.7183257120542181"
            ]
          },
          "metadata": {
            "tags": []
          },
          "execution_count": 282
        }
      ]
    },
    {
      "cell_type": "code",
      "metadata": {
        "id": "KoABsfWY2w_L",
        "colab_type": "code",
        "outputId": "77b91807-690c-472c-a496-7535850d2409",
        "colab": {
          "base_uri": "https://localhost:8080/",
          "height": 470
        }
      },
      "source": [
        "num_leaf = [5, 10, 20, 50, 100, 200, 500, 1000, 1100]\n",
        "depths = [1, 2, 3, 4, 5, 6, 7, 8, 9, 10, 11, 12, 13, 14, 15, 16, 17, 18, 19, 20, 21, 22, 23, 24, 25, 26]\n",
        "try_grid = [{'max_depth':depths, \n",
        "           'max_leaf_nodes':num_leaf}]\n",
        "try_grid"
      ],
      "execution_count": 0,
      "outputs": [
        {
          "output_type": "execute_result",
          "data": {
            "text/plain": [
              "[{'max_depth': [1,\n",
              "   2,\n",
              "   3,\n",
              "   4,\n",
              "   5,\n",
              "   6,\n",
              "   7,\n",
              "   8,\n",
              "   9,\n",
              "   10,\n",
              "   11,\n",
              "   12,\n",
              "   13,\n",
              "   14,\n",
              "   15,\n",
              "   16,\n",
              "   17,\n",
              "   18,\n",
              "   19,\n",
              "   20,\n",
              "   21,\n",
              "   22,\n",
              "   23,\n",
              "   24,\n",
              "   25,\n",
              "   26],\n",
              "  'max_leaf_nodes': [5, 10, 20, 50, 100, 200, 500, 1000, 1100]}]"
            ]
          },
          "metadata": {
            "tags": []
          },
          "execution_count": 283
        }
      ]
    },
    {
      "cell_type": "code",
      "metadata": {
        "id": "SYQnx-pz22B3",
        "colab_type": "code",
        "outputId": "8fb764ad-58fd-4f89-be0c-0c8b15a6fb51",
        "colab": {
          "base_uri": "https://localhost:8080/",
          "height": 34
        }
      },
      "source": [
        "DTM_2_2 = GridSearchCV(DecisionTreeClassifier(random_state=90), param_grid = try_grid, cv = 10)\n",
        "DTM_2_2.fit(X_2, y_2)\n",
        "print(DTM_2_2.best_params_, DTM_2_2.best_score_)"
      ],
      "execution_count": 0,
      "outputs": [
        {
          "output_type": "stream",
          "text": [
            "{'max_depth': 9, 'max_leaf_nodes': 50} 0.7841704143204465\n"
          ],
          "name": "stdout"
        }
      ]
    },
    {
      "cell_type": "markdown",
      "metadata": {
        "id": "MGWalOXhKBNV",
        "colab_type": "text"
      },
      "source": [
        "# Use DTM_2_2"
      ]
    },
    {
      "cell_type": "code",
      "metadata": {
        "id": "kJcQzuBa28LG",
        "colab_type": "code",
        "outputId": "631de092-1f83-434b-e7c4-f3a0d7d2271e",
        "colab": {
          "base_uri": "https://localhost:8080/",
          "height": 118
        }
      },
      "source": [
        "clf_2 = DecisionTreeClassifier(max_depth=7, max_leaf_nodes=20, random_state=90)\n",
        "clf_2.fit(X_2, y_2)"
      ],
      "execution_count": 0,
      "outputs": [
        {
          "output_type": "execute_result",
          "data": {
            "text/plain": [
              "DecisionTreeClassifier(ccp_alpha=0.0, class_weight=None, criterion='gini',\n",
              "                       max_depth=7, max_features=None, max_leaf_nodes=20,\n",
              "                       min_impurity_decrease=0.0, min_impurity_split=None,\n",
              "                       min_samples_leaf=1, min_samples_split=2,\n",
              "                       min_weight_fraction_leaf=0.0, presort='deprecated',\n",
              "                       random_state=90, splitter='best')"
            ]
          },
          "metadata": {
            "tags": []
          },
          "execution_count": 285
        }
      ]
    },
    {
      "cell_type": "code",
      "metadata": {
        "colab_type": "code",
        "id": "j7Pk8q6Z1OCO",
        "colab": {}
      },
      "source": [
        "yact = y_2.values.ravel()"
      ],
      "execution_count": 0,
      "outputs": []
    },
    {
      "cell_type": "code",
      "metadata": {
        "id": "QXNAE0vLwVDS",
        "colab_type": "code",
        "colab": {}
      },
      "source": [
        "pred_y = cross_val_predict(clf_2, X_2, yact, cv=10)"
      ],
      "execution_count": 0,
      "outputs": []
    },
    {
      "cell_type": "code",
      "metadata": {
        "id": "eUDDMqgE0a9H",
        "colab_type": "code",
        "outputId": "787e567d-027e-4b27-a013-475bfc8f4a8a",
        "colab": {
          "base_uri": "https://localhost:8080/",
          "height": 34
        }
      },
      "source": [
        "print(accuracy_score(yact, pred_y, normalize=True))"
      ],
      "execution_count": 0,
      "outputs": [
        {
          "output_type": "stream",
          "text": [
            "0.7783102591409301\n"
          ],
          "name": "stdout"
        }
      ]
    },
    {
      "cell_type": "code",
      "metadata": {
        "id": "hEkVmPgewUZd",
        "colab_type": "code",
        "outputId": "1f32bee4-41e2-49d0-b903-beb0d3227325",
        "colab": {
          "base_uri": "https://localhost:8080/",
          "height": 168
        }
      },
      "source": [
        "print(classification_report(yact, pred_y))"
      ],
      "execution_count": 0,
      "outputs": [
        {
          "output_type": "stream",
          "text": [
            "              precision    recall  f1-score   support\n",
            "\n",
            "           0       0.83      0.87      0.85      4111\n",
            "           1       0.60      0.53      0.56      1523\n",
            "\n",
            "    accuracy                           0.78      5634\n",
            "   macro avg       0.72      0.70      0.71      5634\n",
            "weighted avg       0.77      0.78      0.77      5634\n",
            "\n"
          ],
          "name": "stdout"
        }
      ]
    },
    {
      "cell_type": "markdown",
      "metadata": {
        "id": "l43RLKTq3LaZ",
        "colab_type": "text"
      },
      "source": [
        "# ROC curve\n"
      ]
    },
    {
      "cell_type": "code",
      "metadata": {
        "id": "VSvPaEgR3nmX",
        "colab_type": "code",
        "colab": {}
      },
      "source": [
        "proba_y = cross_val_predict(clf_2, X_2, yact, cv=10, method='predict_proba')"
      ],
      "execution_count": 0,
      "outputs": []
    },
    {
      "cell_type": "code",
      "metadata": {
        "id": "ZV1zJPAM3q8L",
        "colab_type": "code",
        "outputId": "f25f2d1b-d283-46b7-e8ba-f39ef43c4761",
        "colab": {
          "base_uri": "https://localhost:8080/",
          "height": 50
        }
      },
      "source": [
        "proba_y_0 = proba_y[:,0]\n",
        "proba_y_0"
      ],
      "execution_count": 0,
      "outputs": [
        {
          "output_type": "execute_result",
          "data": {
            "text/plain": [
              "array([0.96097845, 0.7816092 , 0.43367347, ..., 0.41949153, 0.43457944,\n",
              "       0.95682614])"
            ]
          },
          "metadata": {
            "tags": []
          },
          "execution_count": 291
        }
      ]
    },
    {
      "cell_type": "code",
      "metadata": {
        "id": "F_xWJze43ua_",
        "colab_type": "code",
        "colab": {}
      },
      "source": [
        "fpr, tpr, thresholds = metrics.roc_curve(yact,proba_y_0,pos_label=0)"
      ],
      "execution_count": 0,
      "outputs": []
    },
    {
      "cell_type": "code",
      "metadata": {
        "id": "jfoB-KnI3wSa",
        "colab_type": "code",
        "outputId": "dbf3008e-f4b1-4b81-98bd-3b9426fa3a4b",
        "colab": {
          "base_uri": "https://localhost:8080/",
          "height": 34
        }
      },
      "source": [
        "metrics.auc(fpr, tpr)"
      ],
      "execution_count": 0,
      "outputs": [
        {
          "output_type": "execute_result",
          "data": {
            "text/plain": [
              "0.8152028101343335"
            ]
          },
          "metadata": {
            "tags": []
          },
          "execution_count": 293
        }
      ]
    },
    {
      "cell_type": "code",
      "metadata": {
        "id": "gDKokDJQ33Z6",
        "colab_type": "code",
        "outputId": "8e77c645-f5b5-4d32-9b13-a892b76816ee",
        "colab": {
          "base_uri": "https://localhost:8080/",
          "height": 282
        }
      },
      "source": [
        "plt.plot(fpr,tpr)"
      ],
      "execution_count": 0,
      "outputs": [
        {
          "output_type": "execute_result",
          "data": {
            "text/plain": [
              "[<matplotlib.lines.Line2D at 0x7f2e97383d30>]"
            ]
          },
          "metadata": {
            "tags": []
          },
          "execution_count": 294
        },
        {
          "output_type": "display_data",
          "data": {
            "image/png": "[encoded data removed]",
            "text/plain": [
              "<Figure size 432x288 with 1 Axes>"
            ]
          },
          "metadata": {
            "tags": [],
            "needs_background": "light"
          }
        }
      ]
    },
    {
      "cell_type": "markdown",
      "metadata": {
        "id": "yUgZemFm36q1",
        "colab_type": "text"
      },
      "source": [
        "# Predict testing data\n"
      ]
    },
    {
      "cell_type": "code",
      "metadata": {
        "id": "x0YiC5NM35VS",
        "colab_type": "code",
        "colab": {}
      },
      "source": [
        "pred_val_test = clf_2.predict(X_test_2)"
      ],
      "execution_count": 0,
      "outputs": []
    },
    {
      "cell_type": "code",
      "metadata": {
        "id": "2HrNAwPp4p8Z",
        "colab_type": "code",
        "outputId": "269df317-8f2a-4b28-dd07-e786262502be",
        "colab": {
          "base_uri": "https://localhost:8080/",
          "height": 235
        }
      },
      "source": [
        "print(\"Accuracy from testing data: \", accuracy_score(y_test_2, pred_val_test, normalize = True, sample_weight = None))\n",
        "print(confusion_matrix(y_test_2, pred_val_test))\n",
        "print(\"Classification Report of Decision Tree Model:\",\"\\n\",classification_report(y_test_2, pred_val_test))"
      ],
      "execution_count": 0,
      "outputs": [
        {
          "output_type": "stream",
          "text": [
            "Accuracy from testing data:  0.8034066713981547\n",
            "[[929 134]\n",
            " [143 203]]\n",
            "Classification Report of Decision Tree Model: \n",
            "               precision    recall  f1-score   support\n",
            "\n",
            "           0       0.87      0.87      0.87      1063\n",
            "           1       0.60      0.59      0.59       346\n",
            "\n",
            "    accuracy                           0.80      1409\n",
            "   macro avg       0.73      0.73      0.73      1409\n",
            "weighted avg       0.80      0.80      0.80      1409\n",
            "\n"
          ],
          "name": "stdout"
        }
      ]
    },
    {
      "cell_type": "markdown",
      "metadata": {
        "id": "wz95COOZ4xGc",
        "colab_type": "text"
      },
      "source": [
        "# DTM (Dataset 3)"
      ]
    },
    {
      "cell_type": "code",
      "metadata": {
        "id": "uNEFGAtv50kp",
        "colab_type": "code",
        "outputId": "4de9ceb6-b2f7-4997-aa8c-d547fb305662",
        "colab": {
          "base_uri": "https://localhost:8080/",
          "height": 118
        }
      },
      "source": [
        "DTM_3_1 = DecisionTreeClassifier(random_state=100)\n",
        "DTM_3_1.fit(X_3, y_3)"
      ],
      "execution_count": 0,
      "outputs": [
        {
          "output_type": "execute_result",
          "data": {
            "text/plain": [
              "DecisionTreeClassifier(ccp_alpha=0.0, class_weight=None, criterion='gini',\n",
              "                       max_depth=None, max_features=None, max_leaf_nodes=None,\n",
              "                       min_impurity_decrease=0.0, min_impurity_split=None,\n",
              "                       min_samples_leaf=1, min_samples_split=2,\n",
              "                       min_weight_fraction_leaf=0.0, presort='deprecated',\n",
              "                       random_state=100, splitter='best')"
            ]
          },
          "metadata": {
            "tags": []
          },
          "execution_count": 297
        }
      ]
    },
    {
      "cell_type": "code",
      "metadata": {
        "id": "l3CcDWyB54fS",
        "colab_type": "code",
        "outputId": "207a47f7-524b-48df-ab94-ecbda97a1f70",
        "colab": {
          "base_uri": "https://localhost:8080/",
          "height": 34
        }
      },
      "source": [
        "print(DTM_3_1.get_depth(), DTM_3_1.get_n_leaves())"
      ],
      "execution_count": 0,
      "outputs": [
        {
          "output_type": "stream",
          "text": [
            "27 1083\n"
          ],
          "name": "stdout"
        }
      ]
    },
    {
      "cell_type": "code",
      "metadata": {
        "id": "xffGsLVOsBDg",
        "colab_type": "code",
        "outputId": "34fba74b-8334-4790-e11c-3d54d9283f06",
        "colab": {
          "base_uri": "https://localhost:8080/",
          "height": 34
        }
      },
      "source": [
        "score_cv = cross_val_score(DecisionTreeClassifier(), X_3, y_3, cv=10)\n",
        "score_cv.mean()"
      ],
      "execution_count": 0,
      "outputs": [
        {
          "output_type": "execute_result",
          "data": {
            "text/plain": [
              "0.7298539989670332"
            ]
          },
          "metadata": {
            "tags": []
          },
          "execution_count": 299
        }
      ]
    },
    {
      "cell_type": "code",
      "metadata": {
        "id": "wYuMReUM57s0",
        "colab_type": "code",
        "outputId": "a5a4d10d-5832-4aa0-818f-06c8f4c3d1fc",
        "colab": {
          "base_uri": "https://localhost:8080/",
          "height": 504
        }
      },
      "source": [
        "num_leaf = [5, 10, 20, 50, 100, 200, 500, 1000, 1100]\n",
        "depths = [1, 2, 3, 4, 5, 6, 7, 8, 9, 10, 11, 12, 13, 14, 15, 16, 17, 18, 19, 20, 21, 22, 23, 24, 25, 26, 27, 28]\n",
        "try_grid = [{'max_depth':depths, \n",
        "           'max_leaf_nodes':num_leaf}]\n",
        "try_grid"
      ],
      "execution_count": 0,
      "outputs": [
        {
          "output_type": "execute_result",
          "data": {
            "text/plain": [
              "[{'max_depth': [1,\n",
              "   2,\n",
              "   3,\n",
              "   4,\n",
              "   5,\n",
              "   6,\n",
              "   7,\n",
              "   8,\n",
              "   9,\n",
              "   10,\n",
              "   11,\n",
              "   12,\n",
              "   13,\n",
              "   14,\n",
              "   15,\n",
              "   16,\n",
              "   17,\n",
              "   18,\n",
              "   19,\n",
              "   20,\n",
              "   21,\n",
              "   22,\n",
              "   23,\n",
              "   24,\n",
              "   25,\n",
              "   26,\n",
              "   27,\n",
              "   28],\n",
              "  'max_leaf_nodes': [5, 10, 20, 50, 100, 200, 500, 1000, 1100]}]"
            ]
          },
          "metadata": {
            "tags": []
          },
          "execution_count": 300
        }
      ]
    },
    {
      "cell_type": "code",
      "metadata": {
        "id": "2H2sE1mt6Lc0",
        "colab_type": "code",
        "outputId": "9e032581-5637-4e1f-ce80-51d884361fb2",
        "colab": {
          "base_uri": "https://localhost:8080/",
          "height": 34
        }
      },
      "source": [
        "DTM_3_2 = GridSearchCV(DecisionTreeClassifier(), param_grid = try_grid, cv = 10)\n",
        "DTM_3_2.fit(X_3, y_3)\n",
        "print(DTM_3_2.best_params_, DTM_3_2.best_score_)"
      ],
      "execution_count": 0,
      "outputs": [
        {
          "output_type": "stream",
          "text": [
            "{'max_depth': 4, 'max_leaf_nodes': 10} 0.7964113853091972\n"
          ],
          "name": "stdout"
        }
      ]
    },
    {
      "cell_type": "markdown",
      "metadata": {
        "id": "xTASVT9MLvvU",
        "colab_type": "text"
      },
      "source": [
        "# Use DTM_3_2"
      ]
    },
    {
      "cell_type": "code",
      "metadata": {
        "id": "cs99B2BY6N6a",
        "colab_type": "code",
        "outputId": "dcdb841b-5001-4c66-f9d5-256e133f760f",
        "colab": {
          "base_uri": "https://localhost:8080/",
          "height": 118
        }
      },
      "source": [
        "clf_3 = DecisionTreeClassifier(max_depth=8, max_leaf_nodes=50, random_state=100)\n",
        "clf_3.fit(X_3, y_3)"
      ],
      "execution_count": 0,
      "outputs": [
        {
          "output_type": "execute_result",
          "data": {
            "text/plain": [
              "DecisionTreeClassifier(ccp_alpha=0.0, class_weight=None, criterion='gini',\n",
              "                       max_depth=8, max_features=None, max_leaf_nodes=50,\n",
              "                       min_impurity_decrease=0.0, min_impurity_split=None,\n",
              "                       min_samples_leaf=1, min_samples_split=2,\n",
              "                       min_weight_fraction_leaf=0.0, presort='deprecated',\n",
              "                       random_state=100, splitter='best')"
            ]
          },
          "metadata": {
            "tags": []
          },
          "execution_count": 302
        }
      ]
    },
    {
      "cell_type": "code",
      "metadata": {
        "id": "Qb9SAZgQxRzc",
        "colab_type": "code",
        "colab": {}
      },
      "source": [
        "yact = y_3.values.ravel()"
      ],
      "execution_count": 0,
      "outputs": []
    },
    {
      "cell_type": "code",
      "metadata": {
        "id": "jqJzik_5weHA",
        "colab_type": "code",
        "colab": {}
      },
      "source": [
        "pred_y = cross_val_predict(clf_3, X_3, yact, cv=10)"
      ],
      "execution_count": 0,
      "outputs": []
    },
    {
      "cell_type": "code",
      "metadata": {
        "id": "oPxRdli60iQT",
        "colab_type": "code",
        "outputId": "2ae50fbe-c7ff-4162-c5d8-709cb3e88922",
        "colab": {
          "base_uri": "https://localhost:8080/",
          "height": 34
        }
      },
      "source": [
        "print(accuracy_score(yact, pred_y, normalize=True))"
      ],
      "execution_count": 0,
      "outputs": [
        {
          "output_type": "stream",
          "text": [
            "0.7928647497337593\n"
          ],
          "name": "stdout"
        }
      ]
    },
    {
      "cell_type": "code",
      "metadata": {
        "id": "DQqxjx8LwexI",
        "colab_type": "code",
        "outputId": "5f6ad72e-4d5b-46ef-b76c-9640f02e8605",
        "colab": {
          "base_uri": "https://localhost:8080/",
          "height": 168
        }
      },
      "source": [
        "print(classification_report(yact, pred_y))"
      ],
      "execution_count": 0,
      "outputs": [
        {
          "output_type": "stream",
          "text": [
            "              precision    recall  f1-score   support\n",
            "\n",
            "           0       0.83      0.90      0.87      4173\n",
            "           1       0.63      0.49      0.55      1461\n",
            "\n",
            "    accuracy                           0.79      5634\n",
            "   macro avg       0.73      0.69      0.71      5634\n",
            "weighted avg       0.78      0.79      0.78      5634\n",
            "\n"
          ],
          "name": "stdout"
        }
      ]
    },
    {
      "cell_type": "markdown",
      "metadata": {
        "id": "F66lLT9X6WmA",
        "colab_type": "text"
      },
      "source": [
        "# ROC Curve"
      ]
    },
    {
      "cell_type": "code",
      "metadata": {
        "id": "H8C5IpWrxJcJ",
        "colab_type": "code",
        "colab": {}
      },
      "source": [
        "proba_y = cross_val_predict(clf_3, X_3, yact, cv=10, method='predict_proba')"
      ],
      "execution_count": 0,
      "outputs": []
    },
    {
      "cell_type": "code",
      "metadata": {
        "id": "iRNG11Gm6dSV",
        "colab_type": "code",
        "outputId": "82f66e78-8774-48c2-cfcf-beff85dce71b",
        "colab": {
          "base_uri": "https://localhost:8080/",
          "height": 50
        }
      },
      "source": [
        "proba_y_0 = proba_y[:,0]\n",
        "proba_y_0"
      ],
      "execution_count": 0,
      "outputs": [
        {
          "output_type": "execute_result",
          "data": {
            "text/plain": [
              "array([0.86603774, 0.54901961, 0.37172775, ..., 0.35135135, 0.98662207,\n",
              "       0.98662207])"
            ]
          },
          "metadata": {
            "tags": []
          },
          "execution_count": 308
        }
      ]
    },
    {
      "cell_type": "code",
      "metadata": {
        "id": "KWriffwq6gJG",
        "colab_type": "code",
        "colab": {}
      },
      "source": [
        "fpr, tpr, thresholds = metrics.roc_curve(yact,proba_y_0,pos_label=0)"
      ],
      "execution_count": 0,
      "outputs": []
    },
    {
      "cell_type": "code",
      "metadata": {
        "id": "G4O8O50L6jM7",
        "colab_type": "code",
        "outputId": "43fd5705-5b13-439b-d6a5-638cd7635038",
        "colab": {
          "base_uri": "https://localhost:8080/",
          "height": 34
        }
      },
      "source": [
        "metrics.auc(fpr, tpr)"
      ],
      "execution_count": 0,
      "outputs": [
        {
          "output_type": "execute_result",
          "data": {
            "text/plain": [
              "0.8238975730196056"
            ]
          },
          "metadata": {
            "tags": []
          },
          "execution_count": 310
        }
      ]
    },
    {
      "cell_type": "code",
      "metadata": {
        "id": "2SD3F2Jr6mwT",
        "colab_type": "code",
        "outputId": "443ff713-d14a-45c3-8950-fdc5870db86f",
        "colab": {
          "base_uri": "https://localhost:8080/",
          "height": 282
        }
      },
      "source": [
        "plt.plot(fpr,tpr)"
      ],
      "execution_count": 0,
      "outputs": [
        {
          "output_type": "execute_result",
          "data": {
            "text/plain": [
              "[<matplotlib.lines.Line2D at 0x7f2e972fd7f0>]"
            ]
          },
          "metadata": {
            "tags": []
          },
          "execution_count": 311
        },
        {
          "output_type": "display_data",
          "data": {
            "image/png": "[encoded data removed]",
            "text/plain": [
              "<Figure size 432x288 with 1 Axes>"
            ]
          },
          "metadata": {
            "tags": [],
            "needs_background": "light"
          }
        }
      ]
    },
    {
      "cell_type": "markdown",
      "metadata": {
        "id": "5IovGMai6pjZ",
        "colab_type": "text"
      },
      "source": [
        "# Predict testing data"
      ]
    },
    {
      "cell_type": "code",
      "metadata": {
        "id": "vcYZAGSh6pBb",
        "colab_type": "code",
        "colab": {}
      },
      "source": [
        "pred_val_test = clf_3.predict(X_test_3)"
      ],
      "execution_count": 0,
      "outputs": []
    },
    {
      "cell_type": "code",
      "metadata": {
        "id": "47-YyE6U6xRK",
        "colab_type": "code",
        "outputId": "56cb791c-caaa-4f85-bb81-735dd1c35385",
        "colab": {
          "base_uri": "https://localhost:8080/",
          "height": 235
        }
      },
      "source": [
        "print(\"Accuracy from testing data: \", accuracy_score(y_test_3, pred_val_test, normalize = True, sample_weight = None))\n",
        "print(confusion_matrix(y_test_3, pred_val_test))\n",
        "print(\"Classification Report of Decision Tree Model:\",\"\\n\",classification_report(y_test_3, pred_val_test))"
      ],
      "execution_count": 0,
      "outputs": [
        {
          "output_type": "stream",
          "text": [
            "Accuracy from testing data:  0.7757274662881476\n",
            "[[900 101]\n",
            " [215 193]]\n",
            "Classification Report of Decision Tree Model: \n",
            "               precision    recall  f1-score   support\n",
            "\n",
            "           0       0.81      0.90      0.85      1001\n",
            "           1       0.66      0.47      0.55       408\n",
            "\n",
            "    accuracy                           0.78      1409\n",
            "   macro avg       0.73      0.69      0.70      1409\n",
            "weighted avg       0.76      0.78      0.76      1409\n",
            "\n"
          ],
          "name": "stdout"
        }
      ]
    },
    {
      "cell_type": "markdown",
      "metadata": {
        "id": "fuMmsJsPBR0A",
        "colab_type": "text"
      },
      "source": [
        "## The Ensemble (Dataset 1)\n",
        "\n"
      ]
    },
    {
      "cell_type": "code",
      "metadata": {
        "id": "1FcjXcROCvCx",
        "colab_type": "code",
        "colab": {}
      },
      "source": [
        "from sklearn.ensemble import VotingClassifier"
      ],
      "execution_count": 0,
      "outputs": []
    },
    {
      "cell_type": "code",
      "metadata": {
        "id": "zsFuc-3JCvY1",
        "colab_type": "code",
        "colab": {}
      },
      "source": [
        "estimators=[('LRM', LRM_1_2), ('GNB', gnb_1), ('DTM', clf_1)]"
      ],
      "execution_count": 0,
      "outputs": []
    },
    {
      "cell_type": "code",
      "metadata": {
        "id": "q5IhtFHHCvU6",
        "colab_type": "code",
        "colab": {}
      },
      "source": [
        "ensemble = VotingClassifier(estimators, voting='hard')"
      ],
      "execution_count": 0,
      "outputs": []
    },
    {
      "cell_type": "code",
      "metadata": {
        "id": "R7QH5a5WCvRM",
        "colab_type": "code",
        "outputId": "e0dbb5da-22b4-49df-a196-df5643510236",
        "colab": {
          "base_uri": "https://localhost:8080/",
          "height": 605
        }
      },
      "source": [
        "ensemble.fit(X_1, y_1)"
      ],
      "execution_count": 0,
      "outputs": [
        {
          "output_type": "execute_result",
          "data": {
            "text/plain": [
              "VotingClassifier(estimators=[('LRM',\n",
              "                              GridSearchCV(cv=10, error_score=nan,\n",
              "                                           estimator=LogisticRegression(C=1.0,\n",
              "                                                                        class_weight=None,\n",
              "                                                                        dual=False,\n",
              "                                                                        fit_intercept=True,\n",
              "                                                                        intercept_scaling=1,\n",
              "                                                                        l1_ratio=None,\n",
              "                                                                        max_iter=100,\n",
              "                                                                        multi_class='auto',\n",
              "                                                                        n_jobs=None,\n",
              "                                                                        penalty='l2',\n",
              "                                                                        random_state=None,\n",
              "                                                                        solver='lbfgs',\n",
              "                                                                        tol=0.0001,\n",
              "                                                                        verbose=0,\n",
              "                                                                        warm_start=False),\n",
              "                                           iid='deprecated', n_jobs=None,\n",
              "                                           para...\n",
              "                              DecisionTreeClassifier(ccp_alpha=0.0,\n",
              "                                                     class_weight=None,\n",
              "                                                     criterion='gini',\n",
              "                                                     max_depth=7,\n",
              "                                                     max_features=None,\n",
              "                                                     max_leaf_nodes=20,\n",
              "                                                     min_impurity_decrease=0.0,\n",
              "                                                     min_impurity_split=None,\n",
              "                                                     min_samples_leaf=1,\n",
              "                                                     min_samples_split=2,\n",
              "                                                     min_weight_fraction_leaf=0.0,\n",
              "                                                     presort='deprecated',\n",
              "                                                     random_state=70,\n",
              "                                                     splitter='best'))],\n",
              "                 flatten_transform=True, n_jobs=None, voting='hard',\n",
              "                 weights=None)"
            ]
          },
          "metadata": {
            "tags": []
          },
          "execution_count": 317
        }
      ]
    },
    {
      "cell_type": "code",
      "metadata": {
        "id": "gdlRdRAfDLxG",
        "colab_type": "code",
        "outputId": "a5945531-7cd7-41fd-9bf4-31ea08a29329",
        "colab": {
          "base_uri": "https://localhost:8080/",
          "height": 34
        }
      },
      "source": [
        "Accuracy_ensemble = cross_val_score (ensemble,X_1,y_1,cv=10).mean()\n",
        "Accuracy_ensemble"
      ],
      "execution_count": 0,
      "outputs": [
        {
          "output_type": "execute_result",
          "data": {
            "text/plain": [
              "0.802276620938992"
            ]
          },
          "metadata": {
            "tags": []
          },
          "execution_count": 318
        }
      ]
    },
    {
      "cell_type": "markdown",
      "metadata": {
        "colab_type": "text",
        "id": "7MI3LIWVDP_x"
      },
      "source": [
        "## The Ensemble (Dataset 2)\n",
        "\n"
      ]
    },
    {
      "cell_type": "code",
      "metadata": {
        "colab_type": "code",
        "id": "o1_pBdZVDP_z",
        "colab": {}
      },
      "source": [
        "estimators=[('LRM', LRM_2_2), ('GNB', gnb_2), ('DTM', clf_2)]"
      ],
      "execution_count": 0,
      "outputs": []
    },
    {
      "cell_type": "code",
      "metadata": {
        "colab_type": "code",
        "id": "vxitu3JQDP_3",
        "colab": {}
      },
      "source": [
        "ensemble = VotingClassifier(estimators, voting='hard')"
      ],
      "execution_count": 0,
      "outputs": []
    },
    {
      "cell_type": "code",
      "metadata": {
        "colab_type": "code",
        "id": "xeyFlY1JDP_5",
        "outputId": "3a533ac8-a5ff-45fd-aed1-e4f5524dcd9f",
        "colab": {
          "base_uri": "https://localhost:8080/",
          "height": 605
        }
      },
      "source": [
        "ensemble.fit(X_2, y_2)"
      ],
      "execution_count": 0,
      "outputs": [
        {
          "output_type": "execute_result",
          "data": {
            "text/plain": [
              "VotingClassifier(estimators=[('LRM',\n",
              "                              GridSearchCV(cv=10, error_score=nan,\n",
              "                                           estimator=LogisticRegression(C=1.0,\n",
              "                                                                        class_weight=None,\n",
              "                                                                        dual=False,\n",
              "                                                                        fit_intercept=True,\n",
              "                                                                        intercept_scaling=1,\n",
              "                                                                        l1_ratio=None,\n",
              "                                                                        max_iter=100,\n",
              "                                                                        multi_class='auto',\n",
              "                                                                        n_jobs=None,\n",
              "                                                                        penalty='l2',\n",
              "                                                                        random_state=None,\n",
              "                                                                        solver='lbfgs',\n",
              "                                                                        tol=0.0001,\n",
              "                                                                        verbose=0,\n",
              "                                                                        warm_start=False),\n",
              "                                           iid='deprecated', n_jobs=None,\n",
              "                                           para...\n",
              "                              DecisionTreeClassifier(ccp_alpha=0.0,\n",
              "                                                     class_weight=None,\n",
              "                                                     criterion='gini',\n",
              "                                                     max_depth=7,\n",
              "                                                     max_features=None,\n",
              "                                                     max_leaf_nodes=20,\n",
              "                                                     min_impurity_decrease=0.0,\n",
              "                                                     min_impurity_split=None,\n",
              "                                                     min_samples_leaf=1,\n",
              "                                                     min_samples_split=2,\n",
              "                                                     min_weight_fraction_leaf=0.0,\n",
              "                                                     presort='deprecated',\n",
              "                                                     random_state=90,\n",
              "                                                     splitter='best'))],\n",
              "                 flatten_transform=True, n_jobs=None, voting='hard',\n",
              "                 weights=None)"
            ]
          },
          "metadata": {
            "tags": []
          },
          "execution_count": 321
        }
      ]
    },
    {
      "cell_type": "code",
      "metadata": {
        "colab_type": "code",
        "id": "lX2FsdQxDP_8",
        "outputId": "5f3fa979-01bc-4e3c-82bc-568e7ed8ace2",
        "colab": {
          "base_uri": "https://localhost:8080/",
          "height": 34
        }
      },
      "source": [
        "Accuracy_ensemble = cross_val_score (ensemble,X_2,y_2,cv=10).mean()\n",
        "Accuracy_ensemble"
      ],
      "execution_count": 0,
      "outputs": [
        {
          "output_type": "execute_result",
          "data": {
            "text/plain": [
              "0.7873672574732626"
            ]
          },
          "metadata": {
            "tags": []
          },
          "execution_count": 322
        }
      ]
    },
    {
      "cell_type": "markdown",
      "metadata": {
        "colab_type": "text",
        "id": "mytZdV-0DbEd"
      },
      "source": [
        "## The Ensemble (Dataset 3)\n",
        "\n"
      ]
    },
    {
      "cell_type": "code",
      "metadata": {
        "colab_type": "code",
        "id": "bigyF-qvDbEf",
        "colab": {}
      },
      "source": [
        "estimators=[('LRM', LRM_3_2), ('GNB', gnb_3), ('DTM', clf_3)]"
      ],
      "execution_count": 0,
      "outputs": []
    },
    {
      "cell_type": "code",
      "metadata": {
        "colab_type": "code",
        "id": "7jtVFNGVDbEg",
        "colab": {}
      },
      "source": [
        "ensemble = VotingClassifier(estimators, voting='hard')"
      ],
      "execution_count": 0,
      "outputs": []
    },
    {
      "cell_type": "code",
      "metadata": {
        "colab_type": "code",
        "id": "o2gAQzuoDbEi",
        "outputId": "078c0427-0fe8-49ca-ae3d-8deb8198994a",
        "colab": {
          "base_uri": "https://localhost:8080/",
          "height": 605
        }
      },
      "source": [
        "ensemble.fit(X_3, y_3)"
      ],
      "execution_count": 0,
      "outputs": [
        {
          "output_type": "execute_result",
          "data": {
            "text/plain": [
              "VotingClassifier(estimators=[('LRM',\n",
              "                              GridSearchCV(cv=10, error_score=nan,\n",
              "                                           estimator=LogisticRegression(C=1.0,\n",
              "                                                                        class_weight=None,\n",
              "                                                                        dual=False,\n",
              "                                                                        fit_intercept=True,\n",
              "                                                                        intercept_scaling=1,\n",
              "                                                                        l1_ratio=None,\n",
              "                                                                        max_iter=100,\n",
              "                                                                        multi_class='auto',\n",
              "                                                                        n_jobs=None,\n",
              "                                                                        penalty='l2',\n",
              "                                                                        random_state=None,\n",
              "                                                                        solver='lbfgs',\n",
              "                                                                        tol=0.0001,\n",
              "                                                                        verbose=0,\n",
              "                                                                        warm_start=False),\n",
              "                                           iid='deprecated', n_jobs=None,\n",
              "                                           para...\n",
              "                              DecisionTreeClassifier(ccp_alpha=0.0,\n",
              "                                                     class_weight=None,\n",
              "                                                     criterion='gini',\n",
              "                                                     max_depth=8,\n",
              "                                                     max_features=None,\n",
              "                                                     max_leaf_nodes=50,\n",
              "                                                     min_impurity_decrease=0.0,\n",
              "                                                     min_impurity_split=None,\n",
              "                                                     min_samples_leaf=1,\n",
              "                                                     min_samples_split=2,\n",
              "                                                     min_weight_fraction_leaf=0.0,\n",
              "                                                     presort='deprecated',\n",
              "                                                     random_state=100,\n",
              "                                                     splitter='best'))],\n",
              "                 flatten_transform=True, n_jobs=None, voting='hard',\n",
              "                 weights=None)"
            ]
          },
          "metadata": {
            "tags": []
          },
          "execution_count": 325
        }
      ]
    },
    {
      "cell_type": "code",
      "metadata": {
        "colab_type": "code",
        "id": "fI0UFXA1DbEk",
        "outputId": "2d4b0c94-7926-4f69-d250-69d14eb20bbb",
        "colab": {
          "base_uri": "https://localhost:8080/",
          "height": 34
        }
      },
      "source": [
        "Accuracy_ensemble = cross_val_score (ensemble,X_3,y_3,cv=10).mean()\n",
        "Accuracy_ensemble"
      ],
      "execution_count": 0,
      "outputs": [
        {
          "output_type": "execute_result",
          "data": {
            "text/plain": [
              "0.8001467568623004"
            ]
          },
          "metadata": {
            "tags": []
          },
          "execution_count": 326
        }
      ]
    }
  ]
}